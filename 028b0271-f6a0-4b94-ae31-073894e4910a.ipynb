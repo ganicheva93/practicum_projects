{
 "cells": [
  {
   "cell_type": "markdown",
   "metadata": {},
   "source": [
    "  <div class=\"alert alert-info\">\n",
    "  Привет, Евгения! Меня зовут Светлана и я буду проверять твой проект. Моя основная цель — не указать на совершенные тобою ошибки, а поделиться своим опытом и помочь тебе. Предлагаю общаться на «ты». Но если это не удобно - дай знать, и мы перейдем на «вы».\n",
    "\n",
    "  <div class=\"alert alert-success\">\n",
    "  <b>👍 Успех:</b> Зелёным цветом отмечены удачные и элегантные решения, на которые можно опираться в будущих проектах.\n",
    "  </div>\n",
    "  <div class=\"alert alert-warning\">\n",
    "  <b>🤔 Рекомендация:</b> Жёлтым цветом выделено то, что в следующий раз можно сделать по-другому. Ты можешь учесть эти комментарии при выполнении будущих заданий или доработать проект сейчас (однако это не обязательно).\n",
    "  </div>\n",
    "  <div class=\"alert alert-danger\">\n",
    "  <b>😔 Необходимо исправить:</b> Красным цветом выделены комментарии, без исправления которых, я не смогу принять проект :(\n",
    "  </div>\n",
    "  <div class=\"alert alert-info\">\n",
    "  <b>👂 Совет:</b> Какие-то дополнительные материалы\n",
    "  </div>\n",
    "  Давай работать над проектом в диалоге: если ты что-то меняешь в проекте по моим рекомендациям — пиши об этом.\n",
    "  Мне будет легче отследить изменения, если ты выделишь свои комментарии:\n",
    "  <div class=\"alert alert-info\"> <b>🎓 Комментарий студента:</b> Например, вот так.</div>\n",
    "  Пожалуйста, не перемещай, не изменяй и не удаляй мои комментарии. Всё это поможет выполнить повторную проверку твоего проекта быстрее.\n",
    "   </div>"
   ]
  },
  {
   "cell_type": "markdown",
   "metadata": {},
   "source": [
    "# Анализ базы данных для крупного сервиса для чтения книг по подписке\n",
    "\n",
    "**Дано:** база данных с информацией о книгах, издательствах, авторах, а также пользовательские обзоры книг.\n",
    "\n",
    "**Цель:** сформулировать ценностное предложение для нового продукта.\n",
    "\n",
    "**Описание данных:**\n",
    "\n",
    "*Таблица **books** содержит данные о книгах*:\n",
    "- book_id — идентификатор книги;\n",
    "- author_id — идентификатор автора;\n",
    "- title — название книги;\n",
    "- num_pages — количество страниц;\n",
    "- publication_date — дата публикации книги;\n",
    "- publisher_id — идентификатор издателя.\n",
    "\n",
    "*Таблица **authors** содержит данные об авторах*:\n",
    "- author_id — идентификатор автора;\n",
    "- author — имя автора.\n",
    "\n",
    "*Таблица **publishers** содержит данные об издательствах*:\n",
    "- publisher_id — идентификатор издательства;\n",
    "- publisher — название издательства;\n",
    "\n",
    "*Таблица **ratings** содержит данные о пользовательских оценках книг*:\n",
    "- rating_id — идентификатор оценки;\n",
    "- book_id — идентификатор книги;\n",
    "- username — имя пользователя, оставившего оценку;\n",
    "- rating — оценка книги.\n",
    "\n",
    "*Таблица **reviews** содержит данные о пользовательских обзорах на книги*:\n",
    "- review_id — идентификатор обзора;\n",
    "- book_id — идентификатор книги;\n",
    "- username — имя пользователя, написавшего обзор;\n",
    "- text — текст обзора.\n",
    "\n",
    "**План работы:**\n",
    "\n",
    "Шаг 1. Загрузка данных.\n",
    "\n",
    "Шаг 2. Исследование таблиц.\n",
    "\n",
    "*Исследуйте таблицы — выведите первые строки, посчитайте количество строк в каждой таблице.*\n",
    "\n",
    "Шаг 3. Решение задач:\n",
    "\n",
    "1. Посчитайте, сколько книг вышло после 1 января 2000 года;\n",
    "2. Для каждой книги посчитайте количество обзоров и среднюю оценку;\n",
    "3. Определите издательство, которое выпустило наибольшее число книг толще 50 страниц — так вы исключите из анализа брошюры;\n",
    "4. Определите автора с самой высокой средней оценкой книг — учитывайте только книги с 50 и более оценками;\n",
    "5. Посчитайте среднее количество обзоров от пользователей, которые поставили больше 48 оценок.\n",
    "\n",
    "*Сделайте по одному SQL-запросу для решения каждого задания.*\n",
    "\n",
    "*Выведите результат каждого запроса в тетрадке.*\n",
    "\n",
    "*Опишите выводы по каждой из решённых задач.*"
   ]
  },
  {
   "cell_type": "markdown",
   "metadata": {},
   "source": [
    "## Загрузка данных"
   ]
  },
  {
   "cell_type": "code",
   "execution_count": 1,
   "metadata": {},
   "outputs": [],
   "source": [
    "# импортируем библиотеки\n",
    "import pandas as pd\n",
    "from sqlalchemy import text, create_engine\n",
    "# устанавливаем параметры\n",
    "db_config = {'user': 'praktikum_student', # имя пользователя\n",
    "'pwd': 'Sdf4$2;d-d30pp', # пароль\n",
    "'host': 'rc1b-wcoijxj3yxfsf3fs.mdb.yandexcloud.net',\n",
    "'port': 6432, # порт подключения\n",
    "'db': 'data-analyst-final-project-db'} # название базы данных\n",
    "connection_string = 'postgresql://{user}:{pwd}@{host}:{port}/{db}'.format(**db_config)\n",
    "# сохраняем коннектор\n",
    "engine = create_engine(connection_string, connect_args={'sslmode':'require'})"
   ]
  },
  {
   "cell_type": "markdown",
   "metadata": {},
   "source": [
    "## Исследование таблиц"
   ]
  },
  {
   "cell_type": "markdown",
   "metadata": {},
   "source": [
    "### Books"
   ]
  },
  {
   "cell_type": "code",
   "execution_count": 2,
   "metadata": {},
   "outputs": [
    {
     "data": {
      "text/html": [
       "<div>\n",
       "<style scoped>\n",
       "    .dataframe tbody tr th:only-of-type {\n",
       "        vertical-align: middle;\n",
       "    }\n",
       "\n",
       "    .dataframe tbody tr th {\n",
       "        vertical-align: top;\n",
       "    }\n",
       "\n",
       "    .dataframe thead th {\n",
       "        text-align: right;\n",
       "    }\n",
       "</style>\n",
       "<table border=\"1\" class=\"dataframe\">\n",
       "  <thead>\n",
       "    <tr style=\"text-align: right;\">\n",
       "      <th></th>\n",
       "      <th>book_id</th>\n",
       "      <th>author_id</th>\n",
       "      <th>title</th>\n",
       "      <th>num_pages</th>\n",
       "      <th>publication_date</th>\n",
       "      <th>publisher_id</th>\n",
       "    </tr>\n",
       "  </thead>\n",
       "  <tbody>\n",
       "    <tr>\n",
       "      <th>0</th>\n",
       "      <td>1</td>\n",
       "      <td>546</td>\n",
       "      <td>'Salem's Lot</td>\n",
       "      <td>594</td>\n",
       "      <td>2005-11-01</td>\n",
       "      <td>93</td>\n",
       "    </tr>\n",
       "    <tr>\n",
       "      <th>1</th>\n",
       "      <td>2</td>\n",
       "      <td>465</td>\n",
       "      <td>1 000 Places to See Before You Die</td>\n",
       "      <td>992</td>\n",
       "      <td>2003-05-22</td>\n",
       "      <td>336</td>\n",
       "    </tr>\n",
       "    <tr>\n",
       "      <th>2</th>\n",
       "      <td>3</td>\n",
       "      <td>407</td>\n",
       "      <td>13 Little Blue Envelopes (Little Blue Envelope...</td>\n",
       "      <td>322</td>\n",
       "      <td>2010-12-21</td>\n",
       "      <td>135</td>\n",
       "    </tr>\n",
       "    <tr>\n",
       "      <th>3</th>\n",
       "      <td>4</td>\n",
       "      <td>82</td>\n",
       "      <td>1491: New Revelations of the Americas Before C...</td>\n",
       "      <td>541</td>\n",
       "      <td>2006-10-10</td>\n",
       "      <td>309</td>\n",
       "    </tr>\n",
       "    <tr>\n",
       "      <th>4</th>\n",
       "      <td>5</td>\n",
       "      <td>125</td>\n",
       "      <td>1776</td>\n",
       "      <td>386</td>\n",
       "      <td>2006-07-04</td>\n",
       "      <td>268</td>\n",
       "    </tr>\n",
       "  </tbody>\n",
       "</table>\n",
       "</div>"
      ],
      "text/plain": [
       "   book_id  author_id                                              title  \\\n",
       "0        1        546                                       'Salem's Lot   \n",
       "1        2        465                 1 000 Places to See Before You Die   \n",
       "2        3        407  13 Little Blue Envelopes (Little Blue Envelope...   \n",
       "3        4         82  1491: New Revelations of the Americas Before C...   \n",
       "4        5        125                                               1776   \n",
       "\n",
       "   num_pages publication_date  publisher_id  \n",
       "0        594       2005-11-01            93  \n",
       "1        992       2003-05-22           336  \n",
       "2        322       2010-12-21           135  \n",
       "3        541       2006-10-10           309  \n",
       "4        386       2006-07-04           268  "
      ]
     },
     "execution_count": 2,
     "metadata": {},
     "output_type": "execute_result"
    }
   ],
   "source": [
    "query = '''SELECT * FROM books LIMIT 5'''\n",
    "con=engine.connect()\n",
    "pd.io.sql.read_sql(sql=text(query), con = con)"
   ]
  },
  {
   "cell_type": "markdown",
   "metadata": {},
   "source": [
    "Посчитаем количество строк в таблице."
   ]
  },
  {
   "cell_type": "code",
   "execution_count": 3,
   "metadata": {},
   "outputs": [
    {
     "data": {
      "text/html": [
       "<div>\n",
       "<style scoped>\n",
       "    .dataframe tbody tr th:only-of-type {\n",
       "        vertical-align: middle;\n",
       "    }\n",
       "\n",
       "    .dataframe tbody tr th {\n",
       "        vertical-align: top;\n",
       "    }\n",
       "\n",
       "    .dataframe thead th {\n",
       "        text-align: right;\n",
       "    }\n",
       "</style>\n",
       "<table border=\"1\" class=\"dataframe\">\n",
       "  <thead>\n",
       "    <tr style=\"text-align: right;\">\n",
       "      <th></th>\n",
       "      <th>count</th>\n",
       "    </tr>\n",
       "  </thead>\n",
       "  <tbody>\n",
       "    <tr>\n",
       "      <th>0</th>\n",
       "      <td>1000</td>\n",
       "    </tr>\n",
       "  </tbody>\n",
       "</table>\n",
       "</div>"
      ],
      "text/plain": [
       "   count\n",
       "0   1000"
      ]
     },
     "execution_count": 3,
     "metadata": {},
     "output_type": "execute_result"
    }
   ],
   "source": [
    "query = '''SELECT COUNT(*) FROM books'''\n",
    "con=engine.connect()\n",
    "pd.io.sql.read_sql(sql=text(query), con = con)"
   ]
  },
  {
   "cell_type": "markdown",
   "metadata": {},
   "source": [
    "### Authors"
   ]
  },
  {
   "cell_type": "code",
   "execution_count": 4,
   "metadata": {},
   "outputs": [
    {
     "data": {
      "text/html": [
       "<div>\n",
       "<style scoped>\n",
       "    .dataframe tbody tr th:only-of-type {\n",
       "        vertical-align: middle;\n",
       "    }\n",
       "\n",
       "    .dataframe tbody tr th {\n",
       "        vertical-align: top;\n",
       "    }\n",
       "\n",
       "    .dataframe thead th {\n",
       "        text-align: right;\n",
       "    }\n",
       "</style>\n",
       "<table border=\"1\" class=\"dataframe\">\n",
       "  <thead>\n",
       "    <tr style=\"text-align: right;\">\n",
       "      <th></th>\n",
       "      <th>author_id</th>\n",
       "      <th>author</th>\n",
       "    </tr>\n",
       "  </thead>\n",
       "  <tbody>\n",
       "    <tr>\n",
       "      <th>0</th>\n",
       "      <td>1</td>\n",
       "      <td>A.S. Byatt</td>\n",
       "    </tr>\n",
       "    <tr>\n",
       "      <th>1</th>\n",
       "      <td>2</td>\n",
       "      <td>Aesop/Laura Harris/Laura Gibbs</td>\n",
       "    </tr>\n",
       "    <tr>\n",
       "      <th>2</th>\n",
       "      <td>3</td>\n",
       "      <td>Agatha Christie</td>\n",
       "    </tr>\n",
       "    <tr>\n",
       "      <th>3</th>\n",
       "      <td>4</td>\n",
       "      <td>Alan Brennert</td>\n",
       "    </tr>\n",
       "    <tr>\n",
       "      <th>4</th>\n",
       "      <td>5</td>\n",
       "      <td>Alan Moore/David   Lloyd</td>\n",
       "    </tr>\n",
       "  </tbody>\n",
       "</table>\n",
       "</div>"
      ],
      "text/plain": [
       "   author_id                          author\n",
       "0          1                      A.S. Byatt\n",
       "1          2  Aesop/Laura Harris/Laura Gibbs\n",
       "2          3                 Agatha Christie\n",
       "3          4                   Alan Brennert\n",
       "4          5        Alan Moore/David   Lloyd"
      ]
     },
     "execution_count": 4,
     "metadata": {},
     "output_type": "execute_result"
    }
   ],
   "source": [
    "query = '''SELECT * FROM authors LIMIT 5'''\n",
    "con=engine.connect()\n",
    "pd.io.sql.read_sql(sql=text(query), con = con)"
   ]
  },
  {
   "cell_type": "markdown",
   "metadata": {},
   "source": [
    "Посчитаем количество строк в таблице."
   ]
  },
  {
   "cell_type": "code",
   "execution_count": 5,
   "metadata": {},
   "outputs": [
    {
     "data": {
      "text/html": [
       "<div>\n",
       "<style scoped>\n",
       "    .dataframe tbody tr th:only-of-type {\n",
       "        vertical-align: middle;\n",
       "    }\n",
       "\n",
       "    .dataframe tbody tr th {\n",
       "        vertical-align: top;\n",
       "    }\n",
       "\n",
       "    .dataframe thead th {\n",
       "        text-align: right;\n",
       "    }\n",
       "</style>\n",
       "<table border=\"1\" class=\"dataframe\">\n",
       "  <thead>\n",
       "    <tr style=\"text-align: right;\">\n",
       "      <th></th>\n",
       "      <th>count</th>\n",
       "    </tr>\n",
       "  </thead>\n",
       "  <tbody>\n",
       "    <tr>\n",
       "      <th>0</th>\n",
       "      <td>636</td>\n",
       "    </tr>\n",
       "  </tbody>\n",
       "</table>\n",
       "</div>"
      ],
      "text/plain": [
       "   count\n",
       "0    636"
      ]
     },
     "execution_count": 5,
     "metadata": {},
     "output_type": "execute_result"
    }
   ],
   "source": [
    "query = '''SELECT COUNT(*) FROM authors'''\n",
    "con=engine.connect()\n",
    "pd.io.sql.read_sql(sql=text(query), con = con)"
   ]
  },
  {
   "cell_type": "markdown",
   "metadata": {},
   "source": [
    "### Publishers"
   ]
  },
  {
   "cell_type": "code",
   "execution_count": 6,
   "metadata": {},
   "outputs": [
    {
     "data": {
      "text/html": [
       "<div>\n",
       "<style scoped>\n",
       "    .dataframe tbody tr th:only-of-type {\n",
       "        vertical-align: middle;\n",
       "    }\n",
       "\n",
       "    .dataframe tbody tr th {\n",
       "        vertical-align: top;\n",
       "    }\n",
       "\n",
       "    .dataframe thead th {\n",
       "        text-align: right;\n",
       "    }\n",
       "</style>\n",
       "<table border=\"1\" class=\"dataframe\">\n",
       "  <thead>\n",
       "    <tr style=\"text-align: right;\">\n",
       "      <th></th>\n",
       "      <th>publisher_id</th>\n",
       "      <th>publisher</th>\n",
       "    </tr>\n",
       "  </thead>\n",
       "  <tbody>\n",
       "    <tr>\n",
       "      <th>0</th>\n",
       "      <td>1</td>\n",
       "      <td>Ace</td>\n",
       "    </tr>\n",
       "    <tr>\n",
       "      <th>1</th>\n",
       "      <td>2</td>\n",
       "      <td>Ace Book</td>\n",
       "    </tr>\n",
       "    <tr>\n",
       "      <th>2</th>\n",
       "      <td>3</td>\n",
       "      <td>Ace Books</td>\n",
       "    </tr>\n",
       "    <tr>\n",
       "      <th>3</th>\n",
       "      <td>4</td>\n",
       "      <td>Ace Hardcover</td>\n",
       "    </tr>\n",
       "    <tr>\n",
       "      <th>4</th>\n",
       "      <td>5</td>\n",
       "      <td>Addison Wesley Publishing Company</td>\n",
       "    </tr>\n",
       "  </tbody>\n",
       "</table>\n",
       "</div>"
      ],
      "text/plain": [
       "   publisher_id                          publisher\n",
       "0             1                                Ace\n",
       "1             2                           Ace Book\n",
       "2             3                          Ace Books\n",
       "3             4                      Ace Hardcover\n",
       "4             5  Addison Wesley Publishing Company"
      ]
     },
     "execution_count": 6,
     "metadata": {},
     "output_type": "execute_result"
    }
   ],
   "source": [
    "query = '''SELECT * FROM publishers LIMIT 5'''\n",
    "con=engine.connect()\n",
    "pd.io.sql.read_sql(sql=text(query), con = con)"
   ]
  },
  {
   "cell_type": "markdown",
   "metadata": {},
   "source": [
    "Посчитаем количество строк в таблице."
   ]
  },
  {
   "cell_type": "code",
   "execution_count": 7,
   "metadata": {},
   "outputs": [
    {
     "data": {
      "text/html": [
       "<div>\n",
       "<style scoped>\n",
       "    .dataframe tbody tr th:only-of-type {\n",
       "        vertical-align: middle;\n",
       "    }\n",
       "\n",
       "    .dataframe tbody tr th {\n",
       "        vertical-align: top;\n",
       "    }\n",
       "\n",
       "    .dataframe thead th {\n",
       "        text-align: right;\n",
       "    }\n",
       "</style>\n",
       "<table border=\"1\" class=\"dataframe\">\n",
       "  <thead>\n",
       "    <tr style=\"text-align: right;\">\n",
       "      <th></th>\n",
       "      <th>count</th>\n",
       "    </tr>\n",
       "  </thead>\n",
       "  <tbody>\n",
       "    <tr>\n",
       "      <th>0</th>\n",
       "      <td>340</td>\n",
       "    </tr>\n",
       "  </tbody>\n",
       "</table>\n",
       "</div>"
      ],
      "text/plain": [
       "   count\n",
       "0    340"
      ]
     },
     "execution_count": 7,
     "metadata": {},
     "output_type": "execute_result"
    }
   ],
   "source": [
    "query = '''SELECT COUNT(*) FROM publishers'''\n",
    "con=engine.connect()\n",
    "pd.io.sql.read_sql(sql=text(query), con = con)"
   ]
  },
  {
   "cell_type": "markdown",
   "metadata": {},
   "source": [
    "### Ratings "
   ]
  },
  {
   "cell_type": "code",
   "execution_count": 8,
   "metadata": {},
   "outputs": [
    {
     "data": {
      "text/html": [
       "<div>\n",
       "<style scoped>\n",
       "    .dataframe tbody tr th:only-of-type {\n",
       "        vertical-align: middle;\n",
       "    }\n",
       "\n",
       "    .dataframe tbody tr th {\n",
       "        vertical-align: top;\n",
       "    }\n",
       "\n",
       "    .dataframe thead th {\n",
       "        text-align: right;\n",
       "    }\n",
       "</style>\n",
       "<table border=\"1\" class=\"dataframe\">\n",
       "  <thead>\n",
       "    <tr style=\"text-align: right;\">\n",
       "      <th></th>\n",
       "      <th>rating_id</th>\n",
       "      <th>book_id</th>\n",
       "      <th>username</th>\n",
       "      <th>rating</th>\n",
       "    </tr>\n",
       "  </thead>\n",
       "  <tbody>\n",
       "    <tr>\n",
       "      <th>0</th>\n",
       "      <td>1</td>\n",
       "      <td>1</td>\n",
       "      <td>ryanfranco</td>\n",
       "      <td>4</td>\n",
       "    </tr>\n",
       "    <tr>\n",
       "      <th>1</th>\n",
       "      <td>2</td>\n",
       "      <td>1</td>\n",
       "      <td>grantpatricia</td>\n",
       "      <td>2</td>\n",
       "    </tr>\n",
       "    <tr>\n",
       "      <th>2</th>\n",
       "      <td>3</td>\n",
       "      <td>1</td>\n",
       "      <td>brandtandrea</td>\n",
       "      <td>5</td>\n",
       "    </tr>\n",
       "    <tr>\n",
       "      <th>3</th>\n",
       "      <td>4</td>\n",
       "      <td>2</td>\n",
       "      <td>lorichen</td>\n",
       "      <td>3</td>\n",
       "    </tr>\n",
       "    <tr>\n",
       "      <th>4</th>\n",
       "      <td>5</td>\n",
       "      <td>2</td>\n",
       "      <td>mariokeller</td>\n",
       "      <td>2</td>\n",
       "    </tr>\n",
       "  </tbody>\n",
       "</table>\n",
       "</div>"
      ],
      "text/plain": [
       "   rating_id  book_id       username  rating\n",
       "0          1        1     ryanfranco       4\n",
       "1          2        1  grantpatricia       2\n",
       "2          3        1   brandtandrea       5\n",
       "3          4        2       lorichen       3\n",
       "4          5        2    mariokeller       2"
      ]
     },
     "execution_count": 8,
     "metadata": {},
     "output_type": "execute_result"
    }
   ],
   "source": [
    "query = '''SELECT * FROM ratings LIMIT 5'''\n",
    "con=engine.connect()\n",
    "pd.io.sql.read_sql(sql=text(query), con = con)"
   ]
  },
  {
   "cell_type": "markdown",
   "metadata": {},
   "source": [
    "Посчитаем количество строк в таблице."
   ]
  },
  {
   "cell_type": "code",
   "execution_count": 9,
   "metadata": {},
   "outputs": [
    {
     "data": {
      "text/html": [
       "<div>\n",
       "<style scoped>\n",
       "    .dataframe tbody tr th:only-of-type {\n",
       "        vertical-align: middle;\n",
       "    }\n",
       "\n",
       "    .dataframe tbody tr th {\n",
       "        vertical-align: top;\n",
       "    }\n",
       "\n",
       "    .dataframe thead th {\n",
       "        text-align: right;\n",
       "    }\n",
       "</style>\n",
       "<table border=\"1\" class=\"dataframe\">\n",
       "  <thead>\n",
       "    <tr style=\"text-align: right;\">\n",
       "      <th></th>\n",
       "      <th>count</th>\n",
       "    </tr>\n",
       "  </thead>\n",
       "  <tbody>\n",
       "    <tr>\n",
       "      <th>0</th>\n",
       "      <td>6456</td>\n",
       "    </tr>\n",
       "  </tbody>\n",
       "</table>\n",
       "</div>"
      ],
      "text/plain": [
       "   count\n",
       "0   6456"
      ]
     },
     "execution_count": 9,
     "metadata": {},
     "output_type": "execute_result"
    }
   ],
   "source": [
    "query = '''SELECT COUNT(*) FROM ratings'''\n",
    "con=engine.connect()\n",
    "pd.io.sql.read_sql(sql=text(query), con = con)"
   ]
  },
  {
   "cell_type": "markdown",
   "metadata": {},
   "source": [
    "### Reviews"
   ]
  },
  {
   "cell_type": "code",
   "execution_count": 10,
   "metadata": {},
   "outputs": [
    {
     "data": {
      "text/html": [
       "<div>\n",
       "<style scoped>\n",
       "    .dataframe tbody tr th:only-of-type {\n",
       "        vertical-align: middle;\n",
       "    }\n",
       "\n",
       "    .dataframe tbody tr th {\n",
       "        vertical-align: top;\n",
       "    }\n",
       "\n",
       "    .dataframe thead th {\n",
       "        text-align: right;\n",
       "    }\n",
       "</style>\n",
       "<table border=\"1\" class=\"dataframe\">\n",
       "  <thead>\n",
       "    <tr style=\"text-align: right;\">\n",
       "      <th></th>\n",
       "      <th>review_id</th>\n",
       "      <th>book_id</th>\n",
       "      <th>username</th>\n",
       "      <th>text</th>\n",
       "    </tr>\n",
       "  </thead>\n",
       "  <tbody>\n",
       "    <tr>\n",
       "      <th>0</th>\n",
       "      <td>1</td>\n",
       "      <td>1</td>\n",
       "      <td>brandtandrea</td>\n",
       "      <td>Mention society tell send professor analysis. ...</td>\n",
       "    </tr>\n",
       "    <tr>\n",
       "      <th>1</th>\n",
       "      <td>2</td>\n",
       "      <td>1</td>\n",
       "      <td>ryanfranco</td>\n",
       "      <td>Foot glass pretty audience hit themselves. Amo...</td>\n",
       "    </tr>\n",
       "    <tr>\n",
       "      <th>2</th>\n",
       "      <td>3</td>\n",
       "      <td>2</td>\n",
       "      <td>lorichen</td>\n",
       "      <td>Listen treat keep worry. Miss husband tax but ...</td>\n",
       "    </tr>\n",
       "    <tr>\n",
       "      <th>3</th>\n",
       "      <td>4</td>\n",
       "      <td>3</td>\n",
       "      <td>johnsonamanda</td>\n",
       "      <td>Finally month interesting blue could nature cu...</td>\n",
       "    </tr>\n",
       "    <tr>\n",
       "      <th>4</th>\n",
       "      <td>5</td>\n",
       "      <td>3</td>\n",
       "      <td>scotttamara</td>\n",
       "      <td>Nation purpose heavy give wait song will. List...</td>\n",
       "    </tr>\n",
       "  </tbody>\n",
       "</table>\n",
       "</div>"
      ],
      "text/plain": [
       "   review_id  book_id       username  \\\n",
       "0          1        1   brandtandrea   \n",
       "1          2        1     ryanfranco   \n",
       "2          3        2       lorichen   \n",
       "3          4        3  johnsonamanda   \n",
       "4          5        3    scotttamara   \n",
       "\n",
       "                                                text  \n",
       "0  Mention society tell send professor analysis. ...  \n",
       "1  Foot glass pretty audience hit themselves. Amo...  \n",
       "2  Listen treat keep worry. Miss husband tax but ...  \n",
       "3  Finally month interesting blue could nature cu...  \n",
       "4  Nation purpose heavy give wait song will. List...  "
      ]
     },
     "execution_count": 10,
     "metadata": {},
     "output_type": "execute_result"
    }
   ],
   "source": [
    "query = '''SELECT * FROM reviews LIMIT 5'''\n",
    "con=engine.connect()\n",
    "pd.io.sql.read_sql(sql=text(query), con = con)"
   ]
  },
  {
   "cell_type": "markdown",
   "metadata": {},
   "source": [
    "Посчитаем количество строк в таблице."
   ]
  },
  {
   "cell_type": "code",
   "execution_count": 11,
   "metadata": {},
   "outputs": [
    {
     "data": {
      "text/html": [
       "<div>\n",
       "<style scoped>\n",
       "    .dataframe tbody tr th:only-of-type {\n",
       "        vertical-align: middle;\n",
       "    }\n",
       "\n",
       "    .dataframe tbody tr th {\n",
       "        vertical-align: top;\n",
       "    }\n",
       "\n",
       "    .dataframe thead th {\n",
       "        text-align: right;\n",
       "    }\n",
       "</style>\n",
       "<table border=\"1\" class=\"dataframe\">\n",
       "  <thead>\n",
       "    <tr style=\"text-align: right;\">\n",
       "      <th></th>\n",
       "      <th>count</th>\n",
       "    </tr>\n",
       "  </thead>\n",
       "  <tbody>\n",
       "    <tr>\n",
       "      <th>0</th>\n",
       "      <td>2793</td>\n",
       "    </tr>\n",
       "  </tbody>\n",
       "</table>\n",
       "</div>"
      ],
      "text/plain": [
       "   count\n",
       "0   2793"
      ]
     },
     "execution_count": 11,
     "metadata": {},
     "output_type": "execute_result"
    }
   ],
   "source": [
    "query = '''SELECT COUNT(*) FROM reviews'''\n",
    "con=engine.connect()\n",
    "pd.io.sql.read_sql(sql=text(query), con = con)"
   ]
  },
  {
   "cell_type": "markdown",
   "metadata": {},
   "source": [
    " <div class=\"alert alert-success\">\n",
    " <b>👍 Успех:</b> Есть описание задачи, импортированы все нужные библиотеки, создано подключение к БД, просмотрены таблицы\n",
    " </div>"
   ]
  },
  {
   "cell_type": "markdown",
   "metadata": {},
   "source": [
    "## Решение задач"
   ]
  },
  {
   "cell_type": "markdown",
   "metadata": {},
   "source": [
    "### Количество книг, вышедших после 1 января 2000 года"
   ]
  },
  {
   "cell_type": "code",
   "execution_count": 12,
   "metadata": {},
   "outputs": [
    {
     "data": {
      "text/html": [
       "<div>\n",
       "<style scoped>\n",
       "    .dataframe tbody tr th:only-of-type {\n",
       "        vertical-align: middle;\n",
       "    }\n",
       "\n",
       "    .dataframe tbody tr th {\n",
       "        vertical-align: top;\n",
       "    }\n",
       "\n",
       "    .dataframe thead th {\n",
       "        text-align: right;\n",
       "    }\n",
       "</style>\n",
       "<table border=\"1\" class=\"dataframe\">\n",
       "  <thead>\n",
       "    <tr style=\"text-align: right;\">\n",
       "      <th></th>\n",
       "      <th>count</th>\n",
       "    </tr>\n",
       "  </thead>\n",
       "  <tbody>\n",
       "    <tr>\n",
       "      <th>0</th>\n",
       "      <td>819</td>\n",
       "    </tr>\n",
       "  </tbody>\n",
       "</table>\n",
       "</div>"
      ],
      "text/plain": [
       "   count\n",
       "0    819"
      ]
     },
     "execution_count": 12,
     "metadata": {},
     "output_type": "execute_result"
    }
   ],
   "source": [
    "query = '''\n",
    "SELECT COUNT(*) \n",
    "FROM books\n",
    "WHERE publication_date > '2000-01-01'\n",
    "'''\n",
    "con=engine.connect()\n",
    "pd.io.sql.read_sql(sql=text(query), con = con)"
   ]
  },
  {
   "cell_type": "markdown",
   "metadata": {},
   "source": [
    "**Вывод:** после 1 января 2000 года вышло 819 книг."
   ]
  },
  {
   "cell_type": "markdown",
   "metadata": {},
   "source": [
    " <div class=\"alert alert-success\">\n",
    " <b>👍 Успех:</b> Все верно!\n",
    " </div>"
   ]
  },
  {
   "cell_type": "markdown",
   "metadata": {},
   "source": [
    "### Количество обзоров и средняя оценка каждой книги"
   ]
  },
  {
   "cell_type": "code",
   "execution_count": 13,
   "metadata": {},
   "outputs": [
    {
     "data": {
      "text/html": [
       "<div>\n",
       "<style scoped>\n",
       "    .dataframe tbody tr th:only-of-type {\n",
       "        vertical-align: middle;\n",
       "    }\n",
       "\n",
       "    .dataframe tbody tr th {\n",
       "        vertical-align: top;\n",
       "    }\n",
       "\n",
       "    .dataframe thead th {\n",
       "        text-align: right;\n",
       "    }\n",
       "</style>\n",
       "<table border=\"1\" class=\"dataframe\">\n",
       "  <thead>\n",
       "    <tr style=\"text-align: right;\">\n",
       "      <th></th>\n",
       "      <th>book_id</th>\n",
       "      <th>title</th>\n",
       "      <th>cnt_review</th>\n",
       "      <th>avg_rating</th>\n",
       "    </tr>\n",
       "  </thead>\n",
       "  <tbody>\n",
       "    <tr>\n",
       "      <th>0</th>\n",
       "      <td>672</td>\n",
       "      <td>The Cat in the Hat and Other Dr. Seuss Favorites</td>\n",
       "      <td>NaN</td>\n",
       "      <td>5.000000</td>\n",
       "    </tr>\n",
       "    <tr>\n",
       "      <th>1</th>\n",
       "      <td>191</td>\n",
       "      <td>Disney's Beauty and the Beast (A Little Golden...</td>\n",
       "      <td>NaN</td>\n",
       "      <td>4.000000</td>\n",
       "    </tr>\n",
       "    <tr>\n",
       "      <th>2</th>\n",
       "      <td>387</td>\n",
       "      <td>Leonardo's Notebooks</td>\n",
       "      <td>NaN</td>\n",
       "      <td>4.000000</td>\n",
       "    </tr>\n",
       "    <tr>\n",
       "      <th>3</th>\n",
       "      <td>221</td>\n",
       "      <td>Essential Tales and Poems</td>\n",
       "      <td>NaN</td>\n",
       "      <td>4.000000</td>\n",
       "    </tr>\n",
       "    <tr>\n",
       "      <th>4</th>\n",
       "      <td>83</td>\n",
       "      <td>Anne Rice's The Vampire Lestat: A Graphic Novel</td>\n",
       "      <td>NaN</td>\n",
       "      <td>3.666667</td>\n",
       "    </tr>\n",
       "    <tr>\n",
       "      <th>...</th>\n",
       "      <td>...</td>\n",
       "      <td>...</td>\n",
       "      <td>...</td>\n",
       "      <td>...</td>\n",
       "    </tr>\n",
       "    <tr>\n",
       "      <th>995</th>\n",
       "      <td>446</td>\n",
       "      <td>Moo  Baa  La La La!</td>\n",
       "      <td>1.0</td>\n",
       "      <td>3.000000</td>\n",
       "    </tr>\n",
       "    <tr>\n",
       "      <th>996</th>\n",
       "      <td>186</td>\n",
       "      <td>Death: The High Cost of Living</td>\n",
       "      <td>1.0</td>\n",
       "      <td>3.000000</td>\n",
       "    </tr>\n",
       "    <tr>\n",
       "      <th>997</th>\n",
       "      <td>318</td>\n",
       "      <td>History of Beauty</td>\n",
       "      <td>1.0</td>\n",
       "      <td>2.500000</td>\n",
       "    </tr>\n",
       "    <tr>\n",
       "      <th>998</th>\n",
       "      <td>943</td>\n",
       "      <td>Tsubasa: RESERVoir CHRoNiCLE  Vol. 1</td>\n",
       "      <td>1.0</td>\n",
       "      <td>2.500000</td>\n",
       "    </tr>\n",
       "    <tr>\n",
       "      <th>999</th>\n",
       "      <td>2</td>\n",
       "      <td>1 000 Places to See Before You Die</td>\n",
       "      <td>1.0</td>\n",
       "      <td>2.500000</td>\n",
       "    </tr>\n",
       "  </tbody>\n",
       "</table>\n",
       "<p>1000 rows × 4 columns</p>\n",
       "</div>"
      ],
      "text/plain": [
       "     book_id                                              title  cnt_review  \\\n",
       "0        672   The Cat in the Hat and Other Dr. Seuss Favorites         NaN   \n",
       "1        191  Disney's Beauty and the Beast (A Little Golden...         NaN   \n",
       "2        387                               Leonardo's Notebooks         NaN   \n",
       "3        221                          Essential Tales and Poems         NaN   \n",
       "4         83    Anne Rice's The Vampire Lestat: A Graphic Novel         NaN   \n",
       "..       ...                                                ...         ...   \n",
       "995      446                                Moo  Baa  La La La!         1.0   \n",
       "996      186                     Death: The High Cost of Living         1.0   \n",
       "997      318                                  History of Beauty         1.0   \n",
       "998      943               Tsubasa: RESERVoir CHRoNiCLE  Vol. 1         1.0   \n",
       "999        2                 1 000 Places to See Before You Die         1.0   \n",
       "\n",
       "     avg_rating  \n",
       "0      5.000000  \n",
       "1      4.000000  \n",
       "2      4.000000  \n",
       "3      4.000000  \n",
       "4      3.666667  \n",
       "..          ...  \n",
       "995    3.000000  \n",
       "996    3.000000  \n",
       "997    2.500000  \n",
       "998    2.500000  \n",
       "999    2.500000  \n",
       "\n",
       "[1000 rows x 4 columns]"
      ]
     },
     "execution_count": 13,
     "metadata": {},
     "output_type": "execute_result"
    }
   ],
   "source": [
    "query = '''\n",
    "WITH\n",
    "rw AS (SELECT book_id,\n",
    "       COUNT(review_id) AS cnt_review\n",
    "FROM reviews \n",
    "GROUP BY book_id),\n",
    "\n",
    "rt AS (SELECT book_id,\n",
    "       AVG(rating) AS avg_rating\n",
    "FROM ratings \n",
    "GROUP BY book_id)\n",
    "\n",
    "SELECT b.book_id,\n",
    "       b.title,\n",
    "       rw.cnt_review,\n",
    "       rt.avg_rating\n",
    "FROM books AS b \n",
    "LEFT OUTER JOIN rw ON b.book_id = rw.book_id\n",
    "LEFT OUTER JOIN rt ON b.book_id = rt.book_id\n",
    "ORDER BY cnt_review DESC, avg_rating DESC\n",
    "'''\n",
    "con=engine.connect()\n",
    "pd.io.sql.read_sql(sql=text(query), con = con)"
   ]
  },
  {
   "cell_type": "markdown",
   "metadata": {},
   "source": [
    " <div class=\"alert alert-danger\">\n",
    "<s> <b>😔 Необходимо исправить:</b> В итоговую таблицу должны войти все книги, даже если у каких-то книг нет обзоров или оценок</s>\n",
    " </div>"
   ]
  },
  {
   "cell_type": "markdown",
   "metadata": {},
   "source": [
    "<div class=\"alert alert-info\"> <b>🎓 Комментарий студента:</b> Поправила.</div>"
   ]
  },
  {
   "cell_type": "markdown",
   "metadata": {},
   "source": [
    "**Вывод:** у каждой книги из 1000 есть оценки, отзывы есть для 994 книг.\n",
    "\n",
    "Максимальное количество отзывов на книгу - 7, минимальное - 0.\n",
    "\n",
    "Максимальная средняя оценка книги - 5 баллов, минимальная - 2,5 балла."
   ]
  },
  {
   "cell_type": "markdown",
   "metadata": {},
   "source": [
    " <div class=\"alert alert-success\">\n",
    " <b>👍 Успех:</b> Все верно!\n",
    " </div>"
   ]
  },
  {
   "cell_type": "markdown",
   "metadata": {},
   "source": [
    "### Издательство, которое выпустило наибольшее число книг толще 50 страниц"
   ]
  },
  {
   "cell_type": "code",
   "execution_count": 14,
   "metadata": {},
   "outputs": [
    {
     "data": {
      "text/html": [
       "<div>\n",
       "<style scoped>\n",
       "    .dataframe tbody tr th:only-of-type {\n",
       "        vertical-align: middle;\n",
       "    }\n",
       "\n",
       "    .dataframe tbody tr th {\n",
       "        vertical-align: top;\n",
       "    }\n",
       "\n",
       "    .dataframe thead th {\n",
       "        text-align: right;\n",
       "    }\n",
       "</style>\n",
       "<table border=\"1\" class=\"dataframe\">\n",
       "  <thead>\n",
       "    <tr style=\"text-align: right;\">\n",
       "      <th></th>\n",
       "      <th>publisher</th>\n",
       "      <th>cnt_books</th>\n",
       "    </tr>\n",
       "  </thead>\n",
       "  <tbody>\n",
       "    <tr>\n",
       "      <th>0</th>\n",
       "      <td>Penguin Books</td>\n",
       "      <td>42</td>\n",
       "    </tr>\n",
       "  </tbody>\n",
       "</table>\n",
       "</div>"
      ],
      "text/plain": [
       "       publisher  cnt_books\n",
       "0  Penguin Books         42"
      ]
     },
     "execution_count": 14,
     "metadata": {},
     "output_type": "execute_result"
    }
   ],
   "source": [
    "query = '''\n",
    "SELECT p.publisher,\n",
    "       COUNT(b.book_id) AS cnt_books\n",
    "FROM books AS b \n",
    "LEFT OUTER JOIN publishers AS p ON b.publisher_id = p.publisher_id\n",
    "WHERE b.num_pages > 50\n",
    "GROUP BY p.publisher\n",
    "ORDER BY cnt_books DESC\n",
    "LIMIT 1\n",
    "'''\n",
    "con=engine.connect()\n",
    "pd.io.sql.read_sql(sql=text(query), con = con)"
   ]
  },
  {
   "cell_type": "markdown",
   "metadata": {},
   "source": [
    "**Вывод:** наибольшее количество книг толще 50 страниц выпустило издательство Penguin Books."
   ]
  },
  {
   "cell_type": "markdown",
   "metadata": {},
   "source": [
    " <div class=\"alert alert-success\">\n",
    " <b>👍 Успех:</b> Все верно!\n",
    " </div>"
   ]
  },
  {
   "cell_type": "markdown",
   "metadata": {},
   "source": [
    "### Автор с самой высокой средней оценкой книг среди книг с 50 и более оценками"
   ]
  },
  {
   "cell_type": "code",
   "execution_count": 15,
   "metadata": {},
   "outputs": [
    {
     "data": {
      "text/html": [
       "<div>\n",
       "<style scoped>\n",
       "    .dataframe tbody tr th:only-of-type {\n",
       "        vertical-align: middle;\n",
       "    }\n",
       "\n",
       "    .dataframe tbody tr th {\n",
       "        vertical-align: top;\n",
       "    }\n",
       "\n",
       "    .dataframe thead th {\n",
       "        text-align: right;\n",
       "    }\n",
       "</style>\n",
       "<table border=\"1\" class=\"dataframe\">\n",
       "  <thead>\n",
       "    <tr style=\"text-align: right;\">\n",
       "      <th></th>\n",
       "      <th>author</th>\n",
       "      <th>avg_author_rating</th>\n",
       "    </tr>\n",
       "  </thead>\n",
       "  <tbody>\n",
       "    <tr>\n",
       "      <th>0</th>\n",
       "      <td>J.K. Rowling/Mary GrandPré</td>\n",
       "      <td>4.283844</td>\n",
       "    </tr>\n",
       "  </tbody>\n",
       "</table>\n",
       "</div>"
      ],
      "text/plain": [
       "                       author  avg_author_rating\n",
       "0  J.K. Rowling/Mary GrandPré           4.283844"
      ]
     },
     "execution_count": 15,
     "metadata": {},
     "output_type": "execute_result"
    }
   ],
   "source": [
    "query = '''\n",
    "WITH\n",
    "r AS (SELECT book_id,\n",
    "       COUNT(rating) AS cnt_rating,\n",
    "       AVG(rating) AS avg_rating\n",
    "FROM ratings \n",
    "GROUP BY book_id\n",
    "HAVING COUNT(rating) >= 50\n",
    "ORDER BY avg_rating DESC),\n",
    "\n",
    "ba AS (SELECT b.book_id,\n",
    "       a.author\n",
    "FROM books AS b\n",
    "LEFT OUTER JOIN authors as a ON b.author_id = a.author_id)\n",
    "\n",
    "SELECT ba.author,\n",
    "       AVG(r.avg_rating) AS avg_author_rating\n",
    "FROM r \n",
    "LEFT OUTER JOIN ba ON r.book_id=ba.book_id\n",
    "GROUP BY ba.author\n",
    "ORDER BY avg_author_rating DESC\n",
    "LIMIT 1\n",
    "'''\n",
    "con=engine.connect()\n",
    "pd.io.sql.read_sql(sql=text(query), con = con)"
   ]
  },
  {
   "cell_type": "markdown",
   "metadata": {},
   "source": [
    "**Вывод:** Автор с самой высокой средней оценкой книг среди книг с 50 и более оценками - J.K. Rowling/Mary GrandPré."
   ]
  },
  {
   "cell_type": "markdown",
   "metadata": {},
   "source": [
    " <div class=\"alert alert-success\">\n",
    " <b>👍 Успех:</b> Все верно!\n",
    " </div>"
   ]
  },
  {
   "cell_type": "markdown",
   "metadata": {},
   "source": [
    "### Среднее количество обзоров от пользователей, которые поставили больше 48 оценок."
   ]
  },
  {
   "cell_type": "code",
   "execution_count": 16,
   "metadata": {},
   "outputs": [
    {
     "data": {
      "text/html": [
       "<div>\n",
       "<style scoped>\n",
       "    .dataframe tbody tr th:only-of-type {\n",
       "        vertical-align: middle;\n",
       "    }\n",
       "\n",
       "    .dataframe tbody tr th {\n",
       "        vertical-align: top;\n",
       "    }\n",
       "\n",
       "    .dataframe thead th {\n",
       "        text-align: right;\n",
       "    }\n",
       "</style>\n",
       "<table border=\"1\" class=\"dataframe\">\n",
       "  <thead>\n",
       "    <tr style=\"text-align: right;\">\n",
       "      <th></th>\n",
       "      <th>avg</th>\n",
       "    </tr>\n",
       "  </thead>\n",
       "  <tbody>\n",
       "    <tr>\n",
       "      <th>0</th>\n",
       "      <td>24.0</td>\n",
       "    </tr>\n",
       "  </tbody>\n",
       "</table>\n",
       "</div>"
      ],
      "text/plain": [
       "    avg\n",
       "0  24.0"
      ]
     },
     "execution_count": 16,
     "metadata": {},
     "output_type": "execute_result"
    }
   ],
   "source": [
    "query = '''\n",
    "WITH\n",
    "u AS (SELECT DISTINCT username,\n",
    "       COUNT(rating_id) AS cnt_rating\n",
    "FROM ratings \n",
    "GROUP BY DISTINCT username\n",
    "HAVING COUNT(rating_id) > 48\n",
    "ORDER BY cnt_rating DESC),\n",
    "\n",
    "r AS (SELECT u.username,\n",
    "       COUNT(rw.review_id) AS cnt_review\n",
    "FROM u\n",
    "LEFT OUTER JOIN reviews AS rw ON u.username = rw.username\n",
    "GROUP BY u.username)\n",
    "\n",
    "SELECT AVG(cnt_review)\n",
    "FROM r\n",
    "'''\n",
    "con=engine.connect()\n",
    "pd.io.sql.read_sql(sql=text(query), con = con)"
   ]
  },
  {
   "cell_type": "markdown",
   "metadata": {},
   "source": [
    "**Вывод:** 24 - cреднее количество обзоров от пользователей, которые поставили больше 48 оценок."
   ]
  },
  {
   "cell_type": "markdown",
   "metadata": {},
   "source": [
    " <div class=\"alert alert-success\">\n",
    " <b>👍 Успех:</b> Все верно!\n",
    " </div>"
   ]
  },
  {
   "cell_type": "markdown",
   "metadata": {},
   "source": [
    " <div class=\"alert alert-danger\">\n",
    "    <s> <b>😔 Необходимо исправить:</b> Допиши, пожалуйста, итоговый вывод</s>\n",
    " </div>"
   ]
  },
  {
   "cell_type": "markdown",
   "metadata": {},
   "source": [
    "<div class=\"alert alert-info\"> <b>🎓 Комментарий студента:</b> Дополнила, см. ниже.</div>"
   ]
  },
  {
   "cell_type": "markdown",
   "metadata": {},
   "source": [
    "## Итоговый вывод."
   ]
  },
  {
   "cell_type": "markdown",
   "metadata": {},
   "source": [
    "В базе данных 1000 книг. Из них 819 книг вышло после 1 января 2000 года. \n",
    "Большая часть базы - актуальная, современная литература.\n",
    "\n",
    "У каждой книги из 1000 есть оценки, отзывы есть для 994 книг. \n",
    "Это значит, что в той или иной степени отклик находится для каждой книги.\n",
    "\n",
    "Максимальное количество отзывов на книгу - 7, минимальное - 0.\n",
    "Максимальная средняя оценка книги - 5 баллов, минимальная - 2,5 балла.\n",
    "\n",
    "Наибольшее количество книг толще 50 страниц выпустило издательство Penguin Books. \n",
    "Оно может стать одним из ключевых партнеров сервиса.\n",
    "\n",
    "Автор с самой высокой средней оценкой книг среди книг с 50 и более оценками - J.K. Rowling/Mary GrandPré. \n",
    "Новинки от этого автора обязательно должны быть представлены на сервисе.\n",
    "\n",
    "24 - cреднее количество обзоров от пользователей, которые поставили больше 48 оценок.\n",
    "Нужно придумать систему поощрения активных пользователей, т.к. их отзывы могут увеличивать продажи."
   ]
  },
  {
   "cell_type": "markdown",
   "metadata": {},
   "source": [
    "<div class=\"alert alert-success\">\n",
    "<b>👍 Успех:</b> Хорошая работа, поздравляю с окончанием курса! Рекомендую еще пройти бесплатный курс от практикума по <a href='https://practicum.yandex.ru/ycloud-datalens/'> DataLens</a>\n",
    "   Дополнительную информацию по SQL  можно посмотреть и потренироваться <a href='https://sql-ex.ru'> здесь</a>, <a href='https://pgexercises.com'> здесь</a>, <a href='https://sql-academy.org'> здесь</a>, <a href='https://stepik.org/course/63054/info'> здесь</a>, <a href='https://Itresume.ru'> здесь</a>\n",
    "</div>"
   ]
  },
  {
   "cell_type": "code",
   "execution_count": null,
   "metadata": {},
   "outputs": [],
   "source": []
  }
 ],
 "metadata": {
  "ExecuteTimeLog": [
   {
    "duration": 7347,
    "start_time": "2024-10-18T11:57:51.567Z"
   },
   {
    "duration": 228,
    "start_time": "2024-10-18T12:03:33.488Z"
   },
   {
    "duration": 147,
    "start_time": "2024-10-18T12:04:04.971Z"
   },
   {
    "duration": 73,
    "start_time": "2024-10-18T12:04:24.114Z"
   },
   {
    "duration": 56,
    "start_time": "2024-10-18T12:04:33.047Z"
   },
   {
    "duration": 60,
    "start_time": "2024-10-18T12:04:42.529Z"
   },
   {
    "duration": 52,
    "start_time": "2024-10-18T12:08:05.684Z"
   },
   {
    "duration": 52,
    "start_time": "2024-10-18T12:08:47.563Z"
   },
   {
    "duration": 50,
    "start_time": "2024-10-18T12:09:07.550Z"
   },
   {
    "duration": 56,
    "start_time": "2024-10-18T12:09:28.028Z"
   },
   {
    "duration": 52,
    "start_time": "2024-10-18T12:09:50.667Z"
   },
   {
    "duration": 6187,
    "start_time": "2024-10-19T12:21:35.851Z"
   },
   {
    "duration": 51,
    "start_time": "2024-10-19T12:21:46.134Z"
   },
   {
    "duration": 32,
    "start_time": "2024-10-19T12:21:49.671Z"
   },
   {
    "duration": 9,
    "start_time": "2024-10-19T12:21:58.496Z"
   },
   {
    "duration": 11,
    "start_time": "2024-10-19T12:22:02.879Z"
   },
   {
    "duration": 11,
    "start_time": "2024-10-19T12:22:05.410Z"
   },
   {
    "duration": 11,
    "start_time": "2024-10-19T12:22:07.591Z"
   },
   {
    "duration": 10,
    "start_time": "2024-10-19T12:22:09.925Z"
   },
   {
    "duration": 11,
    "start_time": "2024-10-19T12:22:12.205Z"
   },
   {
    "duration": 10,
    "start_time": "2024-10-19T12:22:14.751Z"
   },
   {
    "duration": 12,
    "start_time": "2024-10-19T12:22:17.351Z"
   },
   {
    "duration": 10,
    "start_time": "2024-10-19T12:22:20.671Z"
   },
   {
    "duration": 9,
    "start_time": "2024-10-19T12:23:06.042Z"
   },
   {
    "duration": 83,
    "start_time": "2024-10-19T12:24:58.204Z"
   },
   {
    "duration": 9,
    "start_time": "2024-10-19T12:25:43.497Z"
   },
   {
    "duration": 48,
    "start_time": "2024-10-19T12:33:11.527Z"
   },
   {
    "duration": 22,
    "start_time": "2024-10-19T12:34:21.033Z"
   },
   {
    "duration": 13,
    "start_time": "2024-10-19T12:34:43.673Z"
   },
   {
    "duration": 50,
    "start_time": "2024-10-19T12:35:14.677Z"
   },
   {
    "duration": 11,
    "start_time": "2024-10-19T12:35:23.789Z"
   },
   {
    "duration": 45,
    "start_time": "2024-10-19T12:36:47.463Z"
   },
   {
    "duration": 14,
    "start_time": "2024-10-19T12:37:30.455Z"
   },
   {
    "duration": 13,
    "start_time": "2024-10-19T12:38:23.714Z"
   },
   {
    "duration": 13,
    "start_time": "2024-10-19T12:38:41.362Z"
   },
   {
    "duration": 11,
    "start_time": "2024-10-19T12:41:53.222Z"
   },
   {
    "duration": 21,
    "start_time": "2024-10-19T12:50:59.937Z"
   },
   {
    "duration": 19,
    "start_time": "2024-10-19T12:51:09.859Z"
   },
   {
    "duration": 58,
    "start_time": "2024-10-19T12:53:04.281Z"
   },
   {
    "duration": 15,
    "start_time": "2024-10-19T12:53:34.439Z"
   },
   {
    "duration": 51,
    "start_time": "2024-10-19T12:54:23.349Z"
   },
   {
    "duration": 31,
    "start_time": "2024-10-19T12:55:22.417Z"
   },
   {
    "duration": 22,
    "start_time": "2024-10-19T12:56:14.621Z"
   },
   {
    "duration": 23,
    "start_time": "2024-10-19T12:57:04.940Z"
   },
   {
    "duration": 10,
    "start_time": "2024-10-19T13:03:19.422Z"
   },
   {
    "duration": 10,
    "start_time": "2024-10-19T13:03:47.118Z"
   },
   {
    "duration": 32,
    "start_time": "2024-10-19T13:04:57.278Z"
   },
   {
    "duration": 24,
    "start_time": "2024-10-19T13:07:34.243Z"
   },
   {
    "duration": 23,
    "start_time": "2024-10-19T13:08:26.924Z"
   },
   {
    "duration": 13,
    "start_time": "2024-10-19T13:08:56.934Z"
   },
   {
    "duration": 20,
    "start_time": "2024-10-19T13:18:41.872Z"
   },
   {
    "duration": 19,
    "start_time": "2024-10-19T13:19:26.929Z"
   },
   {
    "duration": 22,
    "start_time": "2024-10-19T13:19:55.061Z"
   },
   {
    "duration": 21,
    "start_time": "2024-10-19T13:20:42.669Z"
   },
   {
    "duration": 19,
    "start_time": "2024-10-19T13:21:51.910Z"
   },
   {
    "duration": 12,
    "start_time": "2024-10-19T13:22:10.685Z"
   },
   {
    "duration": 21,
    "start_time": "2024-10-19T13:22:32.729Z"
   },
   {
    "duration": 13,
    "start_time": "2024-10-19T13:22:40.001Z"
   },
   {
    "duration": 14,
    "start_time": "2024-10-19T13:23:03.734Z"
   },
   {
    "duration": 11,
    "start_time": "2024-10-19T13:24:01.749Z"
   },
   {
    "duration": 13,
    "start_time": "2024-10-19T13:47:26.581Z"
   },
   {
    "duration": 21,
    "start_time": "2024-10-19T13:52:41.790Z"
   },
   {
    "duration": 16,
    "start_time": "2024-10-19T13:52:49.091Z"
   },
   {
    "duration": 19,
    "start_time": "2024-10-19T13:53:41.760Z"
   },
   {
    "duration": 17,
    "start_time": "2024-10-19T13:53:48.420Z"
   },
   {
    "duration": 18,
    "start_time": "2024-10-19T13:54:07.706Z"
   },
   {
    "duration": 18,
    "start_time": "2024-10-19T13:54:12.503Z"
   },
   {
    "duration": 20,
    "start_time": "2024-10-19T13:55:21.453Z"
   },
   {
    "duration": 16,
    "start_time": "2024-10-19T13:56:05.898Z"
   },
   {
    "duration": 14,
    "start_time": "2024-10-19T13:56:40.854Z"
   },
   {
    "duration": 13,
    "start_time": "2024-10-19T13:57:14.868Z"
   },
   {
    "duration": 23,
    "start_time": "2024-10-19T14:01:29.093Z"
   },
   {
    "duration": 14,
    "start_time": "2024-10-19T14:01:58.825Z"
   },
   {
    "duration": 21,
    "start_time": "2024-10-19T14:05:09.758Z"
   },
   {
    "duration": 13,
    "start_time": "2024-10-19T14:05:30.724Z"
   },
   {
    "duration": 15,
    "start_time": "2024-10-19T14:07:39.308Z"
   },
   {
    "duration": 16,
    "start_time": "2024-10-19T14:08:51.219Z"
   },
   {
    "duration": 19,
    "start_time": "2024-10-19T14:10:21.245Z"
   },
   {
    "duration": 14,
    "start_time": "2024-10-19T14:10:38.807Z"
   },
   {
    "duration": 21,
    "start_time": "2024-10-19T14:11:24.066Z"
   },
   {
    "duration": 14,
    "start_time": "2024-10-19T14:11:35.964Z"
   },
   {
    "duration": 36,
    "start_time": "2024-10-19T14:11:43.463Z"
   },
   {
    "duration": 13,
    "start_time": "2024-10-19T14:18:22.951Z"
   },
   {
    "duration": 15,
    "start_time": "2024-10-19T14:19:27.386Z"
   },
   {
    "duration": 15,
    "start_time": "2024-10-19T14:20:32.991Z"
   },
   {
    "duration": 13,
    "start_time": "2024-10-19T14:20:58.129Z"
   },
   {
    "duration": 12,
    "start_time": "2024-10-19T14:21:32.828Z"
   },
   {
    "duration": 19,
    "start_time": "2024-10-19T14:23:34.617Z"
   },
   {
    "duration": 27,
    "start_time": "2024-10-19T14:25:17.703Z"
   },
   {
    "duration": 12,
    "start_time": "2024-10-19T14:25:32.279Z"
   },
   {
    "duration": 12,
    "start_time": "2024-10-19T14:28:39.733Z"
   },
   {
    "duration": 6673,
    "start_time": "2024-10-19T14:30:16.952Z"
   },
   {
    "duration": 52,
    "start_time": "2024-10-19T14:30:30.737Z"
   },
   {
    "duration": 35,
    "start_time": "2024-10-19T14:30:34.766Z"
   },
   {
    "duration": 11,
    "start_time": "2024-10-19T14:30:37.098Z"
   },
   {
    "duration": 9,
    "start_time": "2024-10-19T14:30:39.125Z"
   },
   {
    "duration": 9,
    "start_time": "2024-10-19T14:31:08.494Z"
   },
   {
    "duration": 5983,
    "start_time": "2024-10-19T14:32:27.428Z"
   },
   {
    "duration": 52,
    "start_time": "2024-10-19T14:32:33.413Z"
   },
   {
    "duration": 32,
    "start_time": "2024-10-19T14:32:36.497Z"
   },
   {
    "duration": 11,
    "start_time": "2024-10-19T14:32:38.480Z"
   },
   {
    "duration": 9,
    "start_time": "2024-10-19T14:32:41.006Z"
   },
   {
    "duration": 10,
    "start_time": "2024-10-19T14:32:43.255Z"
   },
   {
    "duration": 10,
    "start_time": "2024-10-19T14:32:46.055Z"
   },
   {
    "duration": 12,
    "start_time": "2024-10-19T14:32:48.242Z"
   },
   {
    "duration": 10,
    "start_time": "2024-10-19T14:32:50.115Z"
   },
   {
    "duration": 13,
    "start_time": "2024-10-19T14:32:52.263Z"
   },
   {
    "duration": 10,
    "start_time": "2024-10-19T14:32:54.852Z"
   },
   {
    "duration": 10,
    "start_time": "2024-10-19T14:32:56.687Z"
   },
   {
    "duration": 25,
    "start_time": "2024-10-19T14:32:59.319Z"
   },
   {
    "duration": 11,
    "start_time": "2024-10-19T14:33:01.890Z"
   },
   {
    "duration": 14,
    "start_time": "2024-10-19T14:33:04.003Z"
   },
   {
    "duration": 12,
    "start_time": "2024-10-19T14:33:06.558Z"
   },
   {
    "duration": 8114,
    "start_time": "2024-10-19T14:58:58.080Z"
   },
   {
    "duration": 223,
    "start_time": "2024-10-19T14:59:06.196Z"
   },
   {
    "duration": 134,
    "start_time": "2024-10-19T14:59:06.422Z"
   },
   {
    "duration": 50,
    "start_time": "2024-10-19T14:59:06.558Z"
   },
   {
    "duration": 50,
    "start_time": "2024-10-19T14:59:06.611Z"
   },
   {
    "duration": 52,
    "start_time": "2024-10-19T14:59:06.663Z"
   },
   {
    "duration": 51,
    "start_time": "2024-10-19T14:59:06.716Z"
   },
   {
    "duration": 53,
    "start_time": "2024-10-19T14:59:06.768Z"
   },
   {
    "duration": 51,
    "start_time": "2024-10-19T14:59:06.823Z"
   },
   {
    "duration": 52,
    "start_time": "2024-10-19T14:59:06.875Z"
   },
   {
    "duration": 50,
    "start_time": "2024-10-19T14:59:06.929Z"
   },
   {
    "duration": 51,
    "start_time": "2024-10-19T14:59:06.980Z"
   },
   {
    "duration": 84,
    "start_time": "2024-10-19T14:59:07.032Z"
   },
   {
    "duration": 53,
    "start_time": "2024-10-19T14:59:07.118Z"
   },
   {
    "duration": 83,
    "start_time": "2024-10-19T14:59:07.172Z"
   },
   {
    "duration": 128,
    "start_time": "2024-10-19T14:59:07.257Z"
   },
   {
    "duration": 57,
    "start_time": "2024-10-19T21:20:43.756Z"
   },
   {
    "duration": 7981,
    "start_time": "2024-10-20T03:35:57.112Z"
   },
   {
    "duration": 231,
    "start_time": "2024-10-20T03:36:05.095Z"
   },
   {
    "duration": 122,
    "start_time": "2024-10-20T03:36:08.713Z"
   },
   {
    "duration": 50,
    "start_time": "2024-10-20T03:36:10.715Z"
   },
   {
    "duration": 48,
    "start_time": "2024-10-20T03:36:12.693Z"
   },
   {
    "duration": 51,
    "start_time": "2024-10-20T03:36:14.781Z"
   },
   {
    "duration": 48,
    "start_time": "2024-10-20T03:36:16.657Z"
   },
   {
    "duration": 51,
    "start_time": "2024-10-20T03:36:18.517Z"
   },
   {
    "duration": 3182,
    "start_time": "2024-10-20T03:36:20.660Z"
   },
   {
    "duration": 51,
    "start_time": "2024-10-20T03:36:25.629Z"
   },
   {
    "duration": 49,
    "start_time": "2024-10-20T03:36:28.595Z"
   },
   {
    "duration": 50,
    "start_time": "2024-10-20T03:36:30.780Z"
   },
   {
    "duration": 81,
    "start_time": "2024-10-20T03:36:32.907Z"
   },
   {
    "duration": 1785,
    "start_time": "2024-10-20T03:37:26.073Z"
   },
   {
    "duration": 53,
    "start_time": "2024-10-20T03:37:30.381Z"
   },
   {
    "duration": 52,
    "start_time": "2024-10-20T03:37:33.911Z"
   },
   {
    "duration": 5586,
    "start_time": "2024-10-20T07:52:01.203Z"
   },
   {
    "duration": 57,
    "start_time": "2024-10-20T07:52:06.791Z"
   },
   {
    "duration": 86,
    "start_time": "2024-10-20T07:52:06.849Z"
   },
   {
    "duration": 10,
    "start_time": "2024-10-20T07:52:06.938Z"
   },
   {
    "duration": 92,
    "start_time": "2024-10-20T07:52:06.950Z"
   },
   {
    "duration": 10,
    "start_time": "2024-10-20T07:52:07.043Z"
   },
   {
    "duration": 9,
    "start_time": "2024-10-20T07:52:07.055Z"
   },
   {
    "duration": 10,
    "start_time": "2024-10-20T07:52:07.065Z"
   },
   {
    "duration": 9,
    "start_time": "2024-10-20T07:52:07.076Z"
   },
   {
    "duration": 11,
    "start_time": "2024-10-20T07:52:07.087Z"
   },
   {
    "duration": 9,
    "start_time": "2024-10-20T07:52:07.099Z"
   },
   {
    "duration": 9,
    "start_time": "2024-10-20T07:52:07.109Z"
   },
   {
    "duration": 55,
    "start_time": "2024-10-20T07:52:07.119Z"
   },
   {
    "duration": 10,
    "start_time": "2024-10-20T07:52:07.176Z"
   },
   {
    "duration": 31,
    "start_time": "2024-10-20T07:52:07.188Z"
   },
   {
    "duration": 12,
    "start_time": "2024-10-20T07:52:07.221Z"
   }
  ],
  "kernelspec": {
   "display_name": "Python 3 (ipykernel)",
   "language": "python",
   "name": "python3"
  },
  "language_info": {
   "codemirror_mode": {
    "name": "ipython",
    "version": 3
   },
   "file_extension": ".py",
   "mimetype": "text/x-python",
   "name": "python",
   "nbconvert_exporter": "python",
   "pygments_lexer": "ipython3",
   "version": "3.9.5"
  },
  "toc": {
   "base_numbering": 1,
   "nav_menu": {},
   "number_sections": true,
   "sideBar": true,
   "skip_h1_title": true,
   "title_cell": "Table of Contents",
   "title_sidebar": "Contents",
   "toc_cell": false,
   "toc_position": {},
   "toc_section_display": true,
   "toc_window_display": false
  }
 },
 "nbformat": 4,
 "nbformat_minor": 2
}
