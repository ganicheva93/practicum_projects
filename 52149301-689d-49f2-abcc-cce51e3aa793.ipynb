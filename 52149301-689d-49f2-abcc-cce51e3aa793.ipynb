{
 "cells": [
  {
   "cell_type": "markdown",
   "id": "dbbb1120",
   "metadata": {},
   "source": [
    "<div style=\"border:solid lightblue 3px; background:#f7faf8; padding: 20px\">\n",
    "<b>Евгения, привет!</b>\n",
    "\n",
    "Меня зовут Владимир Бердников, и я буду проверять твой проект. Предлагаю общаться на «ты», но если это не совсем удобно для тебя — дай знать, и мы перейдем на \"вы\". Моя цель не указать на совершённые тобой ошибки, а поделиться своим опытом и помочь улучшить навыки. \n",
    "    \n",
    "Пожалуйста, не перемещай, не удаляй и не правь мои комментарии. Всё это поможет выполнить повторную проверку твоего проекта оперативнее.\n",
    "\n",
    "При проверке работы я буду отмечать комментарии цветом и примечанием. В конце заголовка комментария указан номер итерации проверки.\n",
    "\n",
    "<div class=\"alert alert-block alert-danger\" style=\"border-radius: 15px; box-shadow: 4px 4px 4px; border: 1px solid \">\n",
    "<h2> Комментарий ревьюера v_1: <a class=\"tocSkip\"></h2>\n",
    "    \n",
    "❌ Комментарии такого цвета нужно исправить, иначе проект не будет принят. \n",
    "</div>\n",
    "\n",
    "<div class=\"alert alert-warning\" style=\"border-radius: 15px; box-shadow: 4px 4px 4px; border: 1px solid \">\n",
    "<h2> Комментарий ревьюера v_1: <a class=\"tocSkip\"> </h2>\n",
    "    \n",
    "⚠️ Такой комментарий является рекомендацией или советом. Mожешь учесть их при выполнении задания.\n",
    "</div>\n",
    "\n",
    "<div class=\"alert alert-success\" style=\"border-radius: 15px; box-shadow: 4px 4px 4px; border: 1px solid \">\n",
    "<h2> Комментарий ревьюера v_1: <a class=\"tocSkip\"> </h2>\n",
    "    \n",
    "✅ Так выделены все остальные комментарии, включая позитивные моменты, пояснения и рассуждения.\n",
    "</div>  \n",
    "    \n",
    "Давай работать над проектом в диалоге: если ты что-то меняешь в проекте — пиши об этом в комментариях, например, с помощью такого кода в markdown ячейке:"
   ]
  },
  {
   "cell_type": "markdown",
   "id": "b4fd9beb",
   "metadata": {},
   "source": [
    "<div class=\"alert alert-info\"  style=\"border-radius: 15px; box-shadow: 4px 4px 4px; border: 1px solid \">\n",
    "    \n",
    "<h2>Комментарий студента v_1: <a class=\"tocSkip\"> </h2>\n",
    "\n",
    "Ок.   "
   ]
  },
  {
   "cell_type": "markdown",
   "id": "cbe5b3fa",
   "metadata": {},
   "source": []
  },
  {
   "cell_type": "markdown",
   "id": "a6929a38",
   "metadata": {},
   "source": [
    "<div class=\"alert alert-block alert-danger\" style=\"border-radius: 15px; box-shadow: 4px 4px 4px; border: 1px solid \">\n",
    "<h2> Комментарий ревьюера v_1: <a class=\"tocSkip\"></h2>\n",
    "    \n",
    "❌ Необходимо добавить вступление (этот пункт есть в блоке курса: Полезные инструкции для учёбы - Оформление проекта - Рекомендации по выполнению проектов):\n",
    "    \t\n",
    "* заголовок \n",
    "* краткое описание проекта (желательно своими словами, не копируя из имеющегося описания)\n",
    "* цель проекта\n",
    "* описание данных (на усмотрение, данные можно описать в самой работе)\n",
    "* план работы.\n",
    "\n",
    "Со вступлением получатель отчета сможет получить общее представление о том, что будет в проекте"
   ]
  },
  {
   "cell_type": "markdown",
   "id": "995bb7da",
   "metadata": {},
   "source": [
    "<div class=\"alert alert-info\"  style=\"border-radius: 15px; box-shadow: 4px 4px 4px; border: 1px solid \">\n",
    "    \n",
    "<h2>Комментарий студента v_1: <a class=\"tocSkip\"> </h2>\n",
    "\n",
    "Добавила этот блок.   "
   ]
  },
  {
   "cell_type": "markdown",
   "id": "6252be5c",
   "metadata": {},
   "source": [
    "<div class=\"alert alert-success\" style=\"border-radius: 15px; box-shadow: 4px 4px 4px; border: 1px solid \">\n",
    "<h2> Комментарий ревьюера v_2: <a class=\"tocSkip\"> </h2>\n",
    "    \n",
    "✅ Хорошо"
   ]
  },
  {
   "cell_type": "markdown",
   "id": "212b316f",
   "metadata": {},
   "source": [
    "# Исследование поездок пользователей сервиса аренды самокатов GoFast с подпиской и без нее."
   ]
  },
  {
   "cell_type": "markdown",
   "id": "92766f02",
   "metadata": {},
   "source": [
    "Дано: \n",
    "1) выгрузка данных о поездках пользователей сервиса аренды самокатов GoFast из нескольких городов.\n",
    "2) у пользователей есть 2 действующих тарифа на выбор:\n",
    "\n",
    "- **без подписки**:\n",
    "- абонентская плата отсутствует;\n",
    "- стоимость одной минуты поездки — 8 рублей;\n",
    "- стоимость старта (начала поездки) — 50 рублей;\n",
    "\n",
    "\n",
    "- **с подпиской Ultra**:\n",
    "- абонентская плата — 199 рублей в месяц;\n",
    "- стоимость одной минуты поездки — 6 рублей;\n",
    "- стоимость старта — бесплатно.\n",
    "\n",
    "**Цель: на основе данных о поездках пользователей сервиса аренды самокатов нужно проверить несколько гипотез, которые могут привести к росту бизнеса.**\n",
    "\n",
    "**Описание данных**\n",
    "\n",
    "В основных данных есть информация о пользователях, их поездках и подписках.\n",
    "\n",
    "1. **Пользователи** — *users_go.csv*\n",
    "- user_id\tуникальный идентификатор пользователя;\n",
    "- name\tимя пользователя;\n",
    "- age\tвозраст;\n",
    "- city\tгород;\n",
    "- subscription_type\tтип подписки (free, ultra).\n",
    "\n",
    "2. **Поездки** — *rides_go.csv*\n",
    "- user_id\tуникальный идентификатор пользователя;\n",
    "- distance\tрасстояние, которое пользователь проехал в текущей сессии (в метрах);\n",
    "- duration\tпродолжительность сессии (в минутах) — время с того момента, как пользователь нажал кнопку «Начать поездку» до момента, как он нажал кнопку «Завершить поездку»;\n",
    "- date\tдата совершения поездки.\n",
    "\n",
    "3. **Подписки** — *subscriptions_go.csv*\n",
    "- subscription_type\tтип подписки;\n",
    "- minute_price\tстоимость одной минуты поездки по данной подписке;\n",
    "- start_ride_price\tстоимость начала поездки;\n",
    "- subscription_fee\tстоимость ежемесячного платежа.\n",
    "\n",
    "**План работы:**\n",
    "\n",
    "Шаг 1. Загрузка данных\n",
    "\n",
    "Шаг 2. Предобработка данных\n",
    "\n",
    "Шаг 3. Исследовательский анализ данных\n",
    "\n",
    "Шаг 4. Объединение данных\n",
    "\n",
    "Шаг 5. Подсчёт выручки\n",
    "\n",
    "Шаг 6. Проверка гипотез\n",
    "\n",
    "Шаг 7. Распределения"
   ]
  },
  {
   "cell_type": "code",
   "execution_count": 1,
   "id": "72576667",
   "metadata": {},
   "outputs": [],
   "source": [
    "import pandas as pd\n",
    "import matplotlib.pyplot as plt\n",
    "import numpy as np\n",
    "from scipy import stats as st\n",
    "from math import factorial\n",
    "from math import sqrt"
   ]
  },
  {
   "cell_type": "markdown",
   "id": "c42cbe00",
   "metadata": {},
   "source": [
    "#### Шаг 1. Загрузка данных"
   ]
  },
  {
   "cell_type": "code",
   "execution_count": 2,
   "id": "eff9f206",
   "metadata": {},
   "outputs": [],
   "source": [
    "users = pd.read_csv('/datasets/users_go.csv')\n",
    "rides = pd.read_csv('/datasets/rides_go.csv')\n",
    "subscriptions = pd.read_csv('/datasets/subscriptions_go.csv')"
   ]
  },
  {
   "cell_type": "code",
   "execution_count": 3,
   "id": "37d24c0c",
   "metadata": {},
   "outputs": [
    {
     "data": {
      "text/html": [
       "<div>\n",
       "<style scoped>\n",
       "    .dataframe tbody tr th:only-of-type {\n",
       "        vertical-align: middle;\n",
       "    }\n",
       "\n",
       "    .dataframe tbody tr th {\n",
       "        vertical-align: top;\n",
       "    }\n",
       "\n",
       "    .dataframe thead th {\n",
       "        text-align: right;\n",
       "    }\n",
       "</style>\n",
       "<table border=\"1\" class=\"dataframe\">\n",
       "  <thead>\n",
       "    <tr style=\"text-align: right;\">\n",
       "      <th></th>\n",
       "      <th>user_id</th>\n",
       "      <th>name</th>\n",
       "      <th>age</th>\n",
       "      <th>city</th>\n",
       "      <th>subscription_type</th>\n",
       "    </tr>\n",
       "  </thead>\n",
       "  <tbody>\n",
       "    <tr>\n",
       "      <th>0</th>\n",
       "      <td>1</td>\n",
       "      <td>Кира</td>\n",
       "      <td>22</td>\n",
       "      <td>Тюмень</td>\n",
       "      <td>ultra</td>\n",
       "    </tr>\n",
       "    <tr>\n",
       "      <th>1</th>\n",
       "      <td>2</td>\n",
       "      <td>Станислав</td>\n",
       "      <td>31</td>\n",
       "      <td>Омск</td>\n",
       "      <td>ultra</td>\n",
       "    </tr>\n",
       "    <tr>\n",
       "      <th>2</th>\n",
       "      <td>3</td>\n",
       "      <td>Алексей</td>\n",
       "      <td>20</td>\n",
       "      <td>Москва</td>\n",
       "      <td>ultra</td>\n",
       "    </tr>\n",
       "    <tr>\n",
       "      <th>3</th>\n",
       "      <td>4</td>\n",
       "      <td>Константин</td>\n",
       "      <td>26</td>\n",
       "      <td>Ростов-на-Дону</td>\n",
       "      <td>ultra</td>\n",
       "    </tr>\n",
       "    <tr>\n",
       "      <th>4</th>\n",
       "      <td>5</td>\n",
       "      <td>Адель</td>\n",
       "      <td>28</td>\n",
       "      <td>Омск</td>\n",
       "      <td>ultra</td>\n",
       "    </tr>\n",
       "    <tr>\n",
       "      <th>5</th>\n",
       "      <td>6</td>\n",
       "      <td>Регина</td>\n",
       "      <td>25</td>\n",
       "      <td>Краснодар</td>\n",
       "      <td>ultra</td>\n",
       "    </tr>\n",
       "    <tr>\n",
       "      <th>6</th>\n",
       "      <td>7</td>\n",
       "      <td>Игорь</td>\n",
       "      <td>23</td>\n",
       "      <td>Омск</td>\n",
       "      <td>ultra</td>\n",
       "    </tr>\n",
       "    <tr>\n",
       "      <th>7</th>\n",
       "      <td>8</td>\n",
       "      <td>Юрий</td>\n",
       "      <td>23</td>\n",
       "      <td>Краснодар</td>\n",
       "      <td>ultra</td>\n",
       "    </tr>\n",
       "    <tr>\n",
       "      <th>8</th>\n",
       "      <td>9</td>\n",
       "      <td>Ян</td>\n",
       "      <td>21</td>\n",
       "      <td>Пятигорск</td>\n",
       "      <td>ultra</td>\n",
       "    </tr>\n",
       "    <tr>\n",
       "      <th>9</th>\n",
       "      <td>10</td>\n",
       "      <td>Валерий</td>\n",
       "      <td>18</td>\n",
       "      <td>Екатеринбург</td>\n",
       "      <td>ultra</td>\n",
       "    </tr>\n",
       "  </tbody>\n",
       "</table>\n",
       "</div>"
      ],
      "text/plain": [
       "   user_id        name  age            city subscription_type\n",
       "0        1        Кира   22          Тюмень             ultra\n",
       "1        2   Станислав   31            Омск             ultra\n",
       "2        3     Алексей   20          Москва             ultra\n",
       "3        4  Константин   26  Ростов-на-Дону             ultra\n",
       "4        5       Адель   28            Омск             ultra\n",
       "5        6      Регина   25       Краснодар             ultra\n",
       "6        7       Игорь   23            Омск             ultra\n",
       "7        8        Юрий   23       Краснодар             ultra\n",
       "8        9          Ян   21       Пятигорск             ultra\n",
       "9       10     Валерий   18    Екатеринбург             ultra"
      ]
     },
     "execution_count": 3,
     "metadata": {},
     "output_type": "execute_result"
    }
   ],
   "source": [
    "users.head(10)"
   ]
  },
  {
   "cell_type": "code",
   "execution_count": 4,
   "id": "8f9dbf70",
   "metadata": {},
   "outputs": [
    {
     "name": "stdout",
     "output_type": "stream",
     "text": [
      "<class 'pandas.core.frame.DataFrame'>\n",
      "RangeIndex: 1565 entries, 0 to 1564\n",
      "Data columns (total 5 columns):\n",
      " #   Column             Non-Null Count  Dtype \n",
      "---  ------             --------------  ----- \n",
      " 0   user_id            1565 non-null   int64 \n",
      " 1   name               1565 non-null   object\n",
      " 2   age                1565 non-null   int64 \n",
      " 3   city               1565 non-null   object\n",
      " 4   subscription_type  1565 non-null   object\n",
      "dtypes: int64(2), object(3)\n",
      "memory usage: 61.3+ KB\n"
     ]
    }
   ],
   "source": [
    "users.info()"
   ]
  },
  {
   "cell_type": "code",
   "execution_count": 5,
   "id": "e5b042ae",
   "metadata": {},
   "outputs": [
    {
     "data": {
      "text/html": [
       "<div>\n",
       "<style scoped>\n",
       "    .dataframe tbody tr th:only-of-type {\n",
       "        vertical-align: middle;\n",
       "    }\n",
       "\n",
       "    .dataframe tbody tr th {\n",
       "        vertical-align: top;\n",
       "    }\n",
       "\n",
       "    .dataframe thead th {\n",
       "        text-align: right;\n",
       "    }\n",
       "</style>\n",
       "<table border=\"1\" class=\"dataframe\">\n",
       "  <thead>\n",
       "    <tr style=\"text-align: right;\">\n",
       "      <th></th>\n",
       "      <th>user_id</th>\n",
       "      <th>distance</th>\n",
       "      <th>duration</th>\n",
       "      <th>date</th>\n",
       "    </tr>\n",
       "  </thead>\n",
       "  <tbody>\n",
       "    <tr>\n",
       "      <th>0</th>\n",
       "      <td>1</td>\n",
       "      <td>4409.919140</td>\n",
       "      <td>25.599769</td>\n",
       "      <td>2021-01-01</td>\n",
       "    </tr>\n",
       "    <tr>\n",
       "      <th>1</th>\n",
       "      <td>1</td>\n",
       "      <td>2617.592153</td>\n",
       "      <td>15.816871</td>\n",
       "      <td>2021-01-18</td>\n",
       "    </tr>\n",
       "    <tr>\n",
       "      <th>2</th>\n",
       "      <td>1</td>\n",
       "      <td>754.159807</td>\n",
       "      <td>6.232113</td>\n",
       "      <td>2021-04-20</td>\n",
       "    </tr>\n",
       "    <tr>\n",
       "      <th>3</th>\n",
       "      <td>1</td>\n",
       "      <td>2694.783254</td>\n",
       "      <td>18.511000</td>\n",
       "      <td>2021-08-11</td>\n",
       "    </tr>\n",
       "    <tr>\n",
       "      <th>4</th>\n",
       "      <td>1</td>\n",
       "      <td>4028.687306</td>\n",
       "      <td>26.265803</td>\n",
       "      <td>2021-08-28</td>\n",
       "    </tr>\n",
       "    <tr>\n",
       "      <th>5</th>\n",
       "      <td>1</td>\n",
       "      <td>2770.890808</td>\n",
       "      <td>16.650138</td>\n",
       "      <td>2021-10-09</td>\n",
       "    </tr>\n",
       "    <tr>\n",
       "      <th>6</th>\n",
       "      <td>1</td>\n",
       "      <td>3039.020292</td>\n",
       "      <td>14.927879</td>\n",
       "      <td>2021-10-19</td>\n",
       "    </tr>\n",
       "    <tr>\n",
       "      <th>7</th>\n",
       "      <td>1</td>\n",
       "      <td>2842.118050</td>\n",
       "      <td>23.117468</td>\n",
       "      <td>2021-11-06</td>\n",
       "    </tr>\n",
       "    <tr>\n",
       "      <th>8</th>\n",
       "      <td>1</td>\n",
       "      <td>3412.690668</td>\n",
       "      <td>15.238072</td>\n",
       "      <td>2021-11-14</td>\n",
       "    </tr>\n",
       "    <tr>\n",
       "      <th>9</th>\n",
       "      <td>1</td>\n",
       "      <td>748.690645</td>\n",
       "      <td>15.041884</td>\n",
       "      <td>2021-11-22</td>\n",
       "    </tr>\n",
       "  </tbody>\n",
       "</table>\n",
       "</div>"
      ],
      "text/plain": [
       "   user_id     distance   duration        date\n",
       "0        1  4409.919140  25.599769  2021-01-01\n",
       "1        1  2617.592153  15.816871  2021-01-18\n",
       "2        1   754.159807   6.232113  2021-04-20\n",
       "3        1  2694.783254  18.511000  2021-08-11\n",
       "4        1  4028.687306  26.265803  2021-08-28\n",
       "5        1  2770.890808  16.650138  2021-10-09\n",
       "6        1  3039.020292  14.927879  2021-10-19\n",
       "7        1  2842.118050  23.117468  2021-11-06\n",
       "8        1  3412.690668  15.238072  2021-11-14\n",
       "9        1   748.690645  15.041884  2021-11-22"
      ]
     },
     "execution_count": 5,
     "metadata": {},
     "output_type": "execute_result"
    }
   ],
   "source": [
    "rides.head(10)"
   ]
  },
  {
   "cell_type": "code",
   "execution_count": 6,
   "id": "759dd201",
   "metadata": {},
   "outputs": [
    {
     "name": "stdout",
     "output_type": "stream",
     "text": [
      "<class 'pandas.core.frame.DataFrame'>\n",
      "RangeIndex: 18068 entries, 0 to 18067\n",
      "Data columns (total 4 columns):\n",
      " #   Column    Non-Null Count  Dtype  \n",
      "---  ------    --------------  -----  \n",
      " 0   user_id   18068 non-null  int64  \n",
      " 1   distance  18068 non-null  float64\n",
      " 2   duration  18068 non-null  float64\n",
      " 3   date      18068 non-null  object \n",
      "dtypes: float64(2), int64(1), object(1)\n",
      "memory usage: 564.8+ KB\n"
     ]
    }
   ],
   "source": [
    "rides.info()"
   ]
  },
  {
   "cell_type": "code",
   "execution_count": 7,
   "id": "890b20fe",
   "metadata": {},
   "outputs": [
    {
     "data": {
      "text/html": [
       "<div>\n",
       "<style scoped>\n",
       "    .dataframe tbody tr th:only-of-type {\n",
       "        vertical-align: middle;\n",
       "    }\n",
       "\n",
       "    .dataframe tbody tr th {\n",
       "        vertical-align: top;\n",
       "    }\n",
       "\n",
       "    .dataframe thead th {\n",
       "        text-align: right;\n",
       "    }\n",
       "</style>\n",
       "<table border=\"1\" class=\"dataframe\">\n",
       "  <thead>\n",
       "    <tr style=\"text-align: right;\">\n",
       "      <th></th>\n",
       "      <th>subscription_type</th>\n",
       "      <th>minute_price</th>\n",
       "      <th>start_ride_price</th>\n",
       "      <th>subscription_fee</th>\n",
       "    </tr>\n",
       "  </thead>\n",
       "  <tbody>\n",
       "    <tr>\n",
       "      <th>0</th>\n",
       "      <td>free</td>\n",
       "      <td>8</td>\n",
       "      <td>50</td>\n",
       "      <td>0</td>\n",
       "    </tr>\n",
       "    <tr>\n",
       "      <th>1</th>\n",
       "      <td>ultra</td>\n",
       "      <td>6</td>\n",
       "      <td>0</td>\n",
       "      <td>199</td>\n",
       "    </tr>\n",
       "  </tbody>\n",
       "</table>\n",
       "</div>"
      ],
      "text/plain": [
       "  subscription_type  minute_price  start_ride_price  subscription_fee\n",
       "0              free             8                50                 0\n",
       "1             ultra             6                 0               199"
      ]
     },
     "execution_count": 7,
     "metadata": {},
     "output_type": "execute_result"
    }
   ],
   "source": [
    "subscriptions"
   ]
  },
  {
   "cell_type": "code",
   "execution_count": 8,
   "id": "90e17399",
   "metadata": {},
   "outputs": [
    {
     "name": "stdout",
     "output_type": "stream",
     "text": [
      "<class 'pandas.core.frame.DataFrame'>\n",
      "RangeIndex: 2 entries, 0 to 1\n",
      "Data columns (total 4 columns):\n",
      " #   Column             Non-Null Count  Dtype \n",
      "---  ------             --------------  ----- \n",
      " 0   subscription_type  2 non-null      object\n",
      " 1   minute_price       2 non-null      int64 \n",
      " 2   start_ride_price   2 non-null      int64 \n",
      " 3   subscription_fee   2 non-null      int64 \n",
      "dtypes: int64(3), object(1)\n",
      "memory usage: 192.0+ bytes\n"
     ]
    }
   ],
   "source": [
    "subscriptions.info()"
   ]
  },
  {
   "cell_type": "markdown",
   "id": "3e805d9c",
   "metadata": {},
   "source": [
    "На первый взгляд с данными все в порядке пропусков нет.\n",
    "\n",
    "В данных по поездкам нужно будет поменять тип данных в столбце date с object на datetime для дальнейшего анализа.\n",
    "\n",
    "Также все 3 таблицы нужно будет объединить в 1 базу данных."
   ]
  },
  {
   "cell_type": "markdown",
   "id": "e95ebca7",
   "metadata": {},
   "source": [
    "#### Шаг 2. Предобработка данных"
   ]
  },
  {
   "cell_type": "code",
   "execution_count": 9,
   "id": "fe17daeb",
   "metadata": {},
   "outputs": [
    {
     "name": "stdout",
     "output_type": "stream",
     "text": [
      "<class 'pandas.core.frame.DataFrame'>\n",
      "RangeIndex: 18068 entries, 0 to 18067\n",
      "Data columns (total 4 columns):\n",
      " #   Column    Non-Null Count  Dtype         \n",
      "---  ------    --------------  -----         \n",
      " 0   user_id   18068 non-null  int64         \n",
      " 1   distance  18068 non-null  float64       \n",
      " 2   duration  18068 non-null  float64       \n",
      " 3   date      18068 non-null  datetime64[ns]\n",
      "dtypes: datetime64[ns](1), float64(2), int64(1)\n",
      "memory usage: 564.8 KB\n"
     ]
    }
   ],
   "source": [
    "rides['date'] = pd.to_datetime(rides['date'], format='%Y-%m-%d')\n",
    "rides.info()"
   ]
  },
  {
   "cell_type": "code",
   "execution_count": 10,
   "id": "af6d202c",
   "metadata": {
    "scrolled": true
   },
   "outputs": [
    {
     "data": {
      "text/html": [
       "<div>\n",
       "<style scoped>\n",
       "    .dataframe tbody tr th:only-of-type {\n",
       "        vertical-align: middle;\n",
       "    }\n",
       "\n",
       "    .dataframe tbody tr th {\n",
       "        vertical-align: top;\n",
       "    }\n",
       "\n",
       "    .dataframe thead th {\n",
       "        text-align: right;\n",
       "    }\n",
       "</style>\n",
       "<table border=\"1\" class=\"dataframe\">\n",
       "  <thead>\n",
       "    <tr style=\"text-align: right;\">\n",
       "      <th></th>\n",
       "      <th>user_id</th>\n",
       "      <th>distance</th>\n",
       "      <th>duration</th>\n",
       "      <th>date</th>\n",
       "      <th>month</th>\n",
       "    </tr>\n",
       "  </thead>\n",
       "  <tbody>\n",
       "    <tr>\n",
       "      <th>0</th>\n",
       "      <td>1</td>\n",
       "      <td>4409.919140</td>\n",
       "      <td>25.599769</td>\n",
       "      <td>2021-01-01</td>\n",
       "      <td>1</td>\n",
       "    </tr>\n",
       "    <tr>\n",
       "      <th>1</th>\n",
       "      <td>1</td>\n",
       "      <td>2617.592153</td>\n",
       "      <td>15.816871</td>\n",
       "      <td>2021-01-18</td>\n",
       "      <td>1</td>\n",
       "    </tr>\n",
       "    <tr>\n",
       "      <th>2</th>\n",
       "      <td>1</td>\n",
       "      <td>754.159807</td>\n",
       "      <td>6.232113</td>\n",
       "      <td>2021-04-20</td>\n",
       "      <td>4</td>\n",
       "    </tr>\n",
       "    <tr>\n",
       "      <th>3</th>\n",
       "      <td>1</td>\n",
       "      <td>2694.783254</td>\n",
       "      <td>18.511000</td>\n",
       "      <td>2021-08-11</td>\n",
       "      <td>8</td>\n",
       "    </tr>\n",
       "    <tr>\n",
       "      <th>4</th>\n",
       "      <td>1</td>\n",
       "      <td>4028.687306</td>\n",
       "      <td>26.265803</td>\n",
       "      <td>2021-08-28</td>\n",
       "      <td>8</td>\n",
       "    </tr>\n",
       "    <tr>\n",
       "      <th>5</th>\n",
       "      <td>1</td>\n",
       "      <td>2770.890808</td>\n",
       "      <td>16.650138</td>\n",
       "      <td>2021-10-09</td>\n",
       "      <td>10</td>\n",
       "    </tr>\n",
       "    <tr>\n",
       "      <th>6</th>\n",
       "      <td>1</td>\n",
       "      <td>3039.020292</td>\n",
       "      <td>14.927879</td>\n",
       "      <td>2021-10-19</td>\n",
       "      <td>10</td>\n",
       "    </tr>\n",
       "    <tr>\n",
       "      <th>7</th>\n",
       "      <td>1</td>\n",
       "      <td>2842.118050</td>\n",
       "      <td>23.117468</td>\n",
       "      <td>2021-11-06</td>\n",
       "      <td>11</td>\n",
       "    </tr>\n",
       "    <tr>\n",
       "      <th>8</th>\n",
       "      <td>1</td>\n",
       "      <td>3412.690668</td>\n",
       "      <td>15.238072</td>\n",
       "      <td>2021-11-14</td>\n",
       "      <td>11</td>\n",
       "    </tr>\n",
       "    <tr>\n",
       "      <th>9</th>\n",
       "      <td>1</td>\n",
       "      <td>748.690645</td>\n",
       "      <td>15.041884</td>\n",
       "      <td>2021-11-22</td>\n",
       "      <td>11</td>\n",
       "    </tr>\n",
       "  </tbody>\n",
       "</table>\n",
       "</div>"
      ],
      "text/plain": [
       "   user_id     distance   duration       date  month\n",
       "0        1  4409.919140  25.599769 2021-01-01      1\n",
       "1        1  2617.592153  15.816871 2021-01-18      1\n",
       "2        1   754.159807   6.232113 2021-04-20      4\n",
       "3        1  2694.783254  18.511000 2021-08-11      8\n",
       "4        1  4028.687306  26.265803 2021-08-28      8\n",
       "5        1  2770.890808  16.650138 2021-10-09     10\n",
       "6        1  3039.020292  14.927879 2021-10-19     10\n",
       "7        1  2842.118050  23.117468 2021-11-06     11\n",
       "8        1  3412.690668  15.238072 2021-11-14     11\n",
       "9        1   748.690645  15.041884 2021-11-22     11"
      ]
     },
     "execution_count": 10,
     "metadata": {},
     "output_type": "execute_result"
    }
   ],
   "source": [
    "rides['month'] = rides['date'].dt.month\n",
    "rides.head(10)"
   ]
  },
  {
   "cell_type": "code",
   "execution_count": 11,
   "id": "40cdbdf5",
   "metadata": {},
   "outputs": [
    {
     "name": "stderr",
     "output_type": "stream",
     "text": [
      "/tmp/ipykernel_362/177143966.py:1: FutureWarning: Treating datetime data as categorical rather than numeric in `.describe` is deprecated and will be removed in a future version of pandas. Specify `datetime_is_numeric=True` to silence this warning and adopt the future behavior now.\n",
      "  rides['date'].describe()\n"
     ]
    },
    {
     "data": {
      "text/plain": [
       "count                   18068\n",
       "unique                    364\n",
       "top       2021-12-22 00:00:00\n",
       "freq                       72\n",
       "first     2021-01-01 00:00:00\n",
       "last      2021-12-30 00:00:00\n",
       "Name: date, dtype: object"
      ]
     },
     "execution_count": 11,
     "metadata": {},
     "output_type": "execute_result"
    }
   ],
   "source": [
    "rides['date'].describe()"
   ]
  },
  {
   "cell_type": "markdown",
   "id": "d0f9e48a",
   "metadata": {},
   "source": [
    "<div class=\"alert alert-warning\" style=\"border-radius: 15px; box-shadow: 4px 4px 4px; border: 1px solid \">\n",
    "<h2> Комментарий ревьюера v_1: <a class=\"tocSkip\"> </h2>\n",
    "    \n",
    "⚠️ Желательно еще проверить, за какой период имеются данные. Создается столбец с номерами месяцев, если здесь несколько лет, следует это учитывать."
   ]
  },
  {
   "cell_type": "markdown",
   "id": "b6a2112f",
   "metadata": {},
   "source": [
    "<div class=\"alert alert-info\"  style=\"border-radius: 15px; box-shadow: 4px 4px 4px; border: 1px solid \">\n",
    "    \n",
    "<h2>Комментарий студента v_1: <a class=\"tocSkip\"> </h2>\n",
    "\n",
    "Данные за 1 год - 2021.   "
   ]
  },
  {
   "cell_type": "code",
   "execution_count": 12,
   "id": "39ebb5a6",
   "metadata": {},
   "outputs": [
    {
     "data": {
      "text/plain": [
       "31"
      ]
     },
     "execution_count": 12,
     "metadata": {},
     "output_type": "execute_result"
    }
   ],
   "source": [
    "users.duplicated().sum()"
   ]
  },
  {
   "cell_type": "code",
   "execution_count": 13,
   "id": "b81ce1c2",
   "metadata": {},
   "outputs": [
    {
     "data": {
      "text/html": [
       "<div>\n",
       "<style scoped>\n",
       "    .dataframe tbody tr th:only-of-type {\n",
       "        vertical-align: middle;\n",
       "    }\n",
       "\n",
       "    .dataframe tbody tr th {\n",
       "        vertical-align: top;\n",
       "    }\n",
       "\n",
       "    .dataframe thead th {\n",
       "        text-align: right;\n",
       "    }\n",
       "</style>\n",
       "<table border=\"1\" class=\"dataframe\">\n",
       "  <thead>\n",
       "    <tr style=\"text-align: right;\">\n",
       "      <th></th>\n",
       "      <th>user_id</th>\n",
       "      <th>name</th>\n",
       "      <th>age</th>\n",
       "      <th>city</th>\n",
       "      <th>subscription_type</th>\n",
       "    </tr>\n",
       "  </thead>\n",
       "  <tbody>\n",
       "    <tr>\n",
       "      <th>1534</th>\n",
       "      <td>293</td>\n",
       "      <td>Агата</td>\n",
       "      <td>26</td>\n",
       "      <td>Краснодар</td>\n",
       "      <td>ultra</td>\n",
       "    </tr>\n",
       "    <tr>\n",
       "      <th>1535</th>\n",
       "      <td>16</td>\n",
       "      <td>Амалия</td>\n",
       "      <td>27</td>\n",
       "      <td>Краснодар</td>\n",
       "      <td>ultra</td>\n",
       "    </tr>\n",
       "    <tr>\n",
       "      <th>1536</th>\n",
       "      <td>909</td>\n",
       "      <td>Константин</td>\n",
       "      <td>20</td>\n",
       "      <td>Екатеринбург</td>\n",
       "      <td>free</td>\n",
       "    </tr>\n",
       "    <tr>\n",
       "      <th>1537</th>\n",
       "      <td>403</td>\n",
       "      <td>Полина</td>\n",
       "      <td>19</td>\n",
       "      <td>Сочи</td>\n",
       "      <td>ultra</td>\n",
       "    </tr>\n",
       "    <tr>\n",
       "      <th>1538</th>\n",
       "      <td>908</td>\n",
       "      <td>Рустам</td>\n",
       "      <td>30</td>\n",
       "      <td>Тюмень</td>\n",
       "      <td>free</td>\n",
       "    </tr>\n",
       "    <tr>\n",
       "      <th>1539</th>\n",
       "      <td>43</td>\n",
       "      <td>Стефания</td>\n",
       "      <td>22</td>\n",
       "      <td>Омск</td>\n",
       "      <td>ultra</td>\n",
       "    </tr>\n",
       "    <tr>\n",
       "      <th>1540</th>\n",
       "      <td>127</td>\n",
       "      <td>Павел</td>\n",
       "      <td>25</td>\n",
       "      <td>Пятигорск</td>\n",
       "      <td>ultra</td>\n",
       "    </tr>\n",
       "    <tr>\n",
       "      <th>1541</th>\n",
       "      <td>659</td>\n",
       "      <td>Злата</td>\n",
       "      <td>27</td>\n",
       "      <td>Ростов-на-Дону</td>\n",
       "      <td>ultra</td>\n",
       "    </tr>\n",
       "    <tr>\n",
       "      <th>1542</th>\n",
       "      <td>204</td>\n",
       "      <td>Руслан</td>\n",
       "      <td>30</td>\n",
       "      <td>Пятигорск</td>\n",
       "      <td>ultra</td>\n",
       "    </tr>\n",
       "    <tr>\n",
       "      <th>1543</th>\n",
       "      <td>153</td>\n",
       "      <td>Герман</td>\n",
       "      <td>23</td>\n",
       "      <td>Москва</td>\n",
       "      <td>ultra</td>\n",
       "    </tr>\n",
       "    <tr>\n",
       "      <th>1544</th>\n",
       "      <td>1245</td>\n",
       "      <td>Регина</td>\n",
       "      <td>27</td>\n",
       "      <td>Пятигорск</td>\n",
       "      <td>free</td>\n",
       "    </tr>\n",
       "    <tr>\n",
       "      <th>1545</th>\n",
       "      <td>807</td>\n",
       "      <td>Александр</td>\n",
       "      <td>28</td>\n",
       "      <td>Екатеринбург</td>\n",
       "      <td>free</td>\n",
       "    </tr>\n",
       "    <tr>\n",
       "      <th>1546</th>\n",
       "      <td>924</td>\n",
       "      <td>Мария</td>\n",
       "      <td>23</td>\n",
       "      <td>Пятигорск</td>\n",
       "      <td>free</td>\n",
       "    </tr>\n",
       "    <tr>\n",
       "      <th>1547</th>\n",
       "      <td>635</td>\n",
       "      <td>Герман</td>\n",
       "      <td>21</td>\n",
       "      <td>Москва</td>\n",
       "      <td>ultra</td>\n",
       "    </tr>\n",
       "    <tr>\n",
       "      <th>1548</th>\n",
       "      <td>136</td>\n",
       "      <td>Марсель</td>\n",
       "      <td>25</td>\n",
       "      <td>Тюмень</td>\n",
       "      <td>ultra</td>\n",
       "    </tr>\n",
       "    <tr>\n",
       "      <th>1549</th>\n",
       "      <td>108</td>\n",
       "      <td>Влада</td>\n",
       "      <td>29</td>\n",
       "      <td>Тюмень</td>\n",
       "      <td>ultra</td>\n",
       "    </tr>\n",
       "    <tr>\n",
       "      <th>1550</th>\n",
       "      <td>737</td>\n",
       "      <td>Мелания</td>\n",
       "      <td>27</td>\n",
       "      <td>Ростов-на-Дону</td>\n",
       "      <td>free</td>\n",
       "    </tr>\n",
       "    <tr>\n",
       "      <th>1551</th>\n",
       "      <td>666</td>\n",
       "      <td>Зарина</td>\n",
       "      <td>29</td>\n",
       "      <td>Москва</td>\n",
       "      <td>ultra</td>\n",
       "    </tr>\n",
       "    <tr>\n",
       "      <th>1552</th>\n",
       "      <td>297</td>\n",
       "      <td>Егор</td>\n",
       "      <td>33</td>\n",
       "      <td>Пятигорск</td>\n",
       "      <td>ultra</td>\n",
       "    </tr>\n",
       "    <tr>\n",
       "      <th>1553</th>\n",
       "      <td>121</td>\n",
       "      <td>Алина</td>\n",
       "      <td>25</td>\n",
       "      <td>Пятигорск</td>\n",
       "      <td>ultra</td>\n",
       "    </tr>\n",
       "    <tr>\n",
       "      <th>1554</th>\n",
       "      <td>1198</td>\n",
       "      <td>Демид</td>\n",
       "      <td>29</td>\n",
       "      <td>Ростов-на-Дону</td>\n",
       "      <td>free</td>\n",
       "    </tr>\n",
       "    <tr>\n",
       "      <th>1555</th>\n",
       "      <td>72</td>\n",
       "      <td>Никита</td>\n",
       "      <td>25</td>\n",
       "      <td>Москва</td>\n",
       "      <td>ultra</td>\n",
       "    </tr>\n",
       "    <tr>\n",
       "      <th>1556</th>\n",
       "      <td>422</td>\n",
       "      <td>Кирилл</td>\n",
       "      <td>27</td>\n",
       "      <td>Сочи</td>\n",
       "      <td>ultra</td>\n",
       "    </tr>\n",
       "    <tr>\n",
       "      <th>1557</th>\n",
       "      <td>611</td>\n",
       "      <td>Владимир</td>\n",
       "      <td>28</td>\n",
       "      <td>Омск</td>\n",
       "      <td>ultra</td>\n",
       "    </tr>\n",
       "    <tr>\n",
       "      <th>1558</th>\n",
       "      <td>1237</td>\n",
       "      <td>Евгения</td>\n",
       "      <td>23</td>\n",
       "      <td>Тюмень</td>\n",
       "      <td>free</td>\n",
       "    </tr>\n",
       "    <tr>\n",
       "      <th>1559</th>\n",
       "      <td>209</td>\n",
       "      <td>Андрей</td>\n",
       "      <td>23</td>\n",
       "      <td>Омск</td>\n",
       "      <td>ultra</td>\n",
       "    </tr>\n",
       "    <tr>\n",
       "      <th>1560</th>\n",
       "      <td>829</td>\n",
       "      <td>Федор</td>\n",
       "      <td>29</td>\n",
       "      <td>Пятигорск</td>\n",
       "      <td>free</td>\n",
       "    </tr>\n",
       "    <tr>\n",
       "      <th>1561</th>\n",
       "      <td>809</td>\n",
       "      <td>Юрий</td>\n",
       "      <td>26</td>\n",
       "      <td>Сочи</td>\n",
       "      <td>free</td>\n",
       "    </tr>\n",
       "    <tr>\n",
       "      <th>1562</th>\n",
       "      <td>307</td>\n",
       "      <td>Ясмина</td>\n",
       "      <td>19</td>\n",
       "      <td>Краснодар</td>\n",
       "      <td>ultra</td>\n",
       "    </tr>\n",
       "    <tr>\n",
       "      <th>1563</th>\n",
       "      <td>47</td>\n",
       "      <td>Юрий</td>\n",
       "      <td>28</td>\n",
       "      <td>Тюмень</td>\n",
       "      <td>ultra</td>\n",
       "    </tr>\n",
       "    <tr>\n",
       "      <th>1564</th>\n",
       "      <td>1045</td>\n",
       "      <td>Артемий</td>\n",
       "      <td>28</td>\n",
       "      <td>Ростов-на-Дону</td>\n",
       "      <td>free</td>\n",
       "    </tr>\n",
       "  </tbody>\n",
       "</table>\n",
       "</div>"
      ],
      "text/plain": [
       "      user_id        name  age            city subscription_type\n",
       "1534      293       Агата   26       Краснодар             ultra\n",
       "1535       16      Амалия   27       Краснодар             ultra\n",
       "1536      909  Константин   20    Екатеринбург              free\n",
       "1537      403      Полина   19            Сочи             ultra\n",
       "1538      908      Рустам   30          Тюмень              free\n",
       "1539       43    Стефания   22            Омск             ultra\n",
       "1540      127       Павел   25       Пятигорск             ultra\n",
       "1541      659       Злата   27  Ростов-на-Дону             ultra\n",
       "1542      204      Руслан   30       Пятигорск             ultra\n",
       "1543      153      Герман   23          Москва             ultra\n",
       "1544     1245      Регина   27       Пятигорск              free\n",
       "1545      807   Александр   28    Екатеринбург              free\n",
       "1546      924       Мария   23       Пятигорск              free\n",
       "1547      635      Герман   21          Москва             ultra\n",
       "1548      136     Марсель   25          Тюмень             ultra\n",
       "1549      108       Влада   29          Тюмень             ultra\n",
       "1550      737     Мелания   27  Ростов-на-Дону              free\n",
       "1551      666      Зарина   29          Москва             ultra\n",
       "1552      297        Егор   33       Пятигорск             ultra\n",
       "1553      121       Алина   25       Пятигорск             ultra\n",
       "1554     1198       Демид   29  Ростов-на-Дону              free\n",
       "1555       72      Никита   25          Москва             ultra\n",
       "1556      422      Кирилл   27            Сочи             ultra\n",
       "1557      611    Владимир   28            Омск             ultra\n",
       "1558     1237     Евгения   23          Тюмень              free\n",
       "1559      209      Андрей   23            Омск             ultra\n",
       "1560      829       Федор   29       Пятигорск              free\n",
       "1561      809        Юрий   26            Сочи              free\n",
       "1562      307      Ясмина   19       Краснодар             ultra\n",
       "1563       47        Юрий   28          Тюмень             ultra\n",
       "1564     1045     Артемий   28  Ростов-на-Дону              free"
      ]
     },
     "execution_count": 13,
     "metadata": {},
     "output_type": "execute_result"
    }
   ],
   "source": [
    "users[users.duplicated()]"
   ]
  },
  {
   "cell_type": "code",
   "execution_count": 14,
   "id": "9aa53a0e",
   "metadata": {},
   "outputs": [],
   "source": [
    "users = users.drop_duplicates().reset_index(drop=True) "
   ]
  },
  {
   "cell_type": "code",
   "execution_count": 15,
   "id": "550c1244",
   "metadata": {},
   "outputs": [
    {
     "data": {
      "text/plain": [
       "0"
      ]
     },
     "execution_count": 15,
     "metadata": {},
     "output_type": "execute_result"
    }
   ],
   "source": [
    "users.duplicated().sum()"
   ]
  },
  {
   "cell_type": "code",
   "execution_count": 16,
   "id": "97fb76f5",
   "metadata": {},
   "outputs": [
    {
     "data": {
      "text/plain": [
       "0"
      ]
     },
     "execution_count": 16,
     "metadata": {},
     "output_type": "execute_result"
    }
   ],
   "source": [
    "rides.duplicated().sum()"
   ]
  },
  {
   "cell_type": "markdown",
   "id": "e70bdfad",
   "metadata": {},
   "source": [
    "В данных по поездкам мы изменили тип данных в столбце date с object на datetime. Также мы выделили в отдельный столбец данные о месяце, в который совершалась та или иная поездка.\n",
    "\n",
    "В данных по пользователям мы обнаружили полные дубли нескольких строк и удалили их."
   ]
  },
  {
   "cell_type": "markdown",
   "id": "0fc578f8",
   "metadata": {},
   "source": [
    "<div class=\"alert alert-success\" style=\"border-radius: 15px; box-shadow: 4px 4px 4px; border: 1px solid \">\n",
    "<h2> Комментарий ревьюера v_1: <a class=\"tocSkip\"> </h2>\n",
    "    \n",
    "✅ Хорошо, проверены и удалены выявленные дубликаты."
   ]
  },
  {
   "cell_type": "markdown",
   "id": "212593c7",
   "metadata": {},
   "source": [
    "#### Шаг 3. Исследовательский анализ данных"
   ]
  },
  {
   "cell_type": "markdown",
   "id": "c8e1ba0b",
   "metadata": {},
   "source": [
    "Опишите и визуализируйте общую информацию о пользователях и поездках:\n",
    "\n",
    "##### частота встречаемости городов"
   ]
  },
  {
   "cell_type": "code",
   "execution_count": 17,
   "id": "e3a4274c",
   "metadata": {},
   "outputs": [
    {
     "data": {
      "text/plain": [
       "array(['Тюмень', 'Омск', 'Москва', 'Ростов-на-Дону', 'Краснодар',\n",
       "       'Пятигорск', 'Екатеринбург', 'Сочи'], dtype=object)"
      ]
     },
     "execution_count": 17,
     "metadata": {},
     "output_type": "execute_result"
    }
   ],
   "source": [
    "users['city'].unique()"
   ]
  },
  {
   "cell_type": "code",
   "execution_count": 18,
   "id": "8560dbce",
   "metadata": {},
   "outputs": [
    {
     "data": {
      "text/plain": [
       "Пятигорск         219\n",
       "Екатеринбург      204\n",
       "Ростов-на-Дону    198\n",
       "Краснодар         193\n",
       "Сочи              189\n",
       "Омск              183\n",
       "Тюмень            180\n",
       "Москва            168\n",
       "Name: city, dtype: int64"
      ]
     },
     "execution_count": 18,
     "metadata": {},
     "output_type": "execute_result"
    }
   ],
   "source": [
    "users['city'].value_counts()"
   ]
  },
  {
   "cell_type": "code",
   "execution_count": 19,
   "id": "deb645e3",
   "metadata": {
    "scrolled": true
   },
   "outputs": [
    {
     "data": {
      "image/png": "[encoded data removed]",
      "text/plain": [
       "<Figure size 720x360 with 1 Axes>"
      ]
     },
     "metadata": {
      "needs_background": "light"
     },
     "output_type": "display_data"
    }
   ],
   "source": [
    "(\n",
    "    users.pivot_table(index='city', values='user_id', aggfunc='count')\n",
    "    .sort_values(by='user_id', ascending=False)\n",
    "    .plot(kind='barh', grid=True, figsize=(10, 5))\n",
    ") \n",
    "\n",
    "plt.xlabel('кол-во пользователей')\n",
    "plt.ylabel('город')\n",
    "plt.title('Частота встречаемости городов', size=17)\n",
    "\n",
    "plt.show()"
   ]
  },
  {
   "cell_type": "markdown",
   "id": "61cfbd37",
   "metadata": {},
   "source": [
    "<div class=\"alert alert-warning\" style=\"border-radius: 15px; box-shadow: 4px 4px 4px; border: 1px solid \">\n",
    "<h2> Комментарий ревьюера v_1: <a class=\"tocSkip\"> </h2>\n",
    "    \n",
    "⚠️ Для большего удобства при считывании визуализации лучше использовать линейчатую диаграмму (столбчатую диаграмму с горизонтальными столбцами), т.е. повернуть ее на 90 градусов. Это позволит расположить названия городов горизонтально. \n",
    "    \n",
    "Также советую сортировать значения, так их проще анализировать.\n"
   ]
  },
  {
   "cell_type": "markdown",
   "id": "4674e810",
   "metadata": {},
   "source": [
    "<div class=\"alert alert-warning\" style=\"border-radius: 15px; box-shadow: 4px 4px 4px; border: 1px solid \">\n",
    "<h2> Комментарий ревьюера v_1: <a class=\"tocSkip\"> </h2>\n",
    "    \n",
    "⚠️ Не хватает заголовка визуализации. Замечание касается всех проектов."
   ]
  },
  {
   "cell_type": "markdown",
   "id": "25008798",
   "metadata": {},
   "source": [
    "<div class=\"alert alert-info\"  style=\"border-radius: 15px; box-shadow: 4px 4px 4px; border: 1px solid \">\n",
    "    \n",
    "<h2>Комментарий студента v_1: <a class=\"tocSkip\"> </h2>\n",
    "\n",
    "Исправлено.  "
   ]
  },
  {
   "cell_type": "markdown",
   "id": "49f7d238",
   "metadata": {},
   "source": [
    "<div class=\"alert alert-success\" style=\"border-radius: 15px; box-shadow: 4px 4px 4px; border: 1px solid \">\n",
    "<h2> Комментарий ревьюера v_2: <a class=\"tocSkip\"> </h2>\n",
    "    \n",
    "✅ 👍"
   ]
  },
  {
   "cell_type": "markdown",
   "id": "db5e07e1",
   "metadata": {},
   "source": [
    "В базе данных собраны поездки, которые совершались в 8ми городах.\n",
    "Минимальное количество поездок - 168, в Москве.\n",
    "Максимальное количество поездок - 219, в Пятигорске."
   ]
  },
  {
   "cell_type": "markdown",
   "id": "0a00a851",
   "metadata": {},
   "source": [
    "##### соотношение пользователей с подпиской и без подписки"
   ]
  },
  {
   "cell_type": "code",
   "execution_count": 20,
   "id": "b1095421",
   "metadata": {},
   "outputs": [
    {
     "data": {
      "text/plain": [
       "free     835\n",
       "ultra    699\n",
       "Name: subscription_type, dtype: int64"
      ]
     },
     "execution_count": 20,
     "metadata": {},
     "output_type": "execute_result"
    }
   ],
   "source": [
    "users['subscription_type'].value_counts()"
   ]
  },
  {
   "cell_type": "code",
   "execution_count": 21,
   "id": "e6fc22f4",
   "metadata": {
    "scrolled": true
   },
   "outputs": [
    {
     "data": {
      "image/png": "[encoded data removed]",
      "text/plain": [
       "<Figure size 720x360 with 1 Axes>"
      ]
     },
     "metadata": {
      "needs_background": "light"
     },
     "output_type": "display_data"
    }
   ],
   "source": [
    "(\n",
    "    users.pivot_table(index='subscription_type', values='user_id', aggfunc='count')\n",
    "    .sort_values(by='user_id', ascending=False)\n",
    "    .plot(kind='barh', grid=True, figsize=(10, 5))\n",
    ") \n",
    "\n",
    "plt.xlabel('тип подписки')\n",
    "plt.ylabel('кол-во пользователей')\n",
    "plt.title('Cоотношение пользователей с подпиской и без подписки', size=15)\n",
    "\n",
    "plt.show()"
   ]
  },
  {
   "cell_type": "code",
   "execution_count": 22,
   "id": "0dbd4881",
   "metadata": {},
   "outputs": [
    {
     "data": {
      "image/png": "[encoded data removed]",
      "text/plain": [
       "<Figure size 720x504 with 1 Axes>"
      ]
     },
     "metadata": {},
     "output_type": "display_data"
    }
   ],
   "source": [
    "# Creating dataset\n",
    "subscription_type = ['free', 'ultra']\n",
    " \n",
    "ammount = [835, 699]\n",
    " \n",
    "# Creating plot\n",
    "fig = plt.figure(figsize=(10, 7))\n",
    "plt.pie(ammount, autopct='%1.0f%%', labels=['Пользователи без подписки', 'Пользователи с подпиской'])\n",
    "\n",
    "plt.title('Cоотношение пользователей с подпиской и без подписки в %', size=15)\n",
    "# show plot\n",
    "plt.show()"
   ]
  },
  {
   "cell_type": "markdown",
   "id": "f22f3464",
   "metadata": {},
   "source": [
    "Соотношение пользователей с подпиской и без подписки: 46% / 54%."
   ]
  },
  {
   "cell_type": "markdown",
   "id": "dba802e6",
   "metadata": {},
   "source": [
    "##### возраст пользователей"
   ]
  },
  {
   "cell_type": "code",
   "execution_count": 23,
   "id": "df45fc3c",
   "metadata": {},
   "outputs": [
    {
     "data": {
      "text/plain": [
       "count    1534.000000\n",
       "mean       24.903520\n",
       "std         4.572367\n",
       "min        12.000000\n",
       "25%        22.000000\n",
       "50%        25.000000\n",
       "75%        28.000000\n",
       "max        43.000000\n",
       "Name: age, dtype: float64"
      ]
     },
     "execution_count": 23,
     "metadata": {},
     "output_type": "execute_result"
    }
   ],
   "source": [
    "users['age'].describe()"
   ]
  },
  {
   "cell_type": "code",
   "execution_count": 24,
   "id": "3aec18bc",
   "metadata": {},
   "outputs": [
    {
     "data": {
      "image/png": "[encoded data removed]",
      "text/plain": [
       "<Figure size 432x288 with 1 Axes>"
      ]
     },
     "metadata": {
      "needs_background": "light"
     },
     "output_type": "display_data"
    }
   ],
   "source": [
    "plt.ylabel(\"возраст пользователей\")\n",
    "plt.ylim(0, 50)\n",
    "users.boxplot(column='age', figsize=(5,10))\n",
    "plt.title('Диаграмма размаха для столбца \"age\"', size=15)\n",
    "plt.show()"
   ]
  },
  {
   "cell_type": "code",
   "execution_count": 25,
   "id": "8f7cabaa",
   "metadata": {},
   "outputs": [
    {
     "data": {
      "image/png": "[encoded data removed]",
      "text/plain": [
       "<Figure size 1440x360 with 1 Axes>"
      ]
     },
     "metadata": {
      "needs_background": "light"
     },
     "output_type": "display_data"
    }
   ],
   "source": [
    "(\n",
    "    users.pivot_table(index='age', values='user_id', aggfunc='count')\n",
    "    .plot(kind='bar', grid=True, figsize=(20, 5))\n",
    ") \n",
    "\n",
    "plt.xlabel('возраст')\n",
    "plt.ylabel('кол-во пользователей')\n",
    "\n",
    "plt.title('Распределение пользователей сервиса аренды самокатов по возрастам', size=15)\n",
    "plt.show()"
   ]
  },
  {
   "cell_type": "markdown",
   "id": "bf624a6b",
   "metadata": {},
   "source": [
    "Возраст пользователей представлен в виде нормального распределения."
   ]
  },
  {
   "cell_type": "markdown",
   "id": "1b55d54b",
   "metadata": {},
   "source": [
    "<div class=\"alert alert-warning\" style=\"border-radius: 15px; box-shadow: 4px 4px 4px; border: 1px solid \">\n",
    "<h2> Комментарий ревьюера v_1: <a class=\"tocSkip\"> </h2>\n",
    "    \n",
    "⚠️ Не лишним было бы подробнее изучить данные с использованием функции `describe()`. С ее помощью можно увидеть точное минимальное и максимальное значения, определить медиану и среднее, в качестве диапазона часто встречающихся значений для выводов можно выбрать данные от первого до третьего квартиля (25% и 75%). Рекомендация актуальна и для других пунктов (ниже) данного шага."
   ]
  },
  {
   "cell_type": "markdown",
   "id": "16ca512f",
   "metadata": {},
   "source": [
    "<div class=\"alert alert-info\"  style=\"border-radius: 15px; box-shadow: 4px 4px 4px; border: 1px solid \">\n",
    "    \n",
    "<h2>Комментарий студента v_1: <a class=\"tocSkip\"> </h2>\n",
    "\n",
    "Добавила describe() и диаграмму размаха.\n",
    "    \n",
    "Типичному пользователю сервиса аренды самокатов от 13 до 37 лет.\n",
    "    \n",
    "Медианный возраст - 25 лет.\n",
    "    \n",
    "В выборке есть нетипичные пользователи, которым 12, 38, 39 и 43. "
   ]
  },
  {
   "cell_type": "markdown",
   "id": "df3f61be",
   "metadata": {},
   "source": [
    "##### расстояние, которое пользователь преодолел за одну поездку"
   ]
  },
  {
   "cell_type": "code",
   "execution_count": 26,
   "id": "e945443a",
   "metadata": {},
   "outputs": [
    {
     "data": {
      "text/plain": [
       "count    18068.000000\n",
       "mean      3070.659976\n",
       "std       1116.831209\n",
       "min          0.855683\n",
       "25%       2543.226360\n",
       "50%       3133.609994\n",
       "75%       3776.222735\n",
       "max       7211.007745\n",
       "Name: distance, dtype: float64"
      ]
     },
     "execution_count": 26,
     "metadata": {},
     "output_type": "execute_result"
    }
   ],
   "source": [
    "rides['distance'].describe()"
   ]
  },
  {
   "cell_type": "code",
   "execution_count": 27,
   "id": "22be5fb0",
   "metadata": {},
   "outputs": [
    {
     "data": {
      "image/png": "[encoded data removed]",
      "text/plain": [
       "<Figure size 432x288 with 1 Axes>"
      ]
     },
     "metadata": {
      "needs_background": "light"
     },
     "output_type": "display_data"
    }
   ],
   "source": [
    "plt.ylabel(\"Расстояние за одну поездку, м.\")\n",
    "plt.ylim(0, 7500)\n",
    "rides.boxplot(column='distance', figsize=(5,10))\n",
    "plt.title('Диаграмма размаха для столбца \"distance\"', size=15)\n",
    "plt.show()"
   ]
  },
  {
   "cell_type": "code",
   "execution_count": 28,
   "id": "0326933e",
   "metadata": {
    "scrolled": true
   },
   "outputs": [
    {
     "data": {
      "image/png": "[encoded data removed]",
      "text/plain": [
       "<Figure size 1440x360 with 1 Axes>"
      ]
     },
     "metadata": {
      "needs_background": "light"
     },
     "output_type": "display_data"
    }
   ],
   "source": [
    "rides['distance'].hist(bins=100, figsize=(20, 5))\n",
    " \n",
    "plt.xlabel('дистанция, м.')\n",
    "plt.ylabel('кол-во пользователей')\n",
    "plt.title('Расстояние, которое пользователь преодолел за одну поездку', size=15)\n",
    "plt.show()"
   ]
  },
  {
   "cell_type": "markdown",
   "id": "bbb9c574",
   "metadata": {},
   "source": [
    "<div class=\"alert alert-block alert-danger\" style=\"border-radius: 15px; box-shadow: 4px 4px 4px; border: 1px solid \">\n",
    "<h2> Комментарий ревьюера v_1: <a class=\"tocSkip\"></h2>\n",
    "    \n",
    "❌ График лучше построить не на агрегированных данных, т.к. на гистограмме на исходных данных можно сделать интересные наблюдения. В частности, можно обратить внимание на пик слева. О чем он говорит?\n",
    "    \n",
    "Это замечание касается и пункта 4.5"
   ]
  },
  {
   "cell_type": "markdown",
   "id": "b904c1dd",
   "metadata": {},
   "source": [
    "<div class=\"alert alert-info\"  style=\"border-radius: 15px; box-shadow: 4px 4px 4px; border: 1px solid \">\n",
    "    \n",
    "<h2>Комментарий студента v_1: <a class=\"tocSkip\"> </h2>\n",
    "\n",
    "Добавила describe() и диаграмму размаха.\n",
    "    \n",
    "Типичное расстояние, которое проезжает пользователь сервиса аренды самокатов за одну поездку, составляет от 700 до 5600 метров.\n",
    "    \n",
    "Медианное расстояние - 3133 метров.\n",
    "    \n",
    "В выборке есть аномальные поездки:\n",
    "    \n",
    "- до 700 метров;\n",
    "- более 5600 метров.\n",
    "\n",
    "Короткие поездки могут быть связаны с техническими неисправностями самоката или приложения."
   ]
  },
  {
   "cell_type": "markdown",
   "id": "525f6e25",
   "metadata": {},
   "source": [
    "##### продолжительность поездок"
   ]
  },
  {
   "cell_type": "code",
   "execution_count": 29,
   "id": "da3a95d0",
   "metadata": {},
   "outputs": [
    {
     "data": {
      "text/plain": [
       "count    18068.000000\n",
       "mean        17.805011\n",
       "std          6.091051\n",
       "min          0.500000\n",
       "25%         13.597563\n",
       "50%         17.678395\n",
       "75%         21.724800\n",
       "max         40.823963\n",
       "Name: duration, dtype: float64"
      ]
     },
     "execution_count": 29,
     "metadata": {},
     "output_type": "execute_result"
    }
   ],
   "source": [
    "rides['duration'].describe()"
   ]
  },
  {
   "cell_type": "code",
   "execution_count": 30,
   "id": "b933e86d",
   "metadata": {},
   "outputs": [
    {
     "data": {
      "image/png": "[encoded data removed]",
      "text/plain": [
       "<Figure size 432x288 with 1 Axes>"
      ]
     },
     "metadata": {
      "needs_background": "light"
     },
     "output_type": "display_data"
    }
   ],
   "source": [
    "plt.ylabel(\"Продолжительность поездки, мин.\")\n",
    "plt.ylim(0, 45)\n",
    "rides.boxplot(column='duration', figsize=(5,10))\n",
    "plt.title('Диаграмма размаха для столбца \"duration\"', size=15)\n",
    "plt.show()"
   ]
  },
  {
   "cell_type": "code",
   "execution_count": 31,
   "id": "d5b3763a",
   "metadata": {},
   "outputs": [
    {
     "data": {
      "image/png": "[encoded data removed]",
      "text/plain": [
       "<Figure size 1440x360 with 1 Axes>"
      ]
     },
     "metadata": {
      "needs_background": "light"
     },
     "output_type": "display_data"
    }
   ],
   "source": [
    "rides['duration'].hist(bins=40, figsize=(20, 5))\n",
    "\n",
    "plt.xlabel('продолжительность поездки, мин.')\n",
    "plt.ylabel('кол-во пользователей')\n",
    "plt.title('Длительность одной поездки', size=15)\n",
    "plt.show()"
   ]
  },
  {
   "cell_type": "markdown",
   "id": "2479185f",
   "metadata": {},
   "source": [
    "Данные по продолжительности поездок распределены нормально.\n",
    "\n",
    "Большинство поездок длятся от 13 до 21 минуты."
   ]
  },
  {
   "cell_type": "markdown",
   "id": "8d89fdba",
   "metadata": {},
   "source": [
    "<div class=\"alert alert-warning\" style=\"border-radius: 15px; box-shadow: 4px 4px 4px; border: 1px solid \">\n",
    "<h2> Комментарий ревьюера v_1: <a class=\"tocSkip\"> </h2>\n",
    "    \n",
    "⚠️ Дополнительно можно посмотреть, есть ли в столбце с продолжительностью сессии аномалии. Можно сравнить продолжительность сессий и расстояние поездок и прокомментировать, насколько реально можно проехать такое расстояние за указанное время. В случае обнаружения удалять не рекомендуется, лучше сначала выяснить причину их появления."
   ]
  },
  {
   "cell_type": "markdown",
   "id": "4a38f44e",
   "metadata": {},
   "source": [
    "<div class=\"alert alert-info\"  style=\"border-radius: 15px; box-shadow: 4px 4px 4px; border: 1px solid \">\n",
    "    \n",
    "<h2>Комментарий студента v_1: <a class=\"tocSkip\"> </h2>\n",
    "\n",
    "Добавила describe() и диаграмму размаха.\n",
    "    \n",
    "Типичное время, которое тратит пользователь сервиса аренды самокатов за одну поездку, составляет от 2 до 34 минут.\n",
    "    \n",
    "Медианная длительность 1 поездки - 17,5 минут.\n",
    "    \n",
    "В выборке есть аномальные поездки:\n",
    "    \n",
    "- до 5 минут;\n",
    "- более 34 минут.\n",
    "\n",
    "Короткие поездки могут быть связаны с техническими неисправностями самоката или приложения."
   ]
  },
  {
   "cell_type": "markdown",
   "id": "75e44132",
   "metadata": {},
   "source": [
    "<div class=\"alert alert-success\" style=\"border-radius: 15px; box-shadow: 4px 4px 4px; border: 1px solid \">\n",
    "<h2> Комментарий ревьюера v_2: <a class=\"tocSkip\"> </h2>\n",
    "    \n",
    "✅ +"
   ]
  },
  {
   "cell_type": "markdown",
   "id": "4ef51331",
   "metadata": {},
   "source": [
    "#### Шаг 4. Объединение данных"
   ]
  },
  {
   "cell_type": "code",
   "execution_count": 32,
   "id": "6bf288b5",
   "metadata": {},
   "outputs": [
    {
     "data": {
      "text/html": [
       "<div>\n",
       "<style scoped>\n",
       "    .dataframe tbody tr th:only-of-type {\n",
       "        vertical-align: middle;\n",
       "    }\n",
       "\n",
       "    .dataframe tbody tr th {\n",
       "        vertical-align: top;\n",
       "    }\n",
       "\n",
       "    .dataframe thead th {\n",
       "        text-align: right;\n",
       "    }\n",
       "</style>\n",
       "<table border=\"1\" class=\"dataframe\">\n",
       "  <thead>\n",
       "    <tr style=\"text-align: right;\">\n",
       "      <th></th>\n",
       "      <th>user_id</th>\n",
       "      <th>name</th>\n",
       "      <th>age</th>\n",
       "      <th>city</th>\n",
       "      <th>subscription_type</th>\n",
       "      <th>distance</th>\n",
       "      <th>duration</th>\n",
       "      <th>date</th>\n",
       "      <th>month</th>\n",
       "    </tr>\n",
       "  </thead>\n",
       "  <tbody>\n",
       "    <tr>\n",
       "      <th>0</th>\n",
       "      <td>1</td>\n",
       "      <td>Кира</td>\n",
       "      <td>22</td>\n",
       "      <td>Тюмень</td>\n",
       "      <td>ultra</td>\n",
       "      <td>4409.919140</td>\n",
       "      <td>25.599769</td>\n",
       "      <td>2021-01-01</td>\n",
       "      <td>1</td>\n",
       "    </tr>\n",
       "    <tr>\n",
       "      <th>1</th>\n",
       "      <td>1</td>\n",
       "      <td>Кира</td>\n",
       "      <td>22</td>\n",
       "      <td>Тюмень</td>\n",
       "      <td>ultra</td>\n",
       "      <td>2617.592153</td>\n",
       "      <td>15.816871</td>\n",
       "      <td>2021-01-18</td>\n",
       "      <td>1</td>\n",
       "    </tr>\n",
       "    <tr>\n",
       "      <th>2</th>\n",
       "      <td>1</td>\n",
       "      <td>Кира</td>\n",
       "      <td>22</td>\n",
       "      <td>Тюмень</td>\n",
       "      <td>ultra</td>\n",
       "      <td>754.159807</td>\n",
       "      <td>6.232113</td>\n",
       "      <td>2021-04-20</td>\n",
       "      <td>4</td>\n",
       "    </tr>\n",
       "    <tr>\n",
       "      <th>3</th>\n",
       "      <td>1</td>\n",
       "      <td>Кира</td>\n",
       "      <td>22</td>\n",
       "      <td>Тюмень</td>\n",
       "      <td>ultra</td>\n",
       "      <td>2694.783254</td>\n",
       "      <td>18.511000</td>\n",
       "      <td>2021-08-11</td>\n",
       "      <td>8</td>\n",
       "    </tr>\n",
       "    <tr>\n",
       "      <th>4</th>\n",
       "      <td>1</td>\n",
       "      <td>Кира</td>\n",
       "      <td>22</td>\n",
       "      <td>Тюмень</td>\n",
       "      <td>ultra</td>\n",
       "      <td>4028.687306</td>\n",
       "      <td>26.265803</td>\n",
       "      <td>2021-08-28</td>\n",
       "      <td>8</td>\n",
       "    </tr>\n",
       "    <tr>\n",
       "      <th>...</th>\n",
       "      <td>...</td>\n",
       "      <td>...</td>\n",
       "      <td>...</td>\n",
       "      <td>...</td>\n",
       "      <td>...</td>\n",
       "      <td>...</td>\n",
       "      <td>...</td>\n",
       "      <td>...</td>\n",
       "      <td>...</td>\n",
       "    </tr>\n",
       "    <tr>\n",
       "      <th>18063</th>\n",
       "      <td>1534</td>\n",
       "      <td>Альберт</td>\n",
       "      <td>25</td>\n",
       "      <td>Краснодар</td>\n",
       "      <td>free</td>\n",
       "      <td>3781.098080</td>\n",
       "      <td>19.822962</td>\n",
       "      <td>2021-11-04</td>\n",
       "      <td>11</td>\n",
       "    </tr>\n",
       "    <tr>\n",
       "      <th>18064</th>\n",
       "      <td>1534</td>\n",
       "      <td>Альберт</td>\n",
       "      <td>25</td>\n",
       "      <td>Краснодар</td>\n",
       "      <td>free</td>\n",
       "      <td>2840.423057</td>\n",
       "      <td>21.409799</td>\n",
       "      <td>2021-11-16</td>\n",
       "      <td>11</td>\n",
       "    </tr>\n",
       "    <tr>\n",
       "      <th>18065</th>\n",
       "      <td>1534</td>\n",
       "      <td>Альберт</td>\n",
       "      <td>25</td>\n",
       "      <td>Краснодар</td>\n",
       "      <td>free</td>\n",
       "      <td>3826.185507</td>\n",
       "      <td>18.435051</td>\n",
       "      <td>2021-11-18</td>\n",
       "      <td>11</td>\n",
       "    </tr>\n",
       "    <tr>\n",
       "      <th>18066</th>\n",
       "      <td>1534</td>\n",
       "      <td>Альберт</td>\n",
       "      <td>25</td>\n",
       "      <td>Краснодар</td>\n",
       "      <td>free</td>\n",
       "      <td>2902.308661</td>\n",
       "      <td>16.674362</td>\n",
       "      <td>2021-11-27</td>\n",
       "      <td>11</td>\n",
       "    </tr>\n",
       "    <tr>\n",
       "      <th>18067</th>\n",
       "      <td>1534</td>\n",
       "      <td>Альберт</td>\n",
       "      <td>25</td>\n",
       "      <td>Краснодар</td>\n",
       "      <td>free</td>\n",
       "      <td>2371.711192</td>\n",
       "      <td>15.893917</td>\n",
       "      <td>2021-12-29</td>\n",
       "      <td>12</td>\n",
       "    </tr>\n",
       "  </tbody>\n",
       "</table>\n",
       "<p>18068 rows × 9 columns</p>\n",
       "</div>"
      ],
      "text/plain": [
       "       user_id     name  age       city subscription_type     distance  \\\n",
       "0            1     Кира   22     Тюмень             ultra  4409.919140   \n",
       "1            1     Кира   22     Тюмень             ultra  2617.592153   \n",
       "2            1     Кира   22     Тюмень             ultra   754.159807   \n",
       "3            1     Кира   22     Тюмень             ultra  2694.783254   \n",
       "4            1     Кира   22     Тюмень             ultra  4028.687306   \n",
       "...        ...      ...  ...        ...               ...          ...   \n",
       "18063     1534  Альберт   25  Краснодар              free  3781.098080   \n",
       "18064     1534  Альберт   25  Краснодар              free  2840.423057   \n",
       "18065     1534  Альберт   25  Краснодар              free  3826.185507   \n",
       "18066     1534  Альберт   25  Краснодар              free  2902.308661   \n",
       "18067     1534  Альберт   25  Краснодар              free  2371.711192   \n",
       "\n",
       "        duration       date  month  \n",
       "0      25.599769 2021-01-01      1  \n",
       "1      15.816871 2021-01-18      1  \n",
       "2       6.232113 2021-04-20      4  \n",
       "3      18.511000 2021-08-11      8  \n",
       "4      26.265803 2021-08-28      8  \n",
       "...          ...        ...    ...  \n",
       "18063  19.822962 2021-11-04     11  \n",
       "18064  21.409799 2021-11-16     11  \n",
       "18065  18.435051 2021-11-18     11  \n",
       "18066  16.674362 2021-11-27     11  \n",
       "18067  15.893917 2021-12-29     12  \n",
       "\n",
       "[18068 rows x 9 columns]"
      ]
     },
     "execution_count": 32,
     "metadata": {},
     "output_type": "execute_result"
    }
   ],
   "source": [
    "data = users.merge(rides, on='user_id', how='left')\n",
    "data"
   ]
  },
  {
   "cell_type": "code",
   "execution_count": 33,
   "id": "012b94bc",
   "metadata": {
    "scrolled": true
   },
   "outputs": [
    {
     "data": {
      "text/html": [
       "<div>\n",
       "<style scoped>\n",
       "    .dataframe tbody tr th:only-of-type {\n",
       "        vertical-align: middle;\n",
       "    }\n",
       "\n",
       "    .dataframe tbody tr th {\n",
       "        vertical-align: top;\n",
       "    }\n",
       "\n",
       "    .dataframe thead th {\n",
       "        text-align: right;\n",
       "    }\n",
       "</style>\n",
       "<table border=\"1\" class=\"dataframe\">\n",
       "  <thead>\n",
       "    <tr style=\"text-align: right;\">\n",
       "      <th></th>\n",
       "      <th>user_id</th>\n",
       "      <th>name</th>\n",
       "      <th>age</th>\n",
       "      <th>city</th>\n",
       "      <th>subscription_type</th>\n",
       "      <th>distance</th>\n",
       "      <th>duration</th>\n",
       "      <th>date</th>\n",
       "      <th>month</th>\n",
       "      <th>minute_price</th>\n",
       "      <th>start_ride_price</th>\n",
       "      <th>subscription_fee</th>\n",
       "    </tr>\n",
       "  </thead>\n",
       "  <tbody>\n",
       "    <tr>\n",
       "      <th>0</th>\n",
       "      <td>1</td>\n",
       "      <td>Кира</td>\n",
       "      <td>22</td>\n",
       "      <td>Тюмень</td>\n",
       "      <td>ultra</td>\n",
       "      <td>4409.919140</td>\n",
       "      <td>25.599769</td>\n",
       "      <td>2021-01-01</td>\n",
       "      <td>1</td>\n",
       "      <td>6</td>\n",
       "      <td>0</td>\n",
       "      <td>199</td>\n",
       "    </tr>\n",
       "    <tr>\n",
       "      <th>1</th>\n",
       "      <td>1</td>\n",
       "      <td>Кира</td>\n",
       "      <td>22</td>\n",
       "      <td>Тюмень</td>\n",
       "      <td>ultra</td>\n",
       "      <td>2617.592153</td>\n",
       "      <td>15.816871</td>\n",
       "      <td>2021-01-18</td>\n",
       "      <td>1</td>\n",
       "      <td>6</td>\n",
       "      <td>0</td>\n",
       "      <td>199</td>\n",
       "    </tr>\n",
       "    <tr>\n",
       "      <th>2</th>\n",
       "      <td>1</td>\n",
       "      <td>Кира</td>\n",
       "      <td>22</td>\n",
       "      <td>Тюмень</td>\n",
       "      <td>ultra</td>\n",
       "      <td>754.159807</td>\n",
       "      <td>6.232113</td>\n",
       "      <td>2021-04-20</td>\n",
       "      <td>4</td>\n",
       "      <td>6</td>\n",
       "      <td>0</td>\n",
       "      <td>199</td>\n",
       "    </tr>\n",
       "    <tr>\n",
       "      <th>3</th>\n",
       "      <td>1</td>\n",
       "      <td>Кира</td>\n",
       "      <td>22</td>\n",
       "      <td>Тюмень</td>\n",
       "      <td>ultra</td>\n",
       "      <td>2694.783254</td>\n",
       "      <td>18.511000</td>\n",
       "      <td>2021-08-11</td>\n",
       "      <td>8</td>\n",
       "      <td>6</td>\n",
       "      <td>0</td>\n",
       "      <td>199</td>\n",
       "    </tr>\n",
       "    <tr>\n",
       "      <th>4</th>\n",
       "      <td>1</td>\n",
       "      <td>Кира</td>\n",
       "      <td>22</td>\n",
       "      <td>Тюмень</td>\n",
       "      <td>ultra</td>\n",
       "      <td>4028.687306</td>\n",
       "      <td>26.265803</td>\n",
       "      <td>2021-08-28</td>\n",
       "      <td>8</td>\n",
       "      <td>6</td>\n",
       "      <td>0</td>\n",
       "      <td>199</td>\n",
       "    </tr>\n",
       "    <tr>\n",
       "      <th>...</th>\n",
       "      <td>...</td>\n",
       "      <td>...</td>\n",
       "      <td>...</td>\n",
       "      <td>...</td>\n",
       "      <td>...</td>\n",
       "      <td>...</td>\n",
       "      <td>...</td>\n",
       "      <td>...</td>\n",
       "      <td>...</td>\n",
       "      <td>...</td>\n",
       "      <td>...</td>\n",
       "      <td>...</td>\n",
       "    </tr>\n",
       "    <tr>\n",
       "      <th>18063</th>\n",
       "      <td>1534</td>\n",
       "      <td>Альберт</td>\n",
       "      <td>25</td>\n",
       "      <td>Краснодар</td>\n",
       "      <td>free</td>\n",
       "      <td>3781.098080</td>\n",
       "      <td>19.822962</td>\n",
       "      <td>2021-11-04</td>\n",
       "      <td>11</td>\n",
       "      <td>8</td>\n",
       "      <td>50</td>\n",
       "      <td>0</td>\n",
       "    </tr>\n",
       "    <tr>\n",
       "      <th>18064</th>\n",
       "      <td>1534</td>\n",
       "      <td>Альберт</td>\n",
       "      <td>25</td>\n",
       "      <td>Краснодар</td>\n",
       "      <td>free</td>\n",
       "      <td>2840.423057</td>\n",
       "      <td>21.409799</td>\n",
       "      <td>2021-11-16</td>\n",
       "      <td>11</td>\n",
       "      <td>8</td>\n",
       "      <td>50</td>\n",
       "      <td>0</td>\n",
       "    </tr>\n",
       "    <tr>\n",
       "      <th>18065</th>\n",
       "      <td>1534</td>\n",
       "      <td>Альберт</td>\n",
       "      <td>25</td>\n",
       "      <td>Краснодар</td>\n",
       "      <td>free</td>\n",
       "      <td>3826.185507</td>\n",
       "      <td>18.435051</td>\n",
       "      <td>2021-11-18</td>\n",
       "      <td>11</td>\n",
       "      <td>8</td>\n",
       "      <td>50</td>\n",
       "      <td>0</td>\n",
       "    </tr>\n",
       "    <tr>\n",
       "      <th>18066</th>\n",
       "      <td>1534</td>\n",
       "      <td>Альберт</td>\n",
       "      <td>25</td>\n",
       "      <td>Краснодар</td>\n",
       "      <td>free</td>\n",
       "      <td>2902.308661</td>\n",
       "      <td>16.674362</td>\n",
       "      <td>2021-11-27</td>\n",
       "      <td>11</td>\n",
       "      <td>8</td>\n",
       "      <td>50</td>\n",
       "      <td>0</td>\n",
       "    </tr>\n",
       "    <tr>\n",
       "      <th>18067</th>\n",
       "      <td>1534</td>\n",
       "      <td>Альберт</td>\n",
       "      <td>25</td>\n",
       "      <td>Краснодар</td>\n",
       "      <td>free</td>\n",
       "      <td>2371.711192</td>\n",
       "      <td>15.893917</td>\n",
       "      <td>2021-12-29</td>\n",
       "      <td>12</td>\n",
       "      <td>8</td>\n",
       "      <td>50</td>\n",
       "      <td>0</td>\n",
       "    </tr>\n",
       "  </tbody>\n",
       "</table>\n",
       "<p>18068 rows × 12 columns</p>\n",
       "</div>"
      ],
      "text/plain": [
       "       user_id     name  age       city subscription_type     distance  \\\n",
       "0            1     Кира   22     Тюмень             ultra  4409.919140   \n",
       "1            1     Кира   22     Тюмень             ultra  2617.592153   \n",
       "2            1     Кира   22     Тюмень             ultra   754.159807   \n",
       "3            1     Кира   22     Тюмень             ultra  2694.783254   \n",
       "4            1     Кира   22     Тюмень             ultra  4028.687306   \n",
       "...        ...      ...  ...        ...               ...          ...   \n",
       "18063     1534  Альберт   25  Краснодар              free  3781.098080   \n",
       "18064     1534  Альберт   25  Краснодар              free  2840.423057   \n",
       "18065     1534  Альберт   25  Краснодар              free  3826.185507   \n",
       "18066     1534  Альберт   25  Краснодар              free  2902.308661   \n",
       "18067     1534  Альберт   25  Краснодар              free  2371.711192   \n",
       "\n",
       "        duration       date  month  minute_price  start_ride_price  \\\n",
       "0      25.599769 2021-01-01      1             6                 0   \n",
       "1      15.816871 2021-01-18      1             6                 0   \n",
       "2       6.232113 2021-04-20      4             6                 0   \n",
       "3      18.511000 2021-08-11      8             6                 0   \n",
       "4      26.265803 2021-08-28      8             6                 0   \n",
       "...          ...        ...    ...           ...               ...   \n",
       "18063  19.822962 2021-11-04     11             8                50   \n",
       "18064  21.409799 2021-11-16     11             8                50   \n",
       "18065  18.435051 2021-11-18     11             8                50   \n",
       "18066  16.674362 2021-11-27     11             8                50   \n",
       "18067  15.893917 2021-12-29     12             8                50   \n",
       "\n",
       "       subscription_fee  \n",
       "0                   199  \n",
       "1                   199  \n",
       "2                   199  \n",
       "3                   199  \n",
       "4                   199  \n",
       "...                 ...  \n",
       "18063                 0  \n",
       "18064                 0  \n",
       "18065                 0  \n",
       "18066                 0  \n",
       "18067                 0  \n",
       "\n",
       "[18068 rows x 12 columns]"
      ]
     },
     "execution_count": 33,
     "metadata": {},
     "output_type": "execute_result"
    }
   ],
   "source": [
    "data = data.merge(subscriptions, on='subscription_type', how='left')\n",
    "data"
   ]
  },
  {
   "cell_type": "code",
   "execution_count": 34,
   "id": "80cae7b4",
   "metadata": {},
   "outputs": [
    {
     "name": "stdout",
     "output_type": "stream",
     "text": [
      "<class 'pandas.core.frame.DataFrame'>\n",
      "Int64Index: 18068 entries, 0 to 18067\n",
      "Data columns (total 12 columns):\n",
      " #   Column             Non-Null Count  Dtype         \n",
      "---  ------             --------------  -----         \n",
      " 0   user_id            18068 non-null  int64         \n",
      " 1   name               18068 non-null  object        \n",
      " 2   age                18068 non-null  int64         \n",
      " 3   city               18068 non-null  object        \n",
      " 4   subscription_type  18068 non-null  object        \n",
      " 5   distance           18068 non-null  float64       \n",
      " 6   duration           18068 non-null  float64       \n",
      " 7   date               18068 non-null  datetime64[ns]\n",
      " 8   month              18068 non-null  int64         \n",
      " 9   minute_price       18068 non-null  int64         \n",
      " 10  start_ride_price   18068 non-null  int64         \n",
      " 11  subscription_fee   18068 non-null  int64         \n",
      "dtypes: datetime64[ns](1), float64(2), int64(6), object(3)\n",
      "memory usage: 1.8+ MB\n"
     ]
    }
   ],
   "source": [
    "data.info()"
   ]
  },
  {
   "cell_type": "markdown",
   "id": "58a4a1e7",
   "metadata": {},
   "source": [
    "В rides тоже было 18068 строк.\n",
    "Новые не появились.\n",
    "Пропусков нет."
   ]
  },
  {
   "cell_type": "code",
   "execution_count": 35,
   "id": "1fb7bd82",
   "metadata": {},
   "outputs": [
    {
     "data": {
      "text/plain": [
       "0"
      ]
     },
     "execution_count": 35,
     "metadata": {},
     "output_type": "execute_result"
    }
   ],
   "source": [
    "data.duplicated().sum()"
   ]
  },
  {
   "cell_type": "markdown",
   "id": "61036759",
   "metadata": {},
   "source": [
    "Дублей нет."
   ]
  },
  {
   "cell_type": "markdown",
   "id": "03228bec",
   "metadata": {},
   "source": [
    "<div class=\"alert alert-block alert-danger\" style=\"border-radius: 15px; box-shadow: 4px 4px 4px; border: 1px solid \">\n",
    "<h2> Комментарий ревьюера v_1: <a class=\"tocSkip\"></h2>\n",
    "    \n",
    "❌ После объединения стоит проверить и написать, прошло ли оно корректно, не были ли потеряны данные или не появились ли лишние записи. Совпадает ли количество записей с одной из исходных таблиц? Имеются ли пропуски? Стоит не только объединить данные, но и убедиться, что всё хорошо."
   ]
  },
  {
   "cell_type": "markdown",
   "id": "e1c15552",
   "metadata": {},
   "source": [
    "<div class=\"alert alert-info\"  style=\"border-radius: 15px; box-shadow: 4px 4px 4px; border: 1px solid \">\n",
    "    \n",
    "<h2>Комментарий студента v_1: <a class=\"tocSkip\"> </h2>\n",
    "\n",
    "Проверку сделала - все хорошо."
   ]
  },
  {
   "cell_type": "markdown",
   "id": "a8ff0bb2",
   "metadata": {},
   "source": [
    "<div class=\"alert alert-success\" style=\"border-radius: 15px; box-shadow: 4px 4px 4px; border: 1px solid \">\n",
    "<h2> Комментарий ревьюера v_2: <a class=\"tocSkip\"> </h2>\n",
    "    \n",
    "✅ Объединение прошло успешно"
   ]
  },
  {
   "cell_type": "code",
   "execution_count": 36,
   "id": "01b6d66f",
   "metadata": {},
   "outputs": [
    {
     "data": {
      "text/html": [
       "<div>\n",
       "<style scoped>\n",
       "    .dataframe tbody tr th:only-of-type {\n",
       "        vertical-align: middle;\n",
       "    }\n",
       "\n",
       "    .dataframe tbody tr th {\n",
       "        vertical-align: top;\n",
       "    }\n",
       "\n",
       "    .dataframe thead th {\n",
       "        text-align: right;\n",
       "    }\n",
       "</style>\n",
       "<table border=\"1\" class=\"dataframe\">\n",
       "  <thead>\n",
       "    <tr style=\"text-align: right;\">\n",
       "      <th></th>\n",
       "      <th>user_id</th>\n",
       "      <th>name</th>\n",
       "      <th>age</th>\n",
       "      <th>city</th>\n",
       "      <th>subscription_type</th>\n",
       "      <th>distance</th>\n",
       "      <th>duration</th>\n",
       "      <th>date</th>\n",
       "      <th>month</th>\n",
       "      <th>minute_price</th>\n",
       "      <th>start_ride_price</th>\n",
       "      <th>subscription_fee</th>\n",
       "    </tr>\n",
       "  </thead>\n",
       "  <tbody>\n",
       "    <tr>\n",
       "      <th>0</th>\n",
       "      <td>1</td>\n",
       "      <td>Кира</td>\n",
       "      <td>22</td>\n",
       "      <td>Тюмень</td>\n",
       "      <td>ultra</td>\n",
       "      <td>4409.919140</td>\n",
       "      <td>25.599769</td>\n",
       "      <td>2021-01-01</td>\n",
       "      <td>1</td>\n",
       "      <td>6</td>\n",
       "      <td>0</td>\n",
       "      <td>199</td>\n",
       "    </tr>\n",
       "    <tr>\n",
       "      <th>1</th>\n",
       "      <td>1</td>\n",
       "      <td>Кира</td>\n",
       "      <td>22</td>\n",
       "      <td>Тюмень</td>\n",
       "      <td>ultra</td>\n",
       "      <td>2617.592153</td>\n",
       "      <td>15.816871</td>\n",
       "      <td>2021-01-18</td>\n",
       "      <td>1</td>\n",
       "      <td>6</td>\n",
       "      <td>0</td>\n",
       "      <td>199</td>\n",
       "    </tr>\n",
       "    <tr>\n",
       "      <th>2</th>\n",
       "      <td>1</td>\n",
       "      <td>Кира</td>\n",
       "      <td>22</td>\n",
       "      <td>Тюмень</td>\n",
       "      <td>ultra</td>\n",
       "      <td>754.159807</td>\n",
       "      <td>6.232113</td>\n",
       "      <td>2021-04-20</td>\n",
       "      <td>4</td>\n",
       "      <td>6</td>\n",
       "      <td>0</td>\n",
       "      <td>199</td>\n",
       "    </tr>\n",
       "    <tr>\n",
       "      <th>3</th>\n",
       "      <td>1</td>\n",
       "      <td>Кира</td>\n",
       "      <td>22</td>\n",
       "      <td>Тюмень</td>\n",
       "      <td>ultra</td>\n",
       "      <td>2694.783254</td>\n",
       "      <td>18.511000</td>\n",
       "      <td>2021-08-11</td>\n",
       "      <td>8</td>\n",
       "      <td>6</td>\n",
       "      <td>0</td>\n",
       "      <td>199</td>\n",
       "    </tr>\n",
       "    <tr>\n",
       "      <th>4</th>\n",
       "      <td>1</td>\n",
       "      <td>Кира</td>\n",
       "      <td>22</td>\n",
       "      <td>Тюмень</td>\n",
       "      <td>ultra</td>\n",
       "      <td>4028.687306</td>\n",
       "      <td>26.265803</td>\n",
       "      <td>2021-08-28</td>\n",
       "      <td>8</td>\n",
       "      <td>6</td>\n",
       "      <td>0</td>\n",
       "      <td>199</td>\n",
       "    </tr>\n",
       "    <tr>\n",
       "      <th>...</th>\n",
       "      <td>...</td>\n",
       "      <td>...</td>\n",
       "      <td>...</td>\n",
       "      <td>...</td>\n",
       "      <td>...</td>\n",
       "      <td>...</td>\n",
       "      <td>...</td>\n",
       "      <td>...</td>\n",
       "      <td>...</td>\n",
       "      <td>...</td>\n",
       "      <td>...</td>\n",
       "      <td>...</td>\n",
       "    </tr>\n",
       "    <tr>\n",
       "      <th>6495</th>\n",
       "      <td>699</td>\n",
       "      <td>Оксана</td>\n",
       "      <td>22</td>\n",
       "      <td>Москва</td>\n",
       "      <td>ultra</td>\n",
       "      <td>3973.046497</td>\n",
       "      <td>24.671163</td>\n",
       "      <td>2021-08-29</td>\n",
       "      <td>8</td>\n",
       "      <td>6</td>\n",
       "      <td>0</td>\n",
       "      <td>199</td>\n",
       "    </tr>\n",
       "    <tr>\n",
       "      <th>6496</th>\n",
       "      <td>699</td>\n",
       "      <td>Оксана</td>\n",
       "      <td>22</td>\n",
       "      <td>Москва</td>\n",
       "      <td>ultra</td>\n",
       "      <td>3288.702563</td>\n",
       "      <td>15.892886</td>\n",
       "      <td>2021-09-12</td>\n",
       "      <td>9</td>\n",
       "      <td>6</td>\n",
       "      <td>0</td>\n",
       "      <td>199</td>\n",
       "    </tr>\n",
       "    <tr>\n",
       "      <th>6497</th>\n",
       "      <td>699</td>\n",
       "      <td>Оксана</td>\n",
       "      <td>22</td>\n",
       "      <td>Москва</td>\n",
       "      <td>ultra</td>\n",
       "      <td>3076.159348</td>\n",
       "      <td>14.389525</td>\n",
       "      <td>2021-09-26</td>\n",
       "      <td>9</td>\n",
       "      <td>6</td>\n",
       "      <td>0</td>\n",
       "      <td>199</td>\n",
       "    </tr>\n",
       "    <tr>\n",
       "      <th>6498</th>\n",
       "      <td>699</td>\n",
       "      <td>Оксана</td>\n",
       "      <td>22</td>\n",
       "      <td>Москва</td>\n",
       "      <td>ultra</td>\n",
       "      <td>4707.845501</td>\n",
       "      <td>15.839579</td>\n",
       "      <td>2021-10-17</td>\n",
       "      <td>10</td>\n",
       "      <td>6</td>\n",
       "      <td>0</td>\n",
       "      <td>199</td>\n",
       "    </tr>\n",
       "    <tr>\n",
       "      <th>6499</th>\n",
       "      <td>699</td>\n",
       "      <td>Оксана</td>\n",
       "      <td>22</td>\n",
       "      <td>Москва</td>\n",
       "      <td>ultra</td>\n",
       "      <td>3202.890770</td>\n",
       "      <td>25.217345</td>\n",
       "      <td>2021-12-03</td>\n",
       "      <td>12</td>\n",
       "      <td>6</td>\n",
       "      <td>0</td>\n",
       "      <td>199</td>\n",
       "    </tr>\n",
       "  </tbody>\n",
       "</table>\n",
       "<p>6500 rows × 12 columns</p>\n",
       "</div>"
      ],
      "text/plain": [
       "      user_id    name  age    city subscription_type     distance   duration  \\\n",
       "0           1    Кира   22  Тюмень             ultra  4409.919140  25.599769   \n",
       "1           1    Кира   22  Тюмень             ultra  2617.592153  15.816871   \n",
       "2           1    Кира   22  Тюмень             ultra   754.159807   6.232113   \n",
       "3           1    Кира   22  Тюмень             ultra  2694.783254  18.511000   \n",
       "4           1    Кира   22  Тюмень             ultra  4028.687306  26.265803   \n",
       "...       ...     ...  ...     ...               ...          ...        ...   \n",
       "6495      699  Оксана   22  Москва             ultra  3973.046497  24.671163   \n",
       "6496      699  Оксана   22  Москва             ultra  3288.702563  15.892886   \n",
       "6497      699  Оксана   22  Москва             ultra  3076.159348  14.389525   \n",
       "6498      699  Оксана   22  Москва             ultra  4707.845501  15.839579   \n",
       "6499      699  Оксана   22  Москва             ultra  3202.890770  25.217345   \n",
       "\n",
       "           date  month  minute_price  start_ride_price  subscription_fee  \n",
       "0    2021-01-01      1             6                 0               199  \n",
       "1    2021-01-18      1             6                 0               199  \n",
       "2    2021-04-20      4             6                 0               199  \n",
       "3    2021-08-11      8             6                 0               199  \n",
       "4    2021-08-28      8             6                 0               199  \n",
       "...         ...    ...           ...               ...               ...  \n",
       "6495 2021-08-29      8             6                 0               199  \n",
       "6496 2021-09-12      9             6                 0               199  \n",
       "6497 2021-09-26      9             6                 0               199  \n",
       "6498 2021-10-17     10             6                 0               199  \n",
       "6499 2021-12-03     12             6                 0               199  \n",
       "\n",
       "[6500 rows x 12 columns]"
      ]
     },
     "execution_count": 36,
     "metadata": {},
     "output_type": "execute_result"
    }
   ],
   "source": [
    "data_ultra = data[data['subscription_type'] == 'ultra']\n",
    "data_ultra"
   ]
  },
  {
   "cell_type": "code",
   "execution_count": 37,
   "id": "ee7508de",
   "metadata": {
    "scrolled": true
   },
   "outputs": [
    {
     "data": {
      "text/html": [
       "<div>\n",
       "<style scoped>\n",
       "    .dataframe tbody tr th:only-of-type {\n",
       "        vertical-align: middle;\n",
       "    }\n",
       "\n",
       "    .dataframe tbody tr th {\n",
       "        vertical-align: top;\n",
       "    }\n",
       "\n",
       "    .dataframe thead th {\n",
       "        text-align: right;\n",
       "    }\n",
       "</style>\n",
       "<table border=\"1\" class=\"dataframe\">\n",
       "  <thead>\n",
       "    <tr style=\"text-align: right;\">\n",
       "      <th></th>\n",
       "      <th>user_id</th>\n",
       "      <th>name</th>\n",
       "      <th>age</th>\n",
       "      <th>city</th>\n",
       "      <th>subscription_type</th>\n",
       "      <th>distance</th>\n",
       "      <th>duration</th>\n",
       "      <th>date</th>\n",
       "      <th>month</th>\n",
       "      <th>minute_price</th>\n",
       "      <th>start_ride_price</th>\n",
       "      <th>subscription_fee</th>\n",
       "    </tr>\n",
       "  </thead>\n",
       "  <tbody>\n",
       "    <tr>\n",
       "      <th>0</th>\n",
       "      <td>700</td>\n",
       "      <td>Айдар</td>\n",
       "      <td>22</td>\n",
       "      <td>Омск</td>\n",
       "      <td>free</td>\n",
       "      <td>2515.690719</td>\n",
       "      <td>14.944286</td>\n",
       "      <td>2021-01-02</td>\n",
       "      <td>1</td>\n",
       "      <td>8</td>\n",
       "      <td>50</td>\n",
       "      <td>0</td>\n",
       "    </tr>\n",
       "    <tr>\n",
       "      <th>1</th>\n",
       "      <td>700</td>\n",
       "      <td>Айдар</td>\n",
       "      <td>22</td>\n",
       "      <td>Омск</td>\n",
       "      <td>free</td>\n",
       "      <td>846.932642</td>\n",
       "      <td>16.234663</td>\n",
       "      <td>2021-02-01</td>\n",
       "      <td>2</td>\n",
       "      <td>8</td>\n",
       "      <td>50</td>\n",
       "      <td>0</td>\n",
       "    </tr>\n",
       "    <tr>\n",
       "      <th>2</th>\n",
       "      <td>700</td>\n",
       "      <td>Айдар</td>\n",
       "      <td>22</td>\n",
       "      <td>Омск</td>\n",
       "      <td>free</td>\n",
       "      <td>4004.434142</td>\n",
       "      <td>20.016628</td>\n",
       "      <td>2021-02-04</td>\n",
       "      <td>2</td>\n",
       "      <td>8</td>\n",
       "      <td>50</td>\n",
       "      <td>0</td>\n",
       "    </tr>\n",
       "    <tr>\n",
       "      <th>3</th>\n",
       "      <td>700</td>\n",
       "      <td>Айдар</td>\n",
       "      <td>22</td>\n",
       "      <td>Омск</td>\n",
       "      <td>free</td>\n",
       "      <td>1205.911290</td>\n",
       "      <td>9.782872</td>\n",
       "      <td>2021-02-10</td>\n",
       "      <td>2</td>\n",
       "      <td>8</td>\n",
       "      <td>50</td>\n",
       "      <td>0</td>\n",
       "    </tr>\n",
       "    <tr>\n",
       "      <th>4</th>\n",
       "      <td>700</td>\n",
       "      <td>Айдар</td>\n",
       "      <td>22</td>\n",
       "      <td>Омск</td>\n",
       "      <td>free</td>\n",
       "      <td>3047.379435</td>\n",
       "      <td>17.427673</td>\n",
       "      <td>2021-02-14</td>\n",
       "      <td>2</td>\n",
       "      <td>8</td>\n",
       "      <td>50</td>\n",
       "      <td>0</td>\n",
       "    </tr>\n",
       "    <tr>\n",
       "      <th>...</th>\n",
       "      <td>...</td>\n",
       "      <td>...</td>\n",
       "      <td>...</td>\n",
       "      <td>...</td>\n",
       "      <td>...</td>\n",
       "      <td>...</td>\n",
       "      <td>...</td>\n",
       "      <td>...</td>\n",
       "      <td>...</td>\n",
       "      <td>...</td>\n",
       "      <td>...</td>\n",
       "      <td>...</td>\n",
       "    </tr>\n",
       "    <tr>\n",
       "      <th>11563</th>\n",
       "      <td>1534</td>\n",
       "      <td>Альберт</td>\n",
       "      <td>25</td>\n",
       "      <td>Краснодар</td>\n",
       "      <td>free</td>\n",
       "      <td>3781.098080</td>\n",
       "      <td>19.822962</td>\n",
       "      <td>2021-11-04</td>\n",
       "      <td>11</td>\n",
       "      <td>8</td>\n",
       "      <td>50</td>\n",
       "      <td>0</td>\n",
       "    </tr>\n",
       "    <tr>\n",
       "      <th>11564</th>\n",
       "      <td>1534</td>\n",
       "      <td>Альберт</td>\n",
       "      <td>25</td>\n",
       "      <td>Краснодар</td>\n",
       "      <td>free</td>\n",
       "      <td>2840.423057</td>\n",
       "      <td>21.409799</td>\n",
       "      <td>2021-11-16</td>\n",
       "      <td>11</td>\n",
       "      <td>8</td>\n",
       "      <td>50</td>\n",
       "      <td>0</td>\n",
       "    </tr>\n",
       "    <tr>\n",
       "      <th>11565</th>\n",
       "      <td>1534</td>\n",
       "      <td>Альберт</td>\n",
       "      <td>25</td>\n",
       "      <td>Краснодар</td>\n",
       "      <td>free</td>\n",
       "      <td>3826.185507</td>\n",
       "      <td>18.435051</td>\n",
       "      <td>2021-11-18</td>\n",
       "      <td>11</td>\n",
       "      <td>8</td>\n",
       "      <td>50</td>\n",
       "      <td>0</td>\n",
       "    </tr>\n",
       "    <tr>\n",
       "      <th>11566</th>\n",
       "      <td>1534</td>\n",
       "      <td>Альберт</td>\n",
       "      <td>25</td>\n",
       "      <td>Краснодар</td>\n",
       "      <td>free</td>\n",
       "      <td>2902.308661</td>\n",
       "      <td>16.674362</td>\n",
       "      <td>2021-11-27</td>\n",
       "      <td>11</td>\n",
       "      <td>8</td>\n",
       "      <td>50</td>\n",
       "      <td>0</td>\n",
       "    </tr>\n",
       "    <tr>\n",
       "      <th>11567</th>\n",
       "      <td>1534</td>\n",
       "      <td>Альберт</td>\n",
       "      <td>25</td>\n",
       "      <td>Краснодар</td>\n",
       "      <td>free</td>\n",
       "      <td>2371.711192</td>\n",
       "      <td>15.893917</td>\n",
       "      <td>2021-12-29</td>\n",
       "      <td>12</td>\n",
       "      <td>8</td>\n",
       "      <td>50</td>\n",
       "      <td>0</td>\n",
       "    </tr>\n",
       "  </tbody>\n",
       "</table>\n",
       "<p>11568 rows × 12 columns</p>\n",
       "</div>"
      ],
      "text/plain": [
       "       user_id     name  age       city subscription_type     distance  \\\n",
       "0          700    Айдар   22       Омск              free  2515.690719   \n",
       "1          700    Айдар   22       Омск              free   846.932642   \n",
       "2          700    Айдар   22       Омск              free  4004.434142   \n",
       "3          700    Айдар   22       Омск              free  1205.911290   \n",
       "4          700    Айдар   22       Омск              free  3047.379435   \n",
       "...        ...      ...  ...        ...               ...          ...   \n",
       "11563     1534  Альберт   25  Краснодар              free  3781.098080   \n",
       "11564     1534  Альберт   25  Краснодар              free  2840.423057   \n",
       "11565     1534  Альберт   25  Краснодар              free  3826.185507   \n",
       "11566     1534  Альберт   25  Краснодар              free  2902.308661   \n",
       "11567     1534  Альберт   25  Краснодар              free  2371.711192   \n",
       "\n",
       "        duration       date  month  minute_price  start_ride_price  \\\n",
       "0      14.944286 2021-01-02      1             8                50   \n",
       "1      16.234663 2021-02-01      2             8                50   \n",
       "2      20.016628 2021-02-04      2             8                50   \n",
       "3       9.782872 2021-02-10      2             8                50   \n",
       "4      17.427673 2021-02-14      2             8                50   \n",
       "...          ...        ...    ...           ...               ...   \n",
       "11563  19.822962 2021-11-04     11             8                50   \n",
       "11564  21.409799 2021-11-16     11             8                50   \n",
       "11565  18.435051 2021-11-18     11             8                50   \n",
       "11566  16.674362 2021-11-27     11             8                50   \n",
       "11567  15.893917 2021-12-29     12             8                50   \n",
       "\n",
       "       subscription_fee  \n",
       "0                     0  \n",
       "1                     0  \n",
       "2                     0  \n",
       "3                     0  \n",
       "4                     0  \n",
       "...                 ...  \n",
       "11563                 0  \n",
       "11564                 0  \n",
       "11565                 0  \n",
       "11566                 0  \n",
       "11567                 0  \n",
       "\n",
       "[11568 rows x 12 columns]"
      ]
     },
     "execution_count": 37,
     "metadata": {},
     "output_type": "execute_result"
    }
   ],
   "source": [
    "data_free = data[data['subscription_type'] == 'free'].reset_index(drop=True) \n",
    "data_free"
   ]
  },
  {
   "cell_type": "markdown",
   "id": "a9941f3e",
   "metadata": {},
   "source": [
    "<div class=\"alert alert-success\" style=\"border-radius: 15px; box-shadow: 4px 4px 4px; border: 1px solid \">\n",
    "<h2> Комментарий ревьюера v_1: <a class=\"tocSkip\"> </h2>\n",
    "    \n",
    "✅ Отлично, созданы необходимые датафреймы. Я бы еще соватовал проверять, что совокупный размер датафреймов совпадает с количеством строк в исходной таблице."
   ]
  },
  {
   "cell_type": "markdown",
   "id": "35a641c1",
   "metadata": {},
   "source": [
    "Мы объединили данные по пользователям, поездкам и тарифам.\n",
    "\n",
    "На основе получившейся базы данных мы сформировали 2 датасета:\n",
    "- по поездкам пользователей без подписки на сервис;\n",
    "- по поездкам пользователей с подпиской на сервис."
   ]
  },
  {
   "cell_type": "code",
   "execution_count": 38,
   "id": "a6b8ad2c",
   "metadata": {},
   "outputs": [
    {
     "data": {
      "text/plain": [
       "count    11568.000000\n",
       "mean      3045.495282\n",
       "std       1246.173806\n",
       "min          0.855683\n",
       "25%       2366.562689\n",
       "50%       3114.648465\n",
       "75%       3905.697894\n",
       "max       7211.007745\n",
       "Name: distance, dtype: float64"
      ]
     },
     "execution_count": 38,
     "metadata": {},
     "output_type": "execute_result"
    }
   ],
   "source": [
    "data_free['distance'].describe()"
   ]
  },
  {
   "cell_type": "code",
   "execution_count": 39,
   "id": "fd23e45c",
   "metadata": {},
   "outputs": [
    {
     "data": {
      "image/png": "[encoded data removed]",
      "text/plain": [
       "<Figure size 432x288 with 1 Axes>"
      ]
     },
     "metadata": {
      "needs_background": "light"
     },
     "output_type": "display_data"
    }
   ],
   "source": [
    "plt.ylabel(\"Расстояние за одну поездку, м.\")\n",
    "plt.ylim(0, 7500)\n",
    "data_free.boxplot(column='distance', figsize=(5,10))\n",
    "plt.title('Диаграмма размаха для столбца \"distance\" (пользователи без подписки)', size=15)\n",
    "plt.show()"
   ]
  },
  {
   "cell_type": "code",
   "execution_count": 40,
   "id": "c7473775",
   "metadata": {},
   "outputs": [
    {
     "data": {
      "text/plain": [
       "count    6500.000000\n",
       "mean     3115.445388\n",
       "std       836.895330\n",
       "min       244.210438\n",
       "25%      2785.444017\n",
       "50%      3148.637229\n",
       "75%      3560.574425\n",
       "max      5699.769662\n",
       "Name: distance, dtype: float64"
      ]
     },
     "execution_count": 40,
     "metadata": {},
     "output_type": "execute_result"
    }
   ],
   "source": [
    "data_ultra['distance'].describe()"
   ]
  },
  {
   "cell_type": "code",
   "execution_count": 41,
   "id": "53c6af80",
   "metadata": {},
   "outputs": [
    {
     "data": {
      "image/png": "[encoded data removed]",
      "text/plain": [
       "<Figure size 432x288 with 1 Axes>"
      ]
     },
     "metadata": {
      "needs_background": "light"
     },
     "output_type": "display_data"
    }
   ],
   "source": [
    "plt.ylabel(\"Расстояние за одну поездку, м.\")\n",
    "plt.ylim(0, 7500)\n",
    "data_ultra.boxplot(column='distance', figsize=(5,10))\n",
    "plt.title('Диаграмма размаха для столбца \"distance\" (пользователи с подпиской)', size=15)\n",
    "plt.show()"
   ]
  },
  {
   "cell_type": "code",
   "execution_count": 42,
   "id": "bcdc491d",
   "metadata": {
    "scrolled": true
   },
   "outputs": [
    {
     "data": {
      "image/png": "[encoded data removed]",
      "text/plain": [
       "<Figure size 1440x432 with 1 Axes>"
      ]
     },
     "metadata": {
      "needs_background": "light"
     },
     "output_type": "display_data"
    }
   ],
   "source": [
    "#Визуализируйте информацию о расстоянии и времени поездок для пользователей обеих категорий.\n",
    "plt.figure(figsize=(20,6))\n",
    "plt.grid(True)\n",
    "\n",
    "plt.hist(data_free['distance'], bins=100, alpha=0.5, label='Дистанция поездок пользователей без подписки')\n",
    "plt.hist(data_ultra['distance'], bins=100, alpha=0.5, label='Дистанция поездок пользователей с подпиской')\n",
    "\n",
    "plt.axvline(x=data_free['distance'].mean(), color='blue', linestyle='--', label='средняя дистанция поездки без подписки')\n",
    "plt.axvline(x=data_ultra['distance'].mean(), color='orange', linestyle='--', label='средняя дистанция поездки с подпиской')\n",
    "\n",
    "plt.xlabel('дистанция, м.')\n",
    "plt.ylabel('кол-во пользователей')\n",
    "plt.title('Дистанция поездок пользователей с подпиской и без нее', size=15)\n",
    "plt.legend()\n",
    "plt.show()"
   ]
  },
  {
   "cell_type": "markdown",
   "id": "702b89a0",
   "metadata": {},
   "source": [
    "Нормальные значения для 2х выборок:\n",
    "- Пользователи без подписки проезжают от 58 до 6213 метров.\n",
    "- Пользователи с подпиской проезжают от 1623 до 4722 метров.\n",
    "Границы нормы у пользователей без подписки шире, чем у пользователей с подпиской, скорее всего из-за присутствия большего количества аномальных поездок.\n",
    "\n",
    "Средняя дистанция, которую проезжают пользователи без подписки - 3045 метров.\n",
    "\n",
    "Средняя дистанция, которую проезжают пользователи с подпиской - 3115 метров.\n",
    "\n",
    "В выборке по пользователям без подписки выделяется группа поездок с короткими (до 1000 метров) и аномально короткими поездками (в районе 0 метров - фактически это отказ от поездки). Среди подписчиков сервиса таких поездок значительно меньше.\n",
    "\n",
    "Короткие поездки могут быть связаны как с человеческим фактором (неумелый пользователь, падение, просто передумал человек), так и с техническим (ошибка в приложении, неисправность самоката, ошибки в учете проезжаемой дистанции). \n",
    "\n",
    "Также в выборке по пользователям без подписки есть аномально длинные поездки- от 6213 метров, они могут быть разовыми прогулками на длинные дистанции."
   ]
  },
  {
   "cell_type": "markdown",
   "id": "b83b85ea",
   "metadata": {},
   "source": [
    "<div class=\"alert alert-block alert-danger\" style=\"border-radius: 15px; box-shadow: 4px 4px 4px; border: 1px solid \">\n",
    "<h2> Комментарий ревьюера v_1: <a class=\"tocSkip\"></h2>\n",
    "    \n",
    "❌ Здесь также нужно построить визуализации не на агрегированных данных, что позволит, в том числе, увидеть всплески.  "
   ]
  },
  {
   "cell_type": "markdown",
   "id": "620f3f8d",
   "metadata": {},
   "source": [
    "<div class=\"alert alert-info\"  style=\"border-radius: 15px; box-shadow: 4px 4px 4px; border: 1px solid \">\n",
    "    \n",
    "<h2>Комментарий студента v_1: <a class=\"tocSkip\"> </h2>\n",
    "\n",
    "Исправила."
   ]
  },
  {
   "cell_type": "markdown",
   "id": "6ae6aed3",
   "metadata": {},
   "source": [
    "<div class=\"alert alert-warning\" style=\"border-radius: 15px; box-shadow: 4px 4px 4px; border: 1px solid \">\n",
    "<h2> Комментарий ревьюера v_1: <a class=\"tocSkip\"> </h2>\n",
    "    \n",
    "⚠️ Лучше для двух датайфреймов строить не отдельные графики, а совместить их в одной визуализации. В итоге, получится одна визуализация, показывающая распределение расстояния с разбивкой по пользователям с подпиской и без, и аналогичная визуализация, но показывающая распределение времени поездок. [Здесь](https://overcoder.net/q/42473/%D1%81%D0%BE%D1%81%D1%82%D0%B0%D0%B2%D1%8C%D1%82%D0%B5-%D0%B4%D0%B2%D0%B5-%D0%B3%D0%B8%D1%81%D1%82%D0%BE%D0%B3%D1%80%D0%B0%D0%BC%D0%BC%D1%8B-%D0%BE%D0%B4%D0%BD%D0%BE%D0%B2%D1%80%D0%B5%D0%BC%D0%B5%D0%BD%D0%BD%D0%BE-%D1%81-%D0%BF%D0%BE%D0%BC%D0%BE%D1%89%D1%8C%D1%8E-matplotlib) есть примеры.\n",
    "    \n",
    "Также рекомендуется использовать функцию `describe()` на этом шаге, чтобы подробнее описать данные\n"
   ]
  },
  {
   "cell_type": "markdown",
   "id": "b291b1b9",
   "metadata": {},
   "source": [
    "<div class=\"alert alert-info\"  style=\"border-radius: 15px; box-shadow: 4px 4px 4px; border: 1px solid \">\n",
    "    \n",
    "<h2>Комментарий студента v_1: <a class=\"tocSkip\"> </h2>\n",
    "\n",
    "Исправила."
   ]
  },
  {
   "cell_type": "markdown",
   "id": "e74188ad",
   "metadata": {},
   "source": [
    "<div class=\"alert alert-success\" style=\"border-radius: 15px; box-shadow: 4px 4px 4px; border: 1px solid \">\n",
    "<h2> Комментарий ревьюера v_2: <a class=\"tocSkip\"> </h2>\n",
    "    \n",
    "✅ Отлично"
   ]
  },
  {
   "cell_type": "code",
   "execution_count": 43,
   "id": "90bdc770",
   "metadata": {},
   "outputs": [
    {
     "data": {
      "text/plain": [
       "count    11568.000000\n",
       "mean        17.390909\n",
       "std          6.326803\n",
       "min          0.500000\n",
       "25%         12.958437\n",
       "50%         17.326890\n",
       "75%         21.594071\n",
       "max         34.948498\n",
       "Name: duration, dtype: float64"
      ]
     },
     "execution_count": 43,
     "metadata": {},
     "output_type": "execute_result"
    }
   ],
   "source": [
    "data_free['duration'].describe()"
   ]
  },
  {
   "cell_type": "code",
   "execution_count": 44,
   "id": "eb01d2b5",
   "metadata": {},
   "outputs": [
    {
     "data": {
      "image/png": "[encoded data removed]",
      "text/plain": [
       "<Figure size 432x288 with 1 Axes>"
      ]
     },
     "metadata": {
      "needs_background": "light"
     },
     "output_type": "display_data"
    }
   ],
   "source": [
    "plt.ylabel(\"Длительность одной поездки, мин.\")\n",
    "plt.ylim(0, 35)\n",
    "data_free.boxplot(column='duration', figsize=(5,10))\n",
    "plt.title('Диаграмма размаха для столбца \"duration\" (пользователи без подписки)', size=15)\n",
    "plt.show()"
   ]
  },
  {
   "cell_type": "code",
   "execution_count": 45,
   "id": "53f6fa2a",
   "metadata": {},
   "outputs": [
    {
     "data": {
      "text/plain": [
       "count    6500.000000\n",
       "mean       18.541985\n",
       "std         5.572048\n",
       "min         3.760353\n",
       "25%        14.524654\n",
       "50%        18.178153\n",
       "75%        21.884129\n",
       "max        40.823963\n",
       "Name: duration, dtype: float64"
      ]
     },
     "execution_count": 45,
     "metadata": {},
     "output_type": "execute_result"
    }
   ],
   "source": [
    "data_ultra['duration'].describe()"
   ]
  },
  {
   "cell_type": "code",
   "execution_count": 46,
   "id": "f535e56d",
   "metadata": {},
   "outputs": [
    {
     "data": {
      "image/png": "[encoded data removed]",
      "text/plain": [
       "<Figure size 432x288 with 1 Axes>"
      ]
     },
     "metadata": {
      "needs_background": "light"
     },
     "output_type": "display_data"
    }
   ],
   "source": [
    "plt.ylabel(\"Длительность одной поездки, мин.\")\n",
    "plt.ylim(0, 45)\n",
    "data_ultra.boxplot(column='duration', figsize=(5,10))\n",
    "plt.title('Диаграмма размаха для столбца \"duration\" (пользователи с подпиской)', size=15)\n",
    "plt.show()"
   ]
  },
  {
   "cell_type": "code",
   "execution_count": 47,
   "id": "43657ff9",
   "metadata": {},
   "outputs": [
    {
     "data": {
      "image/png": "[encoded data removed]",
      "text/plain": [
       "<Figure size 1440x432 with 1 Axes>"
      ]
     },
     "metadata": {
      "needs_background": "light"
     },
     "output_type": "display_data"
    }
   ],
   "source": [
    "plt.figure(figsize=(20,6))\n",
    "plt.grid(True)\n",
    "\n",
    "plt.hist(data_free['duration'], bins=100, alpha=0.5, label='Длительность поездок пользователей без подписки')\n",
    "plt.hist(data_ultra['duration'], bins=100, alpha=0.5, label='Длительность поездок пользователей с подпиской')\n",
    "\n",
    "plt.axvline(x=data_free['duration'].mean(), color='blue', linestyle='--', label='средняя длительность поездки без подписки')\n",
    "plt.axvline(x=data_ultra['duration'].mean(), color='orange', linestyle='--', label='средняя длительность поездки с подпиской')\n",
    "\n",
    "plt.xlabel('длительность, м.')\n",
    "plt.ylabel('кол-во пользователей')\n",
    "plt.title('Длительность поездок пользователей с подпиской и без нее', size=15)\n",
    "plt.legend()\n",
    "plt.show()"
   ]
  },
  {
   "cell_type": "markdown",
   "id": "e90b5937",
   "metadata": {},
   "source": [
    "Нормальные значения для 2х выборок:\n",
    "- Пользователи без подписки проезжают от 0 до 34 минут.\n",
    "- Пользователи с подпиской проезжают от 3,5 до 33 минут.\n",
    "Границы нормы у пользователей без подписки шире, чем у пользователей с подпиской, скорее всего из-за присутствия аномальных поездок.\n",
    "\n",
    "Средняя длительность поездки пользователей без подписки - 17,39 минут.\n",
    "\n",
    "Средняя длительность поездки пользователей с подпиской - 18,54 минут.\n",
    "\n",
    "По длительности поездок выборки в целом похожи за исключением 2х различий:\n",
    "- среди поездок пользователей без подписки есть аномально короткие поездки - до 5 минут, среди которых в свою очередь есть поездки с длительностью менее минуты. \n",
    "- среди поездок пользователей с подпиской есть ряд поездок от 35 минут - аномально долгие."
   ]
  },
  {
   "cell_type": "markdown",
   "id": "aed68d43",
   "metadata": {},
   "source": [
    "<div class=\"alert alert-warning\" style=\"border-radius: 15px; box-shadow: 4px 4px 4px; border: 1px solid \">\n",
    "<h2> Комментарий ревьюера v_1: <a class=\"tocSkip\"> </h2>\n",
    "    \n",
    "⚠️ Что касается дистанции, у каких пользователей бОльший диапазон расстояния поездок и чаще встречаются короткие поездки (до 500 м)? \n",
    "    \n",
    "По длительности у каких пользователей чуть бОльший разброс (на графике или сравнить стандартное отклонение)?"
   ]
  },
  {
   "cell_type": "markdown",
   "id": "9fdef4bf",
   "metadata": {},
   "source": [
    "<div class=\"alert alert-info\"  style=\"border-radius: 15px; box-shadow: 4px 4px 4px; border: 1px solid \">\n",
    "    \n",
    "<h2>Комментарий студента v_1: <a class=\"tocSkip\"> </h2>\n",
    "\n",
    "Больший диапазон расстояния поездок у пользователей без подписки.\n",
    "    \n",
    "Чаще встречаются короткие поездки также у пользователей без подписки.\n",
    "    \n",
    "По длительности поездки больший разброс у пользователей без подписки.\n",
    "    \n",
    "    \n",
    "Пользователи без подписки вероятнее будут новичками, либо людьми, которые обычно используют другие способы передвижения по городу. Это частично может объяснить аномальные поездки.\n",
    "\n",
    "Пользователи с подпиской - опытные пользователи, у которых поездки на самокатах - часть рутины. Их маршруты вполне могут +/- повторяться из раза в раз. Кроме того опытные пользователи более осознанно делают выбор ехать на самокате. Оба эти фактора могут объяснить меньшее количество аномальных поездок.\n"
   ]
  },
  {
   "cell_type": "markdown",
   "id": "402d620f",
   "metadata": {},
   "source": [
    "#### Шаг 5. Подсчёт выручки"
   ]
  },
  {
   "cell_type": "markdown",
   "id": "3bbc409f",
   "metadata": {},
   "source": [
    "Создайте датафрейм с агрегированными данными о поездках на основе датафрейма с объединёнными данными из шага 4: найдите суммарное расстояние, количество поездок и суммарное время для каждого пользователя за каждый месяц."
   ]
  },
  {
   "cell_type": "code",
   "execution_count": 48,
   "id": "faa41c8a",
   "metadata": {},
   "outputs": [
    {
     "data": {
      "text/html": [
       "<div>\n",
       "<style scoped>\n",
       "    .dataframe tbody tr th:only-of-type {\n",
       "        vertical-align: middle;\n",
       "    }\n",
       "\n",
       "    .dataframe tbody tr th {\n",
       "        vertical-align: top;\n",
       "    }\n",
       "\n",
       "    .dataframe thead th {\n",
       "        text-align: right;\n",
       "    }\n",
       "</style>\n",
       "<table border=\"1\" class=\"dataframe\">\n",
       "  <thead>\n",
       "    <tr style=\"text-align: right;\">\n",
       "      <th></th>\n",
       "      <th>user_id</th>\n",
       "      <th>name</th>\n",
       "      <th>age</th>\n",
       "      <th>city</th>\n",
       "      <th>subscription_type</th>\n",
       "      <th>distance</th>\n",
       "      <th>duration</th>\n",
       "      <th>date</th>\n",
       "      <th>month</th>\n",
       "      <th>minute_price</th>\n",
       "      <th>start_ride_price</th>\n",
       "      <th>subscription_fee</th>\n",
       "    </tr>\n",
       "  </thead>\n",
       "  <tbody>\n",
       "    <tr>\n",
       "      <th>0</th>\n",
       "      <td>1</td>\n",
       "      <td>Кира</td>\n",
       "      <td>22</td>\n",
       "      <td>Тюмень</td>\n",
       "      <td>ultra</td>\n",
       "      <td>4409.919140</td>\n",
       "      <td>25.599769</td>\n",
       "      <td>2021-01-01</td>\n",
       "      <td>1</td>\n",
       "      <td>6</td>\n",
       "      <td>0</td>\n",
       "      <td>199</td>\n",
       "    </tr>\n",
       "    <tr>\n",
       "      <th>1</th>\n",
       "      <td>1</td>\n",
       "      <td>Кира</td>\n",
       "      <td>22</td>\n",
       "      <td>Тюмень</td>\n",
       "      <td>ultra</td>\n",
       "      <td>2617.592153</td>\n",
       "      <td>15.816871</td>\n",
       "      <td>2021-01-18</td>\n",
       "      <td>1</td>\n",
       "      <td>6</td>\n",
       "      <td>0</td>\n",
       "      <td>199</td>\n",
       "    </tr>\n",
       "    <tr>\n",
       "      <th>2</th>\n",
       "      <td>1</td>\n",
       "      <td>Кира</td>\n",
       "      <td>22</td>\n",
       "      <td>Тюмень</td>\n",
       "      <td>ultra</td>\n",
       "      <td>754.159807</td>\n",
       "      <td>6.232113</td>\n",
       "      <td>2021-04-20</td>\n",
       "      <td>4</td>\n",
       "      <td>6</td>\n",
       "      <td>0</td>\n",
       "      <td>199</td>\n",
       "    </tr>\n",
       "    <tr>\n",
       "      <th>3</th>\n",
       "      <td>1</td>\n",
       "      <td>Кира</td>\n",
       "      <td>22</td>\n",
       "      <td>Тюмень</td>\n",
       "      <td>ultra</td>\n",
       "      <td>2694.783254</td>\n",
       "      <td>18.511000</td>\n",
       "      <td>2021-08-11</td>\n",
       "      <td>8</td>\n",
       "      <td>6</td>\n",
       "      <td>0</td>\n",
       "      <td>199</td>\n",
       "    </tr>\n",
       "    <tr>\n",
       "      <th>4</th>\n",
       "      <td>1</td>\n",
       "      <td>Кира</td>\n",
       "      <td>22</td>\n",
       "      <td>Тюмень</td>\n",
       "      <td>ultra</td>\n",
       "      <td>4028.687306</td>\n",
       "      <td>26.265803</td>\n",
       "      <td>2021-08-28</td>\n",
       "      <td>8</td>\n",
       "      <td>6</td>\n",
       "      <td>0</td>\n",
       "      <td>199</td>\n",
       "    </tr>\n",
       "    <tr>\n",
       "      <th>5</th>\n",
       "      <td>1</td>\n",
       "      <td>Кира</td>\n",
       "      <td>22</td>\n",
       "      <td>Тюмень</td>\n",
       "      <td>ultra</td>\n",
       "      <td>2770.890808</td>\n",
       "      <td>16.650138</td>\n",
       "      <td>2021-10-09</td>\n",
       "      <td>10</td>\n",
       "      <td>6</td>\n",
       "      <td>0</td>\n",
       "      <td>199</td>\n",
       "    </tr>\n",
       "    <tr>\n",
       "      <th>6</th>\n",
       "      <td>1</td>\n",
       "      <td>Кира</td>\n",
       "      <td>22</td>\n",
       "      <td>Тюмень</td>\n",
       "      <td>ultra</td>\n",
       "      <td>3039.020292</td>\n",
       "      <td>14.927879</td>\n",
       "      <td>2021-10-19</td>\n",
       "      <td>10</td>\n",
       "      <td>6</td>\n",
       "      <td>0</td>\n",
       "      <td>199</td>\n",
       "    </tr>\n",
       "    <tr>\n",
       "      <th>7</th>\n",
       "      <td>1</td>\n",
       "      <td>Кира</td>\n",
       "      <td>22</td>\n",
       "      <td>Тюмень</td>\n",
       "      <td>ultra</td>\n",
       "      <td>2842.118050</td>\n",
       "      <td>23.117468</td>\n",
       "      <td>2021-11-06</td>\n",
       "      <td>11</td>\n",
       "      <td>6</td>\n",
       "      <td>0</td>\n",
       "      <td>199</td>\n",
       "    </tr>\n",
       "    <tr>\n",
       "      <th>8</th>\n",
       "      <td>1</td>\n",
       "      <td>Кира</td>\n",
       "      <td>22</td>\n",
       "      <td>Тюмень</td>\n",
       "      <td>ultra</td>\n",
       "      <td>3412.690668</td>\n",
       "      <td>15.238072</td>\n",
       "      <td>2021-11-14</td>\n",
       "      <td>11</td>\n",
       "      <td>6</td>\n",
       "      <td>0</td>\n",
       "      <td>199</td>\n",
       "    </tr>\n",
       "    <tr>\n",
       "      <th>9</th>\n",
       "      <td>1</td>\n",
       "      <td>Кира</td>\n",
       "      <td>22</td>\n",
       "      <td>Тюмень</td>\n",
       "      <td>ultra</td>\n",
       "      <td>748.690645</td>\n",
       "      <td>15.041884</td>\n",
       "      <td>2021-11-22</td>\n",
       "      <td>11</td>\n",
       "      <td>6</td>\n",
       "      <td>0</td>\n",
       "      <td>199</td>\n",
       "    </tr>\n",
       "    <tr>\n",
       "      <th>10</th>\n",
       "      <td>1</td>\n",
       "      <td>Кира</td>\n",
       "      <td>22</td>\n",
       "      <td>Тюмень</td>\n",
       "      <td>ultra</td>\n",
       "      <td>4031.020195</td>\n",
       "      <td>17.674448</td>\n",
       "      <td>2021-12-14</td>\n",
       "      <td>12</td>\n",
       "      <td>6</td>\n",
       "      <td>0</td>\n",
       "      <td>199</td>\n",
       "    </tr>\n",
       "    <tr>\n",
       "      <th>11</th>\n",
       "      <td>1</td>\n",
       "      <td>Кира</td>\n",
       "      <td>22</td>\n",
       "      <td>Тюмень</td>\n",
       "      <td>ultra</td>\n",
       "      <td>2720.609748</td>\n",
       "      <td>9.529463</td>\n",
       "      <td>2021-12-22</td>\n",
       "      <td>12</td>\n",
       "      <td>6</td>\n",
       "      <td>0</td>\n",
       "      <td>199</td>\n",
       "    </tr>\n",
       "    <tr>\n",
       "      <th>12</th>\n",
       "      <td>2</td>\n",
       "      <td>Станислав</td>\n",
       "      <td>31</td>\n",
       "      <td>Омск</td>\n",
       "      <td>ultra</td>\n",
       "      <td>3105.086678</td>\n",
       "      <td>24.307514</td>\n",
       "      <td>2021-03-15</td>\n",
       "      <td>3</td>\n",
       "      <td>6</td>\n",
       "      <td>0</td>\n",
       "      <td>199</td>\n",
       "    </tr>\n",
       "    <tr>\n",
       "      <th>13</th>\n",
       "      <td>2</td>\n",
       "      <td>Станислав</td>\n",
       "      <td>31</td>\n",
       "      <td>Омск</td>\n",
       "      <td>ultra</td>\n",
       "      <td>3053.519401</td>\n",
       "      <td>11.543256</td>\n",
       "      <td>2021-03-18</td>\n",
       "      <td>3</td>\n",
       "      <td>6</td>\n",
       "      <td>0</td>\n",
       "      <td>199</td>\n",
       "    </tr>\n",
       "    <tr>\n",
       "      <th>14</th>\n",
       "      <td>2</td>\n",
       "      <td>Станислав</td>\n",
       "      <td>31</td>\n",
       "      <td>Омск</td>\n",
       "      <td>ultra</td>\n",
       "      <td>4029.116927</td>\n",
       "      <td>25.109188</td>\n",
       "      <td>2021-03-23</td>\n",
       "      <td>3</td>\n",
       "      <td>6</td>\n",
       "      <td>0</td>\n",
       "      <td>199</td>\n",
       "    </tr>\n",
       "    <tr>\n",
       "      <th>15</th>\n",
       "      <td>2</td>\n",
       "      <td>Станислав</td>\n",
       "      <td>31</td>\n",
       "      <td>Омск</td>\n",
       "      <td>ultra</td>\n",
       "      <td>2805.786329</td>\n",
       "      <td>20.652145</td>\n",
       "      <td>2021-04-08</td>\n",
       "      <td>4</td>\n",
       "      <td>6</td>\n",
       "      <td>0</td>\n",
       "      <td>199</td>\n",
       "    </tr>\n",
       "    <tr>\n",
       "      <th>16</th>\n",
       "      <td>2</td>\n",
       "      <td>Станислав</td>\n",
       "      <td>31</td>\n",
       "      <td>Омск</td>\n",
       "      <td>ultra</td>\n",
       "      <td>3358.595495</td>\n",
       "      <td>18.396489</td>\n",
       "      <td>2021-04-13</td>\n",
       "      <td>4</td>\n",
       "      <td>6</td>\n",
       "      <td>0</td>\n",
       "      <td>199</td>\n",
       "    </tr>\n",
       "    <tr>\n",
       "      <th>17</th>\n",
       "      <td>2</td>\n",
       "      <td>Станислав</td>\n",
       "      <td>31</td>\n",
       "      <td>Омск</td>\n",
       "      <td>ultra</td>\n",
       "      <td>3255.338202</td>\n",
       "      <td>13.851127</td>\n",
       "      <td>2021-06-20</td>\n",
       "      <td>6</td>\n",
       "      <td>6</td>\n",
       "      <td>0</td>\n",
       "      <td>199</td>\n",
       "    </tr>\n",
       "    <tr>\n",
       "      <th>18</th>\n",
       "      <td>2</td>\n",
       "      <td>Станислав</td>\n",
       "      <td>31</td>\n",
       "      <td>Омск</td>\n",
       "      <td>ultra</td>\n",
       "      <td>3942.817648</td>\n",
       "      <td>20.142725</td>\n",
       "      <td>2021-07-02</td>\n",
       "      <td>7</td>\n",
       "      <td>6</td>\n",
       "      <td>0</td>\n",
       "      <td>199</td>\n",
       "    </tr>\n",
       "    <tr>\n",
       "      <th>19</th>\n",
       "      <td>2</td>\n",
       "      <td>Станислав</td>\n",
       "      <td>31</td>\n",
       "      <td>Омск</td>\n",
       "      <td>ultra</td>\n",
       "      <td>2837.905316</td>\n",
       "      <td>26.027432</td>\n",
       "      <td>2021-07-18</td>\n",
       "      <td>7</td>\n",
       "      <td>6</td>\n",
       "      <td>0</td>\n",
       "      <td>199</td>\n",
       "    </tr>\n",
       "  </tbody>\n",
       "</table>\n",
       "</div>"
      ],
      "text/plain": [
       "    user_id       name  age    city subscription_type     distance   duration  \\\n",
       "0         1       Кира   22  Тюмень             ultra  4409.919140  25.599769   \n",
       "1         1       Кира   22  Тюмень             ultra  2617.592153  15.816871   \n",
       "2         1       Кира   22  Тюмень             ultra   754.159807   6.232113   \n",
       "3         1       Кира   22  Тюмень             ultra  2694.783254  18.511000   \n",
       "4         1       Кира   22  Тюмень             ultra  4028.687306  26.265803   \n",
       "5         1       Кира   22  Тюмень             ultra  2770.890808  16.650138   \n",
       "6         1       Кира   22  Тюмень             ultra  3039.020292  14.927879   \n",
       "7         1       Кира   22  Тюмень             ultra  2842.118050  23.117468   \n",
       "8         1       Кира   22  Тюмень             ultra  3412.690668  15.238072   \n",
       "9         1       Кира   22  Тюмень             ultra   748.690645  15.041884   \n",
       "10        1       Кира   22  Тюмень             ultra  4031.020195  17.674448   \n",
       "11        1       Кира   22  Тюмень             ultra  2720.609748   9.529463   \n",
       "12        2  Станислав   31    Омск             ultra  3105.086678  24.307514   \n",
       "13        2  Станислав   31    Омск             ultra  3053.519401  11.543256   \n",
       "14        2  Станислав   31    Омск             ultra  4029.116927  25.109188   \n",
       "15        2  Станислав   31    Омск             ultra  2805.786329  20.652145   \n",
       "16        2  Станислав   31    Омск             ultra  3358.595495  18.396489   \n",
       "17        2  Станислав   31    Омск             ultra  3255.338202  13.851127   \n",
       "18        2  Станислав   31    Омск             ultra  3942.817648  20.142725   \n",
       "19        2  Станислав   31    Омск             ultra  2837.905316  26.027432   \n",
       "\n",
       "         date  month  minute_price  start_ride_price  subscription_fee  \n",
       "0  2021-01-01      1             6                 0               199  \n",
       "1  2021-01-18      1             6                 0               199  \n",
       "2  2021-04-20      4             6                 0               199  \n",
       "3  2021-08-11      8             6                 0               199  \n",
       "4  2021-08-28      8             6                 0               199  \n",
       "5  2021-10-09     10             6                 0               199  \n",
       "6  2021-10-19     10             6                 0               199  \n",
       "7  2021-11-06     11             6                 0               199  \n",
       "8  2021-11-14     11             6                 0               199  \n",
       "9  2021-11-22     11             6                 0               199  \n",
       "10 2021-12-14     12             6                 0               199  \n",
       "11 2021-12-22     12             6                 0               199  \n",
       "12 2021-03-15      3             6                 0               199  \n",
       "13 2021-03-18      3             6                 0               199  \n",
       "14 2021-03-23      3             6                 0               199  \n",
       "15 2021-04-08      4             6                 0               199  \n",
       "16 2021-04-13      4             6                 0               199  \n",
       "17 2021-06-20      6             6                 0               199  \n",
       "18 2021-07-02      7             6                 0               199  \n",
       "19 2021-07-18      7             6                 0               199  "
      ]
     },
     "execution_count": 48,
     "metadata": {},
     "output_type": "execute_result"
    }
   ],
   "source": [
    "data.head(20)"
   ]
  },
  {
   "cell_type": "markdown",
   "id": "281f16fc",
   "metadata": {},
   "source": [
    "В этот же датафрейм добавьте столбец с помесячной выручкой, которую принёс каждый пользователь. Для этого обратитесь к информации об условиях оплаты для подписчиков и тех, у кого нет подписки. Продолжительность каждой поездки в каждой строке исходного датафрейма для подсчёта стоимости округляется до следующего целого числа: например, значения \n",
    "25.3, 25.5 и 26.0 должны быть преобразованы к 26."
   ]
  },
  {
   "cell_type": "code",
   "execution_count": 49,
   "id": "3af810a5",
   "metadata": {},
   "outputs": [
    {
     "data": {
      "text/html": [
       "<div>\n",
       "<style scoped>\n",
       "    .dataframe tbody tr th:only-of-type {\n",
       "        vertical-align: middle;\n",
       "    }\n",
       "\n",
       "    .dataframe tbody tr th {\n",
       "        vertical-align: top;\n",
       "    }\n",
       "\n",
       "    .dataframe thead th {\n",
       "        text-align: right;\n",
       "    }\n",
       "</style>\n",
       "<table border=\"1\" class=\"dataframe\">\n",
       "  <thead>\n",
       "    <tr style=\"text-align: right;\">\n",
       "      <th></th>\n",
       "      <th>user_id</th>\n",
       "      <th>name</th>\n",
       "      <th>age</th>\n",
       "      <th>city</th>\n",
       "      <th>subscription_type</th>\n",
       "      <th>distance</th>\n",
       "      <th>duration</th>\n",
       "      <th>date</th>\n",
       "      <th>month</th>\n",
       "      <th>minute_price</th>\n",
       "      <th>start_ride_price</th>\n",
       "      <th>subscription_fee</th>\n",
       "      <th>round_duration</th>\n",
       "    </tr>\n",
       "  </thead>\n",
       "  <tbody>\n",
       "    <tr>\n",
       "      <th>0</th>\n",
       "      <td>1</td>\n",
       "      <td>Кира</td>\n",
       "      <td>22</td>\n",
       "      <td>Тюмень</td>\n",
       "      <td>ultra</td>\n",
       "      <td>4409.919140</td>\n",
       "      <td>25.599769</td>\n",
       "      <td>2021-01-01</td>\n",
       "      <td>1</td>\n",
       "      <td>6</td>\n",
       "      <td>0</td>\n",
       "      <td>199</td>\n",
       "      <td>26.0</td>\n",
       "    </tr>\n",
       "    <tr>\n",
       "      <th>1</th>\n",
       "      <td>1</td>\n",
       "      <td>Кира</td>\n",
       "      <td>22</td>\n",
       "      <td>Тюмень</td>\n",
       "      <td>ultra</td>\n",
       "      <td>2617.592153</td>\n",
       "      <td>15.816871</td>\n",
       "      <td>2021-01-18</td>\n",
       "      <td>1</td>\n",
       "      <td>6</td>\n",
       "      <td>0</td>\n",
       "      <td>199</td>\n",
       "      <td>16.0</td>\n",
       "    </tr>\n",
       "    <tr>\n",
       "      <th>2</th>\n",
       "      <td>1</td>\n",
       "      <td>Кира</td>\n",
       "      <td>22</td>\n",
       "      <td>Тюмень</td>\n",
       "      <td>ultra</td>\n",
       "      <td>754.159807</td>\n",
       "      <td>6.232113</td>\n",
       "      <td>2021-04-20</td>\n",
       "      <td>4</td>\n",
       "      <td>6</td>\n",
       "      <td>0</td>\n",
       "      <td>199</td>\n",
       "      <td>7.0</td>\n",
       "    </tr>\n",
       "    <tr>\n",
       "      <th>3</th>\n",
       "      <td>1</td>\n",
       "      <td>Кира</td>\n",
       "      <td>22</td>\n",
       "      <td>Тюмень</td>\n",
       "      <td>ultra</td>\n",
       "      <td>2694.783254</td>\n",
       "      <td>18.511000</td>\n",
       "      <td>2021-08-11</td>\n",
       "      <td>8</td>\n",
       "      <td>6</td>\n",
       "      <td>0</td>\n",
       "      <td>199</td>\n",
       "      <td>19.0</td>\n",
       "    </tr>\n",
       "    <tr>\n",
       "      <th>4</th>\n",
       "      <td>1</td>\n",
       "      <td>Кира</td>\n",
       "      <td>22</td>\n",
       "      <td>Тюмень</td>\n",
       "      <td>ultra</td>\n",
       "      <td>4028.687306</td>\n",
       "      <td>26.265803</td>\n",
       "      <td>2021-08-28</td>\n",
       "      <td>8</td>\n",
       "      <td>6</td>\n",
       "      <td>0</td>\n",
       "      <td>199</td>\n",
       "      <td>27.0</td>\n",
       "    </tr>\n",
       "    <tr>\n",
       "      <th>5</th>\n",
       "      <td>1</td>\n",
       "      <td>Кира</td>\n",
       "      <td>22</td>\n",
       "      <td>Тюмень</td>\n",
       "      <td>ultra</td>\n",
       "      <td>2770.890808</td>\n",
       "      <td>16.650138</td>\n",
       "      <td>2021-10-09</td>\n",
       "      <td>10</td>\n",
       "      <td>6</td>\n",
       "      <td>0</td>\n",
       "      <td>199</td>\n",
       "      <td>17.0</td>\n",
       "    </tr>\n",
       "    <tr>\n",
       "      <th>6</th>\n",
       "      <td>1</td>\n",
       "      <td>Кира</td>\n",
       "      <td>22</td>\n",
       "      <td>Тюмень</td>\n",
       "      <td>ultra</td>\n",
       "      <td>3039.020292</td>\n",
       "      <td>14.927879</td>\n",
       "      <td>2021-10-19</td>\n",
       "      <td>10</td>\n",
       "      <td>6</td>\n",
       "      <td>0</td>\n",
       "      <td>199</td>\n",
       "      <td>15.0</td>\n",
       "    </tr>\n",
       "    <tr>\n",
       "      <th>7</th>\n",
       "      <td>1</td>\n",
       "      <td>Кира</td>\n",
       "      <td>22</td>\n",
       "      <td>Тюмень</td>\n",
       "      <td>ultra</td>\n",
       "      <td>2842.118050</td>\n",
       "      <td>23.117468</td>\n",
       "      <td>2021-11-06</td>\n",
       "      <td>11</td>\n",
       "      <td>6</td>\n",
       "      <td>0</td>\n",
       "      <td>199</td>\n",
       "      <td>24.0</td>\n",
       "    </tr>\n",
       "    <tr>\n",
       "      <th>8</th>\n",
       "      <td>1</td>\n",
       "      <td>Кира</td>\n",
       "      <td>22</td>\n",
       "      <td>Тюмень</td>\n",
       "      <td>ultra</td>\n",
       "      <td>3412.690668</td>\n",
       "      <td>15.238072</td>\n",
       "      <td>2021-11-14</td>\n",
       "      <td>11</td>\n",
       "      <td>6</td>\n",
       "      <td>0</td>\n",
       "      <td>199</td>\n",
       "      <td>16.0</td>\n",
       "    </tr>\n",
       "    <tr>\n",
       "      <th>9</th>\n",
       "      <td>1</td>\n",
       "      <td>Кира</td>\n",
       "      <td>22</td>\n",
       "      <td>Тюмень</td>\n",
       "      <td>ultra</td>\n",
       "      <td>748.690645</td>\n",
       "      <td>15.041884</td>\n",
       "      <td>2021-11-22</td>\n",
       "      <td>11</td>\n",
       "      <td>6</td>\n",
       "      <td>0</td>\n",
       "      <td>199</td>\n",
       "      <td>16.0</td>\n",
       "    </tr>\n",
       "  </tbody>\n",
       "</table>\n",
       "</div>"
      ],
      "text/plain": [
       "   user_id  name  age    city subscription_type     distance   duration  \\\n",
       "0        1  Кира   22  Тюмень             ultra  4409.919140  25.599769   \n",
       "1        1  Кира   22  Тюмень             ultra  2617.592153  15.816871   \n",
       "2        1  Кира   22  Тюмень             ultra   754.159807   6.232113   \n",
       "3        1  Кира   22  Тюмень             ultra  2694.783254  18.511000   \n",
       "4        1  Кира   22  Тюмень             ultra  4028.687306  26.265803   \n",
       "5        1  Кира   22  Тюмень             ultra  2770.890808  16.650138   \n",
       "6        1  Кира   22  Тюмень             ultra  3039.020292  14.927879   \n",
       "7        1  Кира   22  Тюмень             ultra  2842.118050  23.117468   \n",
       "8        1  Кира   22  Тюмень             ultra  3412.690668  15.238072   \n",
       "9        1  Кира   22  Тюмень             ultra   748.690645  15.041884   \n",
       "\n",
       "        date  month  minute_price  start_ride_price  subscription_fee  \\\n",
       "0 2021-01-01      1             6                 0               199   \n",
       "1 2021-01-18      1             6                 0               199   \n",
       "2 2021-04-20      4             6                 0               199   \n",
       "3 2021-08-11      8             6                 0               199   \n",
       "4 2021-08-28      8             6                 0               199   \n",
       "5 2021-10-09     10             6                 0               199   \n",
       "6 2021-10-19     10             6                 0               199   \n",
       "7 2021-11-06     11             6                 0               199   \n",
       "8 2021-11-14     11             6                 0               199   \n",
       "9 2021-11-22     11             6                 0               199   \n",
       "\n",
       "   round_duration  \n",
       "0            26.0  \n",
       "1            16.0  \n",
       "2             7.0  \n",
       "3            19.0  \n",
       "4            27.0  \n",
       "5            17.0  \n",
       "6            15.0  \n",
       "7            24.0  \n",
       "8            16.0  \n",
       "9            16.0  "
      ]
     },
     "execution_count": 49,
     "metadata": {},
     "output_type": "execute_result"
    }
   ],
   "source": [
    "data['round_duration'] = np.ceil(data['duration']) \n",
    "data.head(10)"
   ]
  },
  {
   "cell_type": "code",
   "execution_count": 50,
   "id": "edee66ad",
   "metadata": {
    "scrolled": true
   },
   "outputs": [
    {
     "data": {
      "text/html": [
       "<div>\n",
       "<style scoped>\n",
       "    .dataframe tbody tr th:only-of-type {\n",
       "        vertical-align: middle;\n",
       "    }\n",
       "\n",
       "    .dataframe tbody tr th {\n",
       "        vertical-align: top;\n",
       "    }\n",
       "\n",
       "    .dataframe thead th {\n",
       "        text-align: right;\n",
       "    }\n",
       "</style>\n",
       "<table border=\"1\" class=\"dataframe\">\n",
       "  <thead>\n",
       "    <tr style=\"text-align: right;\">\n",
       "      <th></th>\n",
       "      <th>user_id</th>\n",
       "      <th>subscription_type</th>\n",
       "      <th>month</th>\n",
       "      <th>distance</th>\n",
       "      <th>duration</th>\n",
       "      <th>count</th>\n",
       "    </tr>\n",
       "  </thead>\n",
       "  <tbody>\n",
       "    <tr>\n",
       "      <th>0</th>\n",
       "      <td>1</td>\n",
       "      <td>ultra</td>\n",
       "      <td>1</td>\n",
       "      <td>7027.511294</td>\n",
       "      <td>42.0</td>\n",
       "      <td>2</td>\n",
       "    </tr>\n",
       "    <tr>\n",
       "      <th>1</th>\n",
       "      <td>1</td>\n",
       "      <td>ultra</td>\n",
       "      <td>4</td>\n",
       "      <td>754.159807</td>\n",
       "      <td>7.0</td>\n",
       "      <td>1</td>\n",
       "    </tr>\n",
       "    <tr>\n",
       "      <th>2</th>\n",
       "      <td>1</td>\n",
       "      <td>ultra</td>\n",
       "      <td>8</td>\n",
       "      <td>6723.470560</td>\n",
       "      <td>46.0</td>\n",
       "      <td>2</td>\n",
       "    </tr>\n",
       "    <tr>\n",
       "      <th>3</th>\n",
       "      <td>1</td>\n",
       "      <td>ultra</td>\n",
       "      <td>10</td>\n",
       "      <td>5809.911100</td>\n",
       "      <td>32.0</td>\n",
       "      <td>2</td>\n",
       "    </tr>\n",
       "    <tr>\n",
       "      <th>4</th>\n",
       "      <td>1</td>\n",
       "      <td>ultra</td>\n",
       "      <td>11</td>\n",
       "      <td>7003.499363</td>\n",
       "      <td>56.0</td>\n",
       "      <td>3</td>\n",
       "    </tr>\n",
       "    <tr>\n",
       "      <th>5</th>\n",
       "      <td>1</td>\n",
       "      <td>ultra</td>\n",
       "      <td>12</td>\n",
       "      <td>6751.629942</td>\n",
       "      <td>28.0</td>\n",
       "      <td>2</td>\n",
       "    </tr>\n",
       "    <tr>\n",
       "      <th>6</th>\n",
       "      <td>2</td>\n",
       "      <td>ultra</td>\n",
       "      <td>3</td>\n",
       "      <td>10187.723006</td>\n",
       "      <td>63.0</td>\n",
       "      <td>3</td>\n",
       "    </tr>\n",
       "    <tr>\n",
       "      <th>7</th>\n",
       "      <td>2</td>\n",
       "      <td>ultra</td>\n",
       "      <td>4</td>\n",
       "      <td>6164.381824</td>\n",
       "      <td>40.0</td>\n",
       "      <td>2</td>\n",
       "    </tr>\n",
       "    <tr>\n",
       "      <th>8</th>\n",
       "      <td>2</td>\n",
       "      <td>ultra</td>\n",
       "      <td>6</td>\n",
       "      <td>3255.338202</td>\n",
       "      <td>14.0</td>\n",
       "      <td>1</td>\n",
       "    </tr>\n",
       "    <tr>\n",
       "      <th>9</th>\n",
       "      <td>2</td>\n",
       "      <td>ultra</td>\n",
       "      <td>7</td>\n",
       "      <td>6780.722964</td>\n",
       "      <td>48.0</td>\n",
       "      <td>2</td>\n",
       "    </tr>\n",
       "  </tbody>\n",
       "</table>\n",
       "</div>"
      ],
      "text/plain": [
       "   user_id subscription_type  month      distance  duration  count\n",
       "0        1             ultra      1   7027.511294      42.0      2\n",
       "1        1             ultra      4    754.159807       7.0      1\n",
       "2        1             ultra      8   6723.470560      46.0      2\n",
       "3        1             ultra     10   5809.911100      32.0      2\n",
       "4        1             ultra     11   7003.499363      56.0      3\n",
       "5        1             ultra     12   6751.629942      28.0      2\n",
       "6        2             ultra      3  10187.723006      63.0      3\n",
       "7        2             ultra      4   6164.381824      40.0      2\n",
       "8        2             ultra      6   3255.338202      14.0      1\n",
       "9        2             ultra      7   6780.722964      48.0      2"
      ]
     },
     "execution_count": 50,
     "metadata": {},
     "output_type": "execute_result"
    }
   ],
   "source": [
    "data_pivot = data.pivot_table(index=['user_id','subscription_type','month'], values=['distance', 'round_duration'], aggfunc=['sum', 'count']).reset_index()\n",
    "data_pivot.columns = ['user_id', 'subscription_type', 'month', 'distance', 'duration', 'count', 'count2']\n",
    "data_pivot = data_pivot[['user_id', 'subscription_type', 'month', 'distance', 'duration', 'count']]\n",
    "data_pivot.head(10)"
   ]
  },
  {
   "cell_type": "code",
   "execution_count": 51,
   "id": "d44a63e2",
   "metadata": {},
   "outputs": [
    {
     "data": {
      "text/html": [
       "<div>\n",
       "<style scoped>\n",
       "    .dataframe tbody tr th:only-of-type {\n",
       "        vertical-align: middle;\n",
       "    }\n",
       "\n",
       "    .dataframe tbody tr th {\n",
       "        vertical-align: top;\n",
       "    }\n",
       "\n",
       "    .dataframe thead th {\n",
       "        text-align: right;\n",
       "    }\n",
       "</style>\n",
       "<table border=\"1\" class=\"dataframe\">\n",
       "  <thead>\n",
       "    <tr style=\"text-align: right;\">\n",
       "      <th></th>\n",
       "      <th>user_id</th>\n",
       "      <th>subscription_type</th>\n",
       "      <th>month</th>\n",
       "      <th>distance</th>\n",
       "      <th>duration</th>\n",
       "      <th>count</th>\n",
       "      <th>minute_price</th>\n",
       "      <th>start_ride_price</th>\n",
       "      <th>subscription_fee</th>\n",
       "    </tr>\n",
       "  </thead>\n",
       "  <tbody>\n",
       "    <tr>\n",
       "      <th>0</th>\n",
       "      <td>1</td>\n",
       "      <td>ultra</td>\n",
       "      <td>1</td>\n",
       "      <td>7027.511294</td>\n",
       "      <td>42.0</td>\n",
       "      <td>2</td>\n",
       "      <td>6</td>\n",
       "      <td>0</td>\n",
       "      <td>199</td>\n",
       "    </tr>\n",
       "    <tr>\n",
       "      <th>1</th>\n",
       "      <td>1</td>\n",
       "      <td>ultra</td>\n",
       "      <td>4</td>\n",
       "      <td>754.159807</td>\n",
       "      <td>7.0</td>\n",
       "      <td>1</td>\n",
       "      <td>6</td>\n",
       "      <td>0</td>\n",
       "      <td>199</td>\n",
       "    </tr>\n",
       "    <tr>\n",
       "      <th>2</th>\n",
       "      <td>1</td>\n",
       "      <td>ultra</td>\n",
       "      <td>8</td>\n",
       "      <td>6723.470560</td>\n",
       "      <td>46.0</td>\n",
       "      <td>2</td>\n",
       "      <td>6</td>\n",
       "      <td>0</td>\n",
       "      <td>199</td>\n",
       "    </tr>\n",
       "    <tr>\n",
       "      <th>3</th>\n",
       "      <td>1</td>\n",
       "      <td>ultra</td>\n",
       "      <td>10</td>\n",
       "      <td>5809.911100</td>\n",
       "      <td>32.0</td>\n",
       "      <td>2</td>\n",
       "      <td>6</td>\n",
       "      <td>0</td>\n",
       "      <td>199</td>\n",
       "    </tr>\n",
       "    <tr>\n",
       "      <th>4</th>\n",
       "      <td>1</td>\n",
       "      <td>ultra</td>\n",
       "      <td>11</td>\n",
       "      <td>7003.499363</td>\n",
       "      <td>56.0</td>\n",
       "      <td>3</td>\n",
       "      <td>6</td>\n",
       "      <td>0</td>\n",
       "      <td>199</td>\n",
       "    </tr>\n",
       "    <tr>\n",
       "      <th>5</th>\n",
       "      <td>1</td>\n",
       "      <td>ultra</td>\n",
       "      <td>12</td>\n",
       "      <td>6751.629942</td>\n",
       "      <td>28.0</td>\n",
       "      <td>2</td>\n",
       "      <td>6</td>\n",
       "      <td>0</td>\n",
       "      <td>199</td>\n",
       "    </tr>\n",
       "    <tr>\n",
       "      <th>6</th>\n",
       "      <td>2</td>\n",
       "      <td>ultra</td>\n",
       "      <td>3</td>\n",
       "      <td>10187.723006</td>\n",
       "      <td>63.0</td>\n",
       "      <td>3</td>\n",
       "      <td>6</td>\n",
       "      <td>0</td>\n",
       "      <td>199</td>\n",
       "    </tr>\n",
       "    <tr>\n",
       "      <th>7</th>\n",
       "      <td>2</td>\n",
       "      <td>ultra</td>\n",
       "      <td>4</td>\n",
       "      <td>6164.381824</td>\n",
       "      <td>40.0</td>\n",
       "      <td>2</td>\n",
       "      <td>6</td>\n",
       "      <td>0</td>\n",
       "      <td>199</td>\n",
       "    </tr>\n",
       "    <tr>\n",
       "      <th>8</th>\n",
       "      <td>2</td>\n",
       "      <td>ultra</td>\n",
       "      <td>6</td>\n",
       "      <td>3255.338202</td>\n",
       "      <td>14.0</td>\n",
       "      <td>1</td>\n",
       "      <td>6</td>\n",
       "      <td>0</td>\n",
       "      <td>199</td>\n",
       "    </tr>\n",
       "    <tr>\n",
       "      <th>9</th>\n",
       "      <td>2</td>\n",
       "      <td>ultra</td>\n",
       "      <td>7</td>\n",
       "      <td>6780.722964</td>\n",
       "      <td>48.0</td>\n",
       "      <td>2</td>\n",
       "      <td>6</td>\n",
       "      <td>0</td>\n",
       "      <td>199</td>\n",
       "    </tr>\n",
       "  </tbody>\n",
       "</table>\n",
       "</div>"
      ],
      "text/plain": [
       "   user_id subscription_type  month      distance  duration  count  \\\n",
       "0        1             ultra      1   7027.511294      42.0      2   \n",
       "1        1             ultra      4    754.159807       7.0      1   \n",
       "2        1             ultra      8   6723.470560      46.0      2   \n",
       "3        1             ultra     10   5809.911100      32.0      2   \n",
       "4        1             ultra     11   7003.499363      56.0      3   \n",
       "5        1             ultra     12   6751.629942      28.0      2   \n",
       "6        2             ultra      3  10187.723006      63.0      3   \n",
       "7        2             ultra      4   6164.381824      40.0      2   \n",
       "8        2             ultra      6   3255.338202      14.0      1   \n",
       "9        2             ultra      7   6780.722964      48.0      2   \n",
       "\n",
       "   minute_price  start_ride_price  subscription_fee  \n",
       "0             6                 0               199  \n",
       "1             6                 0               199  \n",
       "2             6                 0               199  \n",
       "3             6                 0               199  \n",
       "4             6                 0               199  \n",
       "5             6                 0               199  \n",
       "6             6                 0               199  \n",
       "7             6                 0               199  \n",
       "8             6                 0               199  \n",
       "9             6                 0               199  "
      ]
     },
     "execution_count": 51,
     "metadata": {},
     "output_type": "execute_result"
    }
   ],
   "source": [
    "data_pivot = data_pivot.merge(subscriptions, on='subscription_type', how='left')\n",
    "data_pivot.head(10)"
   ]
  },
  {
   "cell_type": "markdown",
   "id": "a2764506",
   "metadata": {},
   "source": [
    "<div class=\"alert alert-block alert-danger\" style=\"border-radius: 15px; box-shadow: 4px 4px 4px; border: 1px solid \">\n",
    "<h2> Комментарий ревьюера v_1: <a class=\"tocSkip\"></h2>\n",
    "    \n",
    "❌ Округлять до следующего целого необходимо до создания таблицы с агрегированными данными. В задании написано: \"Продолжительность каждой поездки в каждой строке исходного датафрейма для подсчёта стоимости округляется до следующего целого числа\". Именно исходного, а не только что созданного. Округлять продолжительность каждой поездки, а не результат суммирования."
   ]
  },
  {
   "cell_type": "markdown",
   "id": "f9c95045",
   "metadata": {},
   "source": [
    "<div class=\"alert alert-info\"  style=\"border-radius: 15px; box-shadow: 4px 4px 4px; border: 1px solid \">\n",
    "    \n",
    "<h2>Комментарий студента v_1: <a class=\"tocSkip\"> </h2>\n",
    "\n",
    "Исправила."
   ]
  },
  {
   "cell_type": "markdown",
   "id": "da4497d1",
   "metadata": {},
   "source": [
    "<div class=\"alert alert-success\" style=\"border-radius: 15px; box-shadow: 4px 4px 4px; border: 1px solid \">\n",
    "<h2> Комментарий ревьюера v_2: <a class=\"tocSkip\"> </h2>\n",
    "    \n",
    "✅ Теперь верно"
   ]
  },
  {
   "cell_type": "code",
   "execution_count": 52,
   "id": "f42adc0e",
   "metadata": {
    "scrolled": false
   },
   "outputs": [
    {
     "data": {
      "text/html": [
       "<div>\n",
       "<style scoped>\n",
       "    .dataframe tbody tr th:only-of-type {\n",
       "        vertical-align: middle;\n",
       "    }\n",
       "\n",
       "    .dataframe tbody tr th {\n",
       "        vertical-align: top;\n",
       "    }\n",
       "\n",
       "    .dataframe thead th {\n",
       "        text-align: right;\n",
       "    }\n",
       "</style>\n",
       "<table border=\"1\" class=\"dataframe\">\n",
       "  <thead>\n",
       "    <tr style=\"text-align: right;\">\n",
       "      <th></th>\n",
       "      <th>user_id</th>\n",
       "      <th>subscription_type</th>\n",
       "      <th>month</th>\n",
       "      <th>distance</th>\n",
       "      <th>duration</th>\n",
       "      <th>count</th>\n",
       "      <th>minute_price</th>\n",
       "      <th>start_ride_price</th>\n",
       "      <th>subscription_fee</th>\n",
       "      <th>revenue</th>\n",
       "    </tr>\n",
       "  </thead>\n",
       "  <tbody>\n",
       "    <tr>\n",
       "      <th>0</th>\n",
       "      <td>1</td>\n",
       "      <td>ultra</td>\n",
       "      <td>1</td>\n",
       "      <td>7027.511294</td>\n",
       "      <td>42.0</td>\n",
       "      <td>2</td>\n",
       "      <td>6</td>\n",
       "      <td>0</td>\n",
       "      <td>199</td>\n",
       "      <td>451.0</td>\n",
       "    </tr>\n",
       "    <tr>\n",
       "      <th>1</th>\n",
       "      <td>1</td>\n",
       "      <td>ultra</td>\n",
       "      <td>4</td>\n",
       "      <td>754.159807</td>\n",
       "      <td>7.0</td>\n",
       "      <td>1</td>\n",
       "      <td>6</td>\n",
       "      <td>0</td>\n",
       "      <td>199</td>\n",
       "      <td>241.0</td>\n",
       "    </tr>\n",
       "    <tr>\n",
       "      <th>2</th>\n",
       "      <td>1</td>\n",
       "      <td>ultra</td>\n",
       "      <td>8</td>\n",
       "      <td>6723.470560</td>\n",
       "      <td>46.0</td>\n",
       "      <td>2</td>\n",
       "      <td>6</td>\n",
       "      <td>0</td>\n",
       "      <td>199</td>\n",
       "      <td>475.0</td>\n",
       "    </tr>\n",
       "    <tr>\n",
       "      <th>3</th>\n",
       "      <td>1</td>\n",
       "      <td>ultra</td>\n",
       "      <td>10</td>\n",
       "      <td>5809.911100</td>\n",
       "      <td>32.0</td>\n",
       "      <td>2</td>\n",
       "      <td>6</td>\n",
       "      <td>0</td>\n",
       "      <td>199</td>\n",
       "      <td>391.0</td>\n",
       "    </tr>\n",
       "    <tr>\n",
       "      <th>4</th>\n",
       "      <td>1</td>\n",
       "      <td>ultra</td>\n",
       "      <td>11</td>\n",
       "      <td>7003.499363</td>\n",
       "      <td>56.0</td>\n",
       "      <td>3</td>\n",
       "      <td>6</td>\n",
       "      <td>0</td>\n",
       "      <td>199</td>\n",
       "      <td>535.0</td>\n",
       "    </tr>\n",
       "    <tr>\n",
       "      <th>5</th>\n",
       "      <td>1</td>\n",
       "      <td>ultra</td>\n",
       "      <td>12</td>\n",
       "      <td>6751.629942</td>\n",
       "      <td>28.0</td>\n",
       "      <td>2</td>\n",
       "      <td>6</td>\n",
       "      <td>0</td>\n",
       "      <td>199</td>\n",
       "      <td>367.0</td>\n",
       "    </tr>\n",
       "    <tr>\n",
       "      <th>6</th>\n",
       "      <td>2</td>\n",
       "      <td>ultra</td>\n",
       "      <td>3</td>\n",
       "      <td>10187.723006</td>\n",
       "      <td>63.0</td>\n",
       "      <td>3</td>\n",
       "      <td>6</td>\n",
       "      <td>0</td>\n",
       "      <td>199</td>\n",
       "      <td>577.0</td>\n",
       "    </tr>\n",
       "    <tr>\n",
       "      <th>7</th>\n",
       "      <td>2</td>\n",
       "      <td>ultra</td>\n",
       "      <td>4</td>\n",
       "      <td>6164.381824</td>\n",
       "      <td>40.0</td>\n",
       "      <td>2</td>\n",
       "      <td>6</td>\n",
       "      <td>0</td>\n",
       "      <td>199</td>\n",
       "      <td>439.0</td>\n",
       "    </tr>\n",
       "    <tr>\n",
       "      <th>8</th>\n",
       "      <td>2</td>\n",
       "      <td>ultra</td>\n",
       "      <td>6</td>\n",
       "      <td>3255.338202</td>\n",
       "      <td>14.0</td>\n",
       "      <td>1</td>\n",
       "      <td>6</td>\n",
       "      <td>0</td>\n",
       "      <td>199</td>\n",
       "      <td>283.0</td>\n",
       "    </tr>\n",
       "    <tr>\n",
       "      <th>9</th>\n",
       "      <td>2</td>\n",
       "      <td>ultra</td>\n",
       "      <td>7</td>\n",
       "      <td>6780.722964</td>\n",
       "      <td>48.0</td>\n",
       "      <td>2</td>\n",
       "      <td>6</td>\n",
       "      <td>0</td>\n",
       "      <td>199</td>\n",
       "      <td>487.0</td>\n",
       "    </tr>\n",
       "  </tbody>\n",
       "</table>\n",
       "</div>"
      ],
      "text/plain": [
       "   user_id subscription_type  month      distance  duration  count  \\\n",
       "0        1             ultra      1   7027.511294      42.0      2   \n",
       "1        1             ultra      4    754.159807       7.0      1   \n",
       "2        1             ultra      8   6723.470560      46.0      2   \n",
       "3        1             ultra     10   5809.911100      32.0      2   \n",
       "4        1             ultra     11   7003.499363      56.0      3   \n",
       "5        1             ultra     12   6751.629942      28.0      2   \n",
       "6        2             ultra      3  10187.723006      63.0      3   \n",
       "7        2             ultra      4   6164.381824      40.0      2   \n",
       "8        2             ultra      6   3255.338202      14.0      1   \n",
       "9        2             ultra      7   6780.722964      48.0      2   \n",
       "\n",
       "   minute_price  start_ride_price  subscription_fee  revenue  \n",
       "0             6                 0               199    451.0  \n",
       "1             6                 0               199    241.0  \n",
       "2             6                 0               199    475.0  \n",
       "3             6                 0               199    391.0  \n",
       "4             6                 0               199    535.0  \n",
       "5             6                 0               199    367.0  \n",
       "6             6                 0               199    577.0  \n",
       "7             6                 0               199    439.0  \n",
       "8             6                 0               199    283.0  \n",
       "9             6                 0               199    487.0  "
      ]
     },
     "execution_count": 52,
     "metadata": {},
     "output_type": "execute_result"
    }
   ],
   "source": [
    "data_pivot['revenue'] = (data_pivot['start_ride_price']*data_pivot['count'])+(data_pivot['minute_price']*data_pivot['duration'])+data_pivot['subscription_fee']\n",
    "\n",
    "data_pivot.head(10)"
   ]
  },
  {
   "cell_type": "markdown",
   "id": "eb2a3906",
   "metadata": {},
   "source": [
    "<div class=\"alert alert-success\" style=\"border-radius: 15px; box-shadow: 4px 4px 4px; border: 1px solid \">\n",
    "<h2> Комментарий ревьюера v_1: <a class=\"tocSkip\"> </h2>\n",
    "    \n",
    "✅ В целом, расчеты верные, но нужно доработать округление."
   ]
  },
  {
   "cell_type": "markdown",
   "id": "41545ac0",
   "metadata": {},
   "source": [
    "#### Шаг 6. Проверка гипотез"
   ]
  },
  {
   "cell_type": "markdown",
   "id": "e32d0c5e",
   "metadata": {},
   "source": [
    "6.1 Важно понять, тратят ли пользователи с подпиской больше времени на поездки? Если да, то пользователи с подпиской могут быть «выгоднее» для компании. Проверьте гипотезу. Используйте исходные данные о продолжительности каждой сессии — отдельно для подписчиков и тех, у кого нет подписки."
   ]
  },
  {
   "cell_type": "code",
   "execution_count": 53,
   "id": "79f9fd69",
   "metadata": {},
   "outputs": [
    {
     "name": "stdout",
     "output_type": "stream",
     "text": [
      "p-value: 1.2804098316645618e-34\n",
      "Отвергаем нулевую гипотезу\n"
     ]
    }
   ],
   "source": [
    "# Нулевая гипотеза: средние значения совокупностей равны.\n",
    "# Альтернативная гипотеза: среднее значение первой генеральной совокупности больше среднего значения второй генеральной совокупности.\n",
    "\n",
    "data_ultra['duration'] \n",
    "data_free['duration']\n",
    "\n",
    "# задаём уровень значимости\n",
    "alpha = 0.05\n",
    "\n",
    "# траты первой группы пользователей (с подпиской)\n",
    "first_group_total = data_ultra['duration'] \n",
    "\n",
    "# траты второй группы пользователей (без подписки)\n",
    "second_group_total = data_free['duration']\n",
    "\n",
    "# проводим ttest для двух выборок, в качестве альтернативной используем одностороннюю гипотезу «больше»\n",
    "results = st.ttest_ind(first_group_total, second_group_total, alternative='greater')\n",
    "\n",
    "print(f'p-value: {results.pvalue}')\n",
    "\n",
    "# проверяем p-value\n",
    "if results.pvalue < alpha:\n",
    "    print('Отвергаем нулевую гипотезу')\n",
    "else:\n",
    "    print('Нет оснований отвергнуть нулевую гипотезу')"
   ]
  },
  {
   "cell_type": "markdown",
   "id": "1dafce11",
   "metadata": {},
   "source": [
    "<div class=\"alert alert-block alert-danger\" style=\"border-radius: 15px; box-shadow: 4px 4px 4px; border: 1px solid \">\n",
    "<h2> Комментарий ревьюера v_1: <a class=\"tocSkip\"></h2>\n",
    "    \n",
    "❌ В п. 1 необходимо проверить гипотезу, используя метод ttest_ind() (урок \"Гипотеза о равенстве средних двух генеральных совокупностей\") "
   ]
  },
  {
   "cell_type": "markdown",
   "id": "bd219864",
   "metadata": {},
   "source": [
    "<div class=\"alert alert-info\"  style=\"border-radius: 15px; box-shadow: 4px 4px 4px; border: 1px solid \">\n",
    "    \n",
    "<h2>Комментарий студента v_1: <a class=\"tocSkip\"> </h2>\n",
    "\n",
    "Исправила."
   ]
  },
  {
   "cell_type": "markdown",
   "id": "e966ac25",
   "metadata": {},
   "source": [
    "<div class=\"alert alert-success\" style=\"border-radius: 15px; box-shadow: 4px 4px 4px; border: 1px solid \">\n",
    "<h2> Комментарий ревьюера v_2: <a class=\"tocSkip\"> </h2>\n",
    "    \n",
    "✅ Хорошо"
   ]
  },
  {
   "cell_type": "markdown",
   "id": "ef9c4720",
   "metadata": {},
   "source": [
    "Стат. тест показал, что пользователи с подпиской с вероятно тратят больше времени на поездки, чем пользователи без подписки."
   ]
  },
  {
   "cell_type": "markdown",
   "id": "fb654c3a",
   "metadata": {},
   "source": [
    "Проверим полученный с помощью стат. теста вывод с помощью визуализации на графике."
   ]
  },
  {
   "cell_type": "code",
   "execution_count": 54,
   "id": "ee310806",
   "metadata": {},
   "outputs": [
    {
     "data": {
      "image/png": "[encoded data removed]",
      "text/plain": [
       "<Figure size 1440x504 with 1 Axes>"
      ]
     },
     "metadata": {
      "needs_background": "light"
     },
     "output_type": "display_data"
    }
   ],
   "source": [
    "plt.figure(figsize=(20,7))\n",
    "plt.grid(True)\n",
    "\n",
    "plt.ylabel(\"кол-во пользователей\")\n",
    "plt.xlabel(\"минуты\")\n",
    "\n",
    "plt.hist(data_free['duration'], bins=40, alpha=0.5, label='время поездки без подписки')\n",
    "plt.hist(data_ultra['duration'], bins=40, alpha=0.5, label='время поездки с подпиской')\n",
    "\n",
    "plt.axvline(x=data_free['duration'].mean(), color='blue', linestyle='--', label='среднее время поездки без подписки')\n",
    "plt.axvline(x=data_ultra['duration'].mean(), color='orange', linestyle='--', label='среднее время поездки с подпиской')\n",
    "\n",
    "plt.legend()\n",
    "plt.show()"
   ]
  },
  {
   "cell_type": "markdown",
   "id": "a04272be",
   "metadata": {},
   "source": [
    "График подтверждает результаты стат. теста - мы видим, что среднее время поездки пользователей с подпиской действительно больше, чем у пользователей без подписки."
   ]
  },
  {
   "cell_type": "markdown",
   "id": "eb8d646f",
   "metadata": {},
   "source": [
    "6.2 Расстояние одной поездки в 3130 метров — оптимальное с точки зрения износа самоката. Можно ли сказать, что среднее расстояние, которое проезжают пользователи с подпиской за одну поездку, не превышает 3130 метров? Проверьте гипотезу и сделайте выводы."
   ]
  },
  {
   "cell_type": "code",
   "execution_count": 55,
   "id": "afec1f21",
   "metadata": {},
   "outputs": [
    {
     "name": "stdout",
     "output_type": "stream",
     "text": [
      "p-значение: 0.9195368847849785\n",
      "Не отвергаем нулевую гипотезу\n"
     ]
    }
   ],
   "source": [
    "# Нулевая гипотеза: среднее расстояние, которое проезжают пользователи с подпиской за одну поездку, равно 3130 метров.\n",
    "# Альтернативная гипотеза: среднее расстояние, которое проезжают пользователи с подпиской за одну поездку, больше 3130 метров.\n",
    "\n",
    "u_distance = data_ultra['distance'] \n",
    "popmean_d = 3130\n",
    "\n",
    "alpha = 0.05 # уровень статистической значимости\n",
    "\n",
    "results_2 = st.ttest_1samp(\n",
    "    u_distance, \n",
    "    popmean_d,\n",
    "      alternative='greater')\n",
    "\n",
    "print('p-значение:', results_2.pvalue)\n",
    "\n",
    "if (results_2.pvalue < alpha):\n",
    "    print('Отвергаем нулевую гипотезу')\n",
    "else:\n",
    "    print('Не отвергаем нулевую гипотезу')"
   ]
  },
  {
   "cell_type": "markdown",
   "id": "f08553ec",
   "metadata": {},
   "source": [
    "<div class=\"alert alert-block alert-danger\" style=\"border-radius: 15px; box-shadow: 4px 4px 4px; border: 1px solid \">\n",
    "<h2> Комментарий ревьюера v_1: <a class=\"tocSkip\"></h2>\n",
    "    \n",
    "❌ Следует обратить внимание, что бизнес заинтересован в том, чтобы издержки были минимальные. Чем меньше износ, тем лучше. Подсчитано, что 3130 метров оптимально с точки зрения износа, т.е. всё, что равно этому расстоянию или меньше вполне приемлемо. Но нужно же выяснить, выходит ли за пределы оптимальности износ самокатов. Стоит переформулировать альтернативную гипотезу и скорректировать параметр alternative. "
   ]
  },
  {
   "cell_type": "markdown",
   "id": "1e05f718",
   "metadata": {},
   "source": [
    "<div class=\"alert alert-info\"  style=\"border-radius: 15px; box-shadow: 4px 4px 4px; border: 1px solid \">\n",
    "    \n",
    "<h2>Комментарий студента v_1: <a class=\"tocSkip\"> </h2>\n",
    "\n",
    "Исправила."
   ]
  },
  {
   "cell_type": "markdown",
   "id": "20835225",
   "metadata": {},
   "source": [
    "<div class=\"alert alert-success\" style=\"border-radius: 15px; box-shadow: 4px 4px 4px; border: 1px solid \">\n",
    "<h2> Комментарий ревьюера v_2: <a class=\"tocSkip\"> </h2>\n",
    "    \n",
    "✅ Верно"
   ]
  },
  {
   "cell_type": "markdown",
   "id": "90d14255",
   "metadata": {},
   "source": [
    "По итогам стат. теста можем сказать, что вероятно среднее расстояние, которое проезжают пользователи с подпиской за одну поездку, не превышает 3130 метров.\n",
    "\n",
    "Проверим результаты теста с помощью визуализации."
   ]
  },
  {
   "cell_type": "code",
   "execution_count": 56,
   "id": "d58b1aa1",
   "metadata": {},
   "outputs": [
    {
     "data": {
      "image/png": "[encoded data removed]",
      "text/plain": [
       "<Figure size 1440x504 with 1 Axes>"
      ]
     },
     "metadata": {
      "needs_background": "light"
     },
     "output_type": "display_data"
    }
   ],
   "source": [
    "plt.figure(figsize=(20,7))\n",
    "plt.grid(True)\n",
    "\n",
    "plt.ylabel(\"кол-во пользователей\")\n",
    "plt.xlabel(\"метры\")\n",
    "\n",
    "plt.hist(data_ultra['distance'], bins=40, alpha=0.5, label='длина поездок пользователей с подпиской')\n",
    "\n",
    "plt.axvline(x=3130, color='red', linestyle='--', label='оптимальное расстояние с т.з. износа самоката')\n",
    "plt.axvline(x=data_ultra['distance'].mean(), color='blue', linestyle='--', label='среднее расстояние поездки пользователей с подпиской')\n",
    "\n",
    "plt.legend()\n",
    "plt.show()"
   ]
  },
  {
   "cell_type": "code",
   "execution_count": 57,
   "id": "b6b86818",
   "metadata": {},
   "outputs": [
    {
     "data": {
      "text/plain": [
       "3115.4453880370247"
      ]
     },
     "execution_count": 57,
     "metadata": {},
     "output_type": "execute_result"
    }
   ],
   "source": [
    "data_ultra['distance'].mean()"
   ]
  },
  {
   "cell_type": "markdown",
   "id": "fbdaf2e4",
   "metadata": {},
   "source": [
    "Среднее расстояние, которое проезжают пользователи с подпиской, действительно близко к 3130 м., т.е. оптимальному с т.з. износа самокатов."
   ]
  },
  {
   "cell_type": "markdown",
   "id": "8872a592",
   "metadata": {},
   "source": [
    "6.3 Проверьте гипотезу о том, будет ли помесячная выручка от пользователей с подпиской по месяцам выше, чем выручка от пользователей без подписки. Сделайте вывод."
   ]
  },
  {
   "cell_type": "code",
   "execution_count": 58,
   "id": "d29a6218",
   "metadata": {},
   "outputs": [],
   "source": [
    "revenue_ultra = data_pivot.query('subscription_type == \"ultra\"')\n",
    "revenue_free = data_pivot.query('subscription_type == \"free\"')"
   ]
  },
  {
   "cell_type": "code",
   "execution_count": 59,
   "id": "6d6d01ad",
   "metadata": {
    "scrolled": true
   },
   "outputs": [
    {
     "name": "stdout",
     "output_type": "stream",
     "text": [
      "p-value: 1.8850394384715216e-31\n",
      "Отвергаем нулевую гипотезу\n"
     ]
    }
   ],
   "source": [
    "# Нулевая гипотеза: помесячная выручка от пользователей с подпиской по месяцам равна выручке от пользователей без подписки.\n",
    "# Альтернативная гипотеза: омесячная выручка от пользователей с подпиской по месяцам выше, чем выручка от пользователей без подписки.\n",
    "\n",
    "# задаём уровень значимости\n",
    "alpha = 0.05\n",
    "\n",
    "# траты первой группы пользователей (с подпиской)\n",
    "first_group_total = revenue_ultra['revenue']\n",
    "\n",
    "# траты второй группы пользователей (без подпиской)\n",
    "second_group_total = revenue_free['revenue']\n",
    "\n",
    "# проводим ttest для двух выборок, в качестве альтернативной используем одностороннюю гипотезу «больше»\n",
    "results = st.ttest_ind(first_group_total, second_group_total, alternative='greater')\n",
    "\n",
    "print(f'p-value: {results.pvalue}')\n",
    "\n",
    "# проверяем p-value\n",
    "if results.pvalue < alpha:\n",
    "    print('Отвергаем нулевую гипотезу')\n",
    "else:\n",
    "    print('Нет оснований отвергнуть нулевую гипотезу')"
   ]
  },
  {
   "cell_type": "markdown",
   "id": "471c02db",
   "metadata": {},
   "source": [
    "<div class=\"alert alert-success\" style=\"border-radius: 15px; box-shadow: 4px 4px 4px; border: 1px solid \">\n",
    "<h2> Комментарий ревьюера v_1: <a class=\"tocSkip\"> </h2>\n",
    "    \n",
    "✅ Статтест выбран верно"
   ]
  },
  {
   "cell_type": "markdown",
   "id": "7aefcf9c",
   "metadata": {},
   "source": [
    "Т.е. помесячная выручка от пользователей с подпиской по месяцам выше, чем выручка от пользователей без подписки.\n",
    "\n",
    "Проверим результаты теста с помощью визуализации."
   ]
  },
  {
   "cell_type": "code",
   "execution_count": 60,
   "id": "08a37219",
   "metadata": {},
   "outputs": [
    {
     "data": {
      "image/png": "[encoded data removed]",
      "text/plain": [
       "<Figure size 1440x504 with 1 Axes>"
      ]
     },
     "metadata": {
      "needs_background": "light"
     },
     "output_type": "display_data"
    }
   ],
   "source": [
    "plt.figure(figsize=(20,7))\n",
    "plt.grid(True)\n",
    "\n",
    "plt.ylabel(\"кол-во пользователей\")\n",
    "plt.xlabel(\"выручка за месяц\")\n",
    "\n",
    "plt.hist(revenue_free['revenue'], bins=40, alpha=0.5, label='выручка за месяц от пользователей без подписки')\n",
    "plt.hist(revenue_ultra['revenue'], bins=40, alpha=0.5, label='выручка за месяц от пользователей с подпиской')\n",
    "\n",
    "plt.axvline(x=revenue_free['revenue'].mean(), color='blue', linestyle='--', label='средняя выручка за месяц от пользователей без подписки')\n",
    "plt.axvline(x=revenue_ultra['revenue'].mean(), color='orange', linestyle='--', label='средняя выручка за месяц от пользователей с подпиской')\n",
    "\n",
    "plt.legend()\n",
    "plt.show()"
   ]
  },
  {
   "cell_type": "markdown",
   "id": "36c86af0",
   "metadata": {},
   "source": [
    "Результат стат. теста подтвердился: помесячная выручка от пользователей с подпиской по месяцам действительно выше, чем выручка от пользователей без подписки."
   ]
  },
  {
   "cell_type": "markdown",
   "id": "ad5a0033",
   "metadata": {},
   "source": [
    "6.4 Представьте такую ситуацию: техническая команда сервиса обновила сервера, с которыми взаимодействует мобильное приложение. Она надеется, что из-за этого количество обращений в техподдержку значимо снизилось. Некоторый файл содержит для каждого пользователя данные о количестве обращений до обновления и после него. Какой тест вам понадобился бы для проверки этой гипотезы?"
   ]
  },
  {
   "cell_type": "markdown",
   "id": "218a60cc",
   "metadata": {},
   "source": [
    "Ответ:\n",
    "\n",
    "Нулевая гипотеза: среднее количество обращений в день не изменилось.\n",
    "\n",
    "Альтернативная гипотеза: среднее количество обращений в день снизилось после обновления серверов.\n",
    "\n",
    "st.ttest_ind(first_group_total, second_group_total, alternative='less')"
   ]
  },
  {
   "cell_type": "markdown",
   "id": "238ac2a5",
   "metadata": {},
   "source": [
    "<div class=\"alert alert-success\" style=\"border-radius: 15px; box-shadow: 4px 4px 4px; border: 1px solid \">\n",
    "<h2> Комментарий ревьюера v_1: <a class=\"tocSkip\"> </h2>\n",
    "    \n",
    "✅ Подходит тест st.ttest_rel() и рассматривается односторонняя гипотеза"
   ]
  },
  {
   "cell_type": "markdown",
   "id": "61213c5e",
   "metadata": {},
   "source": [
    "#### Шаг 7. Распределения"
   ]
  },
  {
   "cell_type": "markdown",
   "id": "22b1b7bf",
   "metadata": {},
   "source": [
    "7.1 Отделу маркетинга GoFast поставили задачу: нужно провести акцию с раздачей промокодов на один бесплатный месяц подписки, в рамках которой как минимум 100 существующих клиентов должны продлить эту подписку. То есть по завершении периода действия подписки пользователь может либо отказаться от неё, либо продлить, совершив соответствующий платёж. \n",
    "Эта акция уже проводилась ранее и по итогу выяснилось, что после бесплатного пробного периода подписку продлевают 10 % пользователей. Выясните, какое минимальное количество промокодов нужно разослать, чтобы вероятность не выполнить план была примерно 5 %. Подберите параметры распределения, описывающего эту ситуацию, постройте график распределения и сформулируйте ответ на вопрос о количестве промокодов."
   ]
  },
  {
   "cell_type": "code",
   "execution_count": 61,
   "id": "1dcee99b",
   "metadata": {},
   "outputs": [
    {
     "data": {
      "image/png": "[encoded data removed]",
      "text/plain": [
       "<Figure size 432x360 with 1 Axes>"
      ]
     },
     "metadata": {
      "needs_background": "light"
     },
     "output_type": "display_data"
    }
   ],
   "source": [
    "n = 1000 # количество попыток\n",
    "p = 0.1 # вероятность успеха\n",
    "\n",
    "distr = []\n",
    "\n",
    "for k in range(0, n + 1):\n",
    "    choose = factorial(n) / (factorial(k) * factorial(n - k))\n",
    "    prob = choose * p**k * (1 - p)**(n - k) \n",
    "    distr.append(prob)\n",
    "    \n",
    "    \n",
    "plt.figure(figsize=(6,5))\n",
    "plt.bar(range(0, n + 1), distr)\n",
    "plt.axvline(x=100, color='red', linestyle='--')\n",
    "plt.show()"
   ]
  },
  {
   "cell_type": "code",
   "execution_count": 62,
   "id": "279b55c8",
   "metadata": {
    "scrolled": true
   },
   "outputs": [
    {
     "name": "stdout",
     "output_type": "stream",
     "text": [
      "0.04879359652776027\n"
     ]
    }
   ],
   "source": [
    "n = 1170\n",
    "p = 0.1\n",
    "\n",
    "mu = n * p\n",
    "sigma = sqrt(n * p * (1 - p))\n",
    "\n",
    "distr = st.norm(mu, sigma)\n",
    "\n",
    "result = distr.cdf(100)\n",
    "print(result)\n"
   ]
  },
  {
   "cell_type": "markdown",
   "id": "6cd52464",
   "metadata": {},
   "source": [
    "Нужно разослать 1170 промокодов."
   ]
  },
  {
   "cell_type": "markdown",
   "id": "320e96fc",
   "metadata": {},
   "source": [
    "<div class=\"alert alert-warning\" style=\"border-radius: 15px; box-shadow: 4px 4px 4px; border: 1px solid \">\n",
    "<h2> Комментарий ревьюера v_1: <a class=\"tocSkip\"> </h2>\n",
    "    \n",
    "⚠️ Можно рассчитать с помощью цикла. Выбрать какое-нибудь количество промокодов (n) и увеличивать его на единицу, пока binom.cdf не станет равным или меньше 0.05 (в аргументах функци\n",
    "    и cdf стоит указать 99, n и p). 99 выбирается, т.к. нужно найти такое минимальное значение, чтобы вероятность не выполнить план (меньше 100) была равна 0.05. "
   ]
  },
  {
   "cell_type": "markdown",
   "id": "05475324",
   "metadata": {},
   "source": [
    "<div class=\"alert alert-info\"  style=\"border-radius: 15px; box-shadow: 4px 4px 4px; border: 1px solid \">\n",
    "    \n",
    "<h2>Комментарий студента v_1: <a class=\"tocSkip\"> </h2>\n",
    "\n",
    "Тут воздержусь от дополнений, с вашего позволения)"
   ]
  },
  {
   "cell_type": "markdown",
   "id": "c657f8f2",
   "metadata": {},
   "source": [
    "7.2 Отдел маркетинга рассылает клиентам push-уведомления в мобильном приложении. Клиенты могут открыть его или не открывать. Известно, что уведомления открывают около 40 % получивших клиентов. Отдел планирует разослать 1 млн уведомлений. С помощью аппроксимации постройте примерный график распределения и оцените вероятность того, что уведомление откроют не более 399,5 тыс. пользователей."
   ]
  },
  {
   "cell_type": "code",
   "execution_count": 63,
   "id": "98a9f02c",
   "metadata": {},
   "outputs": [
    {
     "data": {
      "image/png": "[encoded data removed]",
      "text/plain": [
       "<Figure size 432x360 with 1 Axes>"
      ]
     },
     "metadata": {
      "needs_background": "light"
     },
     "output_type": "display_data"
    }
   ],
   "source": [
    "n = 1000 # количество попыток, тыс.\n",
    "p = 0.4 # вероятность успеха\n",
    "\n",
    "distr = []\n",
    "\n",
    "for k in range(0, n + 1):\n",
    "    choose = factorial(n) / (factorial(k) * factorial(n - k))\n",
    "    prob = choose * p**k * (1 - p)**(n - k) \n",
    "    distr.append(prob)\n",
    "    \n",
    "    \n",
    "plt.figure(figsize=(6,5))\n",
    "plt.bar(range(0, n + 1), distr)\n",
    "plt.axvline(x=399.5, color='red', linestyle='--')\n",
    "plt.show()"
   ]
  },
  {
   "cell_type": "code",
   "execution_count": 64,
   "id": "778900fc",
   "metadata": {},
   "outputs": [
    {
     "name": "stdout",
     "output_type": "stream",
     "text": [
      "0.15371708296369768\n"
     ]
    }
   ],
   "source": [
    "n = 1000000\n",
    "p = 0.4\n",
    "\n",
    "mu = n * p\n",
    "sigma = sqrt(n * p * (1 - p))\n",
    "\n",
    "distr = st.norm(mu, sigma)\n",
    "\n",
    "result = distr.cdf(399500)\n",
    "print(result)"
   ]
  },
  {
   "cell_type": "markdown",
   "id": "cc7092e4",
   "metadata": {},
   "source": [
    "Вероятность того, что уведомление откроют не более 399,5 тыс. пользователей - 15,37%."
   ]
  },
  {
   "cell_type": "markdown",
   "id": "25431e5a",
   "metadata": {},
   "source": [
    "<div class=\"alert alert-success\" style=\"border-radius: 15px; box-shadow: 4px 4px 4px; border: 1px solid \">\n",
    "<h2> Комментарий ревьюера v_1: <a class=\"tocSkip\"> </h2>\n",
    "    \n",
    "✅ Верно"
   ]
  },
  {
   "cell_type": "markdown",
   "id": "c5664ccd",
   "metadata": {},
   "source": [
    "<div class=\"alert alert-block alert-danger\" style=\"border-radius: 15px; box-shadow: 4px 4px 4px; border: 1px solid \">\n",
    "<h2> Комментарий ревьюера v_1: <a class=\"tocSkip\"></h2>\n",
    "    \n",
    "❌ В итоговом выводе необходимо написать, какие данные были рассмотрены, выявлены ли пропуски и дубликаты, какие результаты получены в шагах 3, 4 и 6. Также стоит резюмировать, какие пользователи - с подпиской или без подписки - являются более выгодными для сервиса аренды самокатов."
   ]
  },
  {
   "cell_type": "markdown",
   "id": "d33ca24c",
   "metadata": {},
   "source": [
    "<div class=\"alert alert-info\"  style=\"border-radius: 15px; box-shadow: 4px 4px 4px; border: 1px solid \">\n",
    "    \n",
    "<h2>Комментарий студента v_1: <a class=\"tocSkip\"> </h2>\n",
    "\n",
    "В настоящем исследовании были рассмотрены данные по поездкам пользователей сервиса аренды самокатов GoFast с подпиской на него и без нее.\n",
    "\n",
    "Было выявлено небольшое количество дубликатов в выгрузке по пользователям, они были устранены в ходе предобработки данных.\n",
    "\n",
    "Мы выяснили, что данные представлены за 2021 год.\n",
    "    \n",
    "На этапе исследовательского анализа мы узнали, что:\n",
    "    \n",
    "- данные собраны из 8ми городов России: Пятигорск, Екатеринбург, Ростов-на-Дону, Краснодар, Сочи, Омск, Тюмень, Москва. Города находятся в разных частях страны: в некоторых сервис аренды самокатов актуален почти круглогодично, в остальных есть влияние сезонности - зимой самокаты не используются.\n",
    "- в каждом городе собраны данные от 168 (Москва) до 219 (Пятигорск) поездок.\n",
    "- соотношение пользователей в выборке: 54% без подписки и 46% с подпиской. Группы +/- равные по объему.\n",
    "- сервисом GoFast пользуются в основном люди в возрасте от 13 до 37 лет.\n",
    "- типичное расстояние, которое проезжает пользователь сервиса аренды самокатов за одну поездку, составляет от 700 до 5600 метров; медианное расстояние - 3133 метров. \n",
    "- типичное время, которое тратит пользователь сервиса аренды самокатов за одну поездку, составляет от 2 до 34 минут; медианная длительность 1 поездки - 17,5 минут.\n",
    "- в выборке есть аномальные поездки с длиной дистанции до 700 метров и более 5600 метров. По времени поездки аномальными являются поездки до 5 минут и более 34 минут.\n",
    "\n",
    "\n",
    "В шаге 4 мы объединили данные по пользователям, поездкам и тарифам.\n",
    "\n",
    "На основе получившейся базы данных мы сформировали 2 датасета:\n",
    "\n",
    "- по поездкам пользователей без подписки на сервис;\n",
    "- по поездкам пользователей с подпиской на сервис.\n",
    "\n",
    "Сравнив данные по ним мы пришли к следующим выводам:\n",
    "    \n",
    "- бОльший диапазон расстояния / времени поездок чаще встречается у пользователей без подписки.\n",
    "- короткие по времени и проезжаемому расстоянию поездки встречаются чаще также у пользователей без подписки.\n",
    "\n",
    "Пользователи без подписки вероятнее будут новичками, либо людьми, которые обычно используют другие способы передвижения по городу. Это частично может объяснить аномальные поездки.\n",
    "\n",
    "Пользователи с подпиской - опытные пользователи, у которых поездки на самокатах - часть рутины. Их маршруты вполне могут +/- повторяться из раза в раз. Кроме того опытные пользователи более осознанно делают выбор ехать на самокате. Оба эти фактора могут объяснить меньшее количество аномальных поездок.\n",
    "\n",
    "Проведя несколько статистических тестов мы пришли к следующим выводам:\n",
    "\n",
    "- среднее время поездки пользователей с подпиской больше, чем у пользователей без подписки;\n",
    "- среднее расстояние, которое проезжают пользователи с подпиской за одну поездку, не превышает 3130 метров; \n",
    "- помесячная выручка от пользователей с подпиской по месяцам выше, чем выручка от пользователей без подписки.\n",
    "\n",
    "Таким образом, пользователи с подпиской являются более выгодными для сервиса аренды самокатов."
   ]
  },
  {
   "cell_type": "markdown",
   "id": "e0828180",
   "metadata": {},
   "source": [
    "<div class=\"alert alert-success\" style=\"border-radius: 15px; box-shadow: 4px 4px 4px; border: 1px solid \">\n",
    "<h2> Комментарий ревьюера v_2: <a class=\"tocSkip\"> </h2>\n",
    "    \n",
    "✅ Подписчики выгоднее"
   ]
  },
  {
   "cell_type": "markdown",
   "id": "db7505ca",
   "metadata": {},
   "source": [
    "<div style=\"border:solid lightblue 3px; background:#f7faf8; padding: 20px\">\n",
    "<span style=\"color:darkblue\">Общий вывод по проекту v_1:</span>\n",
    "    \n",
    "У тебя хорошая работа! Cоблюдена структура, проделана бóльшая часть проекта, но есть замечания, которые необходимо доработать:\n",
    "* добавить вступление\n",
    "* пп. в 3, 4, 5 и 6 шагах\n",
    "* итоговые выводы\n",
    "   \n",
    "Также добавил рекомендации по улучшению проекта. Жду проект)"
   ]
  },
  {
   "cell_type": "markdown",
   "id": "d6b8e331",
   "metadata": {},
   "source": [
    "<div style=\"border:solid lightblue 3px; background:#f7faf8; padding: 20px\">\n",
    "<span style=\"color:darkblue\">Общий вывод по проекту v_2:</span>\n",
    "    \n",
    "Спасибо за доработанные замечания! Проект принят. В дополнение по данной [ссылке](https://allatambov.github.io/psms/pdf/hypo-test.pdf) можно ознакомиться с очень понятной краткой теорией по проверке гипотез.\n",
    "    \n",
    "Успехов в дальнейшем обучении!)"
   ]
  }
 ],
 "metadata": {
  "ExecuteTimeLog": [
   {
    "duration": 435,
    "start_time": "2024-03-10T11:40:00.328Z"
   },
   {
    "duration": 291,
    "start_time": "2024-03-10T11:40:02.523Z"
   },
   {
    "duration": 20,
    "start_time": "2024-03-10T11:40:11.950Z"
   },
   {
    "duration": 15,
    "start_time": "2024-03-10T11:40:36.120Z"
   },
   {
    "duration": 77,
    "start_time": "2024-03-10T11:40:49.265Z"
   },
   {
    "duration": 13,
    "start_time": "2024-03-10T11:41:03.565Z"
   },
   {
    "duration": 14,
    "start_time": "2024-03-10T11:41:14.023Z"
   },
   {
    "duration": 8,
    "start_time": "2024-03-10T11:41:19.932Z"
   },
   {
    "duration": 12,
    "start_time": "2024-03-10T11:44:05.065Z"
   },
   {
    "duration": 9,
    "start_time": "2024-03-10T11:44:11.544Z"
   },
   {
    "duration": 8,
    "start_time": "2024-03-10T11:44:17.619Z"
   },
   {
    "duration": 7,
    "start_time": "2024-03-10T11:44:30.845Z"
   },
   {
    "duration": 12,
    "start_time": "2024-03-10T11:45:15.929Z"
   },
   {
    "duration": 12,
    "start_time": "2024-03-10T11:45:28.928Z"
   },
   {
    "duration": 13,
    "start_time": "2024-03-10T11:45:46.996Z"
   },
   {
    "duration": 18,
    "start_time": "2024-03-10T11:52:42.506Z"
   },
   {
    "duration": 94,
    "start_time": "2024-03-10T11:53:06.676Z"
   },
   {
    "duration": 62,
    "start_time": "2024-03-10T11:53:11.025Z"
   },
   {
    "duration": 15,
    "start_time": "2024-03-10T11:54:35.957Z"
   },
   {
    "duration": 6,
    "start_time": "2024-03-10T11:56:43.261Z"
   },
   {
    "duration": 9,
    "start_time": "2024-03-10T11:56:58.793Z"
   },
   {
    "duration": 7,
    "start_time": "2024-03-10T11:58:19.681Z"
   },
   {
    "duration": 14,
    "start_time": "2024-03-10T11:58:59.091Z"
   },
   {
    "duration": 7,
    "start_time": "2024-03-10T12:02:33.412Z"
   },
   {
    "duration": 10,
    "start_time": "2024-03-10T12:02:35.194Z"
   },
   {
    "duration": 48,
    "start_time": "2024-03-10T13:22:50.067Z"
   },
   {
    "duration": 452,
    "start_time": "2024-03-10T13:23:02.402Z"
   },
   {
    "duration": 198,
    "start_time": "2024-03-10T13:23:05.525Z"
   },
   {
    "duration": 15,
    "start_time": "2024-03-10T13:23:07.339Z"
   },
   {
    "duration": 11,
    "start_time": "2024-03-10T13:23:10.181Z"
   },
   {
    "duration": 10,
    "start_time": "2024-03-10T13:23:12.285Z"
   },
   {
    "duration": 9,
    "start_time": "2024-03-10T13:23:16.063Z"
   },
   {
    "duration": 11,
    "start_time": "2024-03-10T13:23:18.601Z"
   },
   {
    "duration": 6,
    "start_time": "2024-03-10T13:23:21.057Z"
   },
   {
    "duration": 11,
    "start_time": "2024-03-10T13:23:23.325Z"
   },
   {
    "duration": 15,
    "start_time": "2024-03-10T13:23:25.650Z"
   },
   {
    "duration": 12,
    "start_time": "2024-03-10T13:23:27.811Z"
   },
   {
    "duration": 6,
    "start_time": "2024-03-10T13:23:30.441Z"
   },
   {
    "duration": 13,
    "start_time": "2024-03-10T13:23:32.788Z"
   },
   {
    "duration": 5,
    "start_time": "2024-03-10T13:23:36.502Z"
   },
   {
    "duration": 7,
    "start_time": "2024-03-10T13:23:37.932Z"
   },
   {
    "duration": 9,
    "start_time": "2024-03-10T13:23:39.963Z"
   },
   {
    "duration": 5,
    "start_time": "2024-03-10T13:23:41.911Z"
   },
   {
    "duration": 6,
    "start_time": "2024-03-10T13:24:05.905Z"
   },
   {
    "duration": 625,
    "start_time": "2024-03-10T13:24:47.190Z"
   },
   {
    "duration": 3,
    "start_time": "2024-03-10T13:25:12.726Z"
   },
   {
    "duration": 125,
    "start_time": "2024-03-10T13:25:20.428Z"
   },
   {
    "duration": 123,
    "start_time": "2024-03-10T13:26:31.562Z"
   },
   {
    "duration": 128,
    "start_time": "2024-03-10T13:27:34.197Z"
   },
   {
    "duration": 194,
    "start_time": "2024-03-10T13:27:40.338Z"
   },
   {
    "duration": 140,
    "start_time": "2024-03-10T13:27:48.814Z"
   },
   {
    "duration": 161,
    "start_time": "2024-03-10T13:28:10.162Z"
   },
   {
    "duration": 221,
    "start_time": "2024-03-10T13:30:40.576Z"
   },
   {
    "duration": 203,
    "start_time": "2024-03-10T13:31:14.940Z"
   },
   {
    "duration": 6,
    "start_time": "2024-03-10T13:32:53.276Z"
   },
   {
    "duration": 135,
    "start_time": "2024-03-10T13:33:37.289Z"
   },
   {
    "duration": 15,
    "start_time": "2024-03-10T13:37:55.172Z"
   },
   {
    "duration": 142,
    "start_time": "2024-03-10T13:38:09.279Z"
   },
   {
    "duration": 72,
    "start_time": "2024-03-10T13:41:48.382Z"
   },
   {
    "duration": 184,
    "start_time": "2024-03-10T13:45:32.460Z"
   },
   {
    "duration": 72,
    "start_time": "2024-03-10T13:45:41.115Z"
   },
   {
    "duration": 5,
    "start_time": "2024-03-10T13:47:57.757Z"
   },
   {
    "duration": 322,
    "start_time": "2024-03-10T13:49:18.288Z"
   },
   {
    "duration": 278,
    "start_time": "2024-03-10T13:53:03.993Z"
   },
   {
    "duration": 19824,
    "start_time": "2024-03-10T13:54:08.685Z"
   },
   {
    "duration": 247,
    "start_time": "2024-03-10T14:36:05.870Z"
   },
   {
    "duration": 203,
    "start_time": "2024-03-10T14:36:26.730Z"
   },
   {
    "duration": 214,
    "start_time": "2024-03-10T14:36:43.630Z"
   },
   {
    "duration": 207,
    "start_time": "2024-03-10T14:37:08.642Z"
   },
   {
    "duration": 211,
    "start_time": "2024-03-10T14:37:26.683Z"
   },
   {
    "duration": 185,
    "start_time": "2024-03-10T14:37:39.478Z"
   },
   {
    "duration": 222,
    "start_time": "2024-03-10T14:39:13.482Z"
   },
   {
    "duration": 332,
    "start_time": "2024-03-10T14:39:25.688Z"
   },
   {
    "duration": 306,
    "start_time": "2024-03-10T14:40:25.988Z"
   },
   {
    "duration": 180,
    "start_time": "2024-03-10T14:40:47.564Z"
   },
   {
    "duration": 335,
    "start_time": "2024-03-10T14:42:07.862Z"
   },
   {
    "duration": 220,
    "start_time": "2024-03-10T14:42:19.651Z"
   },
   {
    "duration": 327,
    "start_time": "2024-03-10T14:44:32.570Z"
   },
   {
    "duration": 311,
    "start_time": "2024-03-10T14:45:24.327Z"
   },
   {
    "duration": 200,
    "start_time": "2024-03-10T14:46:27.093Z"
   },
   {
    "duration": 195,
    "start_time": "2024-03-10T14:47:09.939Z"
   },
   {
    "duration": 24,
    "start_time": "2024-03-10T14:55:14.656Z"
   },
   {
    "duration": 25,
    "start_time": "2024-03-10T14:56:57.612Z"
   },
   {
    "duration": 330,
    "start_time": "2024-03-10T15:06:18.517Z"
   },
   {
    "duration": 1077,
    "start_time": "2024-03-10T15:08:39.559Z"
   },
   {
    "duration": 21,
    "start_time": "2024-03-10T15:09:57.191Z"
   },
   {
    "duration": 21,
    "start_time": "2024-03-10T15:10:12.971Z"
   },
   {
    "duration": 22,
    "start_time": "2024-03-10T15:11:15.004Z"
   },
   {
    "duration": 192,
    "start_time": "2024-03-10T15:13:04.748Z"
   },
   {
    "duration": 186,
    "start_time": "2024-03-10T15:13:10.589Z"
   },
   {
    "duration": 157,
    "start_time": "2024-03-10T15:14:02.055Z"
   },
   {
    "duration": 158,
    "start_time": "2024-03-10T15:14:04.494Z"
   },
   {
    "duration": 4,
    "start_time": "2024-03-10T15:18:27.247Z"
   },
   {
    "duration": 208,
    "start_time": "2024-03-10T15:18:34.273Z"
   },
   {
    "duration": 171,
    "start_time": "2024-03-10T15:18:53.775Z"
   },
   {
    "duration": 176,
    "start_time": "2024-03-10T15:19:00.372Z"
   },
   {
    "duration": 168,
    "start_time": "2024-03-10T15:19:55.424Z"
   },
   {
    "duration": 238,
    "start_time": "2024-03-10T15:20:43.201Z"
   },
   {
    "duration": 236,
    "start_time": "2024-03-10T15:20:56.891Z"
   },
   {
    "duration": 159,
    "start_time": "2024-03-10T15:21:12.531Z"
   },
   {
    "duration": 160,
    "start_time": "2024-03-10T15:21:28.856Z"
   },
   {
    "duration": 4,
    "start_time": "2024-03-10T15:22:18.493Z"
   },
   {
    "duration": 208,
    "start_time": "2024-03-10T15:22:22.031Z"
   },
   {
    "duration": 193,
    "start_time": "2024-03-10T15:22:51.100Z"
   },
   {
    "duration": 196,
    "start_time": "2024-03-10T15:23:14.060Z"
   },
   {
    "duration": 210,
    "start_time": "2024-03-10T15:23:42.407Z"
   },
   {
    "duration": 207,
    "start_time": "2024-03-10T15:24:16.824Z"
   },
   {
    "duration": 293,
    "start_time": "2024-03-10T15:24:32.633Z"
   },
   {
    "duration": 168,
    "start_time": "2024-03-10T15:24:48.185Z"
   },
   {
    "duration": 177,
    "start_time": "2024-03-10T15:25:07.281Z"
   },
   {
    "duration": 220,
    "start_time": "2024-03-10T15:25:33.007Z"
   },
   {
    "duration": 211,
    "start_time": "2024-03-10T15:25:46.906Z"
   },
   {
    "duration": 227,
    "start_time": "2024-03-10T15:26:21.063Z"
   },
   {
    "duration": 173,
    "start_time": "2024-03-10T15:26:35.551Z"
   },
   {
    "duration": 306,
    "start_time": "2024-03-10T15:26:50.826Z"
   },
   {
    "duration": 175,
    "start_time": "2024-03-10T15:27:03.408Z"
   },
   {
    "duration": 163,
    "start_time": "2024-03-10T15:27:08.717Z"
   },
   {
    "duration": 279,
    "start_time": "2024-03-10T15:28:03.650Z"
   },
   {
    "duration": 254,
    "start_time": "2024-03-10T15:28:24.950Z"
   },
   {
    "duration": 160,
    "start_time": "2024-03-10T15:29:25.687Z"
   },
   {
    "duration": 156,
    "start_time": "2024-03-10T15:29:41.735Z"
   },
   {
    "duration": 69,
    "start_time": "2024-03-10T15:30:16.551Z"
   },
   {
    "duration": 155,
    "start_time": "2024-03-10T15:30:24.613Z"
   },
   {
    "duration": 214,
    "start_time": "2024-03-10T15:30:32.436Z"
   },
   {
    "duration": 164,
    "start_time": "2024-03-10T15:31:29.213Z"
   },
   {
    "duration": 160,
    "start_time": "2024-03-10T15:31:56.288Z"
   },
   {
    "duration": 180,
    "start_time": "2024-03-10T15:32:15.287Z"
   },
   {
    "duration": 158,
    "start_time": "2024-03-10T15:32:39.273Z"
   },
   {
    "duration": 186,
    "start_time": "2024-03-10T15:32:51.617Z"
   },
   {
    "duration": 165,
    "start_time": "2024-03-10T15:33:03.048Z"
   },
   {
    "duration": 167,
    "start_time": "2024-03-10T15:33:10.985Z"
   },
   {
    "duration": 23,
    "start_time": "2024-03-10T16:00:12.768Z"
   },
   {
    "duration": 15,
    "start_time": "2024-03-10T16:01:31.000Z"
   },
   {
    "duration": 23,
    "start_time": "2024-03-10T16:01:49.565Z"
   },
   {
    "duration": 17,
    "start_time": "2024-03-10T16:01:51.856Z"
   },
   {
    "duration": 22,
    "start_time": "2024-03-10T16:02:39.321Z"
   },
   {
    "duration": 14,
    "start_time": "2024-03-10T16:02:48.009Z"
   },
   {
    "duration": 14,
    "start_time": "2024-03-10T16:03:43.313Z"
   },
   {
    "duration": 828,
    "start_time": "2024-03-11T16:20:08.335Z"
   },
   {
    "duration": 198,
    "start_time": "2024-03-11T16:20:11.243Z"
   },
   {
    "duration": 15,
    "start_time": "2024-03-11T16:20:13.611Z"
   },
   {
    "duration": 12,
    "start_time": "2024-03-11T16:20:16.570Z"
   },
   {
    "duration": 10,
    "start_time": "2024-03-11T16:20:18.852Z"
   },
   {
    "duration": 12,
    "start_time": "2024-03-11T16:20:20.959Z"
   },
   {
    "duration": 7,
    "start_time": "2024-03-11T16:20:23.998Z"
   },
   {
    "duration": 11,
    "start_time": "2024-03-11T16:20:27.092Z"
   },
   {
    "duration": 15,
    "start_time": "2024-03-11T16:20:30.005Z"
   },
   {
    "duration": 12,
    "start_time": "2024-03-11T16:20:32.961Z"
   },
   {
    "duration": 6,
    "start_time": "2024-03-11T16:20:36.085Z"
   },
   {
    "duration": 12,
    "start_time": "2024-03-11T16:20:38.952Z"
   },
   {
    "duration": 5,
    "start_time": "2024-03-11T16:20:47.647Z"
   },
   {
    "duration": 13,
    "start_time": "2024-03-11T16:20:49.324Z"
   },
   {
    "duration": 13,
    "start_time": "2024-03-11T16:20:51.429Z"
   },
   {
    "duration": 7,
    "start_time": "2024-03-11T16:20:54.231Z"
   },
   {
    "duration": 7,
    "start_time": "2024-03-11T16:20:56.127Z"
   },
   {
    "duration": 229,
    "start_time": "2024-03-11T16:20:59.646Z"
   },
   {
    "duration": 11,
    "start_time": "2024-03-11T16:21:03.113Z"
   },
   {
    "duration": 146,
    "start_time": "2024-03-11T16:21:05.913Z"
   },
   {
    "duration": 72,
    "start_time": "2024-03-11T16:21:10.563Z"
   },
   {
    "duration": 6,
    "start_time": "2024-03-11T16:21:13.060Z"
   },
   {
    "duration": 387,
    "start_time": "2024-03-11T16:21:16.593Z"
   },
   {
    "duration": 153,
    "start_time": "2024-03-11T16:21:21.909Z"
   },
   {
    "duration": 180,
    "start_time": "2024-03-11T16:21:27.099Z"
   },
   {
    "duration": 25,
    "start_time": "2024-03-11T16:21:30.322Z"
   },
   {
    "duration": 25,
    "start_time": "2024-03-11T16:22:07.093Z"
   },
   {
    "duration": 22,
    "start_time": "2024-03-11T16:22:14.120Z"
   },
   {
    "duration": 20,
    "start_time": "2024-03-11T16:22:19.693Z"
   },
   {
    "duration": 172,
    "start_time": "2024-03-11T16:22:54.715Z"
   },
   {
    "duration": 184,
    "start_time": "2024-03-11T16:23:00.891Z"
   },
   {
    "duration": 175,
    "start_time": "2024-03-11T16:23:06.434Z"
   },
   {
    "duration": 169,
    "start_time": "2024-03-11T16:23:12.363Z"
   },
   {
    "duration": 660,
    "start_time": "2024-03-11T16:33:47.776Z"
   },
   {
    "duration": 210,
    "start_time": "2024-03-11T16:33:50.130Z"
   },
   {
    "duration": 13,
    "start_time": "2024-03-11T16:33:56.661Z"
   },
   {
    "duration": 12,
    "start_time": "2024-03-11T16:33:59.592Z"
   },
   {
    "duration": 9,
    "start_time": "2024-03-11T16:34:02.706Z"
   },
   {
    "duration": 9,
    "start_time": "2024-03-11T16:34:06.124Z"
   },
   {
    "duration": 51,
    "start_time": "2024-03-11T16:34:18.053Z"
   },
   {
    "duration": 638,
    "start_time": "2024-03-11T16:34:25.371Z"
   },
   {
    "duration": 680,
    "start_time": "2024-03-11T16:34:34.759Z"
   },
   {
    "duration": 71,
    "start_time": "2024-03-11T16:34:37.737Z"
   },
   {
    "duration": 13,
    "start_time": "2024-03-11T16:34:40.257Z"
   },
   {
    "duration": 12,
    "start_time": "2024-03-11T16:34:43.099Z"
   },
   {
    "duration": 10,
    "start_time": "2024-03-11T16:34:45.113Z"
   },
   {
    "duration": 11,
    "start_time": "2024-03-11T16:34:50.479Z"
   },
   {
    "duration": 7,
    "start_time": "2024-03-11T16:34:53.808Z"
   },
   {
    "duration": 11,
    "start_time": "2024-03-11T16:34:56.047Z"
   },
   {
    "duration": 15,
    "start_time": "2024-03-11T16:34:59.018Z"
   },
   {
    "duration": 12,
    "start_time": "2024-03-11T16:35:01.644Z"
   },
   {
    "duration": 5,
    "start_time": "2024-03-11T16:35:04.557Z"
   },
   {
    "duration": 13,
    "start_time": "2024-03-11T16:35:07.059Z"
   },
   {
    "duration": 5,
    "start_time": "2024-03-11T16:35:10.839Z"
   },
   {
    "duration": 7,
    "start_time": "2024-03-11T16:35:12.884Z"
   },
   {
    "duration": 9,
    "start_time": "2024-03-11T16:35:15.305Z"
   },
   {
    "duration": 5,
    "start_time": "2024-03-11T16:35:18.134Z"
   },
   {
    "duration": 5,
    "start_time": "2024-03-11T16:35:20.053Z"
   },
   {
    "duration": 209,
    "start_time": "2024-03-11T16:35:23.384Z"
   },
   {
    "duration": 6,
    "start_time": "2024-03-11T16:35:26.242Z"
   },
   {
    "duration": 142,
    "start_time": "2024-03-11T16:35:28.632Z"
   },
   {
    "duration": 71,
    "start_time": "2024-03-11T16:35:31.374Z"
   },
   {
    "duration": 5,
    "start_time": "2024-03-11T16:35:33.608Z"
   },
   {
    "duration": 398,
    "start_time": "2024-03-11T16:35:37.937Z"
   },
   {
    "duration": 158,
    "start_time": "2024-03-11T16:35:42.248Z"
   },
   {
    "duration": 180,
    "start_time": "2024-03-11T16:35:46.463Z"
   },
   {
    "duration": 24,
    "start_time": "2024-03-11T16:35:49.906Z"
   },
   {
    "duration": 24,
    "start_time": "2024-03-11T16:35:52.617Z"
   },
   {
    "duration": 22,
    "start_time": "2024-03-11T16:35:55.093Z"
   },
   {
    "duration": 21,
    "start_time": "2024-03-11T16:35:57.585Z"
   },
   {
    "duration": 162,
    "start_time": "2024-03-11T16:36:00.406Z"
   },
   {
    "duration": 186,
    "start_time": "2024-03-11T16:36:02.931Z"
   },
   {
    "duration": 169,
    "start_time": "2024-03-11T16:36:09.260Z"
   },
   {
    "duration": 14,
    "start_time": "2024-03-11T16:36:23.264Z"
   },
   {
    "duration": 50,
    "start_time": "2024-03-11T16:43:56.421Z"
   },
   {
    "duration": 715,
    "start_time": "2024-03-11T16:44:25.588Z"
   },
   {
    "duration": 198,
    "start_time": "2024-03-11T16:44:28.246Z"
   },
   {
    "duration": 13,
    "start_time": "2024-03-11T16:44:30.399Z"
   },
   {
    "duration": 11,
    "start_time": "2024-03-11T16:44:33.025Z"
   },
   {
    "duration": 9,
    "start_time": "2024-03-11T16:44:35.427Z"
   },
   {
    "duration": 17,
    "start_time": "2024-03-11T16:44:38.186Z"
   },
   {
    "duration": 7,
    "start_time": "2024-03-11T16:44:40.662Z"
   },
   {
    "duration": 10,
    "start_time": "2024-03-11T16:44:43.105Z"
   },
   {
    "duration": 16,
    "start_time": "2024-03-11T16:44:45.699Z"
   },
   {
    "duration": 12,
    "start_time": "2024-03-11T16:44:48.092Z"
   },
   {
    "duration": 7,
    "start_time": "2024-03-11T16:44:50.839Z"
   },
   {
    "duration": 13,
    "start_time": "2024-03-11T16:44:52.907Z"
   },
   {
    "duration": 5,
    "start_time": "2024-03-11T16:44:56.152Z"
   },
   {
    "duration": 6,
    "start_time": "2024-03-11T16:44:58.198Z"
   },
   {
    "duration": 9,
    "start_time": "2024-03-11T16:45:00.757Z"
   },
   {
    "duration": 4,
    "start_time": "2024-03-11T16:45:03.603Z"
   },
   {
    "duration": 5,
    "start_time": "2024-03-11T16:45:05.573Z"
   },
   {
    "duration": 226,
    "start_time": "2024-03-11T16:45:08.095Z"
   },
   {
    "duration": 5,
    "start_time": "2024-03-11T16:45:10.913Z"
   },
   {
    "duration": 141,
    "start_time": "2024-03-11T16:45:13.199Z"
   },
   {
    "duration": 73,
    "start_time": "2024-03-11T16:45:19.403Z"
   },
   {
    "duration": 8,
    "start_time": "2024-03-11T16:45:21.702Z"
   },
   {
    "duration": 363,
    "start_time": "2024-03-11T16:45:24.593Z"
   },
   {
    "duration": 160,
    "start_time": "2024-03-11T16:45:27.680Z"
   },
   {
    "duration": 184,
    "start_time": "2024-03-11T16:45:31.695Z"
   },
   {
    "duration": 23,
    "start_time": "2024-03-11T16:45:35.110Z"
   },
   {
    "duration": 25,
    "start_time": "2024-03-11T16:45:37.460Z"
   },
   {
    "duration": 23,
    "start_time": "2024-03-11T16:45:40.784Z"
   },
   {
    "duration": 22,
    "start_time": "2024-03-11T16:45:43.267Z"
   },
   {
    "duration": 160,
    "start_time": "2024-03-11T16:45:46.252Z"
   },
   {
    "duration": 187,
    "start_time": "2024-03-11T16:45:49.335Z"
   },
   {
    "duration": 169,
    "start_time": "2024-03-11T16:45:51.888Z"
   },
   {
    "duration": 164,
    "start_time": "2024-03-11T16:45:54.410Z"
   },
   {
    "duration": 13,
    "start_time": "2024-03-11T16:45:57.751Z"
   },
   {
    "duration": 67,
    "start_time": "2024-03-11T16:46:06.062Z"
   },
   {
    "duration": 16,
    "start_time": "2024-03-11T16:46:24.516Z"
   },
   {
    "duration": 19,
    "start_time": "2024-03-11T16:48:00.739Z"
   },
   {
    "duration": 3,
    "start_time": "2024-03-11T16:57:41.404Z"
   },
   {
    "duration": 16,
    "start_time": "2024-03-11T17:00:38.280Z"
   },
   {
    "duration": 76,
    "start_time": "2024-03-11T17:04:16.944Z"
   },
   {
    "duration": 52,
    "start_time": "2024-03-11T17:05:17.820Z"
   },
   {
    "duration": 49,
    "start_time": "2024-03-11T17:06:55.228Z"
   },
   {
    "duration": 42,
    "start_time": "2024-03-11T17:08:16.980Z"
   },
   {
    "duration": 833,
    "start_time": "2024-03-13T15:32:03.971Z"
   },
   {
    "duration": 295,
    "start_time": "2024-03-13T15:32:07.254Z"
   },
   {
    "duration": 12,
    "start_time": "2024-03-13T15:32:09.424Z"
   },
   {
    "duration": 13,
    "start_time": "2024-03-13T15:32:13.567Z"
   },
   {
    "duration": 9,
    "start_time": "2024-03-13T15:32:16.183Z"
   },
   {
    "duration": 11,
    "start_time": "2024-03-13T15:32:18.881Z"
   },
   {
    "duration": 7,
    "start_time": "2024-03-13T15:32:22.294Z"
   },
   {
    "duration": 10,
    "start_time": "2024-03-13T15:32:25.101Z"
   },
   {
    "duration": 15,
    "start_time": "2024-03-13T15:32:27.645Z"
   },
   {
    "duration": 11,
    "start_time": "2024-03-13T15:32:30.015Z"
   },
   {
    "duration": 6,
    "start_time": "2024-03-13T15:32:33.449Z"
   },
   {
    "duration": 13,
    "start_time": "2024-03-13T15:32:38.099Z"
   },
   {
    "duration": 5,
    "start_time": "2024-03-13T15:32:57.004Z"
   },
   {
    "duration": 6,
    "start_time": "2024-03-13T15:32:59.100Z"
   },
   {
    "duration": 9,
    "start_time": "2024-03-13T15:33:01.484Z"
   },
   {
    "duration": 5,
    "start_time": "2024-03-13T15:33:04.132Z"
   },
   {
    "duration": 5,
    "start_time": "2024-03-13T15:33:06.241Z"
   },
   {
    "duration": 217,
    "start_time": "2024-03-13T15:33:08.453Z"
   },
   {
    "duration": 5,
    "start_time": "2024-03-13T15:33:11.274Z"
   },
   {
    "duration": 143,
    "start_time": "2024-03-13T15:33:13.233Z"
   },
   {
    "duration": 67,
    "start_time": "2024-03-13T15:33:15.766Z"
   },
   {
    "duration": 6,
    "start_time": "2024-03-13T15:33:18.166Z"
   },
   {
    "duration": 336,
    "start_time": "2024-03-13T15:33:21.022Z"
   },
   {
    "duration": 146,
    "start_time": "2024-03-13T15:33:24.037Z"
   },
   {
    "duration": 202,
    "start_time": "2024-03-13T15:33:26.737Z"
   },
   {
    "duration": 22,
    "start_time": "2024-03-13T15:33:29.936Z"
   },
   {
    "duration": 25,
    "start_time": "2024-03-13T15:33:32.484Z"
   },
   {
    "duration": 24,
    "start_time": "2024-03-13T15:33:34.798Z"
   },
   {
    "duration": 21,
    "start_time": "2024-03-13T15:33:37.207Z"
   },
   {
    "duration": 168,
    "start_time": "2024-03-13T15:33:39.538Z"
   },
   {
    "duration": 172,
    "start_time": "2024-03-13T15:33:41.938Z"
   },
   {
    "duration": 180,
    "start_time": "2024-03-13T15:33:44.153Z"
   },
   {
    "duration": 158,
    "start_time": "2024-03-13T15:33:48.075Z"
   },
   {
    "duration": 14,
    "start_time": "2024-03-13T15:33:51.646Z"
   },
   {
    "duration": 52,
    "start_time": "2024-03-13T15:33:56.174Z"
   },
   {
    "duration": 44,
    "start_time": "2024-03-13T15:34:02.054Z"
   },
   {
    "duration": 39,
    "start_time": "2024-03-13T15:34:31.426Z"
   },
   {
    "duration": 29,
    "start_time": "2024-03-13T15:36:42.497Z"
   },
   {
    "duration": 29,
    "start_time": "2024-03-13T15:38:53.107Z"
   },
   {
    "duration": 29,
    "start_time": "2024-03-13T15:39:18.739Z"
   },
   {
    "duration": 29,
    "start_time": "2024-03-13T15:39:57.028Z"
   },
   {
    "duration": 468,
    "start_time": "2024-03-13T15:45:20.652Z"
   },
   {
    "duration": 665,
    "start_time": "2024-03-13T15:46:05.883Z"
   },
   {
    "duration": 67,
    "start_time": "2024-03-13T15:46:07.929Z"
   },
   {
    "duration": 13,
    "start_time": "2024-03-13T15:46:09.996Z"
   },
   {
    "duration": 11,
    "start_time": "2024-03-13T15:46:12.601Z"
   },
   {
    "duration": 9,
    "start_time": "2024-03-13T15:46:14.738Z"
   },
   {
    "duration": 11,
    "start_time": "2024-03-13T15:46:17.179Z"
   },
   {
    "duration": 6,
    "start_time": "2024-03-13T15:46:19.723Z"
   },
   {
    "duration": 10,
    "start_time": "2024-03-13T15:46:21.748Z"
   },
   {
    "duration": 13,
    "start_time": "2024-03-13T15:46:24.094Z"
   },
   {
    "duration": 11,
    "start_time": "2024-03-13T15:46:26.280Z"
   },
   {
    "duration": 6,
    "start_time": "2024-03-13T15:46:28.797Z"
   },
   {
    "duration": 12,
    "start_time": "2024-03-13T15:46:31.346Z"
   },
   {
    "duration": 5,
    "start_time": "2024-03-13T15:46:34.844Z"
   },
   {
    "duration": 5,
    "start_time": "2024-03-13T15:46:37.963Z"
   },
   {
    "duration": 9,
    "start_time": "2024-03-13T15:46:38.677Z"
   },
   {
    "duration": 4,
    "start_time": "2024-03-13T15:46:41.641Z"
   },
   {
    "duration": 5,
    "start_time": "2024-03-13T15:46:42.439Z"
   },
   {
    "duration": 202,
    "start_time": "2024-03-13T15:46:43.176Z"
   },
   {
    "duration": 6,
    "start_time": "2024-03-13T15:46:44.614Z"
   },
   {
    "duration": 143,
    "start_time": "2024-03-13T15:46:45.935Z"
   },
   {
    "duration": 66,
    "start_time": "2024-03-13T15:46:47.681Z"
   },
   {
    "duration": 5,
    "start_time": "2024-03-13T15:46:48.382Z"
   },
   {
    "duration": 379,
    "start_time": "2024-03-13T15:46:49.278Z"
   },
   {
    "duration": 154,
    "start_time": "2024-03-13T15:46:49.911Z"
   },
   {
    "duration": 171,
    "start_time": "2024-03-13T15:46:50.730Z"
   },
   {
    "duration": 23,
    "start_time": "2024-03-13T15:46:53.124Z"
   },
   {
    "duration": 29,
    "start_time": "2024-03-13T15:46:53.903Z"
   },
   {
    "duration": 23,
    "start_time": "2024-03-13T15:46:54.589Z"
   },
   {
    "duration": 20,
    "start_time": "2024-03-13T15:46:55.616Z"
   },
   {
    "duration": 152,
    "start_time": "2024-03-13T15:46:56.646Z"
   },
   {
    "duration": 173,
    "start_time": "2024-03-13T15:46:57.607Z"
   },
   {
    "duration": 158,
    "start_time": "2024-03-13T15:46:58.409Z"
   },
   {
    "duration": 170,
    "start_time": "2024-03-13T15:46:59.246Z"
   },
   {
    "duration": 14,
    "start_time": "2024-03-13T15:47:06.222Z"
   },
   {
    "duration": 495,
    "start_time": "2024-03-13T15:47:13.145Z"
   },
   {
    "duration": 28,
    "start_time": "2024-03-13T15:47:19.745Z"
   },
   {
    "duration": 606,
    "start_time": "2024-03-13T15:47:46.926Z"
   },
   {
    "duration": 68,
    "start_time": "2024-03-13T15:47:49.757Z"
   },
   {
    "duration": 12,
    "start_time": "2024-03-13T15:47:51.779Z"
   },
   {
    "duration": 12,
    "start_time": "2024-03-13T15:47:56.913Z"
   },
   {
    "duration": 9,
    "start_time": "2024-03-13T15:47:58.946Z"
   },
   {
    "duration": 12,
    "start_time": "2024-03-13T15:48:01.737Z"
   },
   {
    "duration": 7,
    "start_time": "2024-03-13T15:48:03.779Z"
   },
   {
    "duration": 10,
    "start_time": "2024-03-13T15:48:05.487Z"
   },
   {
    "duration": 13,
    "start_time": "2024-03-13T15:48:08.895Z"
   },
   {
    "duration": 16,
    "start_time": "2024-03-13T15:48:11.639Z"
   },
   {
    "duration": 7,
    "start_time": "2024-03-13T15:48:13.899Z"
   },
   {
    "duration": 13,
    "start_time": "2024-03-13T15:48:16.235Z"
   },
   {
    "duration": 4,
    "start_time": "2024-03-13T15:48:20.189Z"
   },
   {
    "duration": 8,
    "start_time": "2024-03-13T15:48:21.918Z"
   },
   {
    "duration": 9,
    "start_time": "2024-03-13T15:48:24.124Z"
   },
   {
    "duration": 4,
    "start_time": "2024-03-13T15:48:26.949Z"
   },
   {
    "duration": 5,
    "start_time": "2024-03-13T15:48:28.881Z"
   },
   {
    "duration": 215,
    "start_time": "2024-03-13T15:48:31.098Z"
   },
   {
    "duration": 5,
    "start_time": "2024-03-13T15:48:33.976Z"
   },
   {
    "duration": 129,
    "start_time": "2024-03-13T15:48:36.034Z"
   },
   {
    "duration": 68,
    "start_time": "2024-03-13T15:48:38.328Z"
   },
   {
    "duration": 5,
    "start_time": "2024-03-13T15:48:40.322Z"
   },
   {
    "duration": 352,
    "start_time": "2024-03-13T15:48:42.900Z"
   },
   {
    "duration": 156,
    "start_time": "2024-03-13T15:48:45.399Z"
   },
   {
    "duration": 172,
    "start_time": "2024-03-13T15:48:48.846Z"
   },
   {
    "duration": 26,
    "start_time": "2024-03-13T15:48:51.650Z"
   },
   {
    "duration": 23,
    "start_time": "2024-03-13T15:48:59.390Z"
   },
   {
    "duration": 21,
    "start_time": "2024-03-13T15:49:02.772Z"
   },
   {
    "duration": 20,
    "start_time": "2024-03-13T15:49:05.642Z"
   },
   {
    "duration": 154,
    "start_time": "2024-03-13T15:49:08.438Z"
   },
   {
    "duration": 193,
    "start_time": "2024-03-13T15:49:13.111Z"
   },
   {
    "duration": 160,
    "start_time": "2024-03-13T15:49:16.175Z"
   },
   {
    "duration": 15,
    "start_time": "2024-03-13T15:49:19.110Z"
   },
   {
    "duration": 28,
    "start_time": "2024-03-13T15:49:22.684Z"
   },
   {
    "duration": 9,
    "start_time": "2024-03-13T15:52:41.415Z"
   },
   {
    "duration": 33,
    "start_time": "2024-03-13T15:53:04.842Z"
   },
   {
    "duration": 263,
    "start_time": "2024-03-13T15:53:56.105Z"
   },
   {
    "duration": 54,
    "start_time": "2024-03-13T15:55:31.865Z"
   },
   {
    "duration": 621,
    "start_time": "2024-03-13T15:55:51.527Z"
   },
   {
    "duration": 300,
    "start_time": "2024-03-13T15:55:53.608Z"
   },
   {
    "duration": 11,
    "start_time": "2024-03-13T15:55:55.507Z"
   },
   {
    "duration": 11,
    "start_time": "2024-03-13T15:55:57.903Z"
   },
   {
    "duration": 9,
    "start_time": "2024-03-13T15:55:59.947Z"
   },
   {
    "duration": 12,
    "start_time": "2024-03-13T15:56:02.540Z"
   },
   {
    "duration": 7,
    "start_time": "2024-03-13T15:56:04.858Z"
   },
   {
    "duration": 11,
    "start_time": "2024-03-13T15:56:06.699Z"
   },
   {
    "duration": 14,
    "start_time": "2024-03-13T15:56:10.569Z"
   },
   {
    "duration": 11,
    "start_time": "2024-03-13T15:56:12.747Z"
   },
   {
    "duration": 6,
    "start_time": "2024-03-13T15:56:15.318Z"
   },
   {
    "duration": 12,
    "start_time": "2024-03-13T15:56:18.362Z"
   },
   {
    "duration": 5,
    "start_time": "2024-03-13T15:56:22.052Z"
   },
   {
    "duration": 5,
    "start_time": "2024-03-13T15:56:24.367Z"
   },
   {
    "duration": 7,
    "start_time": "2024-03-13T15:56:26.337Z"
   },
   {
    "duration": 5,
    "start_time": "2024-03-13T15:56:30.010Z"
   },
   {
    "duration": 5,
    "start_time": "2024-03-13T15:56:32.260Z"
   },
   {
    "duration": 236,
    "start_time": "2024-03-13T15:56:34.663Z"
   },
   {
    "duration": 5,
    "start_time": "2024-03-13T15:56:37.870Z"
   },
   {
    "duration": 149,
    "start_time": "2024-03-13T15:56:40.370Z"
   },
   {
    "duration": 71,
    "start_time": "2024-03-13T15:56:42.862Z"
   },
   {
    "duration": 6,
    "start_time": "2024-03-13T15:56:46.199Z"
   },
   {
    "duration": 371,
    "start_time": "2024-03-13T15:56:48.701Z"
   },
   {
    "duration": 170,
    "start_time": "2024-03-13T15:56:51.115Z"
   },
   {
    "duration": 195,
    "start_time": "2024-03-13T15:56:55.073Z"
   },
   {
    "duration": 22,
    "start_time": "2024-03-13T15:56:58.369Z"
   },
   {
    "duration": 24,
    "start_time": "2024-03-13T15:57:01.497Z"
   },
   {
    "duration": 22,
    "start_time": "2024-03-13T15:57:03.832Z"
   },
   {
    "duration": 20,
    "start_time": "2024-03-13T15:57:06.248Z"
   },
   {
    "duration": 160,
    "start_time": "2024-03-13T15:57:09.589Z"
   },
   {
    "duration": 191,
    "start_time": "2024-03-13T15:57:11.851Z"
   },
   {
    "duration": 173,
    "start_time": "2024-03-13T15:57:14.128Z"
   },
   {
    "duration": 167,
    "start_time": "2024-03-13T15:57:16.171Z"
   },
   {
    "duration": 16,
    "start_time": "2024-03-13T15:57:18.903Z"
   },
   {
    "duration": 29,
    "start_time": "2024-03-13T15:57:22.526Z"
   },
   {
    "duration": 9,
    "start_time": "2024-03-13T15:57:33.021Z"
   },
   {
    "duration": 12,
    "start_time": "2024-03-13T15:57:38.804Z"
   },
   {
    "duration": 508,
    "start_time": "2024-03-13T15:59:43.586Z"
   },
   {
    "duration": 43,
    "start_time": "2024-03-13T16:00:24.096Z"
   },
   {
    "duration": 23,
    "start_time": "2024-03-13T16:01:21.345Z"
   },
   {
    "duration": 13,
    "start_time": "2024-03-13T16:02:37.955Z"
   },
   {
    "duration": 96,
    "start_time": "2024-03-13T16:05:02.973Z"
   },
   {
    "duration": 97,
    "start_time": "2024-03-13T16:05:37.487Z"
   },
   {
    "duration": 100,
    "start_time": "2024-03-13T16:05:43.812Z"
   },
   {
    "duration": 5,
    "start_time": "2024-03-13T16:06:23.490Z"
   },
   {
    "duration": 15,
    "start_time": "2024-03-13T16:06:37.825Z"
   },
   {
    "duration": 910,
    "start_time": "2024-03-16T09:29:44.107Z"
   },
   {
    "duration": 206,
    "start_time": "2024-03-16T09:29:48.506Z"
   },
   {
    "duration": 14,
    "start_time": "2024-03-16T09:29:50.743Z"
   },
   {
    "duration": 14,
    "start_time": "2024-03-16T09:29:53.117Z"
   },
   {
    "duration": 10,
    "start_time": "2024-03-16T09:29:55.083Z"
   },
   {
    "duration": 11,
    "start_time": "2024-03-16T09:29:57.105Z"
   },
   {
    "duration": 7,
    "start_time": "2024-03-16T09:29:59.274Z"
   },
   {
    "duration": 11,
    "start_time": "2024-03-16T09:30:01.352Z"
   },
   {
    "duration": 15,
    "start_time": "2024-03-16T09:30:04.163Z"
   },
   {
    "duration": 14,
    "start_time": "2024-03-16T09:30:06.219Z"
   },
   {
    "duration": 7,
    "start_time": "2024-03-16T09:30:08.622Z"
   },
   {
    "duration": 14,
    "start_time": "2024-03-16T09:30:10.727Z"
   },
   {
    "duration": 7,
    "start_time": "2024-03-16T09:30:14.227Z"
   },
   {
    "duration": 7,
    "start_time": "2024-03-16T09:30:16.136Z"
   },
   {
    "duration": 9,
    "start_time": "2024-03-16T09:30:17.930Z"
   },
   {
    "duration": 4,
    "start_time": "2024-03-16T09:30:20.137Z"
   },
   {
    "duration": 5,
    "start_time": "2024-03-16T09:30:21.937Z"
   },
   {
    "duration": 226,
    "start_time": "2024-03-16T09:30:24.325Z"
   },
   {
    "duration": 6,
    "start_time": "2024-03-16T09:30:27.604Z"
   },
   {
    "duration": 143,
    "start_time": "2024-03-16T09:30:29.443Z"
   },
   {
    "duration": 77,
    "start_time": "2024-03-16T09:30:33.508Z"
   },
   {
    "duration": 387,
    "start_time": "2024-03-16T09:30:36.076Z"
   },
   {
    "duration": 177,
    "start_time": "2024-03-16T09:30:39.096Z"
   },
   {
    "duration": 185,
    "start_time": "2024-03-16T09:30:43.645Z"
   },
   {
    "duration": 23,
    "start_time": "2024-03-16T09:30:46.541Z"
   },
   {
    "duration": 30,
    "start_time": "2024-03-16T09:30:49.004Z"
   },
   {
    "duration": 22,
    "start_time": "2024-03-16T09:30:51.458Z"
   },
   {
    "duration": 21,
    "start_time": "2024-03-16T09:30:53.439Z"
   },
   {
    "duration": 179,
    "start_time": "2024-03-16T09:30:58.066Z"
   },
   {
    "duration": 192,
    "start_time": "2024-03-16T09:31:03.253Z"
   },
   {
    "duration": 174,
    "start_time": "2024-03-16T09:31:06.321Z"
   },
   {
    "duration": 171,
    "start_time": "2024-03-16T09:31:08.492Z"
   },
   {
    "duration": 15,
    "start_time": "2024-03-16T09:31:11.587Z"
   },
   {
    "duration": 44,
    "start_time": "2024-03-16T09:31:14.241Z"
   },
   {
    "duration": 17,
    "start_time": "2024-03-16T09:31:17.186Z"
   },
   {
    "duration": 14,
    "start_time": "2024-03-16T09:31:19.987Z"
   },
   {
    "duration": 16,
    "start_time": "2024-03-16T09:31:22.932Z"
   },
   {
    "duration": 5,
    "start_time": "2024-03-16T09:40:38.405Z"
   },
   {
    "duration": 7,
    "start_time": "2024-03-16T09:40:50.518Z"
   },
   {
    "duration": 507,
    "start_time": "2024-03-16T09:46:35.207Z"
   },
   {
    "duration": 7,
    "start_time": "2024-03-16T09:53:56.602Z"
   },
   {
    "duration": 4,
    "start_time": "2024-03-16T09:54:24.542Z"
   },
   {
    "duration": 158,
    "start_time": "2024-03-16T10:00:24.343Z"
   },
   {
    "duration": 164,
    "start_time": "2024-03-16T10:00:35.289Z"
   },
   {
    "duration": 163,
    "start_time": "2024-03-16T10:01:15.037Z"
   },
   {
    "duration": 213,
    "start_time": "2024-03-16T10:10:35.979Z"
   },
   {
    "duration": 260,
    "start_time": "2024-03-16T10:11:23.581Z"
   },
   {
    "duration": 187,
    "start_time": "2024-03-16T10:13:33.057Z"
   },
   {
    "duration": 211,
    "start_time": "2024-03-16T10:15:29.157Z"
   },
   {
    "duration": 210,
    "start_time": "2024-03-16T10:18:22.844Z"
   },
   {
    "duration": 237,
    "start_time": "2024-03-16T10:22:01.028Z"
   },
   {
    "duration": 336,
    "start_time": "2024-03-16T10:22:22.515Z"
   },
   {
    "duration": 287,
    "start_time": "2024-03-16T10:22:28.385Z"
   },
   {
    "duration": 263,
    "start_time": "2024-03-16T10:22:36.047Z"
   },
   {
    "duration": 412,
    "start_time": "2024-03-16T10:25:30.937Z"
   },
   {
    "duration": 395,
    "start_time": "2024-03-16T10:28:42.661Z"
   },
   {
    "duration": 545,
    "start_time": "2024-03-16T10:32:45.541Z"
   },
   {
    "duration": 73,
    "start_time": "2024-03-16T10:33:26.312Z"
   },
   {
    "duration": 522,
    "start_time": "2024-03-16T10:33:36.349Z"
   },
   {
    "duration": 633,
    "start_time": "2024-03-16T10:37:04.044Z"
   },
   {
    "duration": 508,
    "start_time": "2024-03-16T10:38:20.745Z"
   },
   {
    "duration": 6,
    "start_time": "2024-03-16T10:50:43.733Z"
   },
   {
    "duration": 382,
    "start_time": "2024-03-16T10:53:59.638Z"
   },
   {
    "duration": 6,
    "start_time": "2024-03-16T10:55:43.990Z"
   },
   {
    "duration": 6,
    "start_time": "2024-03-16T10:56:43.758Z"
   },
   {
    "duration": 8,
    "start_time": "2024-03-16T10:57:08.881Z"
   },
   {
    "duration": 394,
    "start_time": "2024-03-16T10:58:12.341Z"
   },
   {
    "duration": 10,
    "start_time": "2024-03-16T11:06:41.889Z"
   },
   {
    "duration": 10,
    "start_time": "2024-03-16T11:06:47.110Z"
   },
   {
    "duration": 9,
    "start_time": "2024-03-16T11:07:09.243Z"
   },
   {
    "duration": 30,
    "start_time": "2024-03-16T11:07:20.082Z"
   },
   {
    "duration": 23,
    "start_time": "2024-03-16T11:08:37.326Z"
   },
   {
    "duration": 8,
    "start_time": "2024-03-16T11:09:49.857Z"
   },
   {
    "duration": 34,
    "start_time": "2024-03-16T11:11:02.586Z"
   },
   {
    "duration": 8,
    "start_time": "2024-03-16T11:11:53.325Z"
   },
   {
    "duration": 6,
    "start_time": "2024-03-16T11:12:33.116Z"
   },
   {
    "duration": 508,
    "start_time": "2024-03-16T12:12:52.877Z"
   },
   {
    "duration": 470,
    "start_time": "2024-03-16T12:13:29.505Z"
   },
   {
    "duration": 12,
    "start_time": "2024-03-16T12:35:28.898Z"
   },
   {
    "duration": 3,
    "start_time": "2024-03-16T12:35:51.707Z"
   },
   {
    "duration": 29048,
    "start_time": "2024-03-16T12:35:58.472Z"
   },
   {
    "duration": 62453,
    "start_time": "2024-03-16T12:38:01.304Z"
   },
   {
    "duration": 2143,
    "start_time": "2024-03-16T12:39:19.737Z"
   },
   {
    "duration": 2203,
    "start_time": "2024-03-16T12:40:01.616Z"
   },
   {
    "duration": 1916,
    "start_time": "2024-03-16T12:40:16.526Z"
   },
   {
    "duration": 1997,
    "start_time": "2024-03-16T12:41:31.755Z"
   },
   {
    "duration": 1890,
    "start_time": "2024-03-16T12:41:42.619Z"
   },
   {
    "duration": 2227,
    "start_time": "2024-03-16T12:42:04.658Z"
   },
   {
    "duration": 1981,
    "start_time": "2024-03-16T12:42:15.791Z"
   },
   {
    "duration": 1997,
    "start_time": "2024-03-16T12:42:35.460Z"
   },
   {
    "duration": 2246,
    "start_time": "2024-03-16T12:44:18.456Z"
   },
   {
    "duration": 2277,
    "start_time": "2024-03-16T12:44:40.406Z"
   },
   {
    "duration": 2411,
    "start_time": "2024-03-16T12:45:08.429Z"
   },
   {
    "duration": 2304,
    "start_time": "2024-03-16T12:45:25.137Z"
   },
   {
    "duration": 2312,
    "start_time": "2024-03-16T12:45:38.811Z"
   },
   {
    "duration": 2322,
    "start_time": "2024-03-16T12:45:47.959Z"
   },
   {
    "duration": 2580,
    "start_time": "2024-03-16T12:46:13.987Z"
   },
   {
    "duration": 2303,
    "start_time": "2024-03-16T12:46:26.939Z"
   },
   {
    "duration": 4,
    "start_time": "2024-03-16T13:00:12.971Z"
   },
   {
    "duration": 10,
    "start_time": "2024-03-16T13:02:40.174Z"
   },
   {
    "duration": 2059,
    "start_time": "2024-03-16T13:13:00.732Z"
   },
   {
    "duration": 6,
    "start_time": "2024-03-16T13:16:34.763Z"
   },
   {
    "duration": 8,
    "start_time": "2024-03-16T13:16:46.220Z"
   },
   {
    "duration": 7,
    "start_time": "2024-03-16T13:17:46.656Z"
   },
   {
    "duration": 6,
    "start_time": "2024-03-16T13:18:00.143Z"
   },
   {
    "duration": 9,
    "start_time": "2024-03-16T13:18:26.933Z"
   },
   {
    "duration": 138,
    "start_time": "2024-03-16T13:19:07.386Z"
   },
   {
    "duration": 2036,
    "start_time": "2024-03-16T13:19:19.772Z"
   },
   {
    "duration": 10,
    "start_time": "2024-03-16T13:19:31.924Z"
   },
   {
    "duration": 7,
    "start_time": "2024-03-16T13:19:48.143Z"
   },
   {
    "duration": 6,
    "start_time": "2024-03-16T13:20:03.051Z"
   },
   {
    "duration": 7,
    "start_time": "2024-03-16T13:20:34.846Z"
   },
   {
    "duration": 7,
    "start_time": "2024-03-16T13:21:55.067Z"
   },
   {
    "duration": 5,
    "start_time": "2024-03-16T13:22:00.272Z"
   },
   {
    "duration": 7,
    "start_time": "2024-03-16T13:22:07.662Z"
   },
   {
    "duration": 7,
    "start_time": "2024-03-16T13:22:17.533Z"
   },
   {
    "duration": 9,
    "start_time": "2024-03-16T13:22:21.814Z"
   },
   {
    "duration": 8,
    "start_time": "2024-03-16T13:22:26.833Z"
   },
   {
    "duration": 6,
    "start_time": "2024-03-16T13:22:32.341Z"
   },
   {
    "duration": 46,
    "start_time": "2024-03-16T13:22:45.746Z"
   },
   {
    "duration": 2012,
    "start_time": "2024-03-16T13:22:53.127Z"
   },
   {
    "duration": 1272,
    "start_time": "2024-03-16T15:19:48.512Z"
   },
   {
    "duration": 83,
    "start_time": "2024-03-16T15:19:52.379Z"
   },
   {
    "duration": 20,
    "start_time": "2024-03-16T15:19:54.797Z"
   },
   {
    "duration": 11,
    "start_time": "2024-03-16T15:20:11.860Z"
   },
   {
    "duration": 13,
    "start_time": "2024-03-16T15:20:19.517Z"
   },
   {
    "duration": 12,
    "start_time": "2024-03-16T15:20:22.599Z"
   },
   {
    "duration": 1270,
    "start_time": "2024-03-16T15:20:57.550Z"
   },
   {
    "duration": 88,
    "start_time": "2024-03-16T15:20:59.689Z"
   },
   {
    "duration": 14,
    "start_time": "2024-03-16T15:21:01.559Z"
   },
   {
    "duration": 20,
    "start_time": "2024-03-16T15:21:04.034Z"
   },
   {
    "duration": 23,
    "start_time": "2024-03-16T15:21:06.306Z"
   },
   {
    "duration": 11,
    "start_time": "2024-03-16T15:21:08.283Z"
   },
   {
    "duration": 8,
    "start_time": "2024-03-16T15:21:10.743Z"
   },
   {
    "duration": 10,
    "start_time": "2024-03-16T15:21:12.392Z"
   },
   {
    "duration": 34,
    "start_time": "2024-03-16T15:21:14.603Z"
   },
   {
    "duration": 13,
    "start_time": "2024-03-16T15:21:16.571Z"
   },
   {
    "duration": 6,
    "start_time": "2024-03-16T15:21:19.771Z"
   },
   {
    "duration": 13,
    "start_time": "2024-03-16T15:21:21.647Z"
   },
   {
    "duration": 5,
    "start_time": "2024-03-16T15:21:24.748Z"
   },
   {
    "duration": 7,
    "start_time": "2024-03-16T15:21:26.571Z"
   },
   {
    "duration": 9,
    "start_time": "2024-03-16T15:21:28.539Z"
   },
   {
    "duration": 10,
    "start_time": "2024-03-16T15:21:31.915Z"
   },
   {
    "duration": 9,
    "start_time": "2024-03-16T15:21:33.811Z"
   },
   {
    "duration": 270,
    "start_time": "2024-03-16T15:21:35.619Z"
   },
   {
    "duration": 12,
    "start_time": "2024-03-16T15:21:38.221Z"
   },
   {
    "duration": 153,
    "start_time": "2024-03-16T15:21:40.851Z"
   },
   {
    "duration": 91,
    "start_time": "2024-03-16T15:21:46.155Z"
   },
   {
    "duration": 6,
    "start_time": "2024-03-16T15:21:51.541Z"
   },
   {
    "duration": 376,
    "start_time": "2024-03-16T15:21:54.295Z"
   },
   {
    "duration": 177,
    "start_time": "2024-03-16T15:21:57.003Z"
   },
   {
    "duration": 206,
    "start_time": "2024-03-16T15:21:59.635Z"
   },
   {
    "duration": 50,
    "start_time": "2024-03-16T15:22:02.295Z"
   },
   {
    "duration": 32,
    "start_time": "2024-03-16T15:22:05.326Z"
   },
   {
    "duration": 40,
    "start_time": "2024-03-16T15:22:07.908Z"
   },
   {
    "duration": 25,
    "start_time": "2024-03-16T15:22:09.840Z"
   },
   {
    "duration": 206,
    "start_time": "2024-03-16T15:22:12.685Z"
   },
   {
    "duration": 191,
    "start_time": "2024-03-16T15:22:15.170Z"
   },
   {
    "duration": 272,
    "start_time": "2024-03-16T15:22:17.711Z"
   },
   {
    "duration": 19,
    "start_time": "2024-03-16T15:22:20.634Z"
   },
   {
    "duration": 53,
    "start_time": "2024-03-16T15:22:23.594Z"
   },
   {
    "duration": 27,
    "start_time": "2024-03-16T15:22:26.307Z"
   },
   {
    "duration": 14,
    "start_time": "2024-03-16T15:22:28.540Z"
   },
   {
    "duration": 33,
    "start_time": "2024-03-16T15:22:30.813Z"
   },
   {
    "duration": 10,
    "start_time": "2024-03-16T15:22:33.718Z"
   },
   {
    "duration": 10,
    "start_time": "2024-03-16T15:22:37.238Z"
   },
   {
    "duration": 5,
    "start_time": "2024-03-16T15:22:39.466Z"
   },
   {
    "duration": 550,
    "start_time": "2024-03-16T15:22:42.439Z"
   },
   {
    "duration": 5,
    "start_time": "2024-03-16T15:22:48.777Z"
   },
   {
    "duration": 417,
    "start_time": "2024-03-16T15:22:52.545Z"
   },
   {
    "duration": 5,
    "start_time": "2024-03-16T15:22:55.979Z"
   },
   {
    "duration": 13,
    "start_time": "2024-03-16T15:22:58.436Z"
   },
   {
    "duration": 7,
    "start_time": "2024-03-16T15:23:01.155Z"
   },
   {
    "duration": 560,
    "start_time": "2024-03-16T15:23:04.848Z"
   },
   {
    "duration": 1887,
    "start_time": "2024-03-16T15:23:09.777Z"
   },
   {
    "duration": 6,
    "start_time": "2024-03-16T15:23:16.657Z"
   },
   {
    "duration": 1933,
    "start_time": "2024-03-16T15:23:21.237Z"
   },
   {
    "duration": 6,
    "start_time": "2024-03-16T15:23:29.404Z"
   },
   {
    "duration": 1281,
    "start_time": "2024-03-16T15:26:33.671Z"
   },
   {
    "duration": 76,
    "start_time": "2024-03-16T15:26:40.038Z"
   },
   {
    "duration": 31,
    "start_time": "2024-03-16T15:26:44.328Z"
   },
   {
    "duration": 12,
    "start_time": "2024-03-16T15:26:47.498Z"
   },
   {
    "duration": 14,
    "start_time": "2024-03-16T15:26:51.792Z"
   },
   {
    "duration": 12,
    "start_time": "2024-03-16T15:26:55.992Z"
   },
   {
    "duration": 8,
    "start_time": "2024-03-16T15:26:58.679Z"
   },
   {
    "duration": 11,
    "start_time": "2024-03-16T15:27:01.064Z"
   },
   {
    "duration": 16,
    "start_time": "2024-03-16T15:27:13.139Z"
   },
   {
    "duration": 12,
    "start_time": "2024-03-16T15:27:22.888Z"
   },
   {
    "duration": 6,
    "start_time": "2024-03-16T15:27:26.457Z"
   },
   {
    "duration": 13,
    "start_time": "2024-03-16T15:27:29.074Z"
   },
   {
    "duration": 9,
    "start_time": "2024-03-16T15:27:34.521Z"
   },
   {
    "duration": 9,
    "start_time": "2024-03-16T15:27:37.108Z"
   },
   {
    "duration": 9,
    "start_time": "2024-03-16T15:27:41.556Z"
   },
   {
    "duration": 4,
    "start_time": "2024-03-16T15:27:44.992Z"
   },
   {
    "duration": 24,
    "start_time": "2024-03-16T15:27:47.418Z"
   },
   {
    "duration": 250,
    "start_time": "2024-03-16T15:27:51.211Z"
   },
   {
    "duration": 6,
    "start_time": "2024-03-16T15:27:54.899Z"
   },
   {
    "duration": 158,
    "start_time": "2024-03-16T15:27:59.424Z"
   },
   {
    "duration": 96,
    "start_time": "2024-03-16T15:28:02.626Z"
   },
   {
    "duration": 8,
    "start_time": "2024-03-16T15:28:08.738Z"
   },
   {
    "duration": 373,
    "start_time": "2024-03-16T15:28:11.757Z"
   },
   {
    "duration": 181,
    "start_time": "2024-03-16T15:28:19.541Z"
   },
   {
    "duration": 234,
    "start_time": "2024-03-16T15:28:29.415Z"
   },
   {
    "duration": 38,
    "start_time": "2024-03-16T15:28:37.565Z"
   },
   {
    "duration": 38,
    "start_time": "2024-03-16T15:28:42.001Z"
   },
   {
    "duration": 21,
    "start_time": "2024-03-16T15:28:45.458Z"
   },
   {
    "duration": 21,
    "start_time": "2024-03-16T15:28:48.462Z"
   },
   {
    "duration": 174,
    "start_time": "2024-03-16T15:28:57.835Z"
   },
   {
    "duration": 198,
    "start_time": "2024-03-16T15:29:03.013Z"
   },
   {
    "duration": 297,
    "start_time": "2024-03-16T15:29:07.856Z"
   },
   {
    "duration": 16,
    "start_time": "2024-03-16T15:29:12.180Z"
   },
   {
    "duration": 42,
    "start_time": "2024-03-16T15:29:18.642Z"
   },
   {
    "duration": 16,
    "start_time": "2024-03-16T15:29:25.374Z"
   },
   {
    "duration": 21,
    "start_time": "2024-03-16T15:29:29.446Z"
   },
   {
    "duration": 24,
    "start_time": "2024-03-16T15:29:34.105Z"
   },
   {
    "duration": 7,
    "start_time": "2024-03-16T15:29:40.912Z"
   },
   {
    "duration": 10,
    "start_time": "2024-03-16T15:29:43.527Z"
   },
   {
    "duration": 8,
    "start_time": "2024-03-16T15:29:48.515Z"
   },
   {
    "duration": 5,
    "start_time": "2024-03-16T15:29:59.550Z"
   },
   {
    "duration": 544,
    "start_time": "2024-03-16T15:30:02.658Z"
   },
   {
    "duration": 15,
    "start_time": "2024-03-16T15:30:26.013Z"
   },
   {
    "duration": 454,
    "start_time": "2024-03-16T15:30:30.845Z"
   },
   {
    "duration": 5,
    "start_time": "2024-03-16T15:30:35.571Z"
   },
   {
    "duration": 14,
    "start_time": "2024-03-16T15:30:37.898Z"
   },
   {
    "duration": 10,
    "start_time": "2024-03-16T15:30:41.030Z"
   },
   {
    "duration": 513,
    "start_time": "2024-03-16T15:30:46.191Z"
   },
   {
    "duration": 1872,
    "start_time": "2024-03-16T15:30:50.659Z"
   },
   {
    "duration": 6,
    "start_time": "2024-03-16T15:30:54.801Z"
   },
   {
    "duration": 1923,
    "start_time": "2024-03-16T15:30:56.634Z"
   },
   {
    "duration": 6,
    "start_time": "2024-03-16T15:31:02.455Z"
   },
   {
    "duration": 67,
    "start_time": "2024-03-16T15:38:52.043Z"
   },
   {
    "duration": 95,
    "start_time": "2024-03-16T15:50:05.787Z"
   },
   {
    "duration": 93,
    "start_time": "2024-03-16T15:51:16.604Z"
   },
   {
    "duration": 241,
    "start_time": "2024-03-16T15:51:45.169Z"
   },
   {
    "duration": 91,
    "start_time": "2024-03-16T16:07:06.445Z"
   },
   {
    "duration": 6,
    "start_time": "2024-03-16T16:16:18.871Z"
   },
   {
    "duration": 70,
    "start_time": "2024-03-16T16:34:38.734Z"
   },
   {
    "duration": 1119,
    "start_time": "2024-03-16T17:02:10.897Z"
   },
   {
    "duration": 66,
    "start_time": "2024-03-16T17:02:12.018Z"
   },
   {
    "duration": 12,
    "start_time": "2024-03-16T17:02:12.086Z"
   },
   {
    "duration": 34,
    "start_time": "2024-03-16T17:02:12.100Z"
   },
   {
    "duration": 41,
    "start_time": "2024-03-16T17:02:12.136Z"
   },
   {
    "duration": 37,
    "start_time": "2024-03-16T17:02:12.178Z"
   },
   {
    "duration": 26,
    "start_time": "2024-03-16T17:02:12.217Z"
   },
   {
    "duration": 44,
    "start_time": "2024-03-16T17:02:12.245Z"
   },
   {
    "duration": 24,
    "start_time": "2024-03-16T17:02:12.291Z"
   },
   {
    "duration": 23,
    "start_time": "2024-03-16T17:02:12.319Z"
   },
   {
    "duration": 25,
    "start_time": "2024-03-16T17:02:12.344Z"
   },
   {
    "duration": 42,
    "start_time": "2024-03-16T17:02:12.371Z"
   },
   {
    "duration": 18,
    "start_time": "2024-03-16T17:02:12.415Z"
   },
   {
    "duration": 40,
    "start_time": "2024-03-16T17:02:12.435Z"
   },
   {
    "duration": 28,
    "start_time": "2024-03-16T17:02:12.477Z"
   },
   {
    "duration": 30,
    "start_time": "2024-03-16T17:02:12.507Z"
   },
   {
    "duration": 32,
    "start_time": "2024-03-16T17:02:12.539Z"
   },
   {
    "duration": 225,
    "start_time": "2024-03-16T17:02:12.573Z"
   },
   {
    "duration": 6,
    "start_time": "2024-03-16T17:02:12.800Z"
   },
   {
    "duration": 152,
    "start_time": "2024-03-16T17:02:12.808Z"
   },
   {
    "duration": 82,
    "start_time": "2024-03-16T17:02:12.961Z"
   },
   {
    "duration": 5,
    "start_time": "2024-03-16T17:02:13.045Z"
   },
   {
    "duration": 301,
    "start_time": "2024-03-16T17:02:13.052Z"
   },
   {
    "duration": 155,
    "start_time": "2024-03-16T17:02:13.355Z"
   },
   {
    "duration": 173,
    "start_time": "2024-03-16T17:02:13.511Z"
   },
   {
    "duration": 21,
    "start_time": "2024-03-16T17:02:13.686Z"
   },
   {
    "duration": 22,
    "start_time": "2024-03-16T17:02:13.708Z"
   },
   {
    "duration": 38,
    "start_time": "2024-03-16T17:02:13.733Z"
   },
   {
    "duration": 19,
    "start_time": "2024-03-16T17:02:13.773Z"
   },
   {
    "duration": 172,
    "start_time": "2024-03-16T17:02:13.793Z"
   },
   {
    "duration": 173,
    "start_time": "2024-03-16T17:02:13.966Z"
   },
   {
    "duration": 232,
    "start_time": "2024-03-16T17:02:14.141Z"
   },
   {
    "duration": 163,
    "start_time": "2024-03-16T17:02:14.375Z"
   },
   {
    "duration": 15,
    "start_time": "2024-03-16T17:02:14.539Z"
   },
   {
    "duration": 66,
    "start_time": "2024-03-16T17:02:14.555Z"
   },
   {
    "duration": 14,
    "start_time": "2024-03-16T17:02:14.622Z"
   },
   {
    "duration": 13,
    "start_time": "2024-03-16T17:02:14.637Z"
   },
   {
    "duration": 19,
    "start_time": "2024-03-16T17:02:14.651Z"
   },
   {
    "duration": 3,
    "start_time": "2024-03-16T17:02:14.672Z"
   },
   {
    "duration": 5,
    "start_time": "2024-03-16T17:02:14.677Z"
   },
   {
    "duration": 5,
    "start_time": "2024-03-16T17:02:14.683Z"
   },
   {
    "duration": 7,
    "start_time": "2024-03-16T17:02:14.689Z"
   },
   {
    "duration": 13,
    "start_time": "2024-03-16T17:02:14.697Z"
   },
   {
    "duration": 478,
    "start_time": "2024-03-16T17:02:14.712Z"
   },
   {
    "duration": 5,
    "start_time": "2024-03-16T17:02:15.191Z"
   },
   {
    "duration": 441,
    "start_time": "2024-03-16T17:02:15.197Z"
   },
   {
    "duration": 4,
    "start_time": "2024-03-16T17:02:15.640Z"
   },
   {
    "duration": 38,
    "start_time": "2024-03-16T17:02:15.645Z"
   },
   {
    "duration": 36,
    "start_time": "2024-03-16T17:02:15.684Z"
   },
   {
    "duration": 472,
    "start_time": "2024-03-16T17:02:15.721Z"
   },
   {
    "duration": 1506,
    "start_time": "2024-03-16T17:02:16.194Z"
   },
   {
    "duration": 5,
    "start_time": "2024-03-16T17:02:17.701Z"
   },
   {
    "duration": 1521,
    "start_time": "2024-03-16T17:02:17.707Z"
   },
   {
    "duration": 5,
    "start_time": "2024-03-16T17:02:19.230Z"
   },
   {
    "duration": 11,
    "start_time": "2024-03-16T17:13:22.459Z"
   },
   {
    "duration": 1014,
    "start_time": "2024-03-16T17:27:48.607Z"
   },
   {
    "duration": 67,
    "start_time": "2024-03-16T17:27:49.622Z"
   },
   {
    "duration": 12,
    "start_time": "2024-03-16T17:27:49.691Z"
   },
   {
    "duration": 11,
    "start_time": "2024-03-16T17:27:49.704Z"
   },
   {
    "duration": 7,
    "start_time": "2024-03-16T17:27:49.717Z"
   },
   {
    "duration": 21,
    "start_time": "2024-03-16T17:27:49.726Z"
   },
   {
    "duration": 7,
    "start_time": "2024-03-16T17:27:49.748Z"
   },
   {
    "duration": 12,
    "start_time": "2024-03-16T17:27:49.757Z"
   },
   {
    "duration": 14,
    "start_time": "2024-03-16T17:27:49.770Z"
   },
   {
    "duration": 11,
    "start_time": "2024-03-16T17:27:49.785Z"
   },
   {
    "duration": 4,
    "start_time": "2024-03-16T17:27:49.797Z"
   },
   {
    "duration": 17,
    "start_time": "2024-03-16T17:27:49.803Z"
   },
   {
    "duration": 5,
    "start_time": "2024-03-16T17:27:49.822Z"
   },
   {
    "duration": 7,
    "start_time": "2024-03-16T17:27:49.830Z"
   },
   {
    "duration": 38,
    "start_time": "2024-03-16T17:27:49.838Z"
   },
   {
    "duration": 5,
    "start_time": "2024-03-16T17:27:49.877Z"
   },
   {
    "duration": 6,
    "start_time": "2024-03-16T17:27:49.884Z"
   },
   {
    "duration": 223,
    "start_time": "2024-03-16T17:27:49.891Z"
   },
   {
    "duration": 6,
    "start_time": "2024-03-16T17:27:50.115Z"
   },
   {
    "duration": 147,
    "start_time": "2024-03-16T17:27:50.122Z"
   },
   {
    "duration": 76,
    "start_time": "2024-03-16T17:27:50.271Z"
   },
   {
    "duration": 5,
    "start_time": "2024-03-16T17:27:50.348Z"
   },
   {
    "duration": 317,
    "start_time": "2024-03-16T17:27:50.354Z"
   },
   {
    "duration": 148,
    "start_time": "2024-03-16T17:27:50.672Z"
   },
   {
    "duration": 171,
    "start_time": "2024-03-16T17:27:50.822Z"
   },
   {
    "duration": 22,
    "start_time": "2024-03-16T17:27:50.995Z"
   },
   {
    "duration": 22,
    "start_time": "2024-03-16T17:27:51.019Z"
   },
   {
    "duration": 38,
    "start_time": "2024-03-16T17:27:51.042Z"
   },
   {
    "duration": 17,
    "start_time": "2024-03-16T17:27:51.082Z"
   },
   {
    "duration": 161,
    "start_time": "2024-03-16T17:27:51.101Z"
   },
   {
    "duration": 174,
    "start_time": "2024-03-16T17:27:51.269Z"
   },
   {
    "duration": 228,
    "start_time": "2024-03-16T17:27:51.445Z"
   },
   {
    "duration": 160,
    "start_time": "2024-03-16T17:27:51.674Z"
   },
   {
    "duration": 14,
    "start_time": "2024-03-16T17:27:51.835Z"
   },
   {
    "duration": 52,
    "start_time": "2024-03-16T17:27:51.851Z"
   },
   {
    "duration": 13,
    "start_time": "2024-03-16T17:27:51.905Z"
   },
   {
    "duration": 11,
    "start_time": "2024-03-16T17:27:51.920Z"
   },
   {
    "duration": 14,
    "start_time": "2024-03-16T17:27:51.933Z"
   },
   {
    "duration": 23,
    "start_time": "2024-03-16T17:27:51.949Z"
   },
   {
    "duration": 5,
    "start_time": "2024-03-16T17:27:51.974Z"
   },
   {
    "duration": 6,
    "start_time": "2024-03-16T17:27:51.982Z"
   },
   {
    "duration": 13,
    "start_time": "2024-03-16T17:27:51.989Z"
   },
   {
    "duration": 18,
    "start_time": "2024-03-16T17:27:52.004Z"
   },
   {
    "duration": 467,
    "start_time": "2024-03-16T17:27:52.024Z"
   },
   {
    "duration": 4,
    "start_time": "2024-03-16T17:27:52.493Z"
   },
   {
    "duration": 355,
    "start_time": "2024-03-16T17:27:52.499Z"
   },
   {
    "duration": 4,
    "start_time": "2024-03-16T17:27:52.856Z"
   },
   {
    "duration": 14,
    "start_time": "2024-03-16T17:27:52.862Z"
   },
   {
    "duration": 6,
    "start_time": "2024-03-16T17:27:52.877Z"
   },
   {
    "duration": 424,
    "start_time": "2024-03-16T17:27:52.884Z"
   },
   {
    "duration": 1500,
    "start_time": "2024-03-16T17:27:53.309Z"
   },
   {
    "duration": 4,
    "start_time": "2024-03-16T17:27:54.811Z"
   },
   {
    "duration": 1485,
    "start_time": "2024-03-16T17:27:54.817Z"
   },
   {
    "duration": 4,
    "start_time": "2024-03-16T17:27:56.304Z"
   },
   {
    "duration": 1134,
    "start_time": "2024-03-16T17:28:56.864Z"
   },
   {
    "duration": 67,
    "start_time": "2024-03-16T17:28:57.999Z"
   },
   {
    "duration": 13,
    "start_time": "2024-03-16T17:28:58.069Z"
   },
   {
    "duration": 23,
    "start_time": "2024-03-16T17:28:58.083Z"
   },
   {
    "duration": 10,
    "start_time": "2024-03-16T17:28:58.107Z"
   },
   {
    "duration": 18,
    "start_time": "2024-03-16T17:28:58.119Z"
   },
   {
    "duration": 6,
    "start_time": "2024-03-16T17:28:58.139Z"
   },
   {
    "duration": 10,
    "start_time": "2024-03-16T17:28:58.147Z"
   },
   {
    "duration": 13,
    "start_time": "2024-03-16T17:28:58.170Z"
   },
   {
    "duration": 10,
    "start_time": "2024-03-16T17:28:58.184Z"
   },
   {
    "duration": 5,
    "start_time": "2024-03-16T17:28:58.195Z"
   },
   {
    "duration": 11,
    "start_time": "2024-03-16T17:28:58.201Z"
   },
   {
    "duration": 4,
    "start_time": "2024-03-16T17:28:58.213Z"
   },
   {
    "duration": 5,
    "start_time": "2024-03-16T17:28:58.218Z"
   },
   {
    "duration": 8,
    "start_time": "2024-03-16T17:28:58.224Z"
   },
   {
    "duration": 4,
    "start_time": "2024-03-16T17:28:58.270Z"
   },
   {
    "duration": 4,
    "start_time": "2024-03-16T17:28:58.276Z"
   },
   {
    "duration": 231,
    "start_time": "2024-03-16T17:28:58.282Z"
   },
   {
    "duration": 5,
    "start_time": "2024-03-16T17:28:58.515Z"
   },
   {
    "duration": 149,
    "start_time": "2024-03-16T17:28:58.521Z"
   },
   {
    "duration": 79,
    "start_time": "2024-03-16T17:28:58.671Z"
   },
   {
    "duration": 19,
    "start_time": "2024-03-16T17:28:58.752Z"
   },
   {
    "duration": 303,
    "start_time": "2024-03-16T17:28:58.772Z"
   },
   {
    "duration": 157,
    "start_time": "2024-03-16T17:28:59.077Z"
   },
   {
    "duration": 177,
    "start_time": "2024-03-16T17:28:59.235Z"
   },
   {
    "duration": 24,
    "start_time": "2024-03-16T17:28:59.414Z"
   },
   {
    "duration": 37,
    "start_time": "2024-03-16T17:28:59.441Z"
   },
   {
    "duration": 20,
    "start_time": "2024-03-16T17:28:59.479Z"
   },
   {
    "duration": 19,
    "start_time": "2024-03-16T17:28:59.501Z"
   },
   {
    "duration": 185,
    "start_time": "2024-03-16T17:28:59.521Z"
   },
   {
    "duration": 186,
    "start_time": "2024-03-16T17:28:59.708Z"
   },
   {
    "duration": 259,
    "start_time": "2024-03-16T17:28:59.895Z"
   },
   {
    "duration": 166,
    "start_time": "2024-03-16T17:29:00.156Z"
   },
   {
    "duration": 14,
    "start_time": "2024-03-16T17:29:00.323Z"
   },
   {
    "duration": 103,
    "start_time": "2024-03-16T17:29:00.338Z"
   },
   {
    "duration": 59,
    "start_time": "2024-03-16T17:29:00.443Z"
   },
   {
    "duration": 240,
    "start_time": "2024-03-16T17:29:00.504Z"
   },
   {
    "duration": 52,
    "start_time": "2024-03-16T17:29:00.745Z"
   },
   {
    "duration": 41,
    "start_time": "2024-03-16T17:29:00.798Z"
   },
   {
    "duration": 36,
    "start_time": "2024-03-16T17:29:00.840Z"
   },
   {
    "duration": 29,
    "start_time": "2024-03-16T17:29:00.878Z"
   },
   {
    "duration": 35,
    "start_time": "2024-03-16T17:29:00.909Z"
   },
   {
    "duration": 24,
    "start_time": "2024-03-16T17:29:00.945Z"
   },
   {
    "duration": 457,
    "start_time": "2024-03-16T17:29:00.971Z"
   },
   {
    "duration": 6,
    "start_time": "2024-03-16T17:29:01.430Z"
   },
   {
    "duration": 425,
    "start_time": "2024-03-16T17:29:01.438Z"
   },
   {
    "duration": 4,
    "start_time": "2024-03-16T17:29:01.869Z"
   },
   {
    "duration": 34,
    "start_time": "2024-03-16T17:29:01.874Z"
   },
   {
    "duration": 31,
    "start_time": "2024-03-16T17:29:01.910Z"
   },
   {
    "duration": 470,
    "start_time": "2024-03-16T17:29:01.942Z"
   },
   {
    "duration": 1518,
    "start_time": "2024-03-16T17:29:02.413Z"
   },
   {
    "duration": 5,
    "start_time": "2024-03-16T17:29:03.933Z"
   },
   {
    "duration": 1590,
    "start_time": "2024-03-16T17:29:03.940Z"
   },
   {
    "duration": 6,
    "start_time": "2024-03-16T17:29:05.532Z"
   },
   {
    "duration": 72,
    "start_time": "2024-03-17T14:48:55.689Z"
   },
   {
    "duration": 1198,
    "start_time": "2024-03-17T14:49:07.102Z"
   },
   {
    "duration": 193,
    "start_time": "2024-03-17T14:49:09.890Z"
   },
   {
    "duration": 12,
    "start_time": "2024-03-17T14:49:12.331Z"
   },
   {
    "duration": 10,
    "start_time": "2024-03-17T14:49:15.069Z"
   },
   {
    "duration": 8,
    "start_time": "2024-03-17T14:49:17.822Z"
   },
   {
    "duration": 12,
    "start_time": "2024-03-17T14:49:20.649Z"
   },
   {
    "duration": 7,
    "start_time": "2024-03-17T14:49:23.126Z"
   },
   {
    "duration": 9,
    "start_time": "2024-03-17T14:49:26.711Z"
   },
   {
    "duration": 15,
    "start_time": "2024-03-17T14:49:30.729Z"
   },
   {
    "duration": 11,
    "start_time": "2024-03-17T14:49:35.849Z"
   },
   {
    "duration": 111,
    "start_time": "2024-03-17T15:19:53.903Z"
   },
   {
    "duration": 70,
    "start_time": "2024-03-17T15:20:38.365Z"
   },
   {
    "duration": 16,
    "start_time": "2024-03-17T15:20:42.255Z"
   },
   {
    "duration": 1093,
    "start_time": "2024-03-17T15:22:07.314Z"
   },
   {
    "duration": 69,
    "start_time": "2024-03-17T15:22:09.851Z"
   },
   {
    "duration": 18,
    "start_time": "2024-03-17T15:22:12.557Z"
   },
   {
    "duration": 14,
    "start_time": "2024-03-17T15:22:14.759Z"
   },
   {
    "duration": 19,
    "start_time": "2024-03-17T15:22:17.053Z"
   },
   {
    "duration": 12,
    "start_time": "2024-03-17T15:22:19.364Z"
   },
   {
    "duration": 6,
    "start_time": "2024-03-17T15:22:21.417Z"
   },
   {
    "duration": 9,
    "start_time": "2024-03-17T15:22:23.682Z"
   },
   {
    "duration": 21,
    "start_time": "2024-03-17T15:22:26.134Z"
   },
   {
    "duration": 17,
    "start_time": "2024-03-17T15:22:28.457Z"
   },
   {
    "duration": 8,
    "start_time": "2024-03-17T15:22:33.815Z"
   },
   {
    "duration": 5,
    "start_time": "2024-03-17T15:23:33.203Z"
   },
   {
    "duration": 12,
    "start_time": "2024-03-17T15:23:37.319Z"
   },
   {
    "duration": 6,
    "start_time": "2024-03-17T15:23:45.502Z"
   },
   {
    "duration": 9,
    "start_time": "2024-03-17T15:23:47.466Z"
   },
   {
    "duration": 10,
    "start_time": "2024-03-17T15:23:49.518Z"
   },
   {
    "duration": 4,
    "start_time": "2024-03-17T15:23:55.293Z"
   },
   {
    "duration": 8,
    "start_time": "2024-03-17T15:23:57.658Z"
   },
   {
    "duration": 210,
    "start_time": "2024-03-17T16:13:49.188Z"
   },
   {
    "duration": 101,
    "start_time": "2024-03-17T16:16:35.322Z"
   },
   {
    "duration": 12,
    "start_time": "2024-03-17T16:17:29.202Z"
   },
   {
    "duration": 168,
    "start_time": "2024-03-17T16:17:40.555Z"
   },
   {
    "duration": 172,
    "start_time": "2024-03-17T16:18:20.631Z"
   },
   {
    "duration": 173,
    "start_time": "2024-03-17T16:19:16.679Z"
   },
   {
    "duration": 184,
    "start_time": "2024-03-17T16:19:22.099Z"
   },
   {
    "duration": 162,
    "start_time": "2024-03-17T16:20:34.758Z"
   },
   {
    "duration": 172,
    "start_time": "2024-03-17T16:20:44.954Z"
   },
   {
    "duration": 176,
    "start_time": "2024-03-17T16:20:53.607Z"
   },
   {
    "duration": 138,
    "start_time": "2024-03-17T16:22:14.355Z"
   },
   {
    "duration": 213,
    "start_time": "2024-03-17T16:22:18.968Z"
   },
   {
    "duration": 134,
    "start_time": "2024-03-17T16:23:56.864Z"
   },
   {
    "duration": 155,
    "start_time": "2024-03-17T16:24:07.428Z"
   },
   {
    "duration": 144,
    "start_time": "2024-03-17T16:24:15.306Z"
   },
   {
    "duration": 85,
    "start_time": "2024-03-17T16:24:52.370Z"
   },
   {
    "duration": 9,
    "start_time": "2024-03-17T16:25:21.971Z"
   },
   {
    "duration": 91,
    "start_time": "2024-03-17T16:28:20.997Z"
   },
   {
    "duration": 95,
    "start_time": "2024-03-17T16:30:05.272Z"
   },
   {
    "duration": 273,
    "start_time": "2024-03-17T16:31:51.994Z"
   },
   {
    "duration": 292,
    "start_time": "2024-03-17T16:32:02.976Z"
   },
   {
    "duration": 258,
    "start_time": "2024-03-17T16:41:37.774Z"
   },
   {
    "duration": 273,
    "start_time": "2024-03-17T16:42:08.242Z"
   },
   {
    "duration": 271,
    "start_time": "2024-03-17T16:42:20.459Z"
   },
   {
    "duration": 8,
    "start_time": "2024-03-17T16:44:36.826Z"
   },
   {
    "duration": 119,
    "start_time": "2024-03-17T16:45:54.373Z"
   },
   {
    "duration": 128,
    "start_time": "2024-03-17T16:46:11.582Z"
   },
   {
    "duration": 8,
    "start_time": "2024-03-17T16:55:34.816Z"
   },
   {
    "duration": 118,
    "start_time": "2024-03-17T16:56:38.421Z"
   },
   {
    "duration": 178,
    "start_time": "2024-03-17T16:57:42.352Z"
   },
   {
    "duration": 190,
    "start_time": "2024-03-17T16:57:57.393Z"
   },
   {
    "duration": 46,
    "start_time": "2024-03-18T15:19:17.096Z"
   },
   {
    "duration": 1245,
    "start_time": "2024-03-18T15:19:40.577Z"
   },
   {
    "duration": 187,
    "start_time": "2024-03-18T15:19:44.222Z"
   },
   {
    "duration": 13,
    "start_time": "2024-03-18T15:19:46.302Z"
   },
   {
    "duration": 12,
    "start_time": "2024-03-18T15:19:48.408Z"
   },
   {
    "duration": 10,
    "start_time": "2024-03-18T15:19:50.397Z"
   },
   {
    "duration": 11,
    "start_time": "2024-03-18T15:19:52.642Z"
   },
   {
    "duration": 6,
    "start_time": "2024-03-18T15:19:54.680Z"
   },
   {
    "duration": 10,
    "start_time": "2024-03-18T15:19:57.332Z"
   },
   {
    "duration": 15,
    "start_time": "2024-03-18T15:19:59.964Z"
   },
   {
    "duration": 16,
    "start_time": "2024-03-18T15:20:01.999Z"
   },
   {
    "duration": 9,
    "start_time": "2024-03-18T15:20:04.292Z"
   },
   {
    "duration": 6,
    "start_time": "2024-03-18T15:20:07.482Z"
   },
   {
    "duration": 12,
    "start_time": "2024-03-18T15:20:10.198Z"
   },
   {
    "duration": 4,
    "start_time": "2024-03-18T15:20:13.379Z"
   },
   {
    "duration": 6,
    "start_time": "2024-03-18T15:20:15.348Z"
   },
   {
    "duration": 8,
    "start_time": "2024-03-18T15:20:17.311Z"
   },
   {
    "duration": 4,
    "start_time": "2024-03-18T15:20:20.125Z"
   },
   {
    "duration": 7,
    "start_time": "2024-03-18T15:20:21.901Z"
   },
   {
    "duration": 182,
    "start_time": "2024-03-18T15:20:25.530Z"
   },
   {
    "duration": 6,
    "start_time": "2024-03-18T15:20:37.692Z"
   },
   {
    "duration": 157,
    "start_time": "2024-03-18T15:20:43.209Z"
   },
   {
    "duration": 88,
    "start_time": "2024-03-18T15:20:49.103Z"
   },
   {
    "duration": 8,
    "start_time": "2024-03-18T15:20:52.192Z"
   },
   {
    "duration": 106,
    "start_time": "2024-03-18T15:20:54.083Z"
   },
   {
    "duration": 328,
    "start_time": "2024-03-18T15:20:57.221Z"
   },
   {
    "duration": 8,
    "start_time": "2024-03-18T15:21:00.851Z"
   },
   {
    "duration": 126,
    "start_time": "2024-03-18T15:21:03.916Z"
   },
   {
    "duration": 280,
    "start_time": "2024-03-18T15:21:06.934Z"
   },
   {
    "duration": 8,
    "start_time": "2024-03-18T15:21:10.396Z"
   },
   {
    "duration": 193,
    "start_time": "2024-03-18T15:21:12.397Z"
   },
   {
    "duration": 249,
    "start_time": "2024-03-18T15:21:15.665Z"
   },
   {
    "duration": 24,
    "start_time": "2024-03-18T15:21:21.234Z"
   },
   {
    "duration": 32,
    "start_time": "2024-03-18T15:21:25.199Z"
   },
   {
    "duration": 14,
    "start_time": "2024-03-18T15:21:29.940Z"
   },
   {
    "duration": 15,
    "start_time": "2024-03-18T15:23:06.761Z"
   },
   {
    "duration": 18,
    "start_time": "2024-03-18T15:25:18.315Z"
   },
   {
    "duration": 20,
    "start_time": "2024-03-18T15:25:22.306Z"
   },
   {
    "duration": 2072,
    "start_time": "2024-03-18T15:26:43.897Z"
   },
   {
    "duration": 263,
    "start_time": "2024-03-18T15:27:36.071Z"
   },
   {
    "duration": 274,
    "start_time": "2024-03-18T15:28:38.140Z"
   },
   {
    "duration": 603,
    "start_time": "2024-03-18T15:31:01.903Z"
   },
   {
    "duration": 412,
    "start_time": "2024-03-18T15:31:12.126Z"
   },
   {
    "duration": 439,
    "start_time": "2024-03-18T15:31:28.639Z"
   },
   {
    "duration": 427,
    "start_time": "2024-03-18T15:34:46.897Z"
   },
   {
    "duration": 749,
    "start_time": "2024-03-18T15:36:15.601Z"
   },
   {
    "duration": 643,
    "start_time": "2024-03-18T15:36:57.613Z"
   },
   {
    "duration": 611,
    "start_time": "2024-03-18T15:37:42.411Z"
   },
   {
    "duration": 701,
    "start_time": "2024-03-18T15:43:28.393Z"
   },
   {
    "duration": 10,
    "start_time": "2024-03-18T16:21:13.254Z"
   },
   {
    "duration": 254,
    "start_time": "2024-03-18T16:22:39.204Z"
   },
   {
    "duration": 7,
    "start_time": "2024-03-18T16:22:47.845Z"
   },
   {
    "duration": 120,
    "start_time": "2024-03-18T16:23:48.568Z"
   },
   {
    "duration": 127,
    "start_time": "2024-03-18T16:24:07.205Z"
   },
   {
    "duration": 1268,
    "start_time": "2024-03-24T15:32:45.546Z"
   },
   {
    "duration": 290,
    "start_time": "2024-03-24T15:32:49.486Z"
   },
   {
    "duration": 13,
    "start_time": "2024-03-24T15:32:51.942Z"
   },
   {
    "duration": 11,
    "start_time": "2024-03-24T15:32:55.355Z"
   },
   {
    "duration": 9,
    "start_time": "2024-03-24T15:32:57.465Z"
   },
   {
    "duration": 12,
    "start_time": "2024-03-24T15:33:00.765Z"
   },
   {
    "duration": 6,
    "start_time": "2024-03-24T15:33:03.362Z"
   },
   {
    "duration": 11,
    "start_time": "2024-03-24T15:33:05.575Z"
   },
   {
    "duration": 13,
    "start_time": "2024-03-24T15:33:08.966Z"
   },
   {
    "duration": 11,
    "start_time": "2024-03-24T15:33:11.284Z"
   },
   {
    "duration": 9,
    "start_time": "2024-03-24T15:33:14.038Z"
   },
   {
    "duration": 5,
    "start_time": "2024-03-24T15:33:32.384Z"
   },
   {
    "duration": 12,
    "start_time": "2024-03-24T15:33:35.302Z"
   },
   {
    "duration": 5,
    "start_time": "2024-03-24T15:33:39.868Z"
   },
   {
    "duration": 6,
    "start_time": "2024-03-24T15:33:41.764Z"
   },
   {
    "duration": 7,
    "start_time": "2024-03-24T15:33:44.084Z"
   },
   {
    "duration": 4,
    "start_time": "2024-03-24T15:33:47.339Z"
   },
   {
    "duration": 5,
    "start_time": "2024-03-24T15:33:49.280Z"
   },
   {
    "duration": 170,
    "start_time": "2024-03-24T15:33:51.854Z"
   },
   {
    "duration": 5,
    "start_time": "2024-03-24T15:33:55.770Z"
   },
   {
    "duration": 149,
    "start_time": "2024-03-24T15:33:58.792Z"
   },
   {
    "duration": 105,
    "start_time": "2024-03-24T15:34:01.959Z"
   },
   {
    "duration": 7,
    "start_time": "2024-03-24T15:34:04.854Z"
   },
   {
    "duration": 101,
    "start_time": "2024-03-24T15:34:07.159Z"
   },
   {
    "duration": 290,
    "start_time": "2024-03-24T15:34:13.848Z"
   },
   {
    "duration": 8,
    "start_time": "2024-03-24T15:34:19.286Z"
   },
   {
    "duration": 131,
    "start_time": "2024-03-24T15:34:22.574Z"
   },
   {
    "duration": 295,
    "start_time": "2024-03-24T15:34:25.327Z"
   },
   {
    "duration": 9,
    "start_time": "2024-03-24T15:34:30.377Z"
   },
   {
    "duration": 193,
    "start_time": "2024-03-24T15:34:32.677Z"
   },
   {
    "duration": 221,
    "start_time": "2024-03-24T15:34:35.456Z"
   },
   {
    "duration": 23,
    "start_time": "2024-03-24T15:34:40.687Z"
   },
   {
    "duration": 21,
    "start_time": "2024-03-24T15:34:44.167Z"
   },
   {
    "duration": 13,
    "start_time": "2024-03-24T15:34:47.152Z"
   },
   {
    "duration": 14,
    "start_time": "2024-03-24T15:35:13.556Z"
   },
   {
    "duration": 18,
    "start_time": "2024-03-24T15:35:17.381Z"
   },
   {
    "duration": 19,
    "start_time": "2024-03-24T15:35:20.410Z"
   },
   {
    "duration": 9,
    "start_time": "2024-03-24T15:35:25.762Z"
   },
   {
    "duration": 129,
    "start_time": "2024-03-24T15:35:31.564Z"
   },
   {
    "duration": 8,
    "start_time": "2024-03-24T15:35:34.644Z"
   },
   {
    "duration": 113,
    "start_time": "2024-03-24T15:35:37.044Z"
   },
   {
    "duration": 642,
    "start_time": "2024-03-24T15:35:41.511Z"
   },
   {
    "duration": 643,
    "start_time": "2024-03-24T16:05:17.432Z"
   },
   {
    "duration": 10,
    "start_time": "2024-03-24T16:22:09.996Z"
   },
   {
    "duration": 119,
    "start_time": "2024-03-24T16:23:21.303Z"
   },
   {
    "duration": 9,
    "start_time": "2024-03-24T16:23:51.222Z"
   },
   {
    "duration": 219,
    "start_time": "2024-03-24T16:24:35.676Z"
   },
   {
    "duration": 126,
    "start_time": "2024-03-24T16:25:14.158Z"
   },
   {
    "duration": 594,
    "start_time": "2024-03-24T16:25:24.206Z"
   },
   {
    "duration": 15,
    "start_time": "2024-03-24T16:41:19.556Z"
   },
   {
    "duration": 37,
    "start_time": "2024-03-24T16:41:27.811Z"
   },
   {
    "duration": 15,
    "start_time": "2024-03-24T16:41:31.461Z"
   },
   {
    "duration": 13,
    "start_time": "2024-03-24T16:41:34.959Z"
   },
   {
    "duration": 1074,
    "start_time": "2024-03-24T16:42:53.129Z"
   },
   {
    "duration": 64,
    "start_time": "2024-03-24T16:42:56.346Z"
   },
   {
    "duration": 13,
    "start_time": "2024-03-24T16:42:58.130Z"
   },
   {
    "duration": 11,
    "start_time": "2024-03-24T16:43:00.743Z"
   },
   {
    "duration": 9,
    "start_time": "2024-03-24T16:43:02.541Z"
   },
   {
    "duration": 12,
    "start_time": "2024-03-24T16:43:05.072Z"
   },
   {
    "duration": 6,
    "start_time": "2024-03-24T16:43:07.388Z"
   },
   {
    "duration": 10,
    "start_time": "2024-03-24T16:43:09.329Z"
   },
   {
    "duration": 14,
    "start_time": "2024-03-24T16:43:11.612Z"
   },
   {
    "duration": 13,
    "start_time": "2024-03-24T16:43:13.556Z"
   },
   {
    "duration": 8,
    "start_time": "2024-03-24T16:43:16.235Z"
   },
   {
    "duration": 5,
    "start_time": "2024-03-24T16:43:19.080Z"
   },
   {
    "duration": 14,
    "start_time": "2024-03-24T16:43:21.119Z"
   },
   {
    "duration": 5,
    "start_time": "2024-03-24T16:43:24.271Z"
   },
   {
    "duration": 6,
    "start_time": "2024-03-24T16:43:25.944Z"
   },
   {
    "duration": 8,
    "start_time": "2024-03-24T16:43:27.729Z"
   },
   {
    "duration": 4,
    "start_time": "2024-03-24T16:43:30.115Z"
   },
   {
    "duration": 5,
    "start_time": "2024-03-24T16:43:31.896Z"
   },
   {
    "duration": 211,
    "start_time": "2024-03-24T16:43:35.432Z"
   },
   {
    "duration": 6,
    "start_time": "2024-03-24T16:43:39.357Z"
   },
   {
    "duration": 140,
    "start_time": "2024-03-24T16:43:41.266Z"
   },
   {
    "duration": 87,
    "start_time": "2024-03-24T16:43:44.881Z"
   },
   {
    "duration": 8,
    "start_time": "2024-03-24T16:43:47.675Z"
   },
   {
    "duration": 96,
    "start_time": "2024-03-24T16:43:49.531Z"
   },
   {
    "duration": 295,
    "start_time": "2024-03-24T16:43:52.775Z"
   },
   {
    "duration": 8,
    "start_time": "2024-03-24T16:43:57.260Z"
   },
   {
    "duration": 117,
    "start_time": "2024-03-24T16:43:59.090Z"
   },
   {
    "duration": 267,
    "start_time": "2024-03-24T16:44:03.549Z"
   },
   {
    "duration": 10,
    "start_time": "2024-03-24T16:44:06.414Z"
   },
   {
    "duration": 187,
    "start_time": "2024-03-24T16:44:08.557Z"
   },
   {
    "duration": 201,
    "start_time": "2024-03-24T16:44:10.776Z"
   },
   {
    "duration": 22,
    "start_time": "2024-03-24T16:44:15.189Z"
   },
   {
    "duration": 28,
    "start_time": "2024-03-24T16:44:17.449Z"
   },
   {
    "duration": 15,
    "start_time": "2024-03-24T16:44:19.927Z"
   },
   {
    "duration": 14,
    "start_time": "2024-03-24T16:44:22.393Z"
   },
   {
    "duration": 20,
    "start_time": "2024-03-24T16:44:24.915Z"
   },
   {
    "duration": 19,
    "start_time": "2024-03-24T16:44:26.928Z"
   },
   {
    "duration": 9,
    "start_time": "2024-03-24T16:44:30.176Z"
   },
   {
    "duration": 124,
    "start_time": "2024-03-24T16:44:32.437Z"
   },
   {
    "duration": 8,
    "start_time": "2024-03-24T16:44:36.306Z"
   },
   {
    "duration": 118,
    "start_time": "2024-03-24T16:44:38.091Z"
   },
   {
    "duration": 600,
    "start_time": "2024-03-24T16:44:43.095Z"
   },
   {
    "duration": 9,
    "start_time": "2024-03-24T16:44:50.665Z"
   },
   {
    "duration": 128,
    "start_time": "2024-03-24T16:44:53.480Z"
   },
   {
    "duration": 7,
    "start_time": "2024-03-24T16:44:56.346Z"
   },
   {
    "duration": 122,
    "start_time": "2024-03-24T16:44:58.489Z"
   },
   {
    "duration": 716,
    "start_time": "2024-03-24T16:45:02.719Z"
   },
   {
    "duration": 14,
    "start_time": "2024-03-24T16:45:06.642Z"
   },
   {
    "duration": 41,
    "start_time": "2024-03-24T16:45:09.614Z"
   },
   {
    "duration": 16,
    "start_time": "2024-03-24T16:45:12.223Z"
   },
   {
    "duration": 17,
    "start_time": "2024-03-24T16:45:14.790Z"
   },
   {
    "duration": 16,
    "start_time": "2024-03-24T16:47:15.102Z"
   },
   {
    "duration": 38,
    "start_time": "2024-03-24T16:47:51.693Z"
   },
   {
    "duration": 37,
    "start_time": "2024-03-24T16:47:55.530Z"
   },
   {
    "duration": 15,
    "start_time": "2024-03-24T16:48:49.440Z"
   },
   {
    "duration": 1747,
    "start_time": "2024-03-24T16:49:05.030Z"
   },
   {
    "duration": 14,
    "start_time": "2024-03-24T16:49:29.624Z"
   },
   {
    "duration": 5,
    "start_time": "2024-03-24T16:50:09.822Z"
   },
   {
    "duration": 5,
    "start_time": "2024-03-24T16:50:14.827Z"
   },
   {
    "duration": 5,
    "start_time": "2024-03-24T16:56:52.198Z"
   },
   {
    "duration": 6,
    "start_time": "2024-03-24T17:02:15.958Z"
   },
   {
    "duration": 488,
    "start_time": "2024-03-24T17:03:31.745Z"
   },
   {
    "duration": 6,
    "start_time": "2024-03-24T17:03:48.508Z"
   },
   {
    "duration": 5,
    "start_time": "2024-03-24T17:05:16.226Z"
   },
   {
    "duration": 360,
    "start_time": "2024-03-24T17:06:43.155Z"
   },
   {
    "duration": 5,
    "start_time": "2024-03-24T17:06:51.728Z"
   },
   {
    "duration": 9,
    "start_time": "2024-03-24T17:07:00.963Z"
   },
   {
    "duration": 6,
    "start_time": "2024-03-24T17:07:04.159Z"
   },
   {
    "duration": 483,
    "start_time": "2024-03-24T17:07:09.388Z"
   },
   {
    "duration": 1493,
    "start_time": "2024-03-24T17:07:14.983Z"
   },
   {
    "duration": 5,
    "start_time": "2024-03-24T17:07:18.999Z"
   },
   {
    "duration": 1537,
    "start_time": "2024-03-24T17:08:11.648Z"
   },
   {
    "duration": 5,
    "start_time": "2024-03-24T17:08:15.846Z"
   },
   {
    "duration": 1050,
    "start_time": "2024-03-24T17:31:06.279Z"
   },
   {
    "duration": 65,
    "start_time": "2024-03-24T17:31:08.859Z"
   },
   {
    "duration": 12,
    "start_time": "2024-03-24T17:31:10.969Z"
   },
   {
    "duration": 10,
    "start_time": "2024-03-24T17:31:13.203Z"
   },
   {
    "duration": 9,
    "start_time": "2024-03-24T17:31:15.069Z"
   },
   {
    "duration": 11,
    "start_time": "2024-03-24T17:31:17.602Z"
   },
   {
    "duration": 8,
    "start_time": "2024-03-24T17:31:19.493Z"
   },
   {
    "duration": 10,
    "start_time": "2024-03-24T17:31:21.612Z"
   },
   {
    "duration": 14,
    "start_time": "2024-03-24T17:31:23.969Z"
   },
   {
    "duration": 11,
    "start_time": "2024-03-24T17:31:25.892Z"
   },
   {
    "duration": 9,
    "start_time": "2024-03-24T17:31:28.071Z"
   },
   {
    "duration": 7,
    "start_time": "2024-03-24T17:31:30.974Z"
   },
   {
    "duration": 14,
    "start_time": "2024-03-24T17:31:34.186Z"
   },
   {
    "duration": 6,
    "start_time": "2024-03-24T17:31:39.014Z"
   },
   {
    "duration": 7,
    "start_time": "2024-03-24T17:31:40.771Z"
   },
   {
    "duration": 10,
    "start_time": "2024-03-24T17:31:42.616Z"
   },
   {
    "duration": 4,
    "start_time": "2024-03-24T17:31:45.742Z"
   },
   {
    "duration": 6,
    "start_time": "2024-03-24T17:31:47.502Z"
   },
   {
    "duration": 203,
    "start_time": "2024-03-24T17:31:49.391Z"
   },
   {
    "duration": 6,
    "start_time": "2024-03-24T17:31:52.910Z"
   },
   {
    "duration": 151,
    "start_time": "2024-03-24T17:31:55.906Z"
   },
   {
    "duration": 88,
    "start_time": "2024-03-24T17:32:00.486Z"
   },
   {
    "duration": 7,
    "start_time": "2024-03-24T17:32:03.187Z"
   },
   {
    "duration": 98,
    "start_time": "2024-03-24T17:32:04.938Z"
   },
   {
    "duration": 315,
    "start_time": "2024-03-24T17:32:07.105Z"
   },
   {
    "duration": 8,
    "start_time": "2024-03-24T17:32:10.592Z"
   },
   {
    "duration": 122,
    "start_time": "2024-03-24T17:32:12.446Z"
   },
   {
    "duration": 272,
    "start_time": "2024-03-24T17:32:14.452Z"
   },
   {
    "duration": 9,
    "start_time": "2024-03-24T17:32:17.605Z"
   },
   {
    "duration": 187,
    "start_time": "2024-03-24T17:32:19.381Z"
   },
   {
    "duration": 208,
    "start_time": "2024-03-24T17:32:21.900Z"
   },
   {
    "duration": 23,
    "start_time": "2024-03-24T17:32:25.080Z"
   },
   {
    "duration": 24,
    "start_time": "2024-03-24T17:32:27.186Z"
   },
   {
    "duration": 14,
    "start_time": "2024-03-24T17:32:29.878Z"
   },
   {
    "duration": 14,
    "start_time": "2024-03-24T17:32:32.386Z"
   },
   {
    "duration": 18,
    "start_time": "2024-03-24T17:32:34.767Z"
   },
   {
    "duration": 20,
    "start_time": "2024-03-24T17:32:37.275Z"
   },
   {
    "duration": 8,
    "start_time": "2024-03-24T17:32:40.735Z"
   },
   {
    "duration": 123,
    "start_time": "2024-03-24T17:32:42.786Z"
   },
   {
    "duration": 9,
    "start_time": "2024-03-24T17:32:45.023Z"
   },
   {
    "duration": 125,
    "start_time": "2024-03-24T17:32:46.720Z"
   },
   {
    "duration": 634,
    "start_time": "2024-03-24T17:32:48.792Z"
   },
   {
    "duration": 8,
    "start_time": "2024-03-24T17:32:54.425Z"
   },
   {
    "duration": 128,
    "start_time": "2024-03-24T17:32:56.554Z"
   },
   {
    "duration": 8,
    "start_time": "2024-03-24T17:32:59.057Z"
   },
   {
    "duration": 129,
    "start_time": "2024-03-24T17:33:00.976Z"
   },
   {
    "duration": 788,
    "start_time": "2024-03-24T17:33:02.958Z"
   },
   {
    "duration": 15,
    "start_time": "2024-03-24T17:33:07.623Z"
   },
   {
    "duration": 23,
    "start_time": "2024-03-24T17:33:11.111Z"
   },
   {
    "duration": 43,
    "start_time": "2024-03-24T17:33:13.817Z"
   },
   {
    "duration": 21,
    "start_time": "2024-03-24T17:33:16.337Z"
   },
   {
    "duration": 15,
    "start_time": "2024-03-24T17:33:18.901Z"
   },
   {
    "duration": 6,
    "start_time": "2024-03-24T17:33:23.093Z"
   },
   {
    "duration": 483,
    "start_time": "2024-03-24T17:33:26.139Z"
   },
   {
    "duration": 6,
    "start_time": "2024-03-24T17:33:31.200Z"
   },
   {
    "duration": 348,
    "start_time": "2024-03-24T17:33:35.004Z"
   },
   {
    "duration": 4,
    "start_time": "2024-03-24T17:33:38.047Z"
   },
   {
    "duration": 9,
    "start_time": "2024-03-24T17:33:40.269Z"
   },
   {
    "duration": 6,
    "start_time": "2024-03-24T17:33:44.053Z"
   },
   {
    "duration": 474,
    "start_time": "2024-03-24T17:33:47.024Z"
   },
   {
    "duration": 1479,
    "start_time": "2024-03-24T17:33:52.899Z"
   },
   {
    "duration": 5,
    "start_time": "2024-03-24T17:34:00.194Z"
   },
   {
    "duration": 1559,
    "start_time": "2024-03-24T17:34:04.359Z"
   },
   {
    "duration": 5,
    "start_time": "2024-03-24T17:34:09.421Z"
   },
   {
    "duration": 991,
    "start_time": "2024-03-24T20:12:36.400Z"
   },
   {
    "duration": 296,
    "start_time": "2024-03-24T20:12:37.392Z"
   },
   {
    "duration": 12,
    "start_time": "2024-03-24T20:12:37.690Z"
   },
   {
    "duration": 14,
    "start_time": "2024-03-24T20:12:37.703Z"
   },
   {
    "duration": 9,
    "start_time": "2024-03-24T20:12:37.719Z"
   },
   {
    "duration": 12,
    "start_time": "2024-03-24T20:12:37.730Z"
   },
   {
    "duration": 6,
    "start_time": "2024-03-24T20:12:37.743Z"
   },
   {
    "duration": 11,
    "start_time": "2024-03-24T20:12:37.750Z"
   },
   {
    "duration": 17,
    "start_time": "2024-03-24T20:12:37.762Z"
   },
   {
    "duration": 9,
    "start_time": "2024-03-24T20:12:37.782Z"
   },
   {
    "duration": 8,
    "start_time": "2024-03-24T20:12:37.792Z"
   },
   {
    "duration": 5,
    "start_time": "2024-03-24T20:12:37.801Z"
   },
   {
    "duration": 17,
    "start_time": "2024-03-24T20:12:37.807Z"
   },
   {
    "duration": 5,
    "start_time": "2024-03-24T20:12:37.825Z"
   },
   {
    "duration": 12,
    "start_time": "2024-03-24T20:12:37.831Z"
   },
   {
    "duration": 7,
    "start_time": "2024-03-24T20:12:37.859Z"
   },
   {
    "duration": 4,
    "start_time": "2024-03-24T20:12:37.867Z"
   },
   {
    "duration": 25,
    "start_time": "2024-03-24T20:12:37.872Z"
   },
   {
    "duration": 192,
    "start_time": "2024-03-24T20:12:37.899Z"
   },
   {
    "duration": 5,
    "start_time": "2024-03-24T20:12:38.092Z"
   },
   {
    "duration": 150,
    "start_time": "2024-03-24T20:12:38.099Z"
   },
   {
    "duration": 85,
    "start_time": "2024-03-24T20:12:38.259Z"
   },
   {
    "duration": 19,
    "start_time": "2024-03-24T20:12:38.346Z"
   },
   {
    "duration": 104,
    "start_time": "2024-03-24T20:12:38.366Z"
   },
   {
    "duration": 292,
    "start_time": "2024-03-24T20:12:38.472Z"
   },
   {
    "duration": 9,
    "start_time": "2024-03-24T20:12:38.766Z"
   },
   {
    "duration": 136,
    "start_time": "2024-03-24T20:12:38.777Z"
   },
   {
    "duration": 268,
    "start_time": "2024-03-24T20:12:38.916Z"
   },
   {
    "duration": 7,
    "start_time": "2024-03-24T20:12:39.186Z"
   },
   {
    "duration": 213,
    "start_time": "2024-03-24T20:12:39.194Z"
   },
   {
    "duration": 204,
    "start_time": "2024-03-24T20:12:39.409Z"
   },
   {
    "duration": 22,
    "start_time": "2024-03-24T20:12:39.614Z"
   },
   {
    "duration": 37,
    "start_time": "2024-03-24T20:12:39.637Z"
   },
   {
    "duration": 12,
    "start_time": "2024-03-24T20:12:39.676Z"
   },
   {
    "duration": 12,
    "start_time": "2024-03-24T20:12:39.689Z"
   },
   {
    "duration": 18,
    "start_time": "2024-03-24T20:12:39.702Z"
   },
   {
    "duration": 43,
    "start_time": "2024-03-24T20:12:39.722Z"
   },
   {
    "duration": 8,
    "start_time": "2024-03-24T20:12:39.767Z"
   },
   {
    "duration": 143,
    "start_time": "2024-03-24T20:12:39.776Z"
   },
   {
    "duration": 9,
    "start_time": "2024-03-24T20:12:39.920Z"
   },
   {
    "duration": 135,
    "start_time": "2024-03-24T20:12:39.930Z"
   },
   {
    "duration": 651,
    "start_time": "2024-03-24T20:12:40.066Z"
   },
   {
    "duration": 7,
    "start_time": "2024-03-24T20:12:40.719Z"
   },
   {
    "duration": 126,
    "start_time": "2024-03-24T20:12:40.727Z"
   },
   {
    "duration": 10,
    "start_time": "2024-03-24T20:12:40.854Z"
   },
   {
    "duration": 132,
    "start_time": "2024-03-24T20:12:40.865Z"
   },
   {
    "duration": 703,
    "start_time": "2024-03-24T20:12:40.999Z"
   },
   {
    "duration": 14,
    "start_time": "2024-03-24T20:12:41.704Z"
   },
   {
    "duration": 19,
    "start_time": "2024-03-24T20:12:41.719Z"
   },
   {
    "duration": 47,
    "start_time": "2024-03-24T20:12:41.740Z"
   },
   {
    "duration": 13,
    "start_time": "2024-03-24T20:12:41.788Z"
   },
   {
    "duration": 12,
    "start_time": "2024-03-24T20:12:41.802Z"
   },
   {
    "duration": 7,
    "start_time": "2024-03-24T20:12:41.815Z"
   },
   {
    "duration": 445,
    "start_time": "2024-03-24T20:12:41.823Z"
   },
   {
    "duration": 5,
    "start_time": "2024-03-24T20:12:42.269Z"
   },
   {
    "duration": 496,
    "start_time": "2024-03-24T20:12:42.276Z"
   },
   {
    "duration": 4,
    "start_time": "2024-03-24T20:12:42.773Z"
   },
   {
    "duration": 11,
    "start_time": "2024-03-24T20:12:42.779Z"
   },
   {
    "duration": 6,
    "start_time": "2024-03-24T20:12:42.791Z"
   },
   {
    "duration": 783,
    "start_time": "2024-03-24T20:12:42.799Z"
   },
   {
    "duration": 2928,
    "start_time": "2024-03-24T20:12:43.584Z"
   },
   {
    "duration": 5,
    "start_time": "2024-03-24T20:12:46.513Z"
   },
   {
    "duration": 2273,
    "start_time": "2024-03-24T20:12:46.519Z"
   },
   {
    "duration": 5,
    "start_time": "2024-03-24T20:12:48.794Z"
   },
   {
    "duration": 2009,
    "start_time": "2024-03-24T20:14:35.961Z"
   },
   {
    "duration": 102,
    "start_time": "2024-03-24T20:14:37.971Z"
   },
   {
    "duration": 12,
    "start_time": "2024-03-24T20:14:38.075Z"
   },
   {
    "duration": 10,
    "start_time": "2024-03-24T20:14:38.088Z"
   },
   {
    "duration": 63,
    "start_time": "2024-03-24T20:14:38.099Z"
   },
   {
    "duration": 20,
    "start_time": "2024-03-24T20:14:38.163Z"
   },
   {
    "duration": 9,
    "start_time": "2024-03-24T20:14:38.186Z"
   },
   {
    "duration": 67,
    "start_time": "2024-03-24T20:14:38.197Z"
   },
   {
    "duration": 13,
    "start_time": "2024-03-24T20:14:38.266Z"
   },
   {
    "duration": 23,
    "start_time": "2024-03-24T20:14:38.281Z"
   },
   {
    "duration": 9,
    "start_time": "2024-03-24T20:14:38.359Z"
   },
   {
    "duration": 5,
    "start_time": "2024-03-24T20:14:38.370Z"
   },
   {
    "duration": 11,
    "start_time": "2024-03-24T20:14:38.376Z"
   },
   {
    "duration": 5,
    "start_time": "2024-03-24T20:14:38.388Z"
   },
   {
    "duration": 6,
    "start_time": "2024-03-24T20:14:38.458Z"
   },
   {
    "duration": 7,
    "start_time": "2024-03-24T20:14:38.466Z"
   },
   {
    "duration": 4,
    "start_time": "2024-03-24T20:14:38.475Z"
   },
   {
    "duration": 6,
    "start_time": "2024-03-24T20:14:38.480Z"
   },
   {
    "duration": 391,
    "start_time": "2024-03-24T20:14:38.487Z"
   },
   {
    "duration": 6,
    "start_time": "2024-03-24T20:14:38.879Z"
   },
   {
    "duration": 312,
    "start_time": "2024-03-24T20:14:38.886Z"
   },
   {
    "duration": 203,
    "start_time": "2024-03-24T20:14:39.199Z"
   },
   {
    "duration": 61,
    "start_time": "2024-03-24T20:14:39.404Z"
   },
   {
    "duration": 210,
    "start_time": "2024-03-24T20:14:39.467Z"
   },
   {
    "duration": 718,
    "start_time": "2024-03-24T20:14:39.678Z"
   },
   {
    "duration": 65,
    "start_time": "2024-03-24T20:14:40.397Z"
   },
   {
    "duration": 231,
    "start_time": "2024-03-24T20:14:40.463Z"
   },
   {
    "duration": 592,
    "start_time": "2024-03-24T20:14:40.697Z"
   },
   {
    "duration": 10,
    "start_time": "2024-03-24T20:14:41.290Z"
   },
   {
    "duration": 482,
    "start_time": "2024-03-24T20:14:41.301Z"
   },
   {
    "duration": 415,
    "start_time": "2024-03-24T20:14:41.859Z"
   },
   {
    "duration": 22,
    "start_time": "2024-03-24T20:14:42.276Z"
   },
   {
    "duration": 79,
    "start_time": "2024-03-24T20:14:42.299Z"
   },
   {
    "duration": 16,
    "start_time": "2024-03-24T20:14:42.380Z"
   },
   {
    "duration": 13,
    "start_time": "2024-03-24T20:14:42.459Z"
   },
   {
    "duration": 24,
    "start_time": "2024-03-24T20:14:42.473Z"
   },
   {
    "duration": 76,
    "start_time": "2024-03-24T20:14:42.499Z"
   },
   {
    "duration": 7,
    "start_time": "2024-03-24T20:14:42.577Z"
   },
   {
    "duration": 280,
    "start_time": "2024-03-24T20:14:42.586Z"
   },
   {
    "duration": 7,
    "start_time": "2024-03-24T20:14:42.868Z"
   },
   {
    "duration": 230,
    "start_time": "2024-03-24T20:14:42.876Z"
   },
   {
    "duration": 1209,
    "start_time": "2024-03-24T20:14:43.159Z"
   },
   {
    "duration": 8,
    "start_time": "2024-03-24T20:14:44.370Z"
   },
   {
    "duration": 293,
    "start_time": "2024-03-24T20:14:44.379Z"
   },
   {
    "duration": 9,
    "start_time": "2024-03-24T20:14:44.673Z"
   },
   {
    "duration": 304,
    "start_time": "2024-03-24T20:14:44.683Z"
   },
   {
    "duration": 1496,
    "start_time": "2024-03-24T20:14:44.989Z"
   },
   {
    "duration": 71,
    "start_time": "2024-03-24T20:14:46.487Z"
   },
   {
    "duration": 15,
    "start_time": "2024-03-24T20:14:46.559Z"
   },
   {
    "duration": 103,
    "start_time": "2024-03-24T20:14:46.575Z"
   },
   {
    "duration": 14,
    "start_time": "2024-03-24T20:14:46.679Z"
   },
   {
    "duration": 71,
    "start_time": "2024-03-24T20:14:46.694Z"
   },
   {
    "duration": 6,
    "start_time": "2024-03-24T20:14:46.766Z"
   },
   {
    "duration": 789,
    "start_time": "2024-03-24T20:14:46.773Z"
   },
   {
    "duration": 7,
    "start_time": "2024-03-24T20:14:47.564Z"
   },
   {
    "duration": 712,
    "start_time": "2024-03-24T20:14:47.572Z"
   },
   {
    "duration": 4,
    "start_time": "2024-03-24T20:14:48.286Z"
   },
   {
    "duration": 68,
    "start_time": "2024-03-24T20:14:48.291Z"
   },
   {
    "duration": 6,
    "start_time": "2024-03-24T20:14:48.360Z"
   },
   {
    "duration": 729,
    "start_time": "2024-03-24T20:14:48.368Z"
   },
   {
    "duration": 3104,
    "start_time": "2024-03-24T20:14:49.098Z"
   },
   {
    "duration": 5,
    "start_time": "2024-03-24T20:14:52.259Z"
   },
   {
    "duration": 3099,
    "start_time": "2024-03-24T20:14:52.265Z"
   },
   {
    "duration": 5,
    "start_time": "2024-03-24T20:14:55.366Z"
   },
   {
    "duration": 1072,
    "start_time": "2024-03-24T20:30:57.435Z"
   },
   {
    "duration": 64,
    "start_time": "2024-03-24T20:30:58.509Z"
   },
   {
    "duration": 12,
    "start_time": "2024-03-24T20:30:58.574Z"
   },
   {
    "duration": 9,
    "start_time": "2024-03-24T20:30:58.588Z"
   },
   {
    "duration": 8,
    "start_time": "2024-03-24T20:30:58.598Z"
   },
   {
    "duration": 10,
    "start_time": "2024-03-24T20:30:58.608Z"
   },
   {
    "duration": 6,
    "start_time": "2024-03-24T20:30:58.619Z"
   },
   {
    "duration": 8,
    "start_time": "2024-03-24T20:30:58.627Z"
   },
   {
    "duration": 37,
    "start_time": "2024-03-24T20:30:58.636Z"
   },
   {
    "duration": 10,
    "start_time": "2024-03-24T20:30:58.675Z"
   },
   {
    "duration": 10,
    "start_time": "2024-03-24T20:30:58.686Z"
   },
   {
    "duration": 6,
    "start_time": "2024-03-24T20:30:58.697Z"
   },
   {
    "duration": 13,
    "start_time": "2024-03-24T20:30:58.704Z"
   },
   {
    "duration": 42,
    "start_time": "2024-03-24T20:30:58.718Z"
   },
   {
    "duration": 8,
    "start_time": "2024-03-24T20:30:58.762Z"
   },
   {
    "duration": 27,
    "start_time": "2024-03-24T20:30:58.772Z"
   },
   {
    "duration": 5,
    "start_time": "2024-03-24T20:30:58.800Z"
   },
   {
    "duration": 7,
    "start_time": "2024-03-24T20:30:58.806Z"
   },
   {
    "duration": 182,
    "start_time": "2024-03-24T20:30:58.814Z"
   },
   {
    "duration": 6,
    "start_time": "2024-03-24T20:30:58.997Z"
   },
   {
    "duration": 172,
    "start_time": "2024-03-24T20:30:59.004Z"
   },
   {
    "duration": 93,
    "start_time": "2024-03-24T20:30:59.178Z"
   },
   {
    "duration": 8,
    "start_time": "2024-03-24T20:30:59.272Z"
   },
   {
    "duration": 119,
    "start_time": "2024-03-24T20:30:59.281Z"
   },
   {
    "duration": 305,
    "start_time": "2024-03-24T20:30:59.402Z"
   },
   {
    "duration": 8,
    "start_time": "2024-03-24T20:30:59.709Z"
   },
   {
    "duration": 137,
    "start_time": "2024-03-24T20:30:59.718Z"
   },
   {
    "duration": 302,
    "start_time": "2024-03-24T20:30:59.858Z"
   },
   {
    "duration": 7,
    "start_time": "2024-03-24T20:31:00.162Z"
   },
   {
    "duration": 265,
    "start_time": "2024-03-24T20:31:00.170Z"
   },
   {
    "duration": 209,
    "start_time": "2024-03-24T20:31:00.436Z"
   },
   {
    "duration": 31,
    "start_time": "2024-03-24T20:31:00.646Z"
   },
   {
    "duration": 40,
    "start_time": "2024-03-24T20:31:00.679Z"
   },
   {
    "duration": 24,
    "start_time": "2024-03-24T20:31:00.721Z"
   },
   {
    "duration": 59,
    "start_time": "2024-03-24T20:31:00.747Z"
   },
   {
    "duration": 90,
    "start_time": "2024-03-24T20:31:00.808Z"
   },
   {
    "duration": 66,
    "start_time": "2024-03-24T20:31:00.899Z"
   },
   {
    "duration": 51,
    "start_time": "2024-03-24T20:31:00.967Z"
   },
   {
    "duration": 196,
    "start_time": "2024-03-24T20:31:01.020Z"
   },
   {
    "duration": 9,
    "start_time": "2024-03-24T20:31:01.218Z"
   },
   {
    "duration": 160,
    "start_time": "2024-03-24T20:31:01.229Z"
   },
   {
    "duration": 627,
    "start_time": "2024-03-24T20:31:01.391Z"
   },
   {
    "duration": 10,
    "start_time": "2024-03-24T20:31:02.019Z"
   },
   {
    "duration": 163,
    "start_time": "2024-03-24T20:31:02.031Z"
   },
   {
    "duration": 7,
    "start_time": "2024-03-24T20:31:02.196Z"
   },
   {
    "duration": 140,
    "start_time": "2024-03-24T20:31:02.204Z"
   },
   {
    "duration": 673,
    "start_time": "2024-03-24T20:31:02.345Z"
   },
   {
    "duration": 14,
    "start_time": "2024-03-24T20:31:03.020Z"
   },
   {
    "duration": 29,
    "start_time": "2024-03-24T20:31:03.035Z"
   },
   {
    "duration": 38,
    "start_time": "2024-03-24T20:31:03.066Z"
   },
   {
    "duration": 13,
    "start_time": "2024-03-24T20:31:03.106Z"
   },
   {
    "duration": 38,
    "start_time": "2024-03-24T20:31:03.120Z"
   },
   {
    "duration": 8,
    "start_time": "2024-03-24T20:31:03.159Z"
   },
   {
    "duration": 500,
    "start_time": "2024-03-24T20:31:03.168Z"
   },
   {
    "duration": 6,
    "start_time": "2024-03-24T20:31:03.670Z"
   },
   {
    "duration": 376,
    "start_time": "2024-03-24T20:31:03.677Z"
   },
   {
    "duration": 4,
    "start_time": "2024-03-24T20:31:04.058Z"
   },
   {
    "duration": 16,
    "start_time": "2024-03-24T20:31:04.064Z"
   },
   {
    "duration": 14,
    "start_time": "2024-03-24T20:31:04.081Z"
   },
   {
    "duration": 465,
    "start_time": "2024-03-24T20:31:04.096Z"
   },
   {
    "duration": 1470,
    "start_time": "2024-03-24T20:31:04.563Z"
   },
   {
    "duration": 6,
    "start_time": "2024-03-24T20:31:06.035Z"
   },
   {
    "duration": 1522,
    "start_time": "2024-03-24T20:31:06.043Z"
   },
   {
    "duration": 6,
    "start_time": "2024-03-24T20:31:07.566Z"
   }
  ],
  "kernelspec": {
   "display_name": "Python 3 (ipykernel)",
   "language": "python",
   "name": "python3"
  },
  "language_info": {
   "codemirror_mode": {
    "name": "ipython",
    "version": 3
   },
   "file_extension": ".py",
   "mimetype": "text/x-python",
   "name": "python",
   "nbconvert_exporter": "python",
   "pygments_lexer": "ipython3",
   "version": "3.9.5"
  },
  "toc": {
   "base_numbering": 1,
   "nav_menu": {},
   "number_sections": true,
   "sideBar": true,
   "skip_h1_title": true,
   "title_cell": "Table of Contents",
   "title_sidebar": "Contents",
   "toc_cell": false,
   "toc_position": {},
   "toc_section_display": true,
   "toc_window_display": true
  }
 },
 "nbformat": 4,
 "nbformat_minor": 5
}
