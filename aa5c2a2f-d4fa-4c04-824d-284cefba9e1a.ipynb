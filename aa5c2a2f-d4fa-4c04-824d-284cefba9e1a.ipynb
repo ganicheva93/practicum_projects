{
 "cells": [
  {
   "cell_type": "markdown",
   "metadata": {},
   "source": [
    "<div style=\"border:solid Chocolate 2px; padding: 40px\">\n",
    "\n",
    "<b>Евгения, приветствую!</b>\n",
    "\n",
    "Буду рада с тобой познакомиться. Меня зовут Евгения Маракова и я буду ревьюером твоего проекта. Если ты не против, то предлагаю общаться на \"ты\":) Если удобнее на \"вы\", то нет проблем, только скажи об этом.\n",
    "\n",
    "В процессе работы ты встретишь комментарии <font color='green'>зеленого</font>, <font color='gold'>желтого</font> и <font color='red'>красного</font> цветов. Что они значат, смотри ниже:\n",
    "    <br/>\n",
    "\n",
    "<div class=\"alert alert-success\">\n",
    "<h2> Комментарий ревьюера <a class=\"tocSkip\"> </h2>\n",
    "\n",
    "<b>Отлично!✅:</b> Решение на этом шаге является полностью правильным. У тебя хорошо получается проводить АВ-тестирование и анализировать данные!\n",
    "</div>\n",
    "\n",
    "<br/>\n",
    "\n",
    "<div class=\"alert alert-warning\">\n",
    "    <h2> Комментарий ревьюера <a class=\"tocSkip\"> </h2>\n",
    "    \n",
    "<b>Можно лучше⚠️:</b> Решение на этом шаге станет еще лучше, если внести небольшие коррективы.\n",
    "</div>\n",
    "\n",
    "\n",
    "<br/>\n",
    "<div class=\"alert alert-block alert-danger\">\n",
    "<h2> Комментарий ревьюера <a class=\"tocSkip\"></h2>\n",
    "\n",
    "    \n",
    "<b>Необходимо исправить❌:</b>\n",
    " Решение на этом шаге требует существенной переработки и внесения правок. Напоминаю, что проект не может быть принят с первого раза, если ревью содержит комментарии, рекомендующие доработать шаги.\n",
    "</div>\n",
    "    \n",
    "Увидев мой комментарий, не удаляй его, он будет очень полезен в случае повторной проверки работы😊\n",
    "    \n",
    "Свой комментарий помечай так, как показано ниже, тогда нам будет легче вести диалог, а мне выполнить повторную проверку проекта.\n",
    "    <div class=\"alert alert-info\"> <b>Комментарий студента: </b> </div>\n",
    "    \n"
   ]
  },
  {
   "cell_type": "markdown",
   "metadata": {},
   "source": [
    "# Анализ данных для крупного интернет-магазина"
   ]
  },
  {
   "cell_type": "markdown",
   "metadata": {},
   "source": [
    "**Дано:** \n",
    "- *для первой части:* 9 гипотез, разработанные совместно с отделом маркетинга, направленные на увеличение выручки крупного интернет-магазина. \n",
    "- *для второй части:* данные A/B-теста о посетителях и заказах крупного интернет-магазина.\n",
    "\n",
    "\n",
    "**Цель:** увеличение выручки крупного интернет-магазина.\n",
    "\n",
    "**Описание данных:**\n",
    "\n",
    "*Данные для первой части:*\n",
    "\n",
    "*Структура hypothesis.csv:*\n",
    "- Hypothesis — краткое описание гипотезы;\n",
    "- Reach — охват пользователей по 10-балльной шкале;\n",
    "- Impact — влияние на пользователей по 10-балльной шкале;\n",
    "- Confidence — уверенность в гипотезе по 10-балльной шкале;\n",
    "- Efforts — затраты ресурсов на проверку гипотезы по 10-балльной шкале. Чем больше значение Efforts, тем дороже проверка гипотезы.\n",
    "\n",
    "*Данные для второй части*\n",
    "\n",
    "*Структура orders.csv:*\n",
    "- transactionId — идентификатор заказа;\n",
    "- visitorId — идентификатор пользователя, совершившего заказ;\n",
    "- date — дата, когда был совершён заказ;\n",
    "- revenue — выручка заказа;\n",
    "- group — группа A/B-теста, в которую попал заказ.\n",
    "\n",
    "*Структура visitors.csv:*\n",
    "- date — дата;\n",
    "- group — группа A/B-теста;\n",
    "- visitors — количество пользователей в указанную дату в указанной группе A/B-теста.\n",
    "\n",
    "**План работы:**\n",
    "\n",
    "*Часть 1. Приоритезация гипотез:*\n",
    "\n",
    "- Шаг 1.1. Загрузка данных;\n",
    "- Шаг 1.2. Приоритизация гипотез с помощью ICE;\n",
    "- Шаг 1.3. Приоритизация гипотез с помощью RICE;\n",
    "- Шаг 1.4. Сравнение полученных результатов.\n",
    "\n",
    "*Часть 2. Анализ A/B-теста:*\n",
    "\n",
    "- Шаг 2.1. Загрузка и предобработка данных;\n",
    "- Шаг 2.2. График кумулятивной выручки по группам; \n",
    "- Шаг 2.3. График кумулятивного среднего чека по группам; \n",
    "- Шаг 2.4. График относительного изменения кумулятивного среднего чека группы B к группе A;\n",
    "- Шаг 2.5. График кумулятивного среднего количества заказов на посетителя по группам;\n",
    "- Шаг 2.6. График относительного изменения кумулятивного среднего количества заказов на посетителя группы B к группе A; \n",
    "- Шаг 2.7. Точечный график количества заказов по пользователям; \n",
    "- Шаг 2.8. Граница для определения аномальных пользователей;\n",
    "- Шаг 2.9. Точечный график стоимостей заказов;\n",
    "- Шаг 2.10. Граница для определения аномальных заказов;\n",
    "- Шаг 2.11. Статистическая значимость различий в среднем количестве заказов на посетителя между группами по «сырым» данным;\n",
    "- Шаг 2.12. Статистическая значимость различий в среднем чеке заказа между группами по «сырым» данным;\n",
    "- Шаг 2.13. Статистическая значимость различий в среднем количестве заказов на посетителя между группами по «очищенным» данным; \n",
    "- Шаг 2.14. Статистическая значимость различий в среднем чеке заказа между группами по «очищенным» данным;\n",
    "- Шаг 2.15. Решение по результатам теста."
   ]
  },
  {
   "cell_type": "markdown",
   "metadata": {},
   "source": [
    "<div class=\"alert alert-success\">\n",
    "<h2> Комментарий ревьюера <a class=\"tocSkip\"> </h2>\n",
    "\n",
    "<b>Отлично!✅:</b> Супер, что добавила описание и привела детальный план изучения проекта, так будет легче каждому соореентироваться в работе!\n",
    "</div>"
   ]
  },
  {
   "cell_type": "markdown",
   "metadata": {},
   "source": [
    "## Приоритезация гипотез"
   ]
  },
  {
   "cell_type": "markdown",
   "metadata": {},
   "source": [
    "### Загрузка данных"
   ]
  },
  {
   "cell_type": "code",
   "execution_count": 1,
   "metadata": {},
   "outputs": [],
   "source": [
    "import pandas as pd\n",
    "import scipy.stats as stats\n",
    "import datetime as dt\n",
    "import numpy as np\n",
    "import matplotlib.pyplot as plt"
   ]
  },
  {
   "cell_type": "code",
   "execution_count": 2,
   "metadata": {},
   "outputs": [
    {
     "data": {
      "text/html": [
       "<div>\n",
       "<style scoped>\n",
       "    .dataframe tbody tr th:only-of-type {\n",
       "        vertical-align: middle;\n",
       "    }\n",
       "\n",
       "    .dataframe tbody tr th {\n",
       "        vertical-align: top;\n",
       "    }\n",
       "\n",
       "    .dataframe thead th {\n",
       "        text-align: right;\n",
       "    }\n",
       "</style>\n",
       "<table border=\"1\" class=\"dataframe\">\n",
       "  <thead>\n",
       "    <tr style=\"text-align: right;\">\n",
       "      <th></th>\n",
       "      <th>Hypothesis</th>\n",
       "      <th>Reach</th>\n",
       "      <th>Impact</th>\n",
       "      <th>Confidence</th>\n",
       "      <th>Efforts</th>\n",
       "    </tr>\n",
       "  </thead>\n",
       "  <tbody>\n",
       "    <tr>\n",
       "      <th>0</th>\n",
       "      <td>Добавить два новых канала привлечения трафика, что позволит привлекать на 30% больше пользователей</td>\n",
       "      <td>3</td>\n",
       "      <td>10</td>\n",
       "      <td>8</td>\n",
       "      <td>6</td>\n",
       "    </tr>\n",
       "    <tr>\n",
       "      <th>1</th>\n",
       "      <td>Запустить собственную службу доставки, что сократит срок доставки заказов</td>\n",
       "      <td>2</td>\n",
       "      <td>5</td>\n",
       "      <td>4</td>\n",
       "      <td>10</td>\n",
       "    </tr>\n",
       "    <tr>\n",
       "      <th>2</th>\n",
       "      <td>Добавить блоки рекомендаций товаров на сайт интернет магазина, чтобы повысить конверсию и средний чек заказа</td>\n",
       "      <td>8</td>\n",
       "      <td>3</td>\n",
       "      <td>7</td>\n",
       "      <td>3</td>\n",
       "    </tr>\n",
       "    <tr>\n",
       "      <th>3</th>\n",
       "      <td>Изменить структура категорий, что увеличит конверсию, т.к. пользователи быстрее найдут нужный товар</td>\n",
       "      <td>8</td>\n",
       "      <td>3</td>\n",
       "      <td>3</td>\n",
       "      <td>8</td>\n",
       "    </tr>\n",
       "    <tr>\n",
       "      <th>4</th>\n",
       "      <td>Изменить цвет фона главной страницы, чтобы увеличить вовлеченность пользователей</td>\n",
       "      <td>3</td>\n",
       "      <td>1</td>\n",
       "      <td>1</td>\n",
       "      <td>1</td>\n",
       "    </tr>\n",
       "    <tr>\n",
       "      <th>5</th>\n",
       "      <td>Добавить страницу отзывов клиентов о магазине, что позволит увеличить количество заказов</td>\n",
       "      <td>3</td>\n",
       "      <td>2</td>\n",
       "      <td>2</td>\n",
       "      <td>3</td>\n",
       "    </tr>\n",
       "    <tr>\n",
       "      <th>6</th>\n",
       "      <td>Показать на главной странице баннеры с актуальными акциями и распродажами, чтобы увеличить конверсию</td>\n",
       "      <td>5</td>\n",
       "      <td>3</td>\n",
       "      <td>8</td>\n",
       "      <td>3</td>\n",
       "    </tr>\n",
       "    <tr>\n",
       "      <th>7</th>\n",
       "      <td>Добавить форму подписки на все основные страницы, чтобы собрать базу клиентов для email-рассылок</td>\n",
       "      <td>10</td>\n",
       "      <td>7</td>\n",
       "      <td>8</td>\n",
       "      <td>5</td>\n",
       "    </tr>\n",
       "    <tr>\n",
       "      <th>8</th>\n",
       "      <td>Запустить акцию, дающую скидку на товар в день рождения</td>\n",
       "      <td>1</td>\n",
       "      <td>9</td>\n",
       "      <td>9</td>\n",
       "      <td>5</td>\n",
       "    </tr>\n",
       "  </tbody>\n",
       "</table>\n",
       "</div>"
      ],
      "text/plain": [
       "                                                                                                     Hypothesis  \\\n",
       "0            Добавить два новых канала привлечения трафика, что позволит привлекать на 30% больше пользователей   \n",
       "1                                     Запустить собственную службу доставки, что сократит срок доставки заказов   \n",
       "2  Добавить блоки рекомендаций товаров на сайт интернет магазина, чтобы повысить конверсию и средний чек заказа   \n",
       "3           Изменить структура категорий, что увеличит конверсию, т.к. пользователи быстрее найдут нужный товар   \n",
       "4                              Изменить цвет фона главной страницы, чтобы увеличить вовлеченность пользователей   \n",
       "5                      Добавить страницу отзывов клиентов о магазине, что позволит увеличить количество заказов   \n",
       "6          Показать на главной странице баннеры с актуальными акциями и распродажами, чтобы увеличить конверсию   \n",
       "7              Добавить форму подписки на все основные страницы, чтобы собрать базу клиентов для email-рассылок   \n",
       "8                                                       Запустить акцию, дающую скидку на товар в день рождения   \n",
       "\n",
       "   Reach  Impact  Confidence  Efforts  \n",
       "0      3      10           8        6  \n",
       "1      2       5           4       10  \n",
       "2      8       3           7        3  \n",
       "3      8       3           3        8  \n",
       "4      3       1           1        1  \n",
       "5      3       2           2        3  \n",
       "6      5       3           8        3  \n",
       "7     10       7           8        5  \n",
       "8      1       9           9        5  "
      ]
     },
     "execution_count": 2,
     "metadata": {},
     "output_type": "execute_result"
    }
   ],
   "source": [
    "data = pd.read_csv('/datasets/hypothesis.csv')\n",
    "pd.options.display.max_colwidth = 120\n",
    "data"
   ]
  },
  {
   "cell_type": "markdown",
   "metadata": {},
   "source": [
    "<div class=\"alert alert-warning\">\n",
    "    <h2> Комментарий ревьюера <a class=\"tocSkip\"> </h2>\n",
    "    \n",
    "<b>Можно лучше⚠️:</b> Давай выведем названия гипотез полностью. Рекомендую использовать настройку pd.options.display.max_colwidth = 100, где 100 - количество символов. Кстати, pandas имеет много настроек - https://pandas.pydata.org/docs/user_guide/options.html. В сети есть публикации по этому поводу, например, https://towardsdatascience.com/8-commonly-used-pandas-display-options-you-should-know-a832365efa95. Лучше все же использовать дополнительные настройки тогда, когда в этом есть прямая необходимость, как в нашем проекте.\n",
    "</div>"
   ]
  },
  {
   "cell_type": "markdown",
   "metadata": {},
   "source": [
    "<div class=\"alert alert-info\"> <b>Комментарий студента:</b> \n",
    "    Поправила, спасибо!  </div>"
   ]
  },
  {
   "cell_type": "markdown",
   "metadata": {},
   "source": [
    "<div class=\"alert alert-success\">\n",
    "<h2> Комментарий ревьюера v2<a class=\"tocSkip\"> </h2>\n",
    "\n",
    "<b>Отлично!✅:</b> Красота!\n",
    "\n",
    "</div>"
   ]
  },
  {
   "cell_type": "code",
   "execution_count": 3,
   "metadata": {},
   "outputs": [],
   "source": [
    "data.columns = ['hypothesis', 'reach', 'impact', 'confidence', 'efforts']"
   ]
  },
  {
   "cell_type": "markdown",
   "metadata": {},
   "source": [
    "<div class=\"alert alert-success\">\n",
    "<h2> Комментарий ревьюера <a class=\"tocSkip\"> </h2>\n",
    "\n",
    "<b>Отлично!✅:</b> Хорошо, такой формат намного лучше!\n",
    "</div>"
   ]
  },
  {
   "cell_type": "code",
   "execution_count": 4,
   "metadata": {},
   "outputs": [
    {
     "name": "stdout",
     "output_type": "stream",
     "text": [
      "<class 'pandas.core.frame.DataFrame'>\n",
      "RangeIndex: 9 entries, 0 to 8\n",
      "Data columns (total 5 columns):\n",
      " #   Column      Non-Null Count  Dtype \n",
      "---  ------      --------------  ----- \n",
      " 0   hypothesis  9 non-null      object\n",
      " 1   reach       9 non-null      int64 \n",
      " 2   impact      9 non-null      int64 \n",
      " 3   confidence  9 non-null      int64 \n",
      " 4   efforts     9 non-null      int64 \n",
      "dtypes: int64(4), object(1)\n",
      "memory usage: 488.0+ bytes\n"
     ]
    }
   ],
   "source": [
    "data.info()"
   ]
  },
  {
   "cell_type": "markdown",
   "metadata": {},
   "source": [
    "### Приоритизация гипотез с помощью ICE\n",
    "\n",
    "*Примените фреймворк ICE для приоритизации гипотез. Отсортируйте их по убыванию приоритета.*"
   ]
  },
  {
   "cell_type": "code",
   "execution_count": 6,
   "metadata": {},
   "outputs": [
    {
     "data": {
      "text/html": [
       "<div>\n",
       "<style scoped>\n",
       "    .dataframe tbody tr th:only-of-type {\n",
       "        vertical-align: middle;\n",
       "    }\n",
       "\n",
       "    .dataframe tbody tr th {\n",
       "        vertical-align: top;\n",
       "    }\n",
       "\n",
       "    .dataframe thead th {\n",
       "        text-align: right;\n",
       "    }\n",
       "</style>\n",
       "<table border=\"1\" class=\"dataframe\">\n",
       "  <thead>\n",
       "    <tr style=\"text-align: right;\">\n",
       "      <th></th>\n",
       "      <th>hypothesis</th>\n",
       "      <th>ICE</th>\n",
       "    </tr>\n",
       "  </thead>\n",
       "  <tbody>\n",
       "    <tr>\n",
       "      <th>8</th>\n",
       "      <td>Запустить акцию, дающую скидку на товар в день рождения</td>\n",
       "      <td>16.20</td>\n",
       "    </tr>\n",
       "    <tr>\n",
       "      <th>0</th>\n",
       "      <td>Добавить два новых канала привлечения трафика, что позволит привлекать на 30% больше пользователей</td>\n",
       "      <td>13.33</td>\n",
       "    </tr>\n",
       "    <tr>\n",
       "      <th>7</th>\n",
       "      <td>Добавить форму подписки на все основные страницы, чтобы собрать базу клиентов для email-рассылок</td>\n",
       "      <td>11.20</td>\n",
       "    </tr>\n",
       "    <tr>\n",
       "      <th>6</th>\n",
       "      <td>Показать на главной странице баннеры с актуальными акциями и распродажами, чтобы увеличить конверсию</td>\n",
       "      <td>8.00</td>\n",
       "    </tr>\n",
       "    <tr>\n",
       "      <th>2</th>\n",
       "      <td>Добавить блоки рекомендаций товаров на сайт интернет магазина, чтобы повысить конверсию и средний чек заказа</td>\n",
       "      <td>7.00</td>\n",
       "    </tr>\n",
       "    <tr>\n",
       "      <th>1</th>\n",
       "      <td>Запустить собственную службу доставки, что сократит срок доставки заказов</td>\n",
       "      <td>2.00</td>\n",
       "    </tr>\n",
       "    <tr>\n",
       "      <th>5</th>\n",
       "      <td>Добавить страницу отзывов клиентов о магазине, что позволит увеличить количество заказов</td>\n",
       "      <td>1.33</td>\n",
       "    </tr>\n",
       "    <tr>\n",
       "      <th>3</th>\n",
       "      <td>Изменить структура категорий, что увеличит конверсию, т.к. пользователи быстрее найдут нужный товар</td>\n",
       "      <td>1.12</td>\n",
       "    </tr>\n",
       "    <tr>\n",
       "      <th>4</th>\n",
       "      <td>Изменить цвет фона главной страницы, чтобы увеличить вовлеченность пользователей</td>\n",
       "      <td>1.00</td>\n",
       "    </tr>\n",
       "  </tbody>\n",
       "</table>\n",
       "</div>"
      ],
      "text/plain": [
       "                                                                                                     hypothesis  \\\n",
       "8                                                       Запустить акцию, дающую скидку на товар в день рождения   \n",
       "0            Добавить два новых канала привлечения трафика, что позволит привлекать на 30% больше пользователей   \n",
       "7              Добавить форму подписки на все основные страницы, чтобы собрать базу клиентов для email-рассылок   \n",
       "6          Показать на главной странице баннеры с актуальными акциями и распродажами, чтобы увеличить конверсию   \n",
       "2  Добавить блоки рекомендаций товаров на сайт интернет магазина, чтобы повысить конверсию и средний чек заказа   \n",
       "1                                     Запустить собственную службу доставки, что сократит срок доставки заказов   \n",
       "5                      Добавить страницу отзывов клиентов о магазине, что позволит увеличить количество заказов   \n",
       "3           Изменить структура категорий, что увеличит конверсию, т.к. пользователи быстрее найдут нужный товар   \n",
       "4                              Изменить цвет фона главной страницы, чтобы увеличить вовлеченность пользователей   \n",
       "\n",
       "     ICE  \n",
       "8  16.20  \n",
       "0  13.33  \n",
       "7  11.20  \n",
       "6   8.00  \n",
       "2   7.00  \n",
       "1   2.00  \n",
       "5   1.33  \n",
       "3   1.12  \n",
       "4   1.00  "
      ]
     },
     "execution_count": 6,
     "metadata": {},
     "output_type": "execute_result"
    }
   ],
   "source": [
    "data['ICE'] = ((data['impact'] * data['confidence']) / data['efforts']).round(2)\n",
    "pd.options.display.max_colwidth = 120\n",
    "data[['hypothesis', 'ICE']].sort_values(by='ICE', ascending=False)"
   ]
  },
  {
   "cell_type": "markdown",
   "metadata": {},
   "source": [
    "<div class=\"alert alert-warning\">\n",
    "    <h2> Комментарий ревьюера <a class=\"tocSkip\"> </h2>\n",
    "    \n",
    "<b>Можно лучше⚠️:</b> Рекомендую избавиться в таблице от больших цифр и округлить значения в колонке ICE до 2 знака после запятой.\n",
    "</div>"
   ]
  },
  {
   "cell_type": "markdown",
   "metadata": {},
   "source": [
    "<div class=\"alert alert-info\"> <b>Комментарий студента:</b> \n",
    "    Готово.  </div>"
   ]
  },
  {
   "cell_type": "markdown",
   "metadata": {},
   "source": [
    "<div class=\"alert alert-success\">\n",
    "<h2> Комментарий ревьюера v2<a class=\"tocSkip\"> </h2>\n",
    "\n",
    "<b>Отлично!✅:</b> +\n",
    "\n",
    "</div>"
   ]
  },
  {
   "cell_type": "markdown",
   "metadata": {},
   "source": [
    "### Приоритизация гипотез с помощью RICE\n",
    "\n",
    "*Примените фреймворк RICE для приоритизации гипотез. Отсортируйте их по убыванию приоритета.*"
   ]
  },
  {
   "cell_type": "code",
   "execution_count": 8,
   "metadata": {},
   "outputs": [
    {
     "data": {
      "text/html": [
       "<div>\n",
       "<style scoped>\n",
       "    .dataframe tbody tr th:only-of-type {\n",
       "        vertical-align: middle;\n",
       "    }\n",
       "\n",
       "    .dataframe tbody tr th {\n",
       "        vertical-align: top;\n",
       "    }\n",
       "\n",
       "    .dataframe thead th {\n",
       "        text-align: right;\n",
       "    }\n",
       "</style>\n",
       "<table border=\"1\" class=\"dataframe\">\n",
       "  <thead>\n",
       "    <tr style=\"text-align: right;\">\n",
       "      <th></th>\n",
       "      <th>hypothesis</th>\n",
       "      <th>RICE</th>\n",
       "    </tr>\n",
       "  </thead>\n",
       "  <tbody>\n",
       "    <tr>\n",
       "      <th>7</th>\n",
       "      <td>Добавить форму подписки на все основные страницы, чтобы собрать базу клиентов для email-рассылок</td>\n",
       "      <td>112.0</td>\n",
       "    </tr>\n",
       "    <tr>\n",
       "      <th>2</th>\n",
       "      <td>Добавить блоки рекомендаций товаров на сайт интернет магазина, чтобы повысить конверсию и средний чек заказа</td>\n",
       "      <td>56.0</td>\n",
       "    </tr>\n",
       "    <tr>\n",
       "      <th>0</th>\n",
       "      <td>Добавить два новых канала привлечения трафика, что позволит привлекать на 30% больше пользователей</td>\n",
       "      <td>40.0</td>\n",
       "    </tr>\n",
       "    <tr>\n",
       "      <th>6</th>\n",
       "      <td>Показать на главной странице баннеры с актуальными акциями и распродажами, чтобы увеличить конверсию</td>\n",
       "      <td>40.0</td>\n",
       "    </tr>\n",
       "    <tr>\n",
       "      <th>8</th>\n",
       "      <td>Запустить акцию, дающую скидку на товар в день рождения</td>\n",
       "      <td>16.2</td>\n",
       "    </tr>\n",
       "    <tr>\n",
       "      <th>3</th>\n",
       "      <td>Изменить структура категорий, что увеличит конверсию, т.к. пользователи быстрее найдут нужный товар</td>\n",
       "      <td>9.0</td>\n",
       "    </tr>\n",
       "    <tr>\n",
       "      <th>1</th>\n",
       "      <td>Запустить собственную службу доставки, что сократит срок доставки заказов</td>\n",
       "      <td>4.0</td>\n",
       "    </tr>\n",
       "    <tr>\n",
       "      <th>5</th>\n",
       "      <td>Добавить страницу отзывов клиентов о магазине, что позволит увеличить количество заказов</td>\n",
       "      <td>4.0</td>\n",
       "    </tr>\n",
       "    <tr>\n",
       "      <th>4</th>\n",
       "      <td>Изменить цвет фона главной страницы, чтобы увеличить вовлеченность пользователей</td>\n",
       "      <td>3.0</td>\n",
       "    </tr>\n",
       "  </tbody>\n",
       "</table>\n",
       "</div>"
      ],
      "text/plain": [
       "                                                                                                     hypothesis  \\\n",
       "7              Добавить форму подписки на все основные страницы, чтобы собрать базу клиентов для email-рассылок   \n",
       "2  Добавить блоки рекомендаций товаров на сайт интернет магазина, чтобы повысить конверсию и средний чек заказа   \n",
       "0            Добавить два новых канала привлечения трафика, что позволит привлекать на 30% больше пользователей   \n",
       "6          Показать на главной странице баннеры с актуальными акциями и распродажами, чтобы увеличить конверсию   \n",
       "8                                                       Запустить акцию, дающую скидку на товар в день рождения   \n",
       "3           Изменить структура категорий, что увеличит конверсию, т.к. пользователи быстрее найдут нужный товар   \n",
       "1                                     Запустить собственную службу доставки, что сократит срок доставки заказов   \n",
       "5                      Добавить страницу отзывов клиентов о магазине, что позволит увеличить количество заказов   \n",
       "4                              Изменить цвет фона главной страницы, чтобы увеличить вовлеченность пользователей   \n",
       "\n",
       "    RICE  \n",
       "7  112.0  \n",
       "2   56.0  \n",
       "0   40.0  \n",
       "6   40.0  \n",
       "8   16.2  \n",
       "3    9.0  \n",
       "1    4.0  \n",
       "5    4.0  \n",
       "4    3.0  "
      ]
     },
     "execution_count": 8,
     "metadata": {},
     "output_type": "execute_result"
    }
   ],
   "source": [
    "data['RICE'] = (data['reach'] * data['impact'] * data['confidence']) / data['efforts']\n",
    "pd.options.display.max_colwidth = 120\n",
    "data[['hypothesis', 'RICE']].sort_values(by='RICE', ascending=False)"
   ]
  },
  {
   "cell_type": "markdown",
   "metadata": {},
   "source": [
    "<div class=\"alert alert-success\">\n",
    "<h2> Комментарий ревьюера <a class=\"tocSkip\"> </h2>\n",
    "\n",
    "<b>Отлично!✅:</b> Отлично, что вывела таблицу дважды и применила сортировку по одному из фреймворков - так мы более наглядно можем наблюдать различия в их работе!\n",
    "</div>"
   ]
  },
  {
   "cell_type": "markdown",
   "metadata": {},
   "source": [
    "### Сравнение полученных результатов\n",
    "\n",
    "*Укажите, как изменилась приоритизация гипотез при применении RICE вместо ICE. Объясните, почему так произошло.*"
   ]
  },
  {
   "cell_type": "markdown",
   "metadata": {},
   "source": [
    "При использовании RICE для приоретизации гипотез учитывается дополнительный фактор - Reach, т.е. охват пользователей.\n",
    "Чем больше пользователей охватывает гипотеза, тем выше значение этого параметра.\n",
    "\n",
    "У гипотезы 8 **\"Запустить акцию, дающую скидку на товар в день рождения\"** Reach = 1. Эта гипотеза была на 1м месте в случае применения ICE и стала 4й в случае использования RICE, поскольку изменения затронули бы каждого пользователя, но всего 1 день в году.\n",
    "\n",
    "У гипотезы 7 **\"Добавить форму подписки на все основные страницы, чтобы собрать базу клиентов для email-рассылок\"** Reach = 10. Эта гипотеза распространяется на максимальную долю пользователей, что повысило ее приоритет с 3 места в ICE до 1 места в RICE."
   ]
  },
  {
   "cell_type": "markdown",
   "metadata": {},
   "source": [
    "<br/>\n",
    "<div class=\"alert alert-block alert-danger\">\n",
    "<h2> Комментарий ревьюера <a class=\"tocSkip\"></h2>\n",
    "\n",
    "    \n",
    "<b>Необходимо исправить❌:</b>\n",
    "Женя, лучше дать полную формулировку всем гипотезам, у тебя указаны лишь индексы. Индексы могут поменяться, или у заказчика может список гипотез быть в другом порядке.</div>"
   ]
  },
  {
   "cell_type": "markdown",
   "metadata": {},
   "source": [
    "<div class=\"alert alert-info\"> <b>Комментарий студента:</b> \n",
    "    Дополнила вывод полными формулировками гипотез и немного его скорректировала.  </div>"
   ]
  },
  {
   "cell_type": "markdown",
   "metadata": {},
   "source": [
    "<div class=\"alert alert-success\">\n",
    "<h2> Комментарий ревьюера v2<a class=\"tocSkip\"> </h2>\n",
    "\n",
    "<b>Отлично!✅:</b> Принято!\n",
    "\n",
    "</div>"
   ]
  },
  {
   "cell_type": "markdown",
   "metadata": {},
   "source": [
    "## Анализ A/B-теста"
   ]
  },
  {
   "cell_type": "markdown",
   "metadata": {},
   "source": [
    "### Загрузка и предобработка данных"
   ]
  },
  {
   "cell_type": "markdown",
   "metadata": {},
   "source": [
    "#### Заказы"
   ]
  },
  {
   "cell_type": "code",
   "execution_count": 9,
   "metadata": {},
   "outputs": [
    {
     "data": {
      "text/html": [
       "<div>\n",
       "<style scoped>\n",
       "    .dataframe tbody tr th:only-of-type {\n",
       "        vertical-align: middle;\n",
       "    }\n",
       "\n",
       "    .dataframe tbody tr th {\n",
       "        vertical-align: top;\n",
       "    }\n",
       "\n",
       "    .dataframe thead th {\n",
       "        text-align: right;\n",
       "    }\n",
       "</style>\n",
       "<table border=\"1\" class=\"dataframe\">\n",
       "  <thead>\n",
       "    <tr style=\"text-align: right;\">\n",
       "      <th></th>\n",
       "      <th>transactionId</th>\n",
       "      <th>visitorId</th>\n",
       "      <th>date</th>\n",
       "      <th>revenue</th>\n",
       "      <th>group</th>\n",
       "    </tr>\n",
       "  </thead>\n",
       "  <tbody>\n",
       "    <tr>\n",
       "      <th>0</th>\n",
       "      <td>3667963787</td>\n",
       "      <td>3312258926</td>\n",
       "      <td>2019-08-15</td>\n",
       "      <td>1650</td>\n",
       "      <td>B</td>\n",
       "    </tr>\n",
       "    <tr>\n",
       "      <th>1</th>\n",
       "      <td>2804400009</td>\n",
       "      <td>3642806036</td>\n",
       "      <td>2019-08-15</td>\n",
       "      <td>730</td>\n",
       "      <td>B</td>\n",
       "    </tr>\n",
       "    <tr>\n",
       "      <th>2</th>\n",
       "      <td>2961555356</td>\n",
       "      <td>4069496402</td>\n",
       "      <td>2019-08-15</td>\n",
       "      <td>400</td>\n",
       "      <td>A</td>\n",
       "    </tr>\n",
       "    <tr>\n",
       "      <th>3</th>\n",
       "      <td>3797467345</td>\n",
       "      <td>1196621759</td>\n",
       "      <td>2019-08-15</td>\n",
       "      <td>9759</td>\n",
       "      <td>B</td>\n",
       "    </tr>\n",
       "    <tr>\n",
       "      <th>4</th>\n",
       "      <td>2282983706</td>\n",
       "      <td>2322279887</td>\n",
       "      <td>2019-08-15</td>\n",
       "      <td>2308</td>\n",
       "      <td>B</td>\n",
       "    </tr>\n",
       "    <tr>\n",
       "      <th>...</th>\n",
       "      <td>...</td>\n",
       "      <td>...</td>\n",
       "      <td>...</td>\n",
       "      <td>...</td>\n",
       "      <td>...</td>\n",
       "    </tr>\n",
       "    <tr>\n",
       "      <th>1192</th>\n",
       "      <td>2662137336</td>\n",
       "      <td>3733762160</td>\n",
       "      <td>2019-08-14</td>\n",
       "      <td>6490</td>\n",
       "      <td>B</td>\n",
       "    </tr>\n",
       "    <tr>\n",
       "      <th>1193</th>\n",
       "      <td>2203539145</td>\n",
       "      <td>370388673</td>\n",
       "      <td>2019-08-14</td>\n",
       "      <td>3190</td>\n",
       "      <td>A</td>\n",
       "    </tr>\n",
       "    <tr>\n",
       "      <th>1194</th>\n",
       "      <td>1807773912</td>\n",
       "      <td>573423106</td>\n",
       "      <td>2019-08-14</td>\n",
       "      <td>10550</td>\n",
       "      <td>A</td>\n",
       "    </tr>\n",
       "    <tr>\n",
       "      <th>1195</th>\n",
       "      <td>1947021204</td>\n",
       "      <td>1614305549</td>\n",
       "      <td>2019-08-14</td>\n",
       "      <td>100</td>\n",
       "      <td>A</td>\n",
       "    </tr>\n",
       "    <tr>\n",
       "      <th>1196</th>\n",
       "      <td>3936777065</td>\n",
       "      <td>2108080724</td>\n",
       "      <td>2019-08-15</td>\n",
       "      <td>202740</td>\n",
       "      <td>B</td>\n",
       "    </tr>\n",
       "  </tbody>\n",
       "</table>\n",
       "<p>1197 rows × 5 columns</p>\n",
       "</div>"
      ],
      "text/plain": [
       "      transactionId   visitorId        date  revenue group\n",
       "0        3667963787  3312258926  2019-08-15     1650     B\n",
       "1        2804400009  3642806036  2019-08-15      730     B\n",
       "2        2961555356  4069496402  2019-08-15      400     A\n",
       "3        3797467345  1196621759  2019-08-15     9759     B\n",
       "4        2282983706  2322279887  2019-08-15     2308     B\n",
       "...             ...         ...         ...      ...   ...\n",
       "1192     2662137336  3733762160  2019-08-14     6490     B\n",
       "1193     2203539145   370388673  2019-08-14     3190     A\n",
       "1194     1807773912   573423106  2019-08-14    10550     A\n",
       "1195     1947021204  1614305549  2019-08-14      100     A\n",
       "1196     3936777065  2108080724  2019-08-15   202740     B\n",
       "\n",
       "[1197 rows x 5 columns]"
      ]
     },
     "execution_count": 9,
     "metadata": {},
     "output_type": "execute_result"
    }
   ],
   "source": [
    "orders = pd.read_csv('/datasets/orders.csv')\n",
    "orders"
   ]
  },
  {
   "cell_type": "code",
   "execution_count": 10,
   "metadata": {},
   "outputs": [
    {
     "name": "stdout",
     "output_type": "stream",
     "text": [
      "<class 'pandas.core.frame.DataFrame'>\n",
      "RangeIndex: 1197 entries, 0 to 1196\n",
      "Data columns (total 5 columns):\n",
      " #   Column         Non-Null Count  Dtype \n",
      "---  ------         --------------  ----- \n",
      " 0   transactionId  1197 non-null   int64 \n",
      " 1   visitorId      1197 non-null   int64 \n",
      " 2   date           1197 non-null   object\n",
      " 3   revenue        1197 non-null   int64 \n",
      " 4   group          1197 non-null   object\n",
      "dtypes: int64(3), object(2)\n",
      "memory usage: 46.9+ KB\n"
     ]
    }
   ],
   "source": [
    "orders.info()"
   ]
  },
  {
   "cell_type": "code",
   "execution_count": 11,
   "metadata": {},
   "outputs": [
    {
     "name": "stdout",
     "output_type": "stream",
     "text": [
      "<class 'pandas.core.frame.DataFrame'>\n",
      "RangeIndex: 1197 entries, 0 to 1196\n",
      "Data columns (total 5 columns):\n",
      " #   Column          Non-Null Count  Dtype         \n",
      "---  ------          --------------  -----         \n",
      " 0   transaction_id  1197 non-null   int64         \n",
      " 1   visitor_id      1197 non-null   int64         \n",
      " 2   date            1197 non-null   datetime64[ns]\n",
      " 3   revenue         1197 non-null   int64         \n",
      " 4   group           1197 non-null   object        \n",
      "dtypes: datetime64[ns](1), int64(3), object(1)\n",
      "memory usage: 46.9+ KB\n"
     ]
    }
   ],
   "source": [
    "orders = orders.rename(columns={'transactionId': 'transaction_id', 'visitorId': 'visitor_id'}) \n",
    "orders['date'] = orders['date'].map(\n",
    "    lambda x: dt.datetime.strptime(x, '%Y-%m-%d')\n",
    ")\n",
    "orders.info()"
   ]
  },
  {
   "cell_type": "markdown",
   "metadata": {},
   "source": [
    "Проверим, есть ли пользователи, которые попали в обе группы А/В теста."
   ]
  },
  {
   "cell_type": "code",
   "execution_count": 12,
   "metadata": {},
   "outputs": [
    {
     "data": {
      "text/plain": [
       "58"
      ]
     },
     "execution_count": 12,
     "metadata": {},
     "output_type": "execute_result"
    }
   ],
   "source": [
    "common_visitors = orders.pivot_table(index='visitor_id', values='group', aggfunc='nunique').sort_values(by='group', ascending=False).query('group == 2').reset_index()\n",
    "\n",
    "len(common_visitors)"
   ]
  },
  {
   "cell_type": "code",
   "execution_count": 13,
   "metadata": {},
   "outputs": [
    {
     "data": {
      "text/html": [
       "<div>\n",
       "<style scoped>\n",
       "    .dataframe tbody tr th:only-of-type {\n",
       "        vertical-align: middle;\n",
       "    }\n",
       "\n",
       "    .dataframe tbody tr th {\n",
       "        vertical-align: top;\n",
       "    }\n",
       "\n",
       "    .dataframe thead th {\n",
       "        text-align: right;\n",
       "    }\n",
       "</style>\n",
       "<table border=\"1\" class=\"dataframe\">\n",
       "  <thead>\n",
       "    <tr style=\"text-align: right;\">\n",
       "      <th></th>\n",
       "      <th>visitor_id</th>\n",
       "      <th>group</th>\n",
       "    </tr>\n",
       "  </thead>\n",
       "  <tbody>\n",
       "    <tr>\n",
       "      <th>0</th>\n",
       "      <td>2654030115</td>\n",
       "      <td>2</td>\n",
       "    </tr>\n",
       "    <tr>\n",
       "      <th>1</th>\n",
       "      <td>3891541246</td>\n",
       "      <td>2</td>\n",
       "    </tr>\n",
       "    <tr>\n",
       "      <th>2</th>\n",
       "      <td>3941795274</td>\n",
       "      <td>2</td>\n",
       "    </tr>\n",
       "    <tr>\n",
       "      <th>3</th>\n",
       "      <td>1404934699</td>\n",
       "      <td>2</td>\n",
       "    </tr>\n",
       "    <tr>\n",
       "      <th>4</th>\n",
       "      <td>351125977</td>\n",
       "      <td>2</td>\n",
       "    </tr>\n",
       "    <tr>\n",
       "      <th>5</th>\n",
       "      <td>3951559397</td>\n",
       "      <td>2</td>\n",
       "    </tr>\n",
       "    <tr>\n",
       "      <th>6</th>\n",
       "      <td>2927087541</td>\n",
       "      <td>2</td>\n",
       "    </tr>\n",
       "    <tr>\n",
       "      <th>7</th>\n",
       "      <td>3963646447</td>\n",
       "      <td>2</td>\n",
       "    </tr>\n",
       "    <tr>\n",
       "      <th>8</th>\n",
       "      <td>2458001652</td>\n",
       "      <td>2</td>\n",
       "    </tr>\n",
       "    <tr>\n",
       "      <th>9</th>\n",
       "      <td>3972127743</td>\n",
       "      <td>2</td>\n",
       "    </tr>\n",
       "  </tbody>\n",
       "</table>\n",
       "</div>"
      ],
      "text/plain": [
       "   visitor_id  group\n",
       "0  2654030115      2\n",
       "1  3891541246      2\n",
       "2  3941795274      2\n",
       "3  1404934699      2\n",
       "4   351125977      2\n",
       "5  3951559397      2\n",
       "6  2927087541      2\n",
       "7  3963646447      2\n",
       "8  2458001652      2\n",
       "9  3972127743      2"
      ]
     },
     "execution_count": 13,
     "metadata": {},
     "output_type": "execute_result"
    }
   ],
   "source": [
    "common_visitors.head(10)"
   ]
  },
  {
   "cell_type": "markdown",
   "metadata": {},
   "source": [
    "Удаляем дубликаты."
   ]
  },
  {
   "cell_type": "code",
   "execution_count": 14,
   "metadata": {},
   "outputs": [],
   "source": [
    "orders = orders[~orders['visitor_id'].isin(common_visitors['visitor_id'])]"
   ]
  },
  {
   "cell_type": "code",
   "execution_count": 15,
   "metadata": {},
   "outputs": [
    {
     "data": {
      "text/html": [
       "<div>\n",
       "<style scoped>\n",
       "    .dataframe tbody tr th:only-of-type {\n",
       "        vertical-align: middle;\n",
       "    }\n",
       "\n",
       "    .dataframe tbody tr th {\n",
       "        vertical-align: top;\n",
       "    }\n",
       "\n",
       "    .dataframe thead th {\n",
       "        text-align: right;\n",
       "    }\n",
       "</style>\n",
       "<table border=\"1\" class=\"dataframe\">\n",
       "  <thead>\n",
       "    <tr style=\"text-align: right;\">\n",
       "      <th></th>\n",
       "      <th>group</th>\n",
       "    </tr>\n",
       "    <tr>\n",
       "      <th>visitor_id</th>\n",
       "      <th></th>\n",
       "    </tr>\n",
       "  </thead>\n",
       "  <tbody>\n",
       "    <tr>\n",
       "      <th>5114589</th>\n",
       "      <td>1</td>\n",
       "    </tr>\n",
       "    <tr>\n",
       "      <th>2908466434</th>\n",
       "      <td>1</td>\n",
       "    </tr>\n",
       "    <tr>\n",
       "      <th>2776274025</th>\n",
       "      <td>1</td>\n",
       "    </tr>\n",
       "    <tr>\n",
       "      <th>2785040378</th>\n",
       "      <td>1</td>\n",
       "    </tr>\n",
       "    <tr>\n",
       "      <th>2785527055</th>\n",
       "      <td>1</td>\n",
       "    </tr>\n",
       "    <tr>\n",
       "      <th>...</th>\n",
       "      <td>...</td>\n",
       "    </tr>\n",
       "    <tr>\n",
       "      <th>1426761187</th>\n",
       "      <td>1</td>\n",
       "    </tr>\n",
       "    <tr>\n",
       "      <th>1430210707</th>\n",
       "      <td>1</td>\n",
       "    </tr>\n",
       "    <tr>\n",
       "      <th>1438226485</th>\n",
       "      <td>1</td>\n",
       "    </tr>\n",
       "    <tr>\n",
       "      <th>1452540367</th>\n",
       "      <td>1</td>\n",
       "    </tr>\n",
       "    <tr>\n",
       "      <th>4283872382</th>\n",
       "      <td>1</td>\n",
       "    </tr>\n",
       "  </tbody>\n",
       "</table>\n",
       "<p>973 rows × 1 columns</p>\n",
       "</div>"
      ],
      "text/plain": [
       "            group\n",
       "visitor_id       \n",
       "5114589         1\n",
       "2908466434      1\n",
       "2776274025      1\n",
       "2785040378      1\n",
       "2785527055      1\n",
       "...           ...\n",
       "1426761187      1\n",
       "1430210707      1\n",
       "1438226485      1\n",
       "1452540367      1\n",
       "4283872382      1\n",
       "\n",
       "[973 rows x 1 columns]"
      ]
     },
     "execution_count": 15,
     "metadata": {},
     "output_type": "execute_result"
    }
   ],
   "source": [
    "orders.pivot_table(index='visitor_id', values='group', aggfunc='nunique').sort_values(by='group', ascending=False)"
   ]
  },
  {
   "cell_type": "markdown",
   "metadata": {},
   "source": [
    "**Границы теста.**"
   ]
  },
  {
   "cell_type": "code",
   "execution_count": 16,
   "metadata": {},
   "outputs": [
    {
     "name": "stdout",
     "output_type": "stream",
     "text": [
      "Дата начала теста: 103   2019-08-01\n",
      "Name: date, dtype: datetime64[ns]\n",
      "Дата конца теста: 997   2019-08-31\n",
      "Name: date, dtype: datetime64[ns]\n"
     ]
    }
   ],
   "source": [
    "print('Дата начала теста:', orders['date'].sort_values().head(1))\n",
    "print('Дата конца теста:', orders['date'].sort_values().tail(1))"
   ]
  },
  {
   "cell_type": "markdown",
   "metadata": {},
   "source": [
    "**Размер групп.**"
   ]
  },
  {
   "cell_type": "code",
   "execution_count": 17,
   "metadata": {},
   "outputs": [
    {
     "data": {
      "text/plain": [
       "group\n",
       "A    445\n",
       "B    528\n",
       "Name: visitor_id, dtype: int64"
      ]
     },
     "execution_count": 17,
     "metadata": {},
     "output_type": "execute_result"
    }
   ],
   "source": [
    "orders.groupby('group').nunique('visitor_id')['visitor_id']"
   ]
  },
  {
   "cell_type": "markdown",
   "metadata": {},
   "source": [
    "#### Пользователи"
   ]
  },
  {
   "cell_type": "code",
   "execution_count": 18,
   "metadata": {},
   "outputs": [
    {
     "data": {
      "text/html": [
       "<div>\n",
       "<style scoped>\n",
       "    .dataframe tbody tr th:only-of-type {\n",
       "        vertical-align: middle;\n",
       "    }\n",
       "\n",
       "    .dataframe tbody tr th {\n",
       "        vertical-align: top;\n",
       "    }\n",
       "\n",
       "    .dataframe thead th {\n",
       "        text-align: right;\n",
       "    }\n",
       "</style>\n",
       "<table border=\"1\" class=\"dataframe\">\n",
       "  <thead>\n",
       "    <tr style=\"text-align: right;\">\n",
       "      <th></th>\n",
       "      <th>date</th>\n",
       "      <th>group</th>\n",
       "      <th>visitors</th>\n",
       "    </tr>\n",
       "  </thead>\n",
       "  <tbody>\n",
       "    <tr>\n",
       "      <th>0</th>\n",
       "      <td>2019-08-01</td>\n",
       "      <td>A</td>\n",
       "      <td>719</td>\n",
       "    </tr>\n",
       "    <tr>\n",
       "      <th>1</th>\n",
       "      <td>2019-08-02</td>\n",
       "      <td>A</td>\n",
       "      <td>619</td>\n",
       "    </tr>\n",
       "    <tr>\n",
       "      <th>2</th>\n",
       "      <td>2019-08-03</td>\n",
       "      <td>A</td>\n",
       "      <td>507</td>\n",
       "    </tr>\n",
       "    <tr>\n",
       "      <th>3</th>\n",
       "      <td>2019-08-04</td>\n",
       "      <td>A</td>\n",
       "      <td>717</td>\n",
       "    </tr>\n",
       "    <tr>\n",
       "      <th>4</th>\n",
       "      <td>2019-08-05</td>\n",
       "      <td>A</td>\n",
       "      <td>756</td>\n",
       "    </tr>\n",
       "    <tr>\n",
       "      <th>...</th>\n",
       "      <td>...</td>\n",
       "      <td>...</td>\n",
       "      <td>...</td>\n",
       "    </tr>\n",
       "    <tr>\n",
       "      <th>57</th>\n",
       "      <td>2019-08-27</td>\n",
       "      <td>B</td>\n",
       "      <td>720</td>\n",
       "    </tr>\n",
       "    <tr>\n",
       "      <th>58</th>\n",
       "      <td>2019-08-28</td>\n",
       "      <td>B</td>\n",
       "      <td>654</td>\n",
       "    </tr>\n",
       "    <tr>\n",
       "      <th>59</th>\n",
       "      <td>2019-08-29</td>\n",
       "      <td>B</td>\n",
       "      <td>531</td>\n",
       "    </tr>\n",
       "    <tr>\n",
       "      <th>60</th>\n",
       "      <td>2019-08-30</td>\n",
       "      <td>B</td>\n",
       "      <td>490</td>\n",
       "    </tr>\n",
       "    <tr>\n",
       "      <th>61</th>\n",
       "      <td>2019-08-31</td>\n",
       "      <td>B</td>\n",
       "      <td>718</td>\n",
       "    </tr>\n",
       "  </tbody>\n",
       "</table>\n",
       "<p>62 rows × 3 columns</p>\n",
       "</div>"
      ],
      "text/plain": [
       "          date group  visitors\n",
       "0   2019-08-01     A       719\n",
       "1   2019-08-02     A       619\n",
       "2   2019-08-03     A       507\n",
       "3   2019-08-04     A       717\n",
       "4   2019-08-05     A       756\n",
       "..         ...   ...       ...\n",
       "57  2019-08-27     B       720\n",
       "58  2019-08-28     B       654\n",
       "59  2019-08-29     B       531\n",
       "60  2019-08-30     B       490\n",
       "61  2019-08-31     B       718\n",
       "\n",
       "[62 rows x 3 columns]"
      ]
     },
     "execution_count": 18,
     "metadata": {},
     "output_type": "execute_result"
    }
   ],
   "source": [
    "visitors = pd.read_csv('/datasets/visitors.csv')\n",
    "visitors"
   ]
  },
  {
   "cell_type": "code",
   "execution_count": 19,
   "metadata": {},
   "outputs": [
    {
     "name": "stdout",
     "output_type": "stream",
     "text": [
      "<class 'pandas.core.frame.DataFrame'>\n",
      "RangeIndex: 62 entries, 0 to 61\n",
      "Data columns (total 3 columns):\n",
      " #   Column    Non-Null Count  Dtype \n",
      "---  ------    --------------  ----- \n",
      " 0   date      62 non-null     object\n",
      " 1   group     62 non-null     object\n",
      " 2   visitors  62 non-null     int64 \n",
      "dtypes: int64(1), object(2)\n",
      "memory usage: 1.6+ KB\n"
     ]
    }
   ],
   "source": [
    "visitors.info()"
   ]
  },
  {
   "cell_type": "code",
   "execution_count": 20,
   "metadata": {},
   "outputs": [
    {
     "name": "stdout",
     "output_type": "stream",
     "text": [
      "<class 'pandas.core.frame.DataFrame'>\n",
      "RangeIndex: 62 entries, 0 to 61\n",
      "Data columns (total 3 columns):\n",
      " #   Column    Non-Null Count  Dtype         \n",
      "---  ------    --------------  -----         \n",
      " 0   date      62 non-null     datetime64[ns]\n",
      " 1   group     62 non-null     object        \n",
      " 2   visitors  62 non-null     int64         \n",
      "dtypes: datetime64[ns](1), int64(1), object(1)\n",
      "memory usage: 1.6+ KB\n"
     ]
    }
   ],
   "source": [
    "visitors['date'] = visitors['date'].map(\n",
    "    lambda x: dt.datetime.strptime(x, '%Y-%m-%d')\n",
    ")\n",
    "visitors.info()"
   ]
  },
  {
   "cell_type": "code",
   "execution_count": 21,
   "metadata": {},
   "outputs": [
    {
     "data": {
      "text/html": [
       "<div>\n",
       "<style scoped>\n",
       "    .dataframe tbody tr th:only-of-type {\n",
       "        vertical-align: middle;\n",
       "    }\n",
       "\n",
       "    .dataframe tbody tr th {\n",
       "        vertical-align: top;\n",
       "    }\n",
       "\n",
       "    .dataframe thead th {\n",
       "        text-align: right;\n",
       "    }\n",
       "</style>\n",
       "<table border=\"1\" class=\"dataframe\">\n",
       "  <thead>\n",
       "    <tr style=\"text-align: right;\">\n",
       "      <th></th>\n",
       "      <th>date</th>\n",
       "      <th>group</th>\n",
       "    </tr>\n",
       "  </thead>\n",
       "  <tbody>\n",
       "    <tr>\n",
       "      <th>0</th>\n",
       "      <td>2019-08-15</td>\n",
       "      <td>B</td>\n",
       "    </tr>\n",
       "    <tr>\n",
       "      <th>7</th>\n",
       "      <td>2019-08-15</td>\n",
       "      <td>A</td>\n",
       "    </tr>\n",
       "    <tr>\n",
       "      <th>45</th>\n",
       "      <td>2019-08-16</td>\n",
       "      <td>A</td>\n",
       "    </tr>\n",
       "    <tr>\n",
       "      <th>47</th>\n",
       "      <td>2019-08-16</td>\n",
       "      <td>B</td>\n",
       "    </tr>\n",
       "    <tr>\n",
       "      <th>55</th>\n",
       "      <td>2019-08-01</td>\n",
       "      <td>A</td>\n",
       "    </tr>\n",
       "    <tr>\n",
       "      <th>...</th>\n",
       "      <td>...</td>\n",
       "      <td>...</td>\n",
       "    </tr>\n",
       "    <tr>\n",
       "      <th>1068</th>\n",
       "      <td>2019-08-12</td>\n",
       "      <td>A</td>\n",
       "    </tr>\n",
       "    <tr>\n",
       "      <th>1114</th>\n",
       "      <td>2019-08-13</td>\n",
       "      <td>B</td>\n",
       "    </tr>\n",
       "    <tr>\n",
       "      <th>1116</th>\n",
       "      <td>2019-08-13</td>\n",
       "      <td>A</td>\n",
       "    </tr>\n",
       "    <tr>\n",
       "      <th>1149</th>\n",
       "      <td>2019-08-14</td>\n",
       "      <td>B</td>\n",
       "    </tr>\n",
       "    <tr>\n",
       "      <th>1150</th>\n",
       "      <td>2019-08-14</td>\n",
       "      <td>A</td>\n",
       "    </tr>\n",
       "  </tbody>\n",
       "</table>\n",
       "<p>62 rows × 2 columns</p>\n",
       "</div>"
      ],
      "text/plain": [
       "           date group\n",
       "0    2019-08-15     B\n",
       "7    2019-08-15     A\n",
       "45   2019-08-16     A\n",
       "47   2019-08-16     B\n",
       "55   2019-08-01     A\n",
       "...         ...   ...\n",
       "1068 2019-08-12     A\n",
       "1114 2019-08-13     B\n",
       "1116 2019-08-13     A\n",
       "1149 2019-08-14     B\n",
       "1150 2019-08-14     A\n",
       "\n",
       "[62 rows x 2 columns]"
      ]
     },
     "execution_count": 21,
     "metadata": {},
     "output_type": "execute_result"
    }
   ],
   "source": [
    "# массив уникальных пар значений дат и групп\n",
    "\n",
    "datesGroups = orders[['date','group']].drop_duplicates() \n",
    "datesGroups"
   ]
  },
  {
   "cell_type": "code",
   "execution_count": 22,
   "metadata": {},
   "outputs": [
    {
     "data": {
      "text/html": [
       "<div>\n",
       "<style scoped>\n",
       "    .dataframe tbody tr th:only-of-type {\n",
       "        vertical-align: middle;\n",
       "    }\n",
       "\n",
       "    .dataframe tbody tr th {\n",
       "        vertical-align: top;\n",
       "    }\n",
       "\n",
       "    .dataframe thead th {\n",
       "        text-align: right;\n",
       "    }\n",
       "</style>\n",
       "<table border=\"1\" class=\"dataframe\">\n",
       "  <thead>\n",
       "    <tr style=\"text-align: right;\">\n",
       "      <th></th>\n",
       "      <th>date</th>\n",
       "      <th>group</th>\n",
       "      <th>transaction_id</th>\n",
       "      <th>visitor_id</th>\n",
       "      <th>revenue</th>\n",
       "    </tr>\n",
       "  </thead>\n",
       "  <tbody>\n",
       "    <tr>\n",
       "      <th>55</th>\n",
       "      <td>2019-08-01</td>\n",
       "      <td>A</td>\n",
       "      <td>23</td>\n",
       "      <td>19</td>\n",
       "      <td>142779</td>\n",
       "    </tr>\n",
       "    <tr>\n",
       "      <th>66</th>\n",
       "      <td>2019-08-01</td>\n",
       "      <td>B</td>\n",
       "      <td>17</td>\n",
       "      <td>17</td>\n",
       "      <td>59758</td>\n",
       "    </tr>\n",
       "    <tr>\n",
       "      <th>175</th>\n",
       "      <td>2019-08-02</td>\n",
       "      <td>A</td>\n",
       "      <td>42</td>\n",
       "      <td>36</td>\n",
       "      <td>234381</td>\n",
       "    </tr>\n",
       "    <tr>\n",
       "      <th>173</th>\n",
       "      <td>2019-08-02</td>\n",
       "      <td>B</td>\n",
       "      <td>40</td>\n",
       "      <td>39</td>\n",
       "      <td>221801</td>\n",
       "    </tr>\n",
       "    <tr>\n",
       "      <th>291</th>\n",
       "      <td>2019-08-03</td>\n",
       "      <td>A</td>\n",
       "      <td>66</td>\n",
       "      <td>60</td>\n",
       "      <td>346854</td>\n",
       "    </tr>\n",
       "    <tr>\n",
       "      <th>...</th>\n",
       "      <td>...</td>\n",
       "      <td>...</td>\n",
       "      <td>...</td>\n",
       "      <td>...</td>\n",
       "      <td>...</td>\n",
       "    </tr>\n",
       "    <tr>\n",
       "      <th>533</th>\n",
       "      <td>2019-08-29</td>\n",
       "      <td>B</td>\n",
       "      <td>510</td>\n",
       "      <td>490</td>\n",
       "      <td>4746610</td>\n",
       "    </tr>\n",
       "    <tr>\n",
       "      <th>757</th>\n",
       "      <td>2019-08-30</td>\n",
       "      <td>A</td>\n",
       "      <td>460</td>\n",
       "      <td>437</td>\n",
       "      <td>3311413</td>\n",
       "    </tr>\n",
       "    <tr>\n",
       "      <th>690</th>\n",
       "      <td>2019-08-30</td>\n",
       "      <td>B</td>\n",
       "      <td>531</td>\n",
       "      <td>511</td>\n",
       "      <td>4955833</td>\n",
       "    </tr>\n",
       "    <tr>\n",
       "      <th>958</th>\n",
       "      <td>2019-08-31</td>\n",
       "      <td>A</td>\n",
       "      <td>468</td>\n",
       "      <td>445</td>\n",
       "      <td>3364656</td>\n",
       "    </tr>\n",
       "    <tr>\n",
       "      <th>930</th>\n",
       "      <td>2019-08-31</td>\n",
       "      <td>B</td>\n",
       "      <td>548</td>\n",
       "      <td>528</td>\n",
       "      <td>5068972</td>\n",
       "    </tr>\n",
       "  </tbody>\n",
       "</table>\n",
       "<p>62 rows × 5 columns</p>\n",
       "</div>"
      ],
      "text/plain": [
       "          date group  transaction_id  visitor_id  revenue\n",
       "55  2019-08-01     A              23          19   142779\n",
       "66  2019-08-01     B              17          17    59758\n",
       "175 2019-08-02     A              42          36   234381\n",
       "173 2019-08-02     B              40          39   221801\n",
       "291 2019-08-03     A              66          60   346854\n",
       "..         ...   ...             ...         ...      ...\n",
       "533 2019-08-29     B             510         490  4746610\n",
       "757 2019-08-30     A             460         437  3311413\n",
       "690 2019-08-30     B             531         511  4955833\n",
       "958 2019-08-31     A             468         445  3364656\n",
       "930 2019-08-31     B             548         528  5068972\n",
       "\n",
       "[62 rows x 5 columns]"
      ]
     },
     "execution_count": 22,
     "metadata": {},
     "output_type": "execute_result"
    }
   ],
   "source": [
    "# аггрегация значений по заказам\n",
    "ordersAggregated = datesGroups.apply(lambda x: orders[np.logical_and(orders['date'] <= x['date'], orders['group'] == x['group'])]\\\n",
    ".agg({'date' : 'max', 'group' : 'max', 'transaction_id' : 'nunique', 'visitor_id' : 'nunique', 'revenue' : 'sum'}), axis=1).sort_values(by=['date','group'])\n",
    "ordersAggregated"
   ]
  },
  {
   "cell_type": "code",
   "execution_count": 23,
   "metadata": {
    "scrolled": true
   },
   "outputs": [
    {
     "data": {
      "text/html": [
       "<div>\n",
       "<style scoped>\n",
       "    .dataframe tbody tr th:only-of-type {\n",
       "        vertical-align: middle;\n",
       "    }\n",
       "\n",
       "    .dataframe tbody tr th {\n",
       "        vertical-align: top;\n",
       "    }\n",
       "\n",
       "    .dataframe thead th {\n",
       "        text-align: right;\n",
       "    }\n",
       "</style>\n",
       "<table border=\"1\" class=\"dataframe\">\n",
       "  <thead>\n",
       "    <tr style=\"text-align: right;\">\n",
       "      <th></th>\n",
       "      <th>date</th>\n",
       "      <th>group</th>\n",
       "      <th>visitors</th>\n",
       "    </tr>\n",
       "  </thead>\n",
       "  <tbody>\n",
       "    <tr>\n",
       "      <th>55</th>\n",
       "      <td>2019-08-01</td>\n",
       "      <td>A</td>\n",
       "      <td>719</td>\n",
       "    </tr>\n",
       "    <tr>\n",
       "      <th>66</th>\n",
       "      <td>2019-08-01</td>\n",
       "      <td>B</td>\n",
       "      <td>713</td>\n",
       "    </tr>\n",
       "    <tr>\n",
       "      <th>175</th>\n",
       "      <td>2019-08-02</td>\n",
       "      <td>A</td>\n",
       "      <td>1338</td>\n",
       "    </tr>\n",
       "    <tr>\n",
       "      <th>173</th>\n",
       "      <td>2019-08-02</td>\n",
       "      <td>B</td>\n",
       "      <td>1294</td>\n",
       "    </tr>\n",
       "    <tr>\n",
       "      <th>291</th>\n",
       "      <td>2019-08-03</td>\n",
       "      <td>A</td>\n",
       "      <td>1845</td>\n",
       "    </tr>\n",
       "    <tr>\n",
       "      <th>...</th>\n",
       "      <td>...</td>\n",
       "      <td>...</td>\n",
       "      <td>...</td>\n",
       "    </tr>\n",
       "    <tr>\n",
       "      <th>533</th>\n",
       "      <td>2019-08-29</td>\n",
       "      <td>B</td>\n",
       "      <td>17708</td>\n",
       "    </tr>\n",
       "    <tr>\n",
       "      <th>757</th>\n",
       "      <td>2019-08-30</td>\n",
       "      <td>A</td>\n",
       "      <td>18037</td>\n",
       "    </tr>\n",
       "    <tr>\n",
       "      <th>690</th>\n",
       "      <td>2019-08-30</td>\n",
       "      <td>B</td>\n",
       "      <td>18198</td>\n",
       "    </tr>\n",
       "    <tr>\n",
       "      <th>958</th>\n",
       "      <td>2019-08-31</td>\n",
       "      <td>A</td>\n",
       "      <td>18736</td>\n",
       "    </tr>\n",
       "    <tr>\n",
       "      <th>930</th>\n",
       "      <td>2019-08-31</td>\n",
       "      <td>B</td>\n",
       "      <td>18916</td>\n",
       "    </tr>\n",
       "  </tbody>\n",
       "</table>\n",
       "<p>62 rows × 3 columns</p>\n",
       "</div>"
      ],
      "text/plain": [
       "          date group  visitors\n",
       "55  2019-08-01     A       719\n",
       "66  2019-08-01     B       713\n",
       "175 2019-08-02     A      1338\n",
       "173 2019-08-02     B      1294\n",
       "291 2019-08-03     A      1845\n",
       "..         ...   ...       ...\n",
       "533 2019-08-29     B     17708\n",
       "757 2019-08-30     A     18037\n",
       "690 2019-08-30     B     18198\n",
       "958 2019-08-31     A     18736\n",
       "930 2019-08-31     B     18916\n",
       "\n",
       "[62 rows x 3 columns]"
      ]
     },
     "execution_count": 23,
     "metadata": {},
     "output_type": "execute_result"
    }
   ],
   "source": [
    "# аггрегация значений по посетителям\n",
    "visitorsAggregated = datesGroups.apply(lambda x: visitors[np.logical_and(visitors['date'] <= x['date'], visitors['group'] == x['group'])].agg({'date' : 'max', 'group' : 'max', 'visitors' : 'sum'}), axis=1).sort_values(by=['date','group'])\n",
    "visitorsAggregated"
   ]
  },
  {
   "cell_type": "code",
   "execution_count": 24,
   "metadata": {
    "scrolled": true
   },
   "outputs": [
    {
     "data": {
      "text/html": [
       "<div>\n",
       "<style scoped>\n",
       "    .dataframe tbody tr th:only-of-type {\n",
       "        vertical-align: middle;\n",
       "    }\n",
       "\n",
       "    .dataframe tbody tr th {\n",
       "        vertical-align: top;\n",
       "    }\n",
       "\n",
       "    .dataframe thead th {\n",
       "        text-align: right;\n",
       "    }\n",
       "</style>\n",
       "<table border=\"1\" class=\"dataframe\">\n",
       "  <thead>\n",
       "    <tr style=\"text-align: right;\">\n",
       "      <th></th>\n",
       "      <th>date</th>\n",
       "      <th>group</th>\n",
       "      <th>orders</th>\n",
       "      <th>buyers</th>\n",
       "      <th>revenue</th>\n",
       "      <th>visitors</th>\n",
       "    </tr>\n",
       "  </thead>\n",
       "  <tbody>\n",
       "    <tr>\n",
       "      <th>0</th>\n",
       "      <td>2019-08-01</td>\n",
       "      <td>A</td>\n",
       "      <td>23</td>\n",
       "      <td>19</td>\n",
       "      <td>142779</td>\n",
       "      <td>719</td>\n",
       "    </tr>\n",
       "    <tr>\n",
       "      <th>1</th>\n",
       "      <td>2019-08-01</td>\n",
       "      <td>B</td>\n",
       "      <td>17</td>\n",
       "      <td>17</td>\n",
       "      <td>59758</td>\n",
       "      <td>713</td>\n",
       "    </tr>\n",
       "    <tr>\n",
       "      <th>2</th>\n",
       "      <td>2019-08-02</td>\n",
       "      <td>A</td>\n",
       "      <td>42</td>\n",
       "      <td>36</td>\n",
       "      <td>234381</td>\n",
       "      <td>1338</td>\n",
       "    </tr>\n",
       "    <tr>\n",
       "      <th>3</th>\n",
       "      <td>2019-08-02</td>\n",
       "      <td>B</td>\n",
       "      <td>40</td>\n",
       "      <td>39</td>\n",
       "      <td>221801</td>\n",
       "      <td>1294</td>\n",
       "    </tr>\n",
       "    <tr>\n",
       "      <th>4</th>\n",
       "      <td>2019-08-03</td>\n",
       "      <td>A</td>\n",
       "      <td>66</td>\n",
       "      <td>60</td>\n",
       "      <td>346854</td>\n",
       "      <td>1845</td>\n",
       "    </tr>\n",
       "    <tr>\n",
       "      <th>...</th>\n",
       "      <td>...</td>\n",
       "      <td>...</td>\n",
       "      <td>...</td>\n",
       "      <td>...</td>\n",
       "      <td>...</td>\n",
       "      <td>...</td>\n",
       "    </tr>\n",
       "    <tr>\n",
       "      <th>57</th>\n",
       "      <td>2019-08-29</td>\n",
       "      <td>B</td>\n",
       "      <td>510</td>\n",
       "      <td>490</td>\n",
       "      <td>4746610</td>\n",
       "      <td>17708</td>\n",
       "    </tr>\n",
       "    <tr>\n",
       "      <th>58</th>\n",
       "      <td>2019-08-30</td>\n",
       "      <td>A</td>\n",
       "      <td>460</td>\n",
       "      <td>437</td>\n",
       "      <td>3311413</td>\n",
       "      <td>18037</td>\n",
       "    </tr>\n",
       "    <tr>\n",
       "      <th>59</th>\n",
       "      <td>2019-08-30</td>\n",
       "      <td>B</td>\n",
       "      <td>531</td>\n",
       "      <td>511</td>\n",
       "      <td>4955833</td>\n",
       "      <td>18198</td>\n",
       "    </tr>\n",
       "    <tr>\n",
       "      <th>60</th>\n",
       "      <td>2019-08-31</td>\n",
       "      <td>A</td>\n",
       "      <td>468</td>\n",
       "      <td>445</td>\n",
       "      <td>3364656</td>\n",
       "      <td>18736</td>\n",
       "    </tr>\n",
       "    <tr>\n",
       "      <th>61</th>\n",
       "      <td>2019-08-31</td>\n",
       "      <td>B</td>\n",
       "      <td>548</td>\n",
       "      <td>528</td>\n",
       "      <td>5068972</td>\n",
       "      <td>18916</td>\n",
       "    </tr>\n",
       "  </tbody>\n",
       "</table>\n",
       "<p>62 rows × 6 columns</p>\n",
       "</div>"
      ],
      "text/plain": [
       "         date group  orders  buyers  revenue  visitors\n",
       "0  2019-08-01     A      23      19   142779       719\n",
       "1  2019-08-01     B      17      17    59758       713\n",
       "2  2019-08-02     A      42      36   234381      1338\n",
       "3  2019-08-02     B      40      39   221801      1294\n",
       "4  2019-08-03     A      66      60   346854      1845\n",
       "..        ...   ...     ...     ...      ...       ...\n",
       "57 2019-08-29     B     510     490  4746610     17708\n",
       "58 2019-08-30     A     460     437  3311413     18037\n",
       "59 2019-08-30     B     531     511  4955833     18198\n",
       "60 2019-08-31     A     468     445  3364656     18736\n",
       "61 2019-08-31     B     548     528  5068972     18916\n",
       "\n",
       "[62 rows x 6 columns]"
      ]
     },
     "execution_count": 24,
     "metadata": {},
     "output_type": "execute_result"
    }
   ],
   "source": [
    "# объединяем таблицы\n",
    "cumulativeData = ordersAggregated.merge(visitorsAggregated, left_on=['date', 'group'], right_on=['date', 'group'])\n",
    "cumulativeData.columns = ['date', 'group', 'orders', 'buyers', 'revenue', 'visitors']\n",
    "cumulativeData"
   ]
  },
  {
   "cell_type": "markdown",
   "metadata": {},
   "source": [
    "<div class=\"alert alert-success\">\n",
    "<h2> Комментарий ревьюера <a class=\"tocSkip\"> </h2>\n",
    "\n",
    "<b>Отлично!✅:</b> Типы данных заменили, убедились в корректности данных, можем двигаться дальше!\n",
    "    \n",
    "</div>"
   ]
  },
  {
   "cell_type": "markdown",
   "metadata": {},
   "source": [
    "### График кумулятивной выручки по группам\n",
    "*Постройте график кумулятивной выручки по группам. Сделайте выводы и предположения.*"
   ]
  },
  {
   "cell_type": "code",
   "execution_count": 25,
   "metadata": {},
   "outputs": [
    {
     "data": {
      "image/png": "[encoded data removed]",
      "text/plain": [
       "<Figure size 1080x360 with 1 Axes>"
      ]
     },
     "metadata": {
      "needs_background": "light"
     },
     "output_type": "display_data"
    }
   ],
   "source": [
    "# датафрейм с кумулятивным количеством заказов и кумулятивной выручкой по дням в группе А\n",
    "cumulativeRevenueA = cumulativeData[cumulativeData['group']=='A'][['date','revenue', 'orders']]\n",
    "\n",
    "# датафрейм с кумулятивным количеством заказов и кумулятивной выручкой по дням в группе B\n",
    "cumulativeRevenueB = cumulativeData[cumulativeData['group']=='B'][['date','revenue', 'orders']]\n",
    "\n",
    "plt.figure(figsize=(15, 5))\n",
    "\n",
    "# Строим график выручки группы А\n",
    "plt.plot(cumulativeRevenueA['date'], cumulativeRevenueA['revenue'], label='A')\n",
    "\n",
    "# Строим график выручки группы B\n",
    "plt.plot(cumulativeRevenueB['date'], cumulativeRevenueB['revenue'], label='B')\n",
    "\n",
    "plt.title('График кумулятивной выручки по группам')\n",
    "plt.ylabel('Кумулятивная выручка')\n",
    "plt.xlabel('Дни')\n",
    "plt.grid()\n",
    "plt.legend() \n",
    "plt.show()"
   ]
  },
  {
   "cell_type": "markdown",
   "metadata": {},
   "source": [
    "**Выводы:**\n",
    "\n",
    "Выручка почти равномерно увеличивается в течение всего теста для группы А.\n",
    "Выручка также растет для группы В, однако для этой группы наблюдается скачок выручки.\n",
    "\n",
    "**Предположения:**\n",
    "\n",
    "Скачок выручки в группе В может сигнализировать о всплесках числа заказов, либо о появлении очень дорогих заказов в выборке."
   ]
  },
  {
   "cell_type": "markdown",
   "metadata": {},
   "source": [
    "<div class=\"alert alert-success\">\n",
    "<h2> Комментарий ревьюера <a class=\"tocSkip\"> </h2>\n",
    "\n",
    "<b>Отлично!✅:</b> Согласна, все может быть!\n",
    "</div>"
   ]
  },
  {
   "cell_type": "markdown",
   "metadata": {},
   "source": [
    "### График кумулятивного среднего чека по группам\n",
    "\n",
    "*Постройте график кумулятивного среднего чека по группам. Сделайте выводы и предположения.*"
   ]
  },
  {
   "cell_type": "code",
   "execution_count": 26,
   "metadata": {},
   "outputs": [
    {
     "data": {
      "image/png": "[encoded data removed]",
      "text/plain": [
       "<Figure size 1080x360 with 1 Axes>"
      ]
     },
     "metadata": {
      "needs_background": "light"
     },
     "output_type": "display_data"
    }
   ],
   "source": [
    "plt.figure(figsize=(15, 5))\n",
    "\n",
    "plt.plot(cumulativeRevenueA['date'], cumulativeRevenueA['revenue']/cumulativeRevenueA['orders'], label='A')\n",
    "plt.plot(cumulativeRevenueB['date'], cumulativeRevenueB['revenue']/cumulativeRevenueB['orders'], label='B')\n",
    "\n",
    "plt.title('График кумулятивного среднего чека по группам')\n",
    "plt.ylabel('Кумулятивный средний чек')\n",
    "plt.xlabel('Дни')\n",
    "plt.grid()\n",
    "plt.legend() \n",
    "\n",
    "plt.show()"
   ]
  },
  {
   "cell_type": "markdown",
   "metadata": {},
   "source": [
    "**Выводы:**\n",
    "\n",
    "Средний чек становится стабильным к концу теста.\n",
    "Почти на протяжении всего теста средний чек группы В был выше среднего чека группы А.\n",
    "Также наблюдаем скачок среднего чека для группы В в тот же период, в который был скачок выручки.\n",
    "\n",
    "**Предположения:**\n",
    "\n",
    "Скачок среднего чека группы В может быть вызван появлением нетипично дорогих заказов, которые могли исказить результаты теста."
   ]
  },
  {
   "cell_type": "markdown",
   "metadata": {},
   "source": [
    "<div class=\"alert alert-success\">\n",
    "<h2> Комментарий ревьюера <a class=\"tocSkip\"> </h2>\n",
    "\n",
    "<b>Отлично!✅:</b> Молодец, верно, группа В нестабильна. Возможно, в данную группу в середине теста попали крупные заказы. Необходимо будет учесть этот факт при принятии решения о результатах A/B-теста:)\n",
    "</div>"
   ]
  },
  {
   "cell_type": "markdown",
   "metadata": {},
   "source": [
    "### График относительного изменения кумулятивного среднего чека группы B к группе A\n",
    "*Постройте график относительного изменения кумулятивного среднего чека группы B к группе A. Сделайте выводы и предположения.*"
   ]
  },
  {
   "cell_type": "code",
   "execution_count": 27,
   "metadata": {},
   "outputs": [
    {
     "data": {
      "image/png": "[encoded data removed]",
      "text/plain": [
       "<Figure size 1080x360 with 1 Axes>"
      ]
     },
     "metadata": {
      "needs_background": "light"
     },
     "output_type": "display_data"
    }
   ],
   "source": [
    "# собираем данные в одном датафрейме\n",
    "mergedCumulativeRevenue = cumulativeRevenueA.merge(cumulativeRevenueB, left_on='date', right_on='date', how='left', suffixes=['A', 'B'])\n",
    "\n",
    "plt.figure(figsize=(15, 5))\n",
    "\n",
    "# cтроим отношение средних чеков\n",
    "plt.plot(mergedCumulativeRevenue['date'], (mergedCumulativeRevenue['revenueB']/mergedCumulativeRevenue['ordersB'])/(mergedCumulativeRevenue['revenueA']/mergedCumulativeRevenue['ordersA'])-1)\n",
    "\n",
    "# добавляем ось X\n",
    "plt.axhline(y=0, color='red', linestyle='--') \n",
    "\n",
    "plt.title('График относительного изменения кумулятивного среднего чека группы B к группе A')\n",
    "plt.ylabel('Относительное изменение кумулятивного среднего чека')\n",
    "plt.xlabel('Дни')\n",
    "plt.grid()\n",
    "plt.show()"
   ]
  },
  {
   "cell_type": "markdown",
   "metadata": {},
   "source": [
    "**Выводы:**\n",
    "\n",
    "Различия между сегментами резко изменяются несколько раз.\n",
    "\n",
    "**Предположения:**\n",
    "\n",
    "Возможно есть выбросы или крупные заказы."
   ]
  },
  {
   "cell_type": "markdown",
   "metadata": {},
   "source": [
    "<div class=\"alert alert-success\">\n",
    "<h2> Комментарий ревьюера <a class=\"tocSkip\"> </h2>\n",
    "\n",
    "<b>Отлично!✅:</b> Отлично!\n",
    "</div>"
   ]
  },
  {
   "cell_type": "markdown",
   "metadata": {},
   "source": [
    "### График кумулятивного среднего количества заказов на посетителя по группам\n",
    "*Постройте график кумулятивного среднего количества заказов на посетителя по группам. Сделайте выводы и предположения.*"
   ]
  },
  {
   "cell_type": "code",
   "execution_count": 28,
   "metadata": {},
   "outputs": [
    {
     "data": {
      "image/png": "[encoded data removed]",
      "text/plain": [
       "<Figure size 1080x360 with 1 Axes>"
      ]
     },
     "metadata": {
      "needs_background": "light"
     },
     "output_type": "display_data"
    }
   ],
   "source": [
    "# считаем среднее количество заказов на посетителя\n",
    "cumulativeData['conversion'] = cumulativeData['orders']/cumulativeData['visitors']\n",
    "\n",
    "# отделяем данные по группе A\n",
    "cumulativeDataA = cumulativeData[cumulativeData['group']=='A']\n",
    "\n",
    "# отделяем данные по группе B\n",
    "cumulativeDataB = cumulativeData[cumulativeData['group']=='B']\n",
    "\n",
    "# строим графики\n",
    "plt.figure(figsize=(15, 5))\n",
    "\n",
    "plt.plot(cumulativeDataA['date'], cumulativeDataA['conversion'], label='A')\n",
    "plt.plot(cumulativeDataB['date'], cumulativeDataB['conversion'], label='B')\n",
    "\n",
    "plt.title('График кумулятивного среднего количества заказов на посетителя по группам')\n",
    "plt.ylabel('Кумулятивное среднее количество заказов')\n",
    "plt.xlabel('Дни')\n",
    "plt.grid()\n",
    "plt.legend() \n",
    "\n",
    "plt.show()"
   ]
  },
  {
   "cell_type": "markdown",
   "metadata": {},
   "source": [
    "**Выводы:**\n",
    "\n",
    "У группы В среднее количество заказов вырвалось вперёд и зафиксировалось, а у группы А — просело, но тоже зафиксировалось."
   ]
  },
  {
   "cell_type": "markdown",
   "metadata": {},
   "source": [
    "<div class=\"alert alert-success\">\n",
    "<h2> Комментарий ревьюера <a class=\"tocSkip\"> </h2>\n",
    "\n",
    "<b>Отлично!✅:</b> Умничка, правильно!\n",
    "</div>"
   ]
  },
  {
   "cell_type": "markdown",
   "metadata": {},
   "source": [
    "### График относительного изменения кумулятивного среднего количества заказов на посетителя группы B к группе A\n",
    "*Постройте график относительного изменения кумулятивного среднего количества заказов на посетителя группы B к группе A. Сделайте выводы и предположения.*"
   ]
  },
  {
   "cell_type": "code",
   "execution_count": 29,
   "metadata": {},
   "outputs": [
    {
     "data": {
      "image/png": "[encoded data removed]",
      "text/plain": [
       "<Figure size 1080x360 with 1 Axes>"
      ]
     },
     "metadata": {
      "needs_background": "light"
     },
     "output_type": "display_data"
    }
   ],
   "source": [
    "mergedCumulativeConversions = cumulativeDataA[['date','conversion']].merge(cumulativeDataB[['date','conversion']], left_on='date', right_on='date', how='left', suffixes=['A', 'B'])\n",
    "\n",
    "plt.figure(figsize=(15, 5))\n",
    "\n",
    "plt.plot(mergedCumulativeConversions['date'], mergedCumulativeConversions['conversionB']/mergedCumulativeConversions['conversionA']-1, label=\"Относительный прирост кумулятивного среднего количества заказов на посетителя группы B относительно группы A\")\n",
    "plt.legend()\n",
    "\n",
    "plt.axhline(y=0, color='black', linestyle='--')\n",
    "plt.axhline(y=-0.1, color='grey', linestyle='--')\n",
    "\n",
    "plt.title('График относительного изменения кумулятивного среднего количества заказов на посетителя группы B к группе A')\n",
    "plt.ylabel('Относительное изменение среднего количества заказов')\n",
    "plt.xlabel('Дни')\n",
    "plt.grid()\n",
    "plt.legend() \n",
    "\n",
    "plt.show()"
   ]
  },
  {
   "cell_type": "markdown",
   "metadata": {},
   "source": [
    "**Выводы:**\n",
    "\n",
    "В начале теста группа B значительно проигрывала группе A, затем вырвалась вперёд и осталась на лидирующих позициях до конца теста."
   ]
  },
  {
   "cell_type": "markdown",
   "metadata": {},
   "source": [
    "<div class=\"alert alert-success\">\n",
    "<h2> Комментарий ревьюера <a class=\"tocSkip\"> </h2>\n",
    "\n",
    "<b>Отлично!✅:</b> Хорошо, давай посмотрим на аномалии:)\n",
    "</div>"
   ]
  },
  {
   "cell_type": "markdown",
   "metadata": {},
   "source": [
    "### Точечный график количества заказов по пользователям\n",
    "*Постройте точечный график количества заказов по пользователям. Сделайте выводы и предположения.*"
   ]
  },
  {
   "cell_type": "code",
   "execution_count": 30,
   "metadata": {},
   "outputs": [
    {
     "data": {
      "text/html": [
       "<div>\n",
       "<style scoped>\n",
       "    .dataframe tbody tr th:only-of-type {\n",
       "        vertical-align: middle;\n",
       "    }\n",
       "\n",
       "    .dataframe tbody tr th {\n",
       "        vertical-align: top;\n",
       "    }\n",
       "\n",
       "    .dataframe thead th {\n",
       "        text-align: right;\n",
       "    }\n",
       "</style>\n",
       "<table border=\"1\" class=\"dataframe\">\n",
       "  <thead>\n",
       "    <tr style=\"text-align: right;\">\n",
       "      <th></th>\n",
       "      <th>visitor_id</th>\n",
       "      <th>transaction_id</th>\n",
       "    </tr>\n",
       "  </thead>\n",
       "  <tbody>\n",
       "    <tr>\n",
       "      <th>908</th>\n",
       "      <td>3967698036</td>\n",
       "      <td>3</td>\n",
       "    </tr>\n",
       "    <tr>\n",
       "      <th>55</th>\n",
       "      <td>249864742</td>\n",
       "      <td>3</td>\n",
       "    </tr>\n",
       "    <tr>\n",
       "      <th>478</th>\n",
       "      <td>2108163459</td>\n",
       "      <td>3</td>\n",
       "    </tr>\n",
       "    <tr>\n",
       "      <th>687</th>\n",
       "      <td>2988190573</td>\n",
       "      <td>3</td>\n",
       "    </tr>\n",
       "    <tr>\n",
       "      <th>890</th>\n",
       "      <td>3908431265</td>\n",
       "      <td>3</td>\n",
       "    </tr>\n",
       "    <tr>\n",
       "      <th>138</th>\n",
       "      <td>611059232</td>\n",
       "      <td>3</td>\n",
       "    </tr>\n",
       "    <tr>\n",
       "      <th>632</th>\n",
       "      <td>2742574263</td>\n",
       "      <td>3</td>\n",
       "    </tr>\n",
       "    <tr>\n",
       "      <th>157</th>\n",
       "      <td>678354126</td>\n",
       "      <td>2</td>\n",
       "    </tr>\n",
       "    <tr>\n",
       "      <th>323</th>\n",
       "      <td>1404560065</td>\n",
       "      <td>2</td>\n",
       "    </tr>\n",
       "    <tr>\n",
       "      <th>452</th>\n",
       "      <td>1985475298</td>\n",
       "      <td>2</td>\n",
       "    </tr>\n",
       "  </tbody>\n",
       "</table>\n",
       "</div>"
      ],
      "text/plain": [
       "     visitor_id  transaction_id\n",
       "908  3967698036               3\n",
       "55    249864742               3\n",
       "478  2108163459               3\n",
       "687  2988190573               3\n",
       "890  3908431265               3\n",
       "138   611059232               3\n",
       "632  2742574263               3\n",
       "157   678354126               2\n",
       "323  1404560065               2\n",
       "452  1985475298               2"
      ]
     },
     "execution_count": 30,
     "metadata": {},
     "output_type": "execute_result"
    }
   ],
   "source": [
    "ordersByUsers = (\n",
    "    orders.groupby('visitor_id', as_index=False)\n",
    "    .agg({'transaction_id': 'nunique'})\n",
    ")\n",
    "ordersByUsers.columns = ['visitor_id', 'transaction_id']\n",
    "\n",
    "ordersByUsers.sort_values(by='transaction_id', ascending=False).head(10)"
   ]
  },
  {
   "cell_type": "code",
   "execution_count": 31,
   "metadata": {},
   "outputs": [
    {
     "data": {
      "image/png": "[encoded data removed]",
      "text/plain": [
       "<Figure size 720x360 with 1 Axes>"
      ]
     },
     "metadata": {
      "needs_background": "light"
     },
     "output_type": "display_data"
    }
   ],
   "source": [
    "plt.figure(figsize=(10, 5))\n",
    "\n",
    "x_values = pd.Series(range(0,len(ordersByUsers)))\n",
    "\n",
    "plt.scatter(x_values, ordersByUsers['transaction_id'])\n",
    "\n",
    "plt.title('Точечный график количества заказов по пользователям')\n",
    "plt.ylabel('Количество заказов')\n",
    "plt.xlabel('Пользователи')\n",
    "plt.grid()\n",
    "plt.show()"
   ]
  },
  {
   "cell_type": "markdown",
   "metadata": {},
   "source": [
    "**Выводы:**\n",
    "\n",
    "Большинство пользователей делает по 1 заказу. \n",
    "Также мы наблюдаем значительную группы пользователей, которые делали по 2 и 3 заказа соответственно. \n",
    "\n",
    "**Предположения:**\n",
    "\n",
    "Пользователи с нетипичным количеством заказов могли исказить результаты, если они неравномерно представленны в каждой из групп теста."
   ]
  },
  {
   "cell_type": "markdown",
   "metadata": {},
   "source": [
    "<div class=\"alert alert-success\">\n",
    "<h2> Комментарий ревьюера <a class=\"tocSkip\"> </h2>\n",
    "\n",
    "<b>Отлично!✅:</b> Верно!\n",
    "</div>"
   ]
  },
  {
   "cell_type": "markdown",
   "metadata": {},
   "source": [
    "### Граница для определения аномальных пользователей\n",
    "*Посчитайте 95-й и 99-й перцентили количества заказов на пользователя. Выберите границу для определения аномальных пользователей.*"
   ]
  },
  {
   "cell_type": "code",
   "execution_count": 32,
   "metadata": {},
   "outputs": [
    {
     "name": "stdout",
     "output_type": "stream",
     "text": [
      "[1. 1. 2.]\n"
     ]
    }
   ],
   "source": [
    "print(np.percentile(ordersByUsers['transaction_id'], [90, 95, 99])) "
   ]
  },
  {
   "cell_type": "markdown",
   "metadata": {},
   "source": [
    "**Выводы:**\n",
    "\n",
    "Не более 1 % пользователей оформили больше 3х заказов.\n",
    "\n",
    "**Предположения:**\n",
    "\n",
    "Разумно выбрать 2 заказа на одного пользователя за верхнюю границу числа заказов, и отсеять аномальных пользователей по ней."
   ]
  },
  {
   "cell_type": "markdown",
   "metadata": {},
   "source": [
    "<div class=\"alert alert-success\">\n",
    "<h2> Комментарий ревьюера <a class=\"tocSkip\"> </h2>\n",
    "\n",
    "<b>Отлично!✅:</b> Отлично, идем дальше!\n",
    "</div>"
   ]
  },
  {
   "cell_type": "markdown",
   "metadata": {},
   "source": [
    "### Точечный график стоимостей заказов\n",
    "*Постройте точечный график стоимостей заказов. Сделайте выводы и предположения.*"
   ]
  },
  {
   "cell_type": "code",
   "execution_count": 33,
   "metadata": {},
   "outputs": [
    {
     "data": {
      "image/png": "[encoded data removed]",
      "text/plain": [
       "<Figure size 720x360 with 1 Axes>"
      ]
     },
     "metadata": {
      "needs_background": "light"
     },
     "output_type": "display_data"
    }
   ],
   "source": [
    "plt.figure(figsize=(10, 5))\n",
    "x_values = pd.Series(range(0,len(orders['revenue'])))\n",
    "plt.scatter(x_values, orders['revenue']) \n",
    "\n",
    "plt.title('Точечный график стоимостей заказов')\n",
    "plt.ylabel('Стоимость')\n",
    "plt.xlabel('Заказы')\n",
    "plt.grid()\n",
    "plt.show()"
   ]
  },
  {
   "cell_type": "code",
   "execution_count": 32,
   "metadata": {},
   "outputs": [
    {
     "data": {
      "text/plain": [
       "1294500"
      ]
     },
     "execution_count": 32,
     "metadata": {},
     "output_type": "execute_result"
    }
   ],
   "source": [
    "orders['revenue'].max()"
   ]
  },
  {
   "cell_type": "markdown",
   "metadata": {},
   "source": [
    "**Выводы:**\n",
    "\n",
    "Стоимость большинства заказов ниже 50 тыс.\n",
    "Есть несколько заказов с аномальными суммами - 1,3 млн., 200 тыс.\n",
    "\n",
    "**Предположения:**\n",
    "\n",
    "Аномальные заказы вполне могли вызвать резкий скачок среднего чека для группы В."
   ]
  },
  {
   "cell_type": "markdown",
   "metadata": {},
   "source": [
    "<div class=\"alert alert-success\">\n",
    "<h2> Комментарий ревьюера <a class=\"tocSkip\"> </h2>\n",
    "\n",
    "<b>Отлично!✅:</b> Правильно!\n",
    "</div>"
   ]
  },
  {
   "cell_type": "markdown",
   "metadata": {},
   "source": [
    "### Граница для определения аномальных заказов\n",
    "*Посчитайте 95-й и 99-й перцентили стоимости заказов. Выберите границу для определения аномальных заказов.*"
   ]
  },
  {
   "cell_type": "code",
   "execution_count": 34,
   "metadata": {},
   "outputs": [
    {
     "data": {
      "text/plain": [
       "array([17990., 26785., 53904.])"
      ]
     },
     "execution_count": 34,
     "metadata": {},
     "output_type": "execute_result"
    }
   ],
   "source": [
    "np.percentile(orders['revenue'], [90, 95, 99])"
   ]
  },
  {
   "cell_type": "markdown",
   "metadata": {},
   "source": [
    "**Выводы:**\n",
    "\n",
    "90% заказов по стоимости до 18 тыс.\n",
    "Еще 5% заказов не превышает по стоимости 27 тыс. (+ ~50%)\n",
    "Еще 4% заказов находятся в диапазоне от 27 до 54 тыс. (+ ~200%)\n",
    "И 1% заказов превышает 54 тыс.\n",
    "\n",
    "**Предположения:**\n",
    "\n",
    "1% самых дорогих заказов точно имеет смысл отсечь."
   ]
  },
  {
   "cell_type": "markdown",
   "metadata": {},
   "source": [
    "<div class=\"alert alert-success\">\n",
    "<h2> Комментарий ревьюера <a class=\"tocSkip\"> </h2>\n",
    "\n",
    "<b>Отлично!✅:</b> Замечательное решение, молодец!\n",
    "</div>"
   ]
  },
  {
   "cell_type": "markdown",
   "metadata": {},
   "source": [
    "### Статистическая значимость различий в среднем количестве заказов на посетителя между группами по «сырым» данным\n",
    "\n",
    "*Посчитайте статистическую значимость различий в среднем количестве заказов на посетителя между группами по «сырым» данным. Сделайте выводы и предположения.*"
   ]
  },
  {
   "cell_type": "markdown",
   "metadata": {},
   "source": [
    "**Сформулируем гипотезы.**\n",
    "\n",
    "- **Нулевая:** различий в среднем количестве заказов между группами нет. \n",
    "- **Альтернативная:** различия в среднем количестве заказов между группами есть."
   ]
  },
  {
   "cell_type": "markdown",
   "metadata": {},
   "source": [
    "<div class=\"alert alert-success\">\n",
    "<h2> Комментарий ревьюера <a class=\"tocSkip\"> </h2>\n",
    "\n",
    "<b>Отлично!✅:</b> Гипотезы сформулированы верно!\n",
    "</div>"
   ]
  },
  {
   "cell_type": "code",
   "execution_count": 35,
   "metadata": {},
   "outputs": [
    {
     "data": {
      "text/html": [
       "<div>\n",
       "<style scoped>\n",
       "    .dataframe tbody tr th:only-of-type {\n",
       "        vertical-align: middle;\n",
       "    }\n",
       "\n",
       "    .dataframe tbody tr th {\n",
       "        vertical-align: top;\n",
       "    }\n",
       "\n",
       "    .dataframe thead th {\n",
       "        text-align: right;\n",
       "    }\n",
       "</style>\n",
       "<table border=\"1\" class=\"dataframe\">\n",
       "  <thead>\n",
       "    <tr style=\"text-align: right;\">\n",
       "      <th></th>\n",
       "      <th>date</th>\n",
       "      <th>ordersPerDateA</th>\n",
       "      <th>revenuePerDateA</th>\n",
       "      <th>ordersPerDateB</th>\n",
       "      <th>revenuePerDateB</th>\n",
       "      <th>ordersCummulativeA</th>\n",
       "      <th>revenueCummulativeA</th>\n",
       "      <th>ordersCummulativeB</th>\n",
       "      <th>revenueCummulativeB</th>\n",
       "      <th>visitorsPerDateA</th>\n",
       "      <th>visitorsPerDateB</th>\n",
       "      <th>visitorsCummulativeA</th>\n",
       "      <th>visitorsCummulativeB</th>\n",
       "    </tr>\n",
       "  </thead>\n",
       "  <tbody>\n",
       "    <tr>\n",
       "      <th>0</th>\n",
       "      <td>2019-08-01</td>\n",
       "      <td>23</td>\n",
       "      <td>142779</td>\n",
       "      <td>17</td>\n",
       "      <td>59758</td>\n",
       "      <td>23</td>\n",
       "      <td>142779</td>\n",
       "      <td>17</td>\n",
       "      <td>59758</td>\n",
       "      <td>719</td>\n",
       "      <td>713</td>\n",
       "      <td>719</td>\n",
       "      <td>713</td>\n",
       "    </tr>\n",
       "    <tr>\n",
       "      <th>1</th>\n",
       "      <td>2019-08-02</td>\n",
       "      <td>19</td>\n",
       "      <td>91602</td>\n",
       "      <td>23</td>\n",
       "      <td>162043</td>\n",
       "      <td>42</td>\n",
       "      <td>234381</td>\n",
       "      <td>40</td>\n",
       "      <td>221801</td>\n",
       "      <td>619</td>\n",
       "      <td>581</td>\n",
       "      <td>1338</td>\n",
       "      <td>1294</td>\n",
       "    </tr>\n",
       "    <tr>\n",
       "      <th>2</th>\n",
       "      <td>2019-08-03</td>\n",
       "      <td>24</td>\n",
       "      <td>112473</td>\n",
       "      <td>14</td>\n",
       "      <td>67049</td>\n",
       "      <td>66</td>\n",
       "      <td>346854</td>\n",
       "      <td>54</td>\n",
       "      <td>288850</td>\n",
       "      <td>507</td>\n",
       "      <td>509</td>\n",
       "      <td>1845</td>\n",
       "      <td>1803</td>\n",
       "    </tr>\n",
       "    <tr>\n",
       "      <th>3</th>\n",
       "      <td>2019-08-04</td>\n",
       "      <td>11</td>\n",
       "      <td>41176</td>\n",
       "      <td>14</td>\n",
       "      <td>96890</td>\n",
       "      <td>77</td>\n",
       "      <td>388030</td>\n",
       "      <td>68</td>\n",
       "      <td>385740</td>\n",
       "      <td>717</td>\n",
       "      <td>770</td>\n",
       "      <td>2562</td>\n",
       "      <td>2573</td>\n",
       "    </tr>\n",
       "    <tr>\n",
       "      <th>4</th>\n",
       "      <td>2019-08-05</td>\n",
       "      <td>22</td>\n",
       "      <td>86383</td>\n",
       "      <td>21</td>\n",
       "      <td>89908</td>\n",
       "      <td>99</td>\n",
       "      <td>474413</td>\n",
       "      <td>89</td>\n",
       "      <td>475648</td>\n",
       "      <td>756</td>\n",
       "      <td>707</td>\n",
       "      <td>3318</td>\n",
       "      <td>3280</td>\n",
       "    </tr>\n",
       "  </tbody>\n",
       "</table>\n",
       "</div>"
      ],
      "text/plain": [
       "        date  ordersPerDateA  revenuePerDateA  ordersPerDateB  \\\n",
       "0 2019-08-01              23           142779              17   \n",
       "1 2019-08-02              19            91602              23   \n",
       "2 2019-08-03              24           112473              14   \n",
       "3 2019-08-04              11            41176              14   \n",
       "4 2019-08-05              22            86383              21   \n",
       "\n",
       "   revenuePerDateB  ordersCummulativeA  revenueCummulativeA  \\\n",
       "0            59758                  23               142779   \n",
       "1           162043                  42               234381   \n",
       "2            67049                  66               346854   \n",
       "3            96890                  77               388030   \n",
       "4            89908                  99               474413   \n",
       "\n",
       "   ordersCummulativeB  revenueCummulativeB  visitorsPerDateA  \\\n",
       "0                  17                59758               719   \n",
       "1                  40               221801               619   \n",
       "2                  54               288850               507   \n",
       "3                  68               385740               717   \n",
       "4                  89               475648               756   \n",
       "\n",
       "   visitorsPerDateB  visitorsCummulativeA  visitorsCummulativeB  \n",
       "0               713                   719                   713  \n",
       "1               581                  1338                  1294  \n",
       "2               509                  1845                  1803  \n",
       "3               770                  2562                  2573  \n",
       "4               707                  3318                  3280  "
      ]
     },
     "execution_count": 35,
     "metadata": {},
     "output_type": "execute_result"
    }
   ],
   "source": [
    "visitorsADaily = visitors[visitors['group'] == 'A'][['date', 'visitors']]\n",
    "visitorsADaily.columns = ['date', 'visitorsPerDateA']\n",
    "\n",
    "visitorsACummulative = visitorsADaily.apply(\n",
    "    lambda x: visitorsADaily[visitorsADaily['date'] <= x['date']].agg(\n",
    "        {'date': 'max', 'visitorsPerDateA': 'sum'}\n",
    "    ),\n",
    "    axis=1,\n",
    ")\n",
    "visitorsACummulative.columns = ['date', 'visitorsCummulativeA']\n",
    "\n",
    "visitorsBDaily = visitors[visitors['group'] == 'B'][['date', 'visitors']]\n",
    "visitorsBDaily.columns = ['date', 'visitorsPerDateB']\n",
    "\n",
    "visitorsBCummulative = visitorsBDaily.apply(\n",
    "    lambda x: visitorsBDaily[visitorsBDaily['date'] <= x['date']].agg(\n",
    "        {'date': 'max', 'visitorsPerDateB': 'sum'}\n",
    "    ),\n",
    "    axis=1,\n",
    ")\n",
    "visitorsBCummulative.columns = ['date', 'visitorsCummulativeB']\n",
    "\n",
    "ordersADaily = (\n",
    "    orders[orders['group'] == 'A'][['date', 'transaction_id', 'visitor_id', 'revenue']]\n",
    "    .groupby('date', as_index=False)\n",
    "    .agg({'transaction_id': pd.Series.nunique, 'revenue': 'sum'})\n",
    ")\n",
    "ordersADaily.columns = ['date', 'ordersPerDateA', 'revenuePerDateA']\n",
    "\n",
    "ordersACummulative = ordersADaily.apply(\n",
    "    lambda x: ordersADaily[ordersADaily['date'] <= x['date']].agg(\n",
    "        {'date': 'max', 'ordersPerDateA': 'sum', 'revenuePerDateA': 'sum'}\n",
    "    ),\n",
    "    axis=1,\n",
    ").sort_values(by=['date'])\n",
    "ordersACummulative.columns = [\n",
    "    'date',\n",
    "    'ordersCummulativeA',\n",
    "    'revenueCummulativeA',\n",
    "]\n",
    "\n",
    "ordersBDaily = (\n",
    "    orders[orders['group'] == 'B'][['date', 'transaction_id', 'visitor_id', 'revenue']]\n",
    "    .groupby('date', as_index=False)\n",
    "    .agg({'transaction_id': pd.Series.nunique, 'revenue': 'sum'})\n",
    ")\n",
    "ordersBDaily.columns = ['date', 'ordersPerDateB', 'revenuePerDateB']\n",
    "\n",
    "ordersBCummulative = ordersBDaily.apply(\n",
    "    lambda x: ordersBDaily[ordersBDaily['date'] <= x['date']].agg(\n",
    "        {'date': 'max', 'ordersPerDateB': 'sum', 'revenuePerDateB': 'sum'}\n",
    "    ),\n",
    "    axis=1,\n",
    ").sort_values(by=['date'])\n",
    "ordersBCummulative.columns = [\n",
    "    'date',\n",
    "    'ordersCummulativeB',\n",
    "    'revenueCummulativeB',\n",
    "]\n",
    "\n",
    "data = (\n",
    "    ordersADaily.merge(\n",
    "        ordersBDaily, left_on='date', right_on='date', how='left'\n",
    "    )\n",
    "    .merge(ordersACummulative, left_on='date', right_on='date', how='left')\n",
    "    .merge(ordersBCummulative, left_on='date', right_on='date', how='left')\n",
    "    .merge(visitorsADaily, left_on='date', right_on='date', how='left')\n",
    "    .merge(visitorsBDaily, left_on='date', right_on='date', how='left')\n",
    "    .merge(visitorsACummulative, left_on='date', right_on='date', how='left')\n",
    "    .merge(visitorsBCummulative, left_on='date', right_on='date', how='left')\n",
    ")\n",
    "\n",
    "data.head(5)"
   ]
  },
  {
   "cell_type": "markdown",
   "metadata": {},
   "source": [
    "*Описание данных:*\n",
    "\n",
    "- **date** — дата;\n",
    "- **ordersPerDateA** — количество заказов в выбранную дату в группе A;\n",
    "- **revenuePerDateA** — суммарная выручка в выбранную дату в группе A;\n",
    "- **ordersPerDateB** — количество заказов в выбранную дату в группе B;\n",
    "- **revenuePerDateB** — суммарная выручка в выбранную дату в группе B;\n",
    "- **ordersCummulativeA** — суммарное число заказов до выбранной даты включительно в группе A;\n",
    "- **revenueCummulativeA** — суммарная выручка до выбранной даты включительно в группе A;\n",
    "- **ordersCummulativeB** — суммарное количество заказов до выбранной даты включительно в группе B;\n",
    "- **revenueCummulativeB** — суммарная выручка до выбранной даты включительно в группе B;\n",
    "- **visitorsPerDateA** — количество пользователей в выбранную дату в группе A;\n",
    "- **visitorsPerDateB** — количество пользователей в выбранную дату в группе B;\n",
    "- **visitorsCummulativeA** — количество пользователей до выбранной даты включительно в группе A;\n",
    "- **visitorsCummulativeB** — количество пользователей до выбранной даты включительно в группе B."
   ]
  },
  {
   "cell_type": "code",
   "execution_count": 36,
   "metadata": {},
   "outputs": [],
   "source": [
    "ordersByUsersA = (\n",
    "    orders[orders['group'] == 'A']\n",
    "    .groupby('visitor_id', as_index=False)\n",
    "    .agg({'transaction_id': pd.Series.nunique})\n",
    ")\n",
    "ordersByUsersA.columns = ['visitor_id', 'orders']\n",
    "\n",
    "ordersByUsersB = (\n",
    "    orders[orders['group'] == 'B']\n",
    "    .groupby('visitor_id', as_index=False)\n",
    "    .agg({'transaction_id': pd.Series.nunique})\n",
    ")\n",
    "ordersByUsersB.columns = ['visitor_id', 'orders'] "
   ]
  },
  {
   "cell_type": "code",
   "execution_count": 37,
   "metadata": {},
   "outputs": [],
   "source": [
    "sampleA = pd.concat([ordersByUsersA['orders'],pd.Series(0, index=np.arange(data['visitorsPerDateA'].sum() - len(ordersByUsersA['orders'])), name='orders')],axis=0)\n",
    "\n",
    "sampleB = pd.concat([ordersByUsersB['orders'],pd.Series(0, index=np.arange(data['visitorsPerDateB'].sum() - len(ordersByUsersB['orders'])), name='orders')],axis=0)"
   ]
  },
  {
   "cell_type": "code",
   "execution_count": 39,
   "metadata": {
    "scrolled": true
   },
   "outputs": [
    {
     "name": "stdout",
     "output_type": "stream",
     "text": [
      "Значение P-value: 0.011\n",
      "Относительная разница между группами: 0.160\n"
     ]
    }
   ],
   "source": [
    "print('Значение P-value:',\"{0:.3f}\".format(stats.mannwhitneyu(sampleA, sampleB)[1]))\n",
    "\n",
    "print('Относительная разница между группами:',\"{0:.3f}\".format(sampleB.mean() / sampleA.mean() - 1))"
   ]
  },
  {
   "cell_type": "markdown",
   "metadata": {},
   "source": [
    "<div class=\"alert alert-warning\">\n",
    "    <h2> Комментарий ревьюера <a class=\"tocSkip\"> </h2>\n",
    "    \n",
    "<b>Можно лучше⚠️:</b> Рекомендую подписать числа, а то сразу не поймешь, что какое означает:)\n",
    "</div>"
   ]
  },
  {
   "cell_type": "markdown",
   "metadata": {},
   "source": [
    "<div class=\"alert alert-info\"> <b>Комментарий студента:</b> \n",
    "    Подписала)  </div>"
   ]
  },
  {
   "cell_type": "markdown",
   "metadata": {},
   "source": [
    "<div class=\"alert alert-success\">\n",
    "<h2> Комментарий ревьюера v2<a class=\"tocSkip\"> </h2>\n",
    "\n",
    "<b>Отлично!✅:</b> +\n",
    "\n",
    "</div>"
   ]
  },
  {
   "cell_type": "markdown",
   "metadata": {},
   "source": [
    "**Выводы:**\n",
    "\n",
    "p-value < 0.05.\n",
    "\n",
    "Различие в среднем числе заказов есть, отвергаем нулевую гипотезу. \n",
    "\n",
    "Относительный выигрыш группы В - 16 %.\n",
    "\n",
    "**Предположения:**\n",
    "\n",
    "Выигрыш мог быть достигнут с помощью пользователей, который делали несколько заказов за наблюдаемый период."
   ]
  },
  {
   "cell_type": "markdown",
   "metadata": {},
   "source": [
    "<div class=\"alert alert-success\">\n",
    "<h2> Комментарий ревьюера <a class=\"tocSkip\"> </h2>\n",
    "\n",
    "<b>Отлично!✅:</b> Хорошо!\n",
    "</div>"
   ]
  },
  {
   "cell_type": "markdown",
   "metadata": {},
   "source": [
    "### Статистическая значимость различий в среднем чеке заказа между группами по «сырым» данным\n",
    "*Посчитайте статистическую значимость различий в среднем чеке заказа между группами по «сырым» данным. Сделайте выводы и предположения.*"
   ]
  },
  {
   "cell_type": "markdown",
   "metadata": {},
   "source": [
    "**Сформулируем гипотезы.**\n",
    "\n",
    "- **Нулевая гипотеза:** различий в среднем чеке между группами нет. \n",
    "- **Альтернативная гипотеза:** различия в среднем чеке между группами есть."
   ]
  },
  {
   "cell_type": "code",
   "execution_count": 41,
   "metadata": {},
   "outputs": [
    {
     "name": "stdout",
     "output_type": "stream",
     "text": [
      "Значение P-value: 0.829\n",
      "Относительная разница между группами: 0.287\n"
     ]
    }
   ],
   "source": [
    "print('Значение P-value:','{0:.3f}'.format(stats.mannwhitneyu(orders[orders['group']=='A']['revenue'], orders[orders['group']=='B']['revenue'])[1]))\n",
    "print('Относительная разница между группами:', '{0:.3f}'.format(orders[orders['group']=='B']['revenue'].mean()/orders[orders['group']=='A']['revenue'].mean()-1))"
   ]
  },
  {
   "cell_type": "markdown",
   "metadata": {},
   "source": [
    "**Выводы:**\n",
    "\n",
    "p-value > 0.05.\n",
    "\n",
    "Не отвергаем нулевую гипотезу.\n",
    "\n",
    "При этом различия в среднем чеке есть в пользу группы В.\n",
    "\n",
    "**Предположения:**\n",
    "\n",
    "Различия в среднем чеке могли быть вызваны заказчами с аномальными суммами."
   ]
  },
  {
   "cell_type": "markdown",
   "metadata": {},
   "source": [
    "<div class=\"alert alert-success\">\n",
    "<h2> Комментарий ревьюера <a class=\"tocSkip\"> </h2>\n",
    "\n",
    "<b>Отлично!✅:</b> Согласна!\n",
    "</div>"
   ]
  },
  {
   "cell_type": "markdown",
   "metadata": {},
   "source": [
    "### Статистическая значимость различий в среднем количестве заказов на посетителя между группами по «очищенным» данным\n",
    "*Посчитайте статистическую значимость различий в среднем количестве заказов на посетителя между группами по «очищенным» данным. Сделайте выводы и предположения.*"
   ]
  },
  {
   "cell_type": "code",
   "execution_count": 42,
   "metadata": {},
   "outputs": [
    {
     "name": "stdout",
     "output_type": "stream",
     "text": [
      "1099    148427295\n",
      "33      249864742\n",
      "58      611059232\n",
      "949     887908475\n",
      "744     888512513\n",
      "Name: visitor_id, dtype: int64\n",
      "16\n"
     ]
    }
   ],
   "source": [
    "#пользователи с аномальным кол-вом заказов\n",
    "\n",
    "usersWithManyOrders = pd.concat(\n",
    "    [\n",
    "        ordersByUsersA[ordersByUsersA['orders'] > 2]['visitor_id'],\n",
    "        ordersByUsersB[ordersByUsersB['orders'] > 2]['visitor_id'],\n",
    "    ],\n",
    "    axis=0,\n",
    ")\n",
    "\n",
    "# пользователи с аномальными суммами заказов\n",
    "\n",
    "usersWithExpensiveOrders = orders[orders['revenue'] > 54000]['visitor_id']\n",
    "\n",
    "# все аномальные пользователи\n",
    "abnormalUsers = (\n",
    "    pd.concat([usersWithManyOrders, usersWithExpensiveOrders], axis=0)\n",
    "    .drop_duplicates()\n",
    "    .sort_values()\n",
    ")\n",
    "\n",
    "print(abnormalUsers.head(5))\n",
    "print(abnormalUsers.shape[0]) "
   ]
  },
  {
   "cell_type": "markdown",
   "metadata": {},
   "source": [
    "**Сформулируем гипотезы.**\n",
    "\n",
    "- **Нулевая:** различий в среднем количестве заказов между группами нет. \n",
    "- **Альтернативная:** различия в среднем количестве заказов между группами есть."
   ]
  },
  {
   "cell_type": "code",
   "execution_count": 43,
   "metadata": {
    "scrolled": true
   },
   "outputs": [
    {
     "name": "stdout",
     "output_type": "stream",
     "text": [
      "Значение P-value: 0.00702\n",
      "Относительная разница между группами: 0.189\n"
     ]
    }
   ],
   "source": [
    "sampleAFiltered = pd.concat(\n",
    "    [\n",
    "        ordersByUsersA[\n",
    "            np.logical_not(ordersByUsersA['visitor_id'].isin(abnormalUsers))\n",
    "        ]['orders'],\n",
    "        pd.Series(\n",
    "            0,\n",
    "            index=np.arange(\n",
    "                data['visitorsPerDateA'].sum() - len(ordersByUsersA['orders'])\n",
    "            ),\n",
    "            name='orders',\n",
    "        ),\n",
    "    ],\n",
    "    axis=0,\n",
    ")\n",
    "\n",
    "sampleBFiltered = pd.concat(\n",
    "    [\n",
    "        ordersByUsersB[\n",
    "            np.logical_not(ordersByUsersB['visitor_id'].isin(abnormalUsers))\n",
    "        ]['orders'],\n",
    "        pd.Series(\n",
    "            0,\n",
    "            index=np.arange(\n",
    "                data['visitorsPerDateB'].sum() - len(ordersByUsersB['orders'])\n",
    "            ),\n",
    "            name='orders',\n",
    "        ),\n",
    "    ],\n",
    "    axis=0,\n",
    ")\n",
    "\n",
    "print('Значение P-value:', '{0:.5f}'.format(stats.mannwhitneyu(sampleAFiltered, sampleBFiltered)[1]))\n",
    "print('Относительная разница между группами:', '{0:.3f}'.format(sampleBFiltered.mean()/sampleAFiltered.mean()-1)) "
   ]
  },
  {
   "cell_type": "markdown",
   "metadata": {},
   "source": [
    "**Выводы:**\n",
    "\n",
    "p-value < 0.05.\n",
    "Отвергаем нулевую гипотезу. Различия в среднем количестве заказов между группами есть.\n",
    "\n",
    "**Предположения:**\n",
    "В группе В количество заказов больше, чем в группе А."
   ]
  },
  {
   "cell_type": "markdown",
   "metadata": {},
   "source": [
    "<div class=\"alert alert-success\">\n",
    "<h2> Комментарий ревьюера <a class=\"tocSkip\"> </h2>\n",
    "\n",
    "<b>Отлично!✅:</b> Супер, двигаемся дальше!\n",
    "</div>\n",
    "    \n",
    "    "
   ]
  },
  {
   "cell_type": "markdown",
   "metadata": {},
   "source": [
    "### Статистическая значимость различий в среднем чеке заказа между группами по «очищенным» данным\n",
    "*Посчитайте статистическую значимость различий в среднем чеке заказа между группами по «очищенным» данным. Сделайте выводы и предположения.*"
   ]
  },
  {
   "cell_type": "markdown",
   "metadata": {},
   "source": [
    "**Сформулируем гипотезы.**\n",
    "\n",
    "- **Нулевая гипотеза:** различий в среднем чеке между группами нет. \n",
    "- **Альтернативная гипотеза:** различия в среднем чеке между группами есть."
   ]
  },
  {
   "cell_type": "code",
   "execution_count": 44,
   "metadata": {},
   "outputs": [
    {
     "name": "stdout",
     "output_type": "stream",
     "text": [
      "Значение P-value: 0.788\n",
      "Относительная разница между группами: -0.032\n"
     ]
    }
   ],
   "source": [
    "print('Значение P-value:',\n",
    "    '{0:.3f}'.format(\n",
    "        stats.mannwhitneyu(\n",
    "            orders[\n",
    "                np.logical_and(\n",
    "                    orders['group'] == 'A',\n",
    "                    np.logical_not(orders['visitor_id'].isin(abnormalUsers)),\n",
    "                )\n",
    "            ]['revenue'],\n",
    "            orders[\n",
    "                np.logical_and(\n",
    "                    orders['group'] == 'B',\n",
    "                    np.logical_not(orders['visitor_id'].isin(abnormalUsers)),\n",
    "                )\n",
    "            ]['revenue'],\n",
    "        )[1]\n",
    "    )\n",
    ")\n",
    "\n",
    "print('Относительная разница между группами:',\n",
    "    \"{0:.3f}\".format(\n",
    "        orders[\n",
    "            np.logical_and(\n",
    "                orders['group'] == 'B',\n",
    "                np.logical_not(orders['visitor_id'].isin(abnormalUsers)),\n",
    "            )\n",
    "        ]['revenue'].mean()\n",
    "        / orders[\n",
    "            np.logical_and(\n",
    "                orders['group'] == 'A',\n",
    "                np.logical_not(orders['visitor_id'].isin(abnormalUsers)),\n",
    "            )\n",
    "        ]['revenue'].mean()\n",
    "        - 1\n",
    "    )\n",
    ")"
   ]
  },
  {
   "cell_type": "markdown",
   "metadata": {},
   "source": [
    "**Выводы:** \n",
    "\n",
    "p-value > 0.05.\n",
    "\n",
    "Не отвергаем нулевую гипотезу.\n",
    "\n",
    "При этом различия в среднем чеке есть в пользу группы А.\n"
   ]
  },
  {
   "cell_type": "markdown",
   "metadata": {},
   "source": [
    "<div class=\"alert alert-success\">\n",
    "<h2> Комментарий ревьюера <a class=\"tocSkip\"> </h2>\n",
    "\n",
    "<b>Отлично!✅:</b> Отлично!\n",
    "</div>\n",
    "    \n",
    "    "
   ]
  },
  {
   "cell_type": "markdown",
   "metadata": {},
   "source": [
    "### Решение по результатам теста\n",
    "*Примите решение по результатам теста и объясните его. Варианты решений:*\n",
    "1. Остановить тест, зафиксировать победу одной из групп.\n",
    "2. Остановить тест, зафиксировать отсутствие различий между группами.\n",
    "3. Продолжить тест."
   ]
  },
  {
   "cell_type": "markdown",
   "metadata": {},
   "source": [
    "*По сырым данным:*\n",
    "- различие в среднем числе заказов между группами А и В есть, причем в пользу группы В (+16%);\n",
    "- различие в среднем чеке между группами А и В есть, причем в пользу группы В (+28,7%).\n",
    "\n",
    "*По очищенным данным:*\n",
    "- различий в среднем количества заказов между группами А и В есть, причем в пользу группы В (+18,9%);\n",
    "- различий в среднем чеке между группами А и В нет, однако он все равно чуть выше для группы А.\n",
    "\n",
    "**Исходя из полученных результатов тест можно остановить. \n",
    "Тестирование гипотезы привело к увеличению количества заказов, т.е. конверсии, но не повлияло на средний чек.** \n",
    "\n",
    "Есть смысл сформулировать и проверить гипотезы, направленные на увеличение среднего чека."
   ]
  },
  {
   "cell_type": "markdown",
   "metadata": {},
   "source": [
    "\n",
    "\n",
    "<div class=\"alert alert-success\">\n",
    "<h2> Комментарий ревьюера <a class=\"tocSkip\"> </h2>\n",
    "\n",
    "<b>Отлично!✅:</b> Решение на этом шаге является полностью правильным. Ты здорово разобралась во влиянии выбросов на результаты сравнения средних значений и отметила преимущество статистического теста при интерпретации результатов.\n",
    "</div>"
   ]
  },
  {
   "cell_type": "markdown",
   "metadata": {},
   "source": [
    "<div style=\"border:solid Chocolate 2px; padding: 40px\">\n",
    "Женя, давай подведем итоги. Ты большая молодец, что старалась и проделала такую большую работу. Мне понравилось, что ты наполнила проект развернутыми выводами и наглядно продемонстрировала каждое задание:) \n",
    "    \n",
    "    Разберем над чем стоит поработать:\n",
    "    \n",
    "    1. Дать полную формулировку гипотез в выводах.\n",
    "    \n",
    "    2. Рекомендую:\n",
    "    - вывести гипотезы полностью;\n",
    "    - округлить значения в колонке ice;\n",
    "    - подписать p-value и статистическую значимость. \n",
    "    \n",
    "    Пересмотри работу и исправь ошибки. Обязательно пиши, если я могу тебе еще чем-то помочь. Удачи!)\n",
    "  "
   ]
  },
  {
   "cell_type": "markdown",
   "metadata": {},
   "source": [
    "<div class=\"alert alert-success\">\n",
    "<h2> Комментарий ревьюера v2<a class=\"tocSkip\"> </h2>\n",
    "\n",
    "<b>Отлично!✅:</b> Женя, привет! Молодец, оперативно и верно доработала проект. Здорово, что учла не только замечания, но и рекомендации. Благодарю за обратную связь, работа принята, удачи в обучении!)\n",
    "\n",
    "</div>"
   ]
  }
 ],
 "metadata": {
  "ExecuteTimeLog": [
   {
    "duration": 807,
    "start_time": "2024-07-16T15:35:29.847Z"
   },
   {
    "duration": 67,
    "start_time": "2024-07-16T15:36:39.338Z"
   },
   {
    "duration": 34,
    "start_time": "2024-07-16T15:36:46.484Z"
   },
   {
    "duration": 1006,
    "start_time": "2024-07-16T15:38:16.300Z"
   },
   {
    "duration": 11,
    "start_time": "2024-07-16T15:38:43.262Z"
   },
   {
    "duration": 14,
    "start_time": "2024-07-16T15:39:02.309Z"
   },
   {
    "duration": 14,
    "start_time": "2024-07-16T15:39:08.855Z"
   },
   {
    "duration": 6,
    "start_time": "2024-07-16T15:39:39.068Z"
   },
   {
    "duration": 8,
    "start_time": "2024-07-16T15:39:49.575Z"
   },
   {
    "duration": 266,
    "start_time": "2024-07-16T15:45:01.521Z"
   },
   {
    "duration": 771,
    "start_time": "2024-07-16T15:45:18.613Z"
   },
   {
    "duration": 36,
    "start_time": "2024-07-16T15:45:20.380Z"
   },
   {
    "duration": 3,
    "start_time": "2024-07-16T15:45:22.383Z"
   },
   {
    "duration": 9,
    "start_time": "2024-07-16T15:45:37.415Z"
   },
   {
    "duration": 7,
    "start_time": "2024-07-16T15:45:54.643Z"
   },
   {
    "duration": 106,
    "start_time": "2024-07-16T15:57:45.692Z"
   },
   {
    "duration": 11,
    "start_time": "2024-07-16T15:58:05.269Z"
   },
   {
    "duration": 84,
    "start_time": "2024-07-16T15:58:08.883Z"
   },
   {
    "duration": 9,
    "start_time": "2024-07-16T15:58:17.428Z"
   },
   {
    "duration": 3,
    "start_time": "2024-07-16T16:01:30.332Z"
   },
   {
    "duration": 12,
    "start_time": "2024-07-16T16:02:33.074Z"
   },
   {
    "duration": 783,
    "start_time": "2024-07-16T16:02:45.197Z"
   },
   {
    "duration": 39,
    "start_time": "2024-07-16T16:02:47.030Z"
   },
   {
    "duration": 3,
    "start_time": "2024-07-16T16:02:49.396Z"
   },
   {
    "duration": 10,
    "start_time": "2024-07-16T16:02:51.647Z"
   },
   {
    "duration": 11,
    "start_time": "2024-07-16T16:02:53.953Z"
   },
   {
    "duration": 53,
    "start_time": "2024-07-16T16:02:57.868Z"
   },
   {
    "duration": 9,
    "start_time": "2024-07-16T16:03:00.010Z"
   },
   {
    "duration": 331,
    "start_time": "2024-07-16T16:03:07.957Z"
   },
   {
    "duration": 253,
    "start_time": "2024-07-16T16:03:36.174Z"
   },
   {
    "duration": 256,
    "start_time": "2024-07-16T16:04:24.741Z"
   },
   {
    "duration": 310,
    "start_time": "2024-07-16T16:06:35.738Z"
   },
   {
    "duration": 259,
    "start_time": "2024-07-16T16:06:58.597Z"
   },
   {
    "duration": 11,
    "start_time": "2024-07-16T16:07:21.406Z"
   },
   {
    "duration": 8,
    "start_time": "2024-07-16T16:07:27.763Z"
   },
   {
    "duration": 30,
    "start_time": "2024-07-16T16:07:55.918Z"
   },
   {
    "duration": 8,
    "start_time": "2024-07-16T16:07:58.855Z"
   },
   {
    "duration": 10,
    "start_time": "2024-07-16T16:08:28.745Z"
   },
   {
    "duration": 835,
    "start_time": "2024-07-17T10:37:37.904Z"
   },
   {
    "duration": 91,
    "start_time": "2024-07-17T10:37:41.315Z"
   },
   {
    "duration": 3,
    "start_time": "2024-07-17T10:37:45.735Z"
   },
   {
    "duration": 15,
    "start_time": "2024-07-17T10:37:48.651Z"
   },
   {
    "duration": 9,
    "start_time": "2024-07-17T10:37:51.817Z"
   },
   {
    "duration": 110,
    "start_time": "2024-07-17T10:37:54.900Z"
   },
   {
    "duration": 12,
    "start_time": "2024-07-17T10:37:57.549Z"
   },
   {
    "duration": 14,
    "start_time": "2024-07-17T10:38:00.815Z"
   },
   {
    "duration": 11,
    "start_time": "2024-07-17T10:38:02.997Z"
   },
   {
    "duration": 95,
    "start_time": "2024-07-17T10:38:05.870Z"
   },
   {
    "duration": 10,
    "start_time": "2024-07-17T10:38:09.015Z"
   },
   {
    "duration": 11,
    "start_time": "2024-07-17T10:38:11.836Z"
   },
   {
    "duration": 14,
    "start_time": "2024-07-17T10:40:18.960Z"
   },
   {
    "duration": 116,
    "start_time": "2024-07-17T10:41:33.422Z"
   },
   {
    "duration": 174,
    "start_time": "2024-07-17T10:42:33.305Z"
   },
   {
    "duration": 136,
    "start_time": "2024-07-17T10:45:53.505Z"
   },
   {
    "duration": 17,
    "start_time": "2024-07-17T10:46:52.671Z"
   },
   {
    "duration": 471,
    "start_time": "2024-07-17T10:48:49.071Z"
   },
   {
    "duration": 272,
    "start_time": "2024-07-17T10:49:17.453Z"
   },
   {
    "duration": 201,
    "start_time": "2024-07-17T10:50:44.916Z"
   },
   {
    "duration": 60,
    "start_time": "2024-07-17T10:51:46.808Z"
   },
   {
    "duration": 209,
    "start_time": "2024-07-17T10:52:04.030Z"
   },
   {
    "duration": 200,
    "start_time": "2024-07-17T10:52:46.687Z"
   },
   {
    "duration": 183,
    "start_time": "2024-07-17T10:56:40.798Z"
   },
   {
    "duration": 194,
    "start_time": "2024-07-17T10:56:55.800Z"
   },
   {
    "duration": 218,
    "start_time": "2024-07-17T10:58:31.940Z"
   },
   {
    "duration": 214,
    "start_time": "2024-07-17T11:01:31.994Z"
   },
   {
    "duration": 297,
    "start_time": "2024-07-17T11:01:42.675Z"
   },
   {
    "duration": 356,
    "start_time": "2024-07-17T11:12:04.738Z"
   },
   {
    "duration": 346,
    "start_time": "2024-07-17T11:14:08.772Z"
   },
   {
    "duration": 345,
    "start_time": "2024-07-17T11:15:09.124Z"
   },
   {
    "duration": 228,
    "start_time": "2024-07-17T11:19:35.319Z"
   },
   {
    "duration": 196,
    "start_time": "2024-07-17T11:20:45.027Z"
   },
   {
    "duration": 219,
    "start_time": "2024-07-17T11:21:04.754Z"
   },
   {
    "duration": 226,
    "start_time": "2024-07-17T11:21:37.516Z"
   },
   {
    "duration": 248,
    "start_time": "2024-07-17T11:21:45.721Z"
   },
   {
    "duration": 247,
    "start_time": "2024-07-17T11:22:10.339Z"
   },
   {
    "duration": 243,
    "start_time": "2024-07-17T11:22:42.453Z"
   },
   {
    "duration": 476,
    "start_time": "2024-07-17T11:39:51.240Z"
   },
   {
    "duration": 324,
    "start_time": "2024-07-17T11:40:12.096Z"
   },
   {
    "duration": 388,
    "start_time": "2024-07-17T11:42:57.453Z"
   },
   {
    "duration": 1230,
    "start_time": "2024-07-17T16:23:49.449Z"
   },
   {
    "duration": 147,
    "start_time": "2024-07-17T16:23:51.840Z"
   },
   {
    "duration": 2,
    "start_time": "2024-07-17T16:23:54.514Z"
   },
   {
    "duration": 13,
    "start_time": "2024-07-17T16:23:57.725Z"
   },
   {
    "duration": 9,
    "start_time": "2024-07-17T16:24:01.269Z"
   },
   {
    "duration": 111,
    "start_time": "2024-07-17T16:24:06.292Z"
   },
   {
    "duration": 12,
    "start_time": "2024-07-17T16:24:09.245Z"
   },
   {
    "duration": 13,
    "start_time": "2024-07-17T16:24:12.567Z"
   },
   {
    "duration": 11,
    "start_time": "2024-07-17T16:24:14.673Z"
   },
   {
    "duration": 88,
    "start_time": "2024-07-17T16:24:17.090Z"
   },
   {
    "duration": 11,
    "start_time": "2024-07-17T16:24:19.374Z"
   },
   {
    "duration": 12,
    "start_time": "2024-07-17T16:24:21.836Z"
   },
   {
    "duration": 13,
    "start_time": "2024-07-17T16:24:24.107Z"
   },
   {
    "duration": 174,
    "start_time": "2024-07-17T16:24:26.287Z"
   },
   {
    "duration": 124,
    "start_time": "2024-07-17T16:24:28.615Z"
   },
   {
    "duration": 16,
    "start_time": "2024-07-17T16:24:31.855Z"
   },
   {
    "duration": 291,
    "start_time": "2024-07-17T16:24:36.227Z"
   },
   {
    "duration": 207,
    "start_time": "2024-07-17T16:24:39.523Z"
   },
   {
    "duration": 364,
    "start_time": "2024-07-17T16:24:43.077Z"
   },
   {
    "duration": 238,
    "start_time": "2024-07-17T16:24:47.087Z"
   },
   {
    "duration": 364,
    "start_time": "2024-07-17T16:24:50.341Z"
   },
   {
    "duration": 16,
    "start_time": "2024-07-17T16:26:17.305Z"
   },
   {
    "duration": 11,
    "start_time": "2024-07-17T16:26:36.392Z"
   },
   {
    "duration": 10,
    "start_time": "2024-07-17T16:27:27.556Z"
   },
   {
    "duration": 476,
    "start_time": "2024-07-17T16:27:29.499Z"
   },
   {
    "duration": 484,
    "start_time": "2024-07-17T16:27:38.494Z"
   },
   {
    "duration": 7,
    "start_time": "2024-07-17T16:30:05.989Z"
   },
   {
    "duration": 13,
    "start_time": "2024-07-17T16:30:14.625Z"
   },
   {
    "duration": 11,
    "start_time": "2024-07-17T16:30:41.939Z"
   },
   {
    "duration": 108,
    "start_time": "2024-07-17T16:31:06.187Z"
   },
   {
    "duration": 108,
    "start_time": "2024-07-17T16:31:14.717Z"
   },
   {
    "duration": 127,
    "start_time": "2024-07-17T16:31:35.877Z"
   },
   {
    "duration": 120,
    "start_time": "2024-07-17T16:32:15.353Z"
   },
   {
    "duration": 224,
    "start_time": "2024-07-17T16:32:33.633Z"
   },
   {
    "duration": 133,
    "start_time": "2024-07-17T16:32:47.441Z"
   },
   {
    "duration": 119,
    "start_time": "2024-07-17T16:33:02.033Z"
   },
   {
    "duration": 4,
    "start_time": "2024-07-17T16:33:45.343Z"
   },
   {
    "duration": 140,
    "start_time": "2024-07-17T16:34:46.037Z"
   },
   {
    "duration": 148,
    "start_time": "2024-07-17T16:35:07.010Z"
   },
   {
    "duration": 125,
    "start_time": "2024-07-17T16:35:58.374Z"
   },
   {
    "duration": 127,
    "start_time": "2024-07-17T16:36:09.785Z"
   },
   {
    "duration": 5,
    "start_time": "2024-07-17T16:37:09.164Z"
   },
   {
    "duration": 5,
    "start_time": "2024-07-17T16:37:59.079Z"
   },
   {
    "duration": 1137,
    "start_time": "2024-07-18T15:44:04.764Z"
   },
   {
    "duration": 138,
    "start_time": "2024-07-18T15:44:06.967Z"
   },
   {
    "duration": 2,
    "start_time": "2024-07-18T15:44:09.804Z"
   },
   {
    "duration": 11,
    "start_time": "2024-07-18T15:44:12.146Z"
   },
   {
    "duration": 8,
    "start_time": "2024-07-18T15:44:14.766Z"
   },
   {
    "duration": 107,
    "start_time": "2024-07-18T15:44:18.094Z"
   },
   {
    "duration": 10,
    "start_time": "2024-07-18T15:44:21.186Z"
   },
   {
    "duration": 19,
    "start_time": "2024-07-18T15:44:31.971Z"
   },
   {
    "duration": 82,
    "start_time": "2024-07-18T15:44:36.563Z"
   },
   {
    "duration": 10,
    "start_time": "2024-07-18T15:44:39.698Z"
   },
   {
    "duration": 10,
    "start_time": "2024-07-18T15:44:41.975Z"
   },
   {
    "duration": 11,
    "start_time": "2024-07-18T15:44:44.103Z"
   },
   {
    "duration": 155,
    "start_time": "2024-07-18T15:44:46.242Z"
   },
   {
    "duration": 115,
    "start_time": "2024-07-18T15:44:48.725Z"
   },
   {
    "duration": 14,
    "start_time": "2024-07-18T15:44:52.947Z"
   },
   {
    "duration": 275,
    "start_time": "2024-07-18T15:44:58.357Z"
   },
   {
    "duration": 187,
    "start_time": "2024-07-18T15:45:13.691Z"
   },
   {
    "duration": 181,
    "start_time": "2024-07-18T15:45:31.731Z"
   },
   {
    "duration": 374,
    "start_time": "2024-07-18T15:45:40.487Z"
   },
   {
    "duration": 203,
    "start_time": "2024-07-18T15:45:51.147Z"
   },
   {
    "duration": 345,
    "start_time": "2024-07-18T15:45:59.979Z"
   },
   {
    "duration": 10,
    "start_time": "2024-07-18T15:46:11.399Z"
   },
   {
    "duration": 104,
    "start_time": "2024-07-18T15:46:18.250Z"
   },
   {
    "duration": 341,
    "start_time": "2024-07-18T15:46:46.484Z"
   },
   {
    "duration": 288,
    "start_time": "2024-07-18T15:46:50.876Z"
   },
   {
    "duration": 212,
    "start_time": "2024-07-18T15:48:09.853Z"
   },
   {
    "duration": 127,
    "start_time": "2024-07-18T15:48:34.835Z"
   },
   {
    "duration": 4,
    "start_time": "2024-07-18T15:48:47.584Z"
   },
   {
    "duration": 136,
    "start_time": "2024-07-18T15:49:27.604Z"
   },
   {
    "duration": 4,
    "start_time": "2024-07-18T15:49:42.463Z"
   },
   {
    "duration": 9,
    "start_time": "2024-07-18T15:49:45.608Z"
   },
   {
    "duration": 11,
    "start_time": "2024-07-18T16:38:43.111Z"
   },
   {
    "duration": 10,
    "start_time": "2024-07-18T16:38:51.779Z"
   },
   {
    "duration": 195,
    "start_time": "2024-07-18T16:42:28.838Z"
   },
   {
    "duration": 215,
    "start_time": "2024-07-18T16:42:38.379Z"
   },
   {
    "duration": 120,
    "start_time": "2024-07-18T16:48:40.725Z"
   },
   {
    "duration": 5,
    "start_time": "2024-07-18T16:50:15.926Z"
   },
   {
    "duration": 25,
    "start_time": "2024-07-18T16:51:14.954Z"
   },
   {
    "duration": 1028,
    "start_time": "2024-07-18T16:53:47.086Z"
   },
   {
    "duration": 71,
    "start_time": "2024-07-18T16:53:49.351Z"
   },
   {
    "duration": 3,
    "start_time": "2024-07-18T16:53:51.750Z"
   },
   {
    "duration": 10,
    "start_time": "2024-07-18T16:53:53.794Z"
   },
   {
    "duration": 7,
    "start_time": "2024-07-18T16:53:56.555Z"
   },
   {
    "duration": 53,
    "start_time": "2024-07-18T16:53:59.240Z"
   },
   {
    "duration": 10,
    "start_time": "2024-07-18T16:54:01.819Z"
   },
   {
    "duration": 20,
    "start_time": "2024-07-18T16:54:03.962Z"
   },
   {
    "duration": 31,
    "start_time": "2024-07-18T16:54:06.035Z"
   },
   {
    "duration": 11,
    "start_time": "2024-07-18T16:54:08.234Z"
   },
   {
    "duration": 11,
    "start_time": "2024-07-18T16:54:11.914Z"
   },
   {
    "duration": 11,
    "start_time": "2024-07-18T16:54:13.870Z"
   },
   {
    "duration": 164,
    "start_time": "2024-07-18T16:54:16.051Z"
   },
   {
    "duration": 108,
    "start_time": "2024-07-18T16:54:18.458Z"
   },
   {
    "duration": 15,
    "start_time": "2024-07-18T16:54:20.627Z"
   },
   {
    "duration": 289,
    "start_time": "2024-07-18T16:54:23.914Z"
   },
   {
    "duration": 191,
    "start_time": "2024-07-18T16:54:27.071Z"
   },
   {
    "duration": 298,
    "start_time": "2024-07-18T16:54:30.838Z"
   },
   {
    "duration": 211,
    "start_time": "2024-07-18T16:54:33.742Z"
   },
   {
    "duration": 322,
    "start_time": "2024-07-18T16:54:37.026Z"
   },
   {
    "duration": 10,
    "start_time": "2024-07-18T16:54:40.114Z"
   },
   {
    "duration": 115,
    "start_time": "2024-07-18T16:54:43.462Z"
   },
   {
    "duration": 4,
    "start_time": "2024-07-18T16:54:46.765Z"
   },
   {
    "duration": 133,
    "start_time": "2024-07-18T16:54:49.126Z"
   },
   {
    "duration": 4,
    "start_time": "2024-07-18T16:54:52.015Z"
   },
   {
    "duration": 5,
    "start_time": "2024-07-18T16:54:55.906Z"
   },
   {
    "duration": 190,
    "start_time": "2024-07-18T16:55:20.815Z"
   },
   {
    "duration": 134,
    "start_time": "2024-07-18T16:56:08.443Z"
   },
   {
    "duration": 6,
    "start_time": "2024-07-18T16:56:12.543Z"
   },
   {
    "duration": 20,
    "start_time": "2024-07-18T16:56:21.243Z"
   },
   {
    "duration": 10,
    "start_time": "2024-07-18T16:58:41.831Z"
   },
   {
    "duration": 1123,
    "start_time": "2024-07-19T15:56:46.644Z"
   },
   {
    "duration": 158,
    "start_time": "2024-07-19T15:56:49.100Z"
   },
   {
    "duration": 3,
    "start_time": "2024-07-19T15:56:51.877Z"
   },
   {
    "duration": 13,
    "start_time": "2024-07-19T15:56:53.961Z"
   },
   {
    "duration": 8,
    "start_time": "2024-07-19T15:56:56.937Z"
   },
   {
    "duration": 106,
    "start_time": "2024-07-19T15:57:00.020Z"
   },
   {
    "duration": 10,
    "start_time": "2024-07-19T15:57:02.847Z"
   },
   {
    "duration": 22,
    "start_time": "2024-07-19T15:57:05.094Z"
   },
   {
    "duration": 82,
    "start_time": "2024-07-19T15:57:07.428Z"
   },
   {
    "duration": 9,
    "start_time": "2024-07-19T15:57:10.052Z"
   },
   {
    "duration": 12,
    "start_time": "2024-07-19T15:57:12.138Z"
   },
   {
    "duration": 12,
    "start_time": "2024-07-19T15:57:14.624Z"
   },
   {
    "duration": 165,
    "start_time": "2024-07-19T15:57:17.029Z"
   },
   {
    "duration": 117,
    "start_time": "2024-07-19T15:57:19.333Z"
   },
   {
    "duration": 16,
    "start_time": "2024-07-19T15:57:22.223Z"
   },
   {
    "duration": 306,
    "start_time": "2024-07-19T15:57:25.572Z"
   },
   {
    "duration": 250,
    "start_time": "2024-07-19T15:57:28.264Z"
   },
   {
    "duration": 343,
    "start_time": "2024-07-19T15:57:31.915Z"
   },
   {
    "duration": 229,
    "start_time": "2024-07-19T15:57:35.288Z"
   },
   {
    "duration": 386,
    "start_time": "2024-07-19T15:57:38.565Z"
   },
   {
    "duration": 10,
    "start_time": "2024-07-19T15:57:41.913Z"
   },
   {
    "duration": 150,
    "start_time": "2024-07-19T15:57:44.347Z"
   },
   {
    "duration": 4,
    "start_time": "2024-07-19T15:57:51.908Z"
   },
   {
    "duration": 144,
    "start_time": "2024-07-19T15:57:55.456Z"
   },
   {
    "duration": 4,
    "start_time": "2024-07-19T15:57:57.648Z"
   },
   {
    "duration": 5,
    "start_time": "2024-07-19T15:58:00.796Z"
   },
   {
    "duration": 220,
    "start_time": "2024-07-19T15:58:07.669Z"
   },
   {
    "duration": 143,
    "start_time": "2024-07-19T15:58:11.614Z"
   },
   {
    "duration": 6,
    "start_time": "2024-07-19T15:58:16.225Z"
   },
   {
    "duration": 37,
    "start_time": "2024-07-19T15:58:18.421Z"
   },
   {
    "duration": 10,
    "start_time": "2024-07-19T15:58:21.404Z"
   },
   {
    "duration": 9,
    "start_time": "2024-07-19T16:01:11.025Z"
   },
   {
    "duration": 5,
    "start_time": "2024-07-19T16:06:10.886Z"
   },
   {
    "duration": 29,
    "start_time": "2024-07-19T16:06:39.260Z"
   },
   {
    "duration": 29,
    "start_time": "2024-07-19T16:08:45.394Z"
   },
   {
    "duration": 28,
    "start_time": "2024-07-19T16:11:56.351Z"
   },
   {
    "duration": 14,
    "start_time": "2024-07-19T16:13:36.565Z"
   },
   {
    "duration": 997,
    "start_time": "2024-07-19T16:21:00.815Z"
   },
   {
    "duration": 82,
    "start_time": "2024-07-19T16:21:02.928Z"
   },
   {
    "duration": 3,
    "start_time": "2024-07-19T16:21:05.875Z"
   },
   {
    "duration": 12,
    "start_time": "2024-07-19T16:21:08.069Z"
   },
   {
    "duration": 8,
    "start_time": "2024-07-19T16:21:11.065Z"
   },
   {
    "duration": 58,
    "start_time": "2024-07-19T16:21:16.265Z"
   },
   {
    "duration": 10,
    "start_time": "2024-07-19T16:22:07.001Z"
   },
   {
    "duration": 5,
    "start_time": "2024-07-19T16:22:40.214Z"
   },
   {
    "duration": 110,
    "start_time": "2024-07-19T16:30:10.427Z"
   },
   {
    "duration": 5,
    "start_time": "2024-07-19T16:32:02.340Z"
   },
   {
    "duration": 11,
    "start_time": "2024-07-19T16:32:08.940Z"
   },
   {
    "duration": 829,
    "start_time": "2024-07-19T16:33:43.311Z"
   },
   {
    "duration": 1157,
    "start_time": "2024-07-20T07:35:32.614Z"
   },
   {
    "duration": 137,
    "start_time": "2024-07-20T07:35:34.997Z"
   },
   {
    "duration": 3,
    "start_time": "2024-07-20T07:35:38.465Z"
   },
   {
    "duration": 12,
    "start_time": "2024-07-20T07:35:42.039Z"
   },
   {
    "duration": 9,
    "start_time": "2024-07-20T07:35:45.603Z"
   },
   {
    "duration": 12,
    "start_time": "2024-07-20T07:35:59.355Z"
   },
   {
    "duration": 111,
    "start_time": "2024-07-20T07:36:10.055Z"
   },
   {
    "duration": 11,
    "start_time": "2024-07-20T07:36:16.084Z"
   },
   {
    "duration": 20,
    "start_time": "2024-07-20T07:36:19.303Z"
   },
   {
    "duration": 6,
    "start_time": "2024-07-20T07:38:03.910Z"
   },
   {
    "duration": 64,
    "start_time": "2024-07-20T07:39:17.932Z"
   },
   {
    "duration": 559,
    "start_time": "2024-07-20T07:39:45.003Z"
   },
   {
    "duration": 61,
    "start_time": "2024-07-20T07:39:58.497Z"
   },
   {
    "duration": 60,
    "start_time": "2024-07-20T07:40:19.802Z"
   },
   {
    "duration": 62,
    "start_time": "2024-07-20T07:40:29.114Z"
   },
   {
    "duration": 5,
    "start_time": "2024-07-20T07:40:33.862Z"
   },
   {
    "duration": 6,
    "start_time": "2024-07-20T07:40:44.650Z"
   },
   {
    "duration": 4,
    "start_time": "2024-07-20T07:41:36.158Z"
   },
   {
    "duration": 6,
    "start_time": "2024-07-20T07:44:04.955Z"
   },
   {
    "duration": 4,
    "start_time": "2024-07-20T07:45:38.824Z"
   },
   {
    "duration": 6,
    "start_time": "2024-07-20T07:45:44.945Z"
   },
   {
    "duration": 12,
    "start_time": "2024-07-20T07:47:34.639Z"
   },
   {
    "duration": 13,
    "start_time": "2024-07-20T07:48:51.621Z"
   },
   {
    "duration": 16,
    "start_time": "2024-07-20T07:49:31.908Z"
   },
   {
    "duration": 10,
    "start_time": "2024-07-20T07:50:46.035Z"
   },
   {
    "duration": 1168,
    "start_time": "2024-07-20T07:51:23.067Z"
   },
   {
    "duration": 12,
    "start_time": "2024-07-20T07:51:37.189Z"
   },
   {
    "duration": 891,
    "start_time": "2024-07-20T07:52:47.199Z"
   },
   {
    "duration": 7,
    "start_time": "2024-07-20T07:52:55.893Z"
   },
   {
    "duration": 9,
    "start_time": "2024-07-20T07:53:45.164Z"
   },
   {
    "duration": 972,
    "start_time": "2024-07-20T07:54:15.630Z"
   },
   {
    "duration": 1015,
    "start_time": "2024-07-20T07:54:45.748Z"
   },
   {
    "duration": 8,
    "start_time": "2024-07-20T07:54:52.044Z"
   },
   {
    "duration": 13,
    "start_time": "2024-07-20T07:55:17.249Z"
   },
   {
    "duration": 9,
    "start_time": "2024-07-20T07:55:19.396Z"
   },
   {
    "duration": 4,
    "start_time": "2024-07-20T07:55:29.001Z"
   },
   {
    "duration": 9,
    "start_time": "2024-07-20T07:56:22.016Z"
   },
   {
    "duration": 15,
    "start_time": "2024-07-20T08:27:41.920Z"
   },
   {
    "duration": 966,
    "start_time": "2024-07-20T08:29:41.421Z"
   },
   {
    "duration": 82,
    "start_time": "2024-07-20T08:29:43.440Z"
   },
   {
    "duration": 4,
    "start_time": "2024-07-20T08:29:46.058Z"
   },
   {
    "duration": 10,
    "start_time": "2024-07-20T08:29:47.973Z"
   },
   {
    "duration": 11,
    "start_time": "2024-07-20T08:29:50.665Z"
   },
   {
    "duration": 63,
    "start_time": "2024-07-20T08:29:54.096Z"
   },
   {
    "duration": 11,
    "start_time": "2024-07-20T08:29:58.896Z"
   },
   {
    "duration": 21,
    "start_time": "2024-07-20T08:30:07.033Z"
   },
   {
    "duration": 13,
    "start_time": "2024-07-20T08:30:11.250Z"
   },
   {
    "duration": 1049,
    "start_time": "2024-07-20T08:49:31.988Z"
   },
   {
    "duration": 90,
    "start_time": "2024-07-20T08:49:54.506Z"
   },
   {
    "duration": 3,
    "start_time": "2024-07-20T08:49:58.247Z"
   },
   {
    "duration": 10,
    "start_time": "2024-07-20T08:50:19.213Z"
   },
   {
    "duration": 11,
    "start_time": "2024-07-20T08:50:25.827Z"
   },
   {
    "duration": 11,
    "start_time": "2024-07-20T08:50:29.184Z"
   },
   {
    "duration": 55,
    "start_time": "2024-07-20T08:51:32.406Z"
   },
   {
    "duration": 10,
    "start_time": "2024-07-20T08:51:36.712Z"
   },
   {
    "duration": 20,
    "start_time": "2024-07-20T08:51:41.116Z"
   },
   {
    "duration": 13,
    "start_time": "2024-07-20T08:51:50.123Z"
   },
   {
    "duration": 7,
    "start_time": "2024-07-20T08:51:52.632Z"
   },
   {
    "duration": 5,
    "start_time": "2024-07-20T08:53:08.825Z"
   },
   {
    "duration": 19,
    "start_time": "2024-07-20T08:53:39.696Z"
   },
   {
    "duration": 7,
    "start_time": "2024-07-20T08:56:11.086Z"
   },
   {
    "duration": 8,
    "start_time": "2024-07-20T08:56:48.054Z"
   },
   {
    "duration": 87,
    "start_time": "2024-07-20T08:58:18.053Z"
   },
   {
    "duration": 10,
    "start_time": "2024-07-20T08:58:23.017Z"
   },
   {
    "duration": 13,
    "start_time": "2024-07-20T08:58:25.465Z"
   },
   {
    "duration": 18,
    "start_time": "2024-07-20T08:58:29.795Z"
   },
   {
    "duration": 157,
    "start_time": "2024-07-20T08:58:34.741Z"
   },
   {
    "duration": 118,
    "start_time": "2024-07-20T08:58:38.411Z"
   },
   {
    "duration": 19,
    "start_time": "2024-07-20T08:58:41.802Z"
   },
   {
    "duration": 288,
    "start_time": "2024-07-20T08:58:45.474Z"
   },
   {
    "duration": 217,
    "start_time": "2024-07-20T08:59:26.379Z"
   },
   {
    "duration": 305,
    "start_time": "2024-07-20T09:00:43.055Z"
   },
   {
    "duration": 242,
    "start_time": "2024-07-20T09:01:09.716Z"
   },
   {
    "duration": 348,
    "start_time": "2024-07-20T09:01:32.175Z"
   },
   {
    "duration": 13,
    "start_time": "2024-07-20T09:02:08.501Z"
   },
   {
    "duration": 155,
    "start_time": "2024-07-20T09:02:22.315Z"
   },
   {
    "duration": 4,
    "start_time": "2024-07-20T09:04:26.515Z"
   },
   {
    "duration": 129,
    "start_time": "2024-07-20T09:05:00.059Z"
   },
   {
    "duration": 4,
    "start_time": "2024-07-20T09:05:04.783Z"
   },
   {
    "duration": 5,
    "start_time": "2024-07-20T09:05:32.566Z"
   },
   {
    "duration": 230,
    "start_time": "2024-07-20T09:07:59.613Z"
   },
   {
    "duration": 139,
    "start_time": "2024-07-20T09:08:09.888Z"
   },
   {
    "duration": 6,
    "start_time": "2024-07-20T09:08:14.385Z"
   },
   {
    "duration": 26,
    "start_time": "2024-07-20T09:08:19.196Z"
   },
   {
    "duration": 9,
    "start_time": "2024-07-20T09:09:52.448Z"
   },
   {
    "duration": 9,
    "start_time": "2024-07-20T09:11:18.268Z"
   },
   {
    "duration": 29,
    "start_time": "2024-07-20T09:11:54.977Z"
   },
   {
    "duration": 15,
    "start_time": "2024-07-20T09:13:00.036Z"
   },
   {
    "duration": 1061,
    "start_time": "2024-07-20T09:16:10.530Z"
   },
   {
    "duration": 87,
    "start_time": "2024-07-20T09:16:12.478Z"
   },
   {
    "duration": 3,
    "start_time": "2024-07-20T09:16:15.263Z"
   },
   {
    "duration": 11,
    "start_time": "2024-07-20T09:16:17.012Z"
   },
   {
    "duration": 11,
    "start_time": "2024-07-20T09:16:19.683Z"
   },
   {
    "duration": 11,
    "start_time": "2024-07-20T09:16:21.925Z"
   },
   {
    "duration": 56,
    "start_time": "2024-07-20T09:16:25.398Z"
   },
   {
    "duration": 9,
    "start_time": "2024-07-20T09:16:28.554Z"
   },
   {
    "duration": 21,
    "start_time": "2024-07-20T09:16:30.890Z"
   },
   {
    "duration": 13,
    "start_time": "2024-07-20T09:16:33.102Z"
   },
   {
    "duration": 6,
    "start_time": "2024-07-20T09:16:34.890Z"
   },
   {
    "duration": 4,
    "start_time": "2024-07-20T09:16:37.130Z"
   },
   {
    "duration": 13,
    "start_time": "2024-07-20T09:16:38.930Z"
   },
   {
    "duration": 7,
    "start_time": "2024-07-20T09:16:41.958Z"
   },
   {
    "duration": 9,
    "start_time": "2024-07-20T09:16:44.488Z"
   },
   {
    "duration": 33,
    "start_time": "2024-07-20T09:16:49.080Z"
   },
   {
    "duration": 11,
    "start_time": "2024-07-20T09:16:51.195Z"
   },
   {
    "duration": 16,
    "start_time": "2024-07-20T09:16:53.165Z"
   },
   {
    "duration": 11,
    "start_time": "2024-07-20T09:16:55.341Z"
   },
   {
    "duration": 159,
    "start_time": "2024-07-20T09:16:58.332Z"
   },
   {
    "duration": 119,
    "start_time": "2024-07-20T09:17:00.547Z"
   },
   {
    "duration": 15,
    "start_time": "2024-07-20T09:17:02.967Z"
   },
   {
    "duration": 295,
    "start_time": "2024-07-20T09:17:05.874Z"
   },
   {
    "duration": 216,
    "start_time": "2024-07-20T09:17:31.344Z"
   },
   {
    "duration": 325,
    "start_time": "2024-07-20T09:17:51.162Z"
   },
   {
    "duration": 217,
    "start_time": "2024-07-20T09:17:55.946Z"
   },
   {
    "duration": 341,
    "start_time": "2024-07-20T09:18:18.554Z"
   },
   {
    "duration": 11,
    "start_time": "2024-07-20T09:18:25.814Z"
   },
   {
    "duration": 166,
    "start_time": "2024-07-20T09:18:28.082Z"
   },
   {
    "duration": 4,
    "start_time": "2024-07-20T09:18:31.250Z"
   },
   {
    "duration": 150,
    "start_time": "2024-07-20T09:18:33.830Z"
   },
   {
    "duration": 5,
    "start_time": "2024-07-20T09:18:36.287Z"
   },
   {
    "duration": 4,
    "start_time": "2024-07-20T09:18:38.915Z"
   },
   {
    "duration": 216,
    "start_time": "2024-07-20T09:18:44.012Z"
   },
   {
    "duration": 139,
    "start_time": "2024-07-20T09:18:47.905Z"
   },
   {
    "duration": 6,
    "start_time": "2024-07-20T09:18:51.942Z"
   },
   {
    "duration": 25,
    "start_time": "2024-07-20T09:18:53.749Z"
   },
   {
    "duration": 11,
    "start_time": "2024-07-20T09:18:57.884Z"
   },
   {
    "duration": 9,
    "start_time": "2024-07-20T09:19:01.258Z"
   },
   {
    "duration": 28,
    "start_time": "2024-07-20T09:19:04.470Z"
   },
   {
    "duration": 13,
    "start_time": "2024-07-20T09:19:08.381Z"
   },
   {
    "duration": 1194,
    "start_time": "2024-07-21T11:02:22.158Z"
   },
   {
    "duration": 164,
    "start_time": "2024-07-21T11:02:24.865Z"
   },
   {
    "duration": 37,
    "start_time": "2024-07-21T11:02:37.462Z"
   },
   {
    "duration": 3,
    "start_time": "2024-07-21T11:02:52.273Z"
   },
   {
    "duration": 11,
    "start_time": "2024-07-21T11:02:54.117Z"
   },
   {
    "duration": 13,
    "start_time": "2024-07-21T11:03:10.008Z"
   },
   {
    "duration": 12,
    "start_time": "2024-07-21T11:03:16.569Z"
   },
   {
    "duration": 38,
    "start_time": "2024-07-21T11:06:04.277Z"
   },
   {
    "duration": 1028,
    "start_time": "2024-07-21T11:06:58.573Z"
   },
   {
    "duration": 1056,
    "start_time": "2024-07-21T11:07:23.293Z"
   },
   {
    "duration": 92,
    "start_time": "2024-07-21T11:07:26.118Z"
   },
   {
    "duration": 3,
    "start_time": "2024-07-21T11:07:31.935Z"
   },
   {
    "duration": 11,
    "start_time": "2024-07-21T11:07:33.805Z"
   },
   {
    "duration": 12,
    "start_time": "2024-07-21T11:07:39.416Z"
   },
   {
    "duration": 10,
    "start_time": "2024-07-21T11:08:47.043Z"
   },
   {
    "duration": 12,
    "start_time": "2024-07-21T11:09:57.818Z"
   },
   {
    "duration": 11,
    "start_time": "2024-07-21T11:10:02.803Z"
   },
   {
    "duration": 125,
    "start_time": "2024-07-21T11:20:45.825Z"
   },
   {
    "duration": 10,
    "start_time": "2024-07-21T11:20:48.092Z"
   },
   {
    "duration": 22,
    "start_time": "2024-07-21T11:20:50.707Z"
   },
   {
    "duration": 16,
    "start_time": "2024-07-21T11:20:52.887Z"
   },
   {
    "duration": 6,
    "start_time": "2024-07-21T11:20:54.856Z"
   },
   {
    "duration": 4,
    "start_time": "2024-07-21T11:20:57.487Z"
   },
   {
    "duration": 13,
    "start_time": "2024-07-21T11:20:59.272Z"
   },
   {
    "duration": 7,
    "start_time": "2024-07-21T11:21:02.764Z"
   },
   {
    "duration": 9,
    "start_time": "2024-07-21T11:21:19.759Z"
   },
   {
    "duration": 93,
    "start_time": "2024-07-21T11:21:22.731Z"
   },
   {
    "duration": 9,
    "start_time": "2024-07-21T11:21:25.863Z"
   },
   {
    "duration": 11,
    "start_time": "2024-07-21T11:21:28.042Z"
   },
   {
    "duration": 13,
    "start_time": "2024-07-21T11:21:30.363Z"
   },
   {
    "duration": 197,
    "start_time": "2024-07-21T11:21:32.799Z"
   },
   {
    "duration": 115,
    "start_time": "2024-07-21T11:21:35.036Z"
   },
   {
    "duration": 17,
    "start_time": "2024-07-21T11:21:37.347Z"
   },
   {
    "duration": 332,
    "start_time": "2024-07-21T11:21:42.755Z"
   },
   {
    "duration": 223,
    "start_time": "2024-07-21T11:21:48.822Z"
   },
   {
    "duration": 309,
    "start_time": "2024-07-21T11:21:58.425Z"
   },
   {
    "duration": 232,
    "start_time": "2024-07-21T11:22:03.221Z"
   },
   {
    "duration": 339,
    "start_time": "2024-07-21T11:22:08.121Z"
   },
   {
    "duration": 11,
    "start_time": "2024-07-21T11:22:15.966Z"
   },
   {
    "duration": 178,
    "start_time": "2024-07-21T11:22:20.191Z"
   },
   {
    "duration": 4,
    "start_time": "2024-07-21T11:22:28.998Z"
   },
   {
    "duration": 180,
    "start_time": "2024-07-21T11:22:32.415Z"
   },
   {
    "duration": 4,
    "start_time": "2024-07-21T11:22:37.387Z"
   },
   {
    "duration": 225,
    "start_time": "2024-07-21T11:22:45.005Z"
   },
   {
    "duration": 121,
    "start_time": "2024-07-21T11:22:48.252Z"
   },
   {
    "duration": 6,
    "start_time": "2024-07-21T11:22:51.020Z"
   },
   {
    "duration": 27,
    "start_time": "2024-07-21T11:22:53.118Z"
   },
   {
    "duration": 26,
    "start_time": "2024-07-21T11:24:11.632Z"
   },
   {
    "duration": 10,
    "start_time": "2024-07-21T11:25:15.716Z"
   },
   {
    "duration": 10,
    "start_time": "2024-07-21T11:25:34.856Z"
   },
   {
    "duration": 9,
    "start_time": "2024-07-21T11:25:45.691Z"
   },
   {
    "duration": 30,
    "start_time": "2024-07-21T11:26:08.957Z"
   },
   {
    "duration": 12,
    "start_time": "2024-07-21T11:26:43.193Z"
   }
  ],
  "kernelspec": {
   "display_name": "Python 3 (ipykernel)",
   "language": "python",
   "name": "python3"
  },
  "language_info": {
   "codemirror_mode": {
    "name": "ipython",
    "version": 3
   },
   "file_extension": ".py",
   "mimetype": "text/x-python",
   "name": "python",
   "nbconvert_exporter": "python",
   "pygments_lexer": "ipython3",
   "version": "3.9.5"
  },
  "toc": {
   "base_numbering": 1,
   "nav_menu": {},
   "number_sections": true,
   "sideBar": true,
   "skip_h1_title": true,
   "title_cell": "Table of Contents",
   "title_sidebar": "Contents",
   "toc_cell": false,
   "toc_position": {},
   "toc_section_display": true,
   "toc_window_display": false
  }
 },
 "nbformat": 4,
 "nbformat_minor": 2
}
